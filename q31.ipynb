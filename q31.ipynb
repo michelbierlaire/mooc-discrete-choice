{
 "cells": [
  {
   "cell_type": "code",
   "execution_count": 1,
   "id": "premier-associate",
   "metadata": {},
   "outputs": [],
   "source": [
    "import matplotlib.pyplot as plt\n",
    "import numpy as np\n",
    "import scipy.integrate as integrate\n",
    "from scipy.stats import norm as normal"
   ]
  },
  {
   "cell_type": "markdown",
   "id": "destroyed-bolivia",
   "metadata": {},
   "source": [
    "# Binary choice model"
   ]
  },
  {
   "cell_type": "markdown",
   "id": "rough-final",
   "metadata": {},
   "source": [
    "We consider a simple binary choice model, with the following utility functions:\n",
    "- Alternative 1: $V_1 = 0$  \n",
    "- Alternative 2: $V_2 = -\\beta x + 2 M$, where $M$ is 1 if the individual is male, 0 otherwise. \n",
    "The exact value of $\\beta$ is not known. It is known to be distributed across the population, with a different distribution for men and women."
   ]
  },
  {
   "cell_type": "markdown",
   "id": "legitimate-plasma",
   "metadata": {},
   "source": [
    "Men: $\\beta \\sim N(-3, 2^2)$"
   ]
  },
  {
   "cell_type": "code",
   "execution_count": 2,
   "id": "spatial-prefix",
   "metadata": {},
   "outputs": [],
   "source": [
    "mean_male = -3\n",
    "scale_male = 2 "
   ]
  },
  {
   "cell_type": "markdown",
   "id": "metric-three",
   "metadata": {},
   "source": [
    "Women: $\\beta \\sim N(-1, 3^2)$"
   ]
  },
  {
   "cell_type": "code",
   "execution_count": 3,
   "id": "after-charger",
   "metadata": {},
   "outputs": [],
   "source": [
    "mean_female = -1\n",
    "scale_female = 3 "
   ]
  },
  {
   "cell_type": "markdown",
   "id": "04e73f06",
   "metadata": {},
   "source": [
    "We first plot the two distributions"
   ]
  },
  {
   "cell_type": "code",
   "execution_count": 4,
   "id": "applicable-dutch",
   "metadata": {},
   "outputs": [
    {
     "data": {
      "image/png": "[encoded data removed]",
      "text/plain": [
       "<Figure size 432x288 with 1 Axes>"
      ]
     },
     "metadata": {
      "needs_background": "light"
     },
     "output_type": "display_data"
    }
   ],
   "source": [
    "beta_rng = np.arange(-9, 8, 0.1)\n",
    "\n",
    "ym = normal.pdf(beta_rng, loc=mean_male, scale=scale_male)\n",
    "plt.plot(beta_rng, ym, label='Male')\n",
    "\n",
    "yf = normal.pdf(beta_rng, loc=mean_female, scale=scale_female)\n",
    "plt.plot(beta_rng, yf, label='Female')\n",
    "\n",
    "plt.legend()\n",
    "plt.show()"
   ]
  },
  {
   "cell_type": "markdown",
   "id": "invisible-mention",
   "metadata": {},
   "source": [
    "The following function calculates the choice probability of alternative 1 if both $\\beta$ and $M$ are known. It is a binary logit model:\n",
    "$$\n",
    "P(1; \\beta, M) = \\frac{1}{1 + e^{-\\beta x + 2M}}\n",
    "$$"
   ]
  },
  {
   "cell_type": "code",
   "execution_count": 5,
   "id": "tutorial-internship",
   "metadata": {},
   "outputs": [],
   "source": [
    "def condprob(beta, x, male=True):\n",
    "    cte = 2 if male else 0\n",
    "    V = -beta * x + cte\n",
    "    return 1 / (1 + np.exp(V))\n"
   ]
  },
  {
   "cell_type": "markdown",
   "id": "fresh-special",
   "metadata": {},
   "source": [
    "The following functions calculate the choice probability for each gender category:\n",
    "$$\n",
    "P(1; M) = \\int_{\\beta=-\\infty}^{+\\infty }\\frac{1}{1 + e^{-\\beta x + 2M}} f_M(\\beta) d\\beta,\n",
    "$$\n",
    "where $f_M$ is the pdf of the normal distribution associated with the known gender."
   ]
  },
  {
   "cell_type": "markdown",
   "id": "studied-johnson",
   "metadata": {},
   "source": [
    "We first implement the integrands for each gender category."
   ]
  },
  {
   "cell_type": "code",
   "execution_count": 6,
   "id": "promising-plaintiff",
   "metadata": {},
   "outputs": [],
   "source": [
    "def integrand_male(beta, x):\n",
    "    return (condprob(beta, x, male=True) * \n",
    "            normal.pdf(beta, loc=mean_male, scale=scale_male))"
   ]
  },
  {
   "cell_type": "code",
   "execution_count": 7,
   "id": "broadband-suicide",
   "metadata": {},
   "outputs": [],
   "source": [
    "def integrand_female(beta, x):\n",
    "    return (condprob(beta, x, male=False) * \n",
    "            normal.pdf(beta, loc=mean_female, scale=scale_female))"
   ]
  },
  {
   "cell_type": "markdown",
   "id": "clean-knitting",
   "metadata": {},
   "source": [
    "Then we integrate to obtain the choice probability."
   ]
  },
  {
   "cell_type": "code",
   "execution_count": 8,
   "id": "bearing-cursor",
   "metadata": {},
   "outputs": [],
   "source": [
    "def prob_male(x):\n",
    "    return integrate.quad(integrand_male, \n",
    "                          -np.inf, \n",
    "                          +np.inf, \n",
    "                          args=x)[0]"
   ]
  },
  {
   "cell_type": "code",
   "execution_count": 9,
   "id": "attached-flood",
   "metadata": {},
   "outputs": [],
   "source": [
    "def prob_female(x):\n",
    "    return integrate.quad(integrand_female, \n",
    "                          -np.inf, \n",
    "                          +np.inf, \n",
    "                          args=x)[0]"
   ]
  },
  {
   "cell_type": "markdown",
   "id": "otherwise-haiti",
   "metadata": {},
   "source": [
    "The following function calculates the choice probability when the gender of the individual is not known. In that case, the "
   ]
  },
  {
   "cell_type": "code",
   "execution_count": 10,
   "id": "specialized-guide",
   "metadata": {},
   "outputs": [],
   "source": [
    "def prob_unknown(x):\n",
    "    return 0.5 * prob_male(x) + 0.5 * prob_female(x)"
   ]
  },
  {
   "cell_type": "markdown",
   "id": "clean-slovakia",
   "metadata": {},
   "source": [
    "In order to emphasize the importance of the mixtures, we  compare\n",
    "the choice probability provided by the mixtures of logit, with the one\n",
    "where $\\beta$ is assumed to be fixed at its mean value, that is $-3$ for\n",
    "men, and $-1$ for women."
   ]
  },
  {
   "cell_type": "code",
   "execution_count": 11,
   "id": "unnecessary-juvenile",
   "metadata": {},
   "outputs": [],
   "source": [
    "def prob_mean_male(x):\n",
    "    return condprob(mean_male, x, male=True)"
   ]
  },
  {
   "cell_type": "code",
   "execution_count": 12,
   "id": "limited-madonna",
   "metadata": {},
   "outputs": [],
   "source": [
    "def prob_mean_female(x):\n",
    "    return condprob(mean_female, x, male=False)"
   ]
  },
  {
   "cell_type": "code",
   "execution_count": 13,
   "id": "hungry-elephant",
   "metadata": {},
   "outputs": [],
   "source": [
    "def prob_mean_unknown(x):\n",
    "    return 0.5 * prob_mean_male(x) + 0.5 * prob_mean_female(x)"
   ]
  },
  {
   "cell_type": "markdown",
   "id": "negative-senior",
   "metadata": {},
   "source": [
    "We now plot the choice probability as a function of the variable $x$.\n",
    "In the following plot, each column corresponds to a category of individuals:\n",
    "- men,\n",
    "- women,\n",
    "- gender unknown.\n",
    "\n",
    "The first row plots the probability taking into account the distributions of $\\beta$. The second row plots the probability calculated at the mean value. "
   ]
  },
  {
   "cell_type": "code",
   "execution_count": 14,
   "id": "behavioral-paraguay",
   "metadata": {},
   "outputs": [],
   "source": [
    "row1 = [prob_male, prob_female, prob_unknown]\n",
    "row2 = [prob_mean_male, prob_mean_female, prob_mean_unknown]\n",
    "titles = ['Male', 'Female', 'Unknown']"
   ]
  },
  {
   "cell_type": "code",
   "execution_count": 15,
   "id": "changed-bones",
   "metadata": {},
   "outputs": [],
   "source": [
    "x = np.arange(0, 2, 0.001)\n",
    "def displayrow(row, axes):\n",
    "    for i, r in enumerate(row):\n",
    "        y = np.vectorize(r)(x)\n",
    "        axes[i].axis([0, 2, 0, 0.5])\n",
    "        axes[i].plot(x, y)\n",
    "        axes[i].set(xlabel='x', ylabel='P(2)')"
   ]
  },
  {
   "cell_type": "code",
   "execution_count": 16,
   "id": "terminal-picture",
   "metadata": {},
   "outputs": [
    {
     "name": "stderr",
     "output_type": "stream",
     "text": [
      "<ipython-input-5-f189784b31e4>:4: RuntimeWarning: overflow encountered in exp\n",
      "  return 1 / (1 + np.exp(V))\n",
      "<ipython-input-5-f189784b31e4>:4: RuntimeWarning: overflow encountered in exp\n",
      "  return 1 / (1 + np.exp(V))\n",
      "<ipython-input-5-f189784b31e4>:4: RuntimeWarning: overflow encountered in exp\n",
      "  return 1 / (1 + np.exp(V))\n"
     ]
    },
    {
     "data": {
      "image/png": "[encoded data removed]",
      "text/plain": [
       "<Figure size 864x576 with 6 Axes>"
      ]
     },
     "metadata": {
      "needs_background": "light"
     },
     "output_type": "display_data"
    }
   ],
   "source": [
    "fig, axes = plt.subplots(2, 3, figsize=(12, 8))\n",
    "for i, t in enumerate(titles):\n",
    "    axes[0,i].set_title(t)\n",
    "axes[0, 0].set_ylabel('Distributed')\n",
    "axes[1, 0].set_ylabel('Mean')\n",
    "fig.tight_layout(pad=3.0)\n",
    "displayrow(row1, axes[0,:])\n",
    "displayrow(row2, axes[1,:])"
   ]
  },
  {
   "cell_type": "markdown",
   "id": "21a95ae0",
   "metadata": {},
   "source": [
    "The above results show the importance of taking into account the distribution of the parameter. "
   ]
  },
  {
   "cell_type": "code",
   "execution_count": null,
   "id": "ace1cfe4",
   "metadata": {},
   "outputs": [],
   "source": []
  }
 ],
 "metadata": {
  "kernelspec": {
   "display_name": "Python 3",
   "language": "python",
   "name": "python3"
  },
  "language_info": {
   "codemirror_mode": {
    "name": "ipython",
    "version": 3
   },
   "file_extension": ".py",
   "mimetype": "text/x-python",
   "name": "python",
   "nbconvert_exporter": "python",
   "pygments_lexer": "ipython3",
   "version": "3.9.5"
  }
 },
 "nbformat": 4,
 "nbformat_minor": 5
}
