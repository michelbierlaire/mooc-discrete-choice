{
 "cells": [
  {
   "cell_type": "code",
   "execution_count": 1,
   "id": "b8193646",
   "metadata": {},
   "outputs": [],
   "source": [
    "import pandas as pd\n",
    "import pickle\n",
    "from urllib.request import urlopen\n",
    "import biogeme.database as db\n",
    "import biogeme.biogeme as bio\n",
    "import biogeme.models as models\n",
    "import biogeme.results as res\n",
    "from biogeme.expressions import Beta, log, exp, bioDraws, MonteCarlo"
   ]
  },
  {
   "cell_type": "markdown",
   "id": "f274face",
   "metadata": {},
   "source": [
    "The estimation may take a significant amount of time. Therefore, this notebook can be executed using models that have been estimated. The results are read from file if the variable `numberOfDraws` below is set to `None`."
   ]
  },
  {
   "cell_type": "code",
   "execution_count": 2,
   "id": "f7f42720",
   "metadata": {},
   "outputs": [],
   "source": [
    "#numberOfDraws=10000\n",
    "numberOfDraws = None"
   ]
  },
  {
   "cell_type": "markdown",
   "id": "ffe55231",
   "metadata": {},
   "source": [
    "The following function obtains the data from the file available online."
   ]
  },
  {
   "cell_type": "code",
   "execution_count": 3,
   "id": "a228bd88",
   "metadata": {},
   "outputs": [],
   "source": [
    "url_root = (\n",
    "    'https://courses.edx.org/'\n",
    "    'asset-v1:EPFLx+ChoiceModels2x+3T2021+type@asset+block@'\n",
    ")"
   ]
  },
  {
   "cell_type": "code",
   "execution_count": 4,
   "id": "30b05bd7",
   "metadata": {},
   "outputs": [],
   "source": [
    "def get_results_from_url(file):\n",
    "    pickle_file = f'{url_root}{file}'\n",
    "\n",
    "    with urlopen(pickle_file) as p:\n",
    "        data = pickle.load(p)\n",
    "    return res.bioResults(data)"
   ]
  },
  {
   "cell_type": "markdown",
   "id": "1f3fdb99",
   "metadata": {},
   "source": [
    "# Data"
   ]
  },
  {
   "cell_type": "code",
   "execution_count": 5,
   "id": "326daa19",
   "metadata": {},
   "outputs": [],
   "source": [
    "pandas = pd.read_table(f'{url_root}swissmetro.dat')\n",
    "database = db.Database('swissmetro', pandas)"
   ]
  },
  {
   "cell_type": "markdown",
   "id": "5ac05284",
   "metadata": {},
   "source": [
    "The following statement allows you to use the names of the variables as Python variable."
   ]
  },
  {
   "cell_type": "code",
   "execution_count": 6,
   "id": "23e7a5f1",
   "metadata": {},
   "outputs": [],
   "source": [
    "globals().update(database.variables)"
   ]
  },
  {
   "cell_type": "markdown",
   "id": "af81babf",
   "metadata": {},
   "source": [
    "We exclude some observations"
   ]
  },
  {
   "cell_type": "code",
   "execution_count": 7,
   "id": "0d2ef25a",
   "metadata": {},
   "outputs": [],
   "source": [
    "exclude = ((PURPOSE != 1) * (PURPOSE != 3) + (CHOICE == 0)) > 0\n",
    "database.remove(exclude)"
   ]
  },
  {
   "cell_type": "markdown",
   "id": "1d0535fa",
   "metadata": {},
   "source": [
    "# Parameters"
   ]
  },
  {
   "cell_type": "code",
   "execution_count": 8,
   "id": "63b7aca7",
   "metadata": {},
   "outputs": [],
   "source": [
    "ASC_CAR = Beta('ASC_CAR', 0, None, None, 0)\n",
    "ASC_TRAIN = Beta('ASC_TRAIN', 0, None, None, 0)\n",
    "B_TIME = Beta('B_TIME', 0, None, None, 0)\n",
    "B_COST = Beta('B_COST', 0, None, None, 0)\n",
    "B_FR = Beta('B_FR', 0, None, None, 0)"
   ]
  },
  {
   "cell_type": "markdown",
   "id": "5a619115",
   "metadata": {},
   "source": [
    "# Variables"
   ]
  },
  {
   "cell_type": "code",
   "execution_count": 9,
   "id": "d8e957ef",
   "metadata": {},
   "outputs": [],
   "source": [
    "SM_COST = SM_CO * (GA == 0)\n",
    "TRAIN_COST = TRAIN_CO * (GA == 0)\n",
    "CAR_AV_SP = CAR_AV * (SP != 0)\n",
    "TRAIN_AV_SP = TRAIN_AV * (SP != 0)\n",
    "TRAIN_TT_SCALED = TRAIN_TT / 100\n",
    "TRAIN_COST_SCALED = TRAIN_COST / 100\n",
    "SM_TT_SCALED = SM_TT / 100\n",
    "SM_COST_SCALED = SM_COST / 100\n",
    "CAR_TT_SCALED = CAR_TT / 100\n",
    "CAR_CO_SCALED = CAR_CO / 100\n",
    "TRAIN_HE_SCALED = TRAIN_HE / 1000\n",
    "SM_HE_SCALED = SM_HE / 1000\n",
    "LOW_INC = INCOME <= 1"
   ]
  },
  {
   "cell_type": "markdown",
   "id": "727b087b",
   "metadata": {},
   "source": [
    "# Availability conditions"
   ]
  },
  {
   "cell_type": "code",
   "execution_count": 10,
   "id": "3f8b3367",
   "metadata": {},
   "outputs": [],
   "source": [
    "av = {1: TRAIN_AV_SP,\n",
    "      2: SM_AV,\n",
    "      3: CAR_AV_SP}"
   ]
  },
  {
   "cell_type": "markdown",
   "id": "8c921693",
   "metadata": {},
   "source": [
    "# Logit model"
   ]
  },
  {
   "cell_type": "markdown",
   "id": "462744f0",
   "metadata": {},
   "source": [
    "## Utility functions"
   ]
  },
  {
   "cell_type": "code",
   "execution_count": 11,
   "id": "8f483bc1",
   "metadata": {},
   "outputs": [],
   "source": [
    "V1 = (ASC_TRAIN +\n",
    "      B_TIME * TRAIN_TT_SCALED +\n",
    "      B_COST * TRAIN_COST_SCALED +\n",
    "      B_FR * TRAIN_HE_SCALED)\n",
    "V2 = (B_TIME * SM_TT_SCALED +\n",
    "      B_COST * SM_COST_SCALED +\n",
    "      B_FR * SM_HE_SCALED)\n",
    "V3 = (ASC_CAR +\n",
    "      B_TIME * CAR_TT_SCALED +\n",
    "      B_COST * CAR_CO_SCALED)\n",
    "V = {1: V1,\n",
    "     2: V2,\n",
    "     3: V3}"
   ]
  },
  {
   "cell_type": "markdown",
   "id": "e3270a30",
   "metadata": {},
   "source": [
    "## Model"
   ]
  },
  {
   "cell_type": "code",
   "execution_count": 12,
   "id": "e377bc80",
   "metadata": {},
   "outputs": [],
   "source": [
    "logprob = models.loglogit(V, av, CHOICE)"
   ]
  },
  {
   "cell_type": "markdown",
   "id": "d8e5d7eb",
   "metadata": {},
   "source": [
    "## Estimation"
   ]
  },
  {
   "cell_type": "code",
   "execution_count": 13,
   "id": "f47d164b",
   "metadata": {},
   "outputs": [],
   "source": [
    "biogeme = bio.BIOGEME(database, logprob)\n",
    "biogeme.modelName = '01logit'\n",
    "results_logit = biogeme.estimate()"
   ]
  },
  {
   "cell_type": "markdown",
   "id": "2284cdd1",
   "metadata": {},
   "source": [
    "## Results"
   ]
  },
  {
   "cell_type": "code",
   "execution_count": 14,
   "id": "2b491d61",
   "metadata": {},
   "outputs": [
    {
     "name": "stdout",
     "output_type": "stream",
     "text": [
      "Number of estimated parameters:\t5\n",
      "Sample size:\t6768\n",
      "Excluded observations:\t3960\n",
      "Init log likelihood:\t-5315.386\n",
      "Final log likelihood:\t-5315.386\n",
      "Likelihood ratio test for the init. model:\t-0\n",
      "Rho-square for the init. model:\t0\n",
      "Rho-square-bar for the init. model:\t-0.000941\n",
      "Akaike Information Criterion:\t10640.77\n",
      "Bayesian Information Criterion:\t10674.87\n",
      "Final gradient norm:\t8.1247E-03\n",
      "Nbr of threads:\t16\n",
      "\n"
     ]
    }
   ],
   "source": [
    "stats_logit = results_logit.getGeneralStatistics()\n",
    "print(results_logit.printGeneralStatistics())"
   ]
  },
  {
   "cell_type": "code",
   "execution_count": 15,
   "id": "bd0b54ca",
   "metadata": {},
   "outputs": [
    {
     "data": {
      "text/html": [
       "<div>\n",
       "<style scoped>\n",
       "    .dataframe tbody tr th:only-of-type {\n",
       "        vertical-align: middle;\n",
       "    }\n",
       "\n",
       "    .dataframe tbody tr th {\n",
       "        vertical-align: top;\n",
       "    }\n",
       "\n",
       "    .dataframe thead th {\n",
       "        text-align: right;\n",
       "    }\n",
       "</style>\n",
       "<table border=\"1\" class=\"dataframe\">\n",
       "  <thead>\n",
       "    <tr style=\"text-align: right;\">\n",
       "      <th></th>\n",
       "      <th>Value</th>\n",
       "      <th>Std err</th>\n",
       "      <th>t-test</th>\n",
       "      <th>p-value</th>\n",
       "      <th>Rob. Std err</th>\n",
       "      <th>Rob. t-test</th>\n",
       "      <th>Rob. p-value</th>\n",
       "    </tr>\n",
       "  </thead>\n",
       "  <tbody>\n",
       "    <tr>\n",
       "      <th>ASC_CAR</th>\n",
       "      <td>-0.261838</td>\n",
       "      <td>0.047307</td>\n",
       "      <td>-5.534875</td>\n",
       "      <td>3.114498e-08</td>\n",
       "      <td>0.061496</td>\n",
       "      <td>-4.257798</td>\n",
       "      <td>2.064506e-05</td>\n",
       "    </tr>\n",
       "    <tr>\n",
       "      <th>ASC_TRAIN</th>\n",
       "      <td>-0.451015</td>\n",
       "      <td>0.069678</td>\n",
       "      <td>-6.472835</td>\n",
       "      <td>9.618062e-11</td>\n",
       "      <td>0.093240</td>\n",
       "      <td>-4.837114</td>\n",
       "      <td>1.317380e-06</td>\n",
       "    </tr>\n",
       "    <tr>\n",
       "      <th>B_COST</th>\n",
       "      <td>-1.084663</td>\n",
       "      <td>0.051826</td>\n",
       "      <td>-20.929115</td>\n",
       "      <td>0.000000e+00</td>\n",
       "      <td>0.068235</td>\n",
       "      <td>-15.895902</td>\n",
       "      <td>0.000000e+00</td>\n",
       "    </tr>\n",
       "    <tr>\n",
       "      <th>B_FR</th>\n",
       "      <td>-5.353240</td>\n",
       "      <td>0.963865</td>\n",
       "      <td>-5.553932</td>\n",
       "      <td>2.793141e-08</td>\n",
       "      <td>0.983023</td>\n",
       "      <td>-5.445690</td>\n",
       "      <td>5.160495e-08</td>\n",
       "    </tr>\n",
       "    <tr>\n",
       "      <th>B_TIME</th>\n",
       "      <td>-1.276782</td>\n",
       "      <td>0.056938</td>\n",
       "      <td>-22.424014</td>\n",
       "      <td>0.000000e+00</td>\n",
       "      <td>0.104436</td>\n",
       "      <td>-12.225485</td>\n",
       "      <td>0.000000e+00</td>\n",
       "    </tr>\n",
       "  </tbody>\n",
       "</table>\n",
       "</div>"
      ],
      "text/plain": [
       "              Value   Std err     t-test       p-value  Rob. Std err  \\\n",
       "ASC_CAR   -0.261838  0.047307  -5.534875  3.114498e-08      0.061496   \n",
       "ASC_TRAIN -0.451015  0.069678  -6.472835  9.618062e-11      0.093240   \n",
       "B_COST    -1.084663  0.051826 -20.929115  0.000000e+00      0.068235   \n",
       "B_FR      -5.353240  0.963865  -5.553932  2.793141e-08      0.983023   \n",
       "B_TIME    -1.276782  0.056938 -22.424014  0.000000e+00      0.104436   \n",
       "\n",
       "           Rob. t-test  Rob. p-value  \n",
       "ASC_CAR      -4.257798  2.064506e-05  \n",
       "ASC_TRAIN    -4.837114  1.317380e-06  \n",
       "B_COST      -15.895902  0.000000e+00  \n",
       "B_FR         -5.445690  5.160495e-08  \n",
       "B_TIME      -12.225485  0.000000e+00  "
      ]
     },
     "execution_count": 15,
     "metadata": {},
     "output_type": "execute_result"
    }
   ],
   "source": [
    "param_logit = results_logit.getEstimatedParameters()\n",
    "param_logit"
   ]
  },
  {
   "cell_type": "markdown",
   "id": "aaec4c45",
   "metadata": {},
   "source": [
    "# Random parameter: normal distribution"
   ]
  },
  {
   "cell_type": "markdown",
   "id": "bb3761bc",
   "metadata": {},
   "source": [
    "Read the results from file"
   ]
  },
  {
   "cell_type": "code",
   "execution_count": 16,
   "id": "fb93e6f4",
   "metadata": {},
   "outputs": [],
   "source": [
    "results_normal = get_results_from_url('rc-02normal.pickle')\n",
    "param_normal = results_normal.getEstimatedParameters()\n",
    "stats_normal = results_normal.getGeneralStatistics()"
   ]
  },
  {
   "cell_type": "markdown",
   "id": "bfaa11b9",
   "metadata": {},
   "source": [
    "# Random parameter: lognormal distribution\n"
   ]
  },
  {
   "cell_type": "markdown",
   "id": "64daa421",
   "metadata": {},
   "source": [
    "Read the results from file"
   ]
  },
  {
   "cell_type": "code",
   "execution_count": 17,
   "id": "2175cacb",
   "metadata": {},
   "outputs": [],
   "source": [
    "results_lognormal = get_results_from_url('rc-03lognormal.pickle')\n",
    "param_lognormal = results_lognormal.getEstimatedParameters()\n",
    "stats_lognormal = results_lognormal.getGeneralStatistics()"
   ]
  },
  {
   "cell_type": "markdown",
   "id": "b6217969",
   "metadata": {},
   "source": [
    "# Latent classes"
   ]
  },
  {
   "cell_type": "markdown",
   "id": "eacce3ea",
   "metadata": {},
   "source": [
    "We consider two classes in the population. The first class of individuals have considered all variables when making their choice. For them, the specification of the utility function is the same as for the logit model. "
   ]
  },
  {
   "cell_type": "code",
   "execution_count": 18,
   "id": "dce0ec71",
   "metadata": {},
   "outputs": [],
   "source": [
    "V1_1 = (ASC_TRAIN +\n",
    "        B_TIME * TRAIN_TT_SCALED +\n",
    "        B_COST * TRAIN_COST_SCALED +\n",
    "        B_FR * TRAIN_HE_SCALED)\n",
    "V2_1 = (B_TIME * SM_TT_SCALED +\n",
    "        B_COST * SM_COST_SCALED +\n",
    "        B_FR * SM_HE_SCALED)\n",
    "V3_1 = (ASC_CAR +\n",
    "        B_TIME * CAR_TT_SCALED +\n",
    "        B_COST * CAR_CO_SCALED)\n",
    "V_1 = {1: V1_1,\n",
    "       2: V2_1,\n",
    "       3: V3_1}"
   ]
  },
  {
   "cell_type": "markdown",
   "id": "a194358d",
   "metadata": {},
   "source": [
    "The second class of individuals ignored the travel time variable when making the choice. Therefore, this variable is removed from the utility function."
   ]
  },
  {
   "cell_type": "code",
   "execution_count": 19,
   "id": "0a88909d",
   "metadata": {},
   "outputs": [],
   "source": [
    "V1_2 = (ASC_TRAIN +\n",
    "        B_COST * TRAIN_COST_SCALED +\n",
    "        B_FR * TRAIN_HE_SCALED)\n",
    "V2_2 = (B_COST * SM_COST_SCALED +\n",
    "        B_FR * SM_HE_SCALED)\n",
    "V3_2 = (ASC_CAR +\n",
    "        B_COST * CAR_CO_SCALED)\n",
    "V_2 = {1: V1_2,\n",
    "       2: V2_2,\n",
    "       3: V3_2}"
   ]
  },
  {
   "cell_type": "markdown",
   "id": "c39d7bd2",
   "metadata": {},
   "source": [
    "The following parameter captures the probabity to belong to class 1. "
   ]
  },
  {
   "cell_type": "code",
   "execution_count": 20,
   "id": "d537e141",
   "metadata": {},
   "outputs": [],
   "source": [
    "OMEGA = Beta('OMEGA', 0.5, 0, 1, 0)\n",
    "prob_class_1 = OMEGA\n",
    "prob_class_2 = 1 - OMEGA"
   ]
  },
  {
   "cell_type": "markdown",
   "id": "85181506",
   "metadata": {},
   "source": [
    "## Model"
   ]
  },
  {
   "cell_type": "markdown",
   "id": "b5541550",
   "metadata": {},
   "source": [
    "We first calculate the choice probability for each class."
   ]
  },
  {
   "cell_type": "code",
   "execution_count": 21,
   "id": "4d36b70e",
   "metadata": {},
   "outputs": [],
   "source": [
    "prob_1 = models.logit(V_1, av, CHOICE)\n",
    "prob_2 = models.logit(V_2, av, CHOICE)"
   ]
  },
  {
   "cell_type": "markdown",
   "id": "1ab33564",
   "metadata": {},
   "source": [
    "The choice probability is obtained by using the class membership model."
   ]
  },
  {
   "cell_type": "code",
   "execution_count": 22,
   "id": "e493f778",
   "metadata": {},
   "outputs": [],
   "source": [
    "prob = prob_class_1 * prob_1 + prob_class_2 * prob_2\n",
    "logprob = log(prob)"
   ]
  },
  {
   "cell_type": "markdown",
   "id": "ddb61986",
   "metadata": {},
   "source": [
    "## Estimation"
   ]
  },
  {
   "cell_type": "code",
   "execution_count": 23,
   "id": "c75d4eb7",
   "metadata": {},
   "outputs": [],
   "source": [
    "if numberOfDraws is None:\n",
    "    results_latent = get_results_from_url('rc-04latentClass.pickle')\n",
    "else:\n",
    "    biogeme = bio.BIOGEME(database, logprob)\n",
    "    biogeme.modelName = '04latentClass'\n",
    "    results_latent = biogeme.estimate()\n",
    "    print(f'Results saved in file {results_latent.data.pickleFileName}')"
   ]
  },
  {
   "cell_type": "markdown",
   "id": "cb4b1d90",
   "metadata": {},
   "source": [
    "## Results"
   ]
  },
  {
   "cell_type": "code",
   "execution_count": 24,
   "id": "a43bb9f3",
   "metadata": {},
   "outputs": [
    {
     "name": "stdout",
     "output_type": "stream",
     "text": [
      "Number of estimated parameters:\t6\n",
      "Sample size:\t6768\n",
      "Excluded observations:\t3960\n",
      "Init log likelihood:\t-6964.663\n",
      "Final log likelihood:\t-5191.09\n",
      "Likelihood ratio test for the init. model:\t3547.146\n",
      "Rho-square for the init. model:\t0.255\n",
      "Rho-square-bar for the init. model:\t0.254\n",
      "Akaike Information Criterion:\t10394.18\n",
      "Bayesian Information Criterion:\t10435.1\n",
      "Final gradient norm:\t1.4933E-02\n",
      "Nbr of threads:\t16\n",
      "\n"
     ]
    }
   ],
   "source": [
    "stats_latent = results_latent.getGeneralStatistics()\n",
    "print(results_latent.printGeneralStatistics())"
   ]
  },
  {
   "cell_type": "code",
   "execution_count": 25,
   "id": "4474e70d",
   "metadata": {},
   "outputs": [
    {
     "data": {
      "text/html": [
       "<div>\n",
       "<style scoped>\n",
       "    .dataframe tbody tr th:only-of-type {\n",
       "        vertical-align: middle;\n",
       "    }\n",
       "\n",
       "    .dataframe tbody tr th {\n",
       "        vertical-align: top;\n",
       "    }\n",
       "\n",
       "    .dataframe thead th {\n",
       "        text-align: right;\n",
       "    }\n",
       "</style>\n",
       "<table border=\"1\" class=\"dataframe\">\n",
       "  <thead>\n",
       "    <tr style=\"text-align: right;\">\n",
       "      <th></th>\n",
       "      <th>Value</th>\n",
       "      <th>Std err</th>\n",
       "      <th>t-test</th>\n",
       "      <th>p-value</th>\n",
       "      <th>Rob. Std err</th>\n",
       "      <th>Rob. t-test</th>\n",
       "      <th>Rob. p-value</th>\n",
       "    </tr>\n",
       "  </thead>\n",
       "  <tbody>\n",
       "    <tr>\n",
       "      <th>ASC_CAR</th>\n",
       "      <td>0.002950</td>\n",
       "      <td>0.054079</td>\n",
       "      <td>0.054551</td>\n",
       "      <td>9.564965e-01</td>\n",
       "      <td>0.054812</td>\n",
       "      <td>0.053820</td>\n",
       "      <td>9.570783e-01</td>\n",
       "    </tr>\n",
       "    <tr>\n",
       "      <th>ASC_TRAIN</th>\n",
       "      <td>-0.108823</td>\n",
       "      <td>0.078194</td>\n",
       "      <td>-1.391698</td>\n",
       "      <td>1.640138e-01</td>\n",
       "      <td>0.078710</td>\n",
       "      <td>-1.382577</td>\n",
       "      <td>1.667946e-01</td>\n",
       "    </tr>\n",
       "    <tr>\n",
       "      <th>B_COST</th>\n",
       "      <td>-1.269444</td>\n",
       "      <td>0.061306</td>\n",
       "      <td>-20.706568</td>\n",
       "      <td>0.000000e+00</td>\n",
       "      <td>0.085837</td>\n",
       "      <td>-14.788988</td>\n",
       "      <td>0.000000e+00</td>\n",
       "    </tr>\n",
       "    <tr>\n",
       "      <th>B_FR</th>\n",
       "      <td>-6.119264</td>\n",
       "      <td>1.052546</td>\n",
       "      <td>-5.813776</td>\n",
       "      <td>6.107918e-09</td>\n",
       "      <td>1.054918</td>\n",
       "      <td>-5.800699</td>\n",
       "      <td>6.603907e-09</td>\n",
       "    </tr>\n",
       "    <tr>\n",
       "      <th>B_TIME</th>\n",
       "      <td>-2.806484</td>\n",
       "      <td>0.174748</td>\n",
       "      <td>-16.060174</td>\n",
       "      <td>0.000000e+00</td>\n",
       "      <td>0.170123</td>\n",
       "      <td>-16.496801</td>\n",
       "      <td>0.000000e+00</td>\n",
       "    </tr>\n",
       "    <tr>\n",
       "      <th>OMEGA</th>\n",
       "      <td>0.748568</td>\n",
       "      <td>0.021778</td>\n",
       "      <td>34.373045</td>\n",
       "      <td>0.000000e+00</td>\n",
       "      <td>0.021524</td>\n",
       "      <td>34.778455</td>\n",
       "      <td>0.000000e+00</td>\n",
       "    </tr>\n",
       "  </tbody>\n",
       "</table>\n",
       "</div>"
      ],
      "text/plain": [
       "              Value   Std err     t-test       p-value  Rob. Std err  \\\n",
       "ASC_CAR    0.002950  0.054079   0.054551  9.564965e-01      0.054812   \n",
       "ASC_TRAIN -0.108823  0.078194  -1.391698  1.640138e-01      0.078710   \n",
       "B_COST    -1.269444  0.061306 -20.706568  0.000000e+00      0.085837   \n",
       "B_FR      -6.119264  1.052546  -5.813776  6.107918e-09      1.054918   \n",
       "B_TIME    -2.806484  0.174748 -16.060174  0.000000e+00      0.170123   \n",
       "OMEGA      0.748568  0.021778  34.373045  0.000000e+00      0.021524   \n",
       "\n",
       "           Rob. t-test  Rob. p-value  \n",
       "ASC_CAR       0.053820  9.570783e-01  \n",
       "ASC_TRAIN    -1.382577  1.667946e-01  \n",
       "B_COST      -14.788988  0.000000e+00  \n",
       "B_FR         -5.800699  6.603907e-09  \n",
       "B_TIME      -16.496801  0.000000e+00  \n",
       "OMEGA        34.778455  0.000000e+00  "
      ]
     },
     "execution_count": 25,
     "metadata": {},
     "output_type": "execute_result"
    }
   ],
   "source": [
    "param_latent = results_latent.getEstimatedParameters()\n",
    "param_latent"
   ]
  },
  {
   "cell_type": "markdown",
   "id": "d1db7847",
   "metadata": {},
   "source": [
    "# Comparison"
   ]
  },
  {
   "cell_type": "markdown",
   "id": "c836bd0f",
   "metadata": {},
   "source": [
    "We build a summary data frame. We first gather the parameter estimates for each model."
   ]
  },
  {
   "cell_type": "code",
   "execution_count": 26,
   "id": "9379db35",
   "metadata": {},
   "outputs": [],
   "source": [
    "parameters = [\n",
    "    param_logit, \n",
    "    param_normal, \n",
    "    param_lognormal, \n",
    "    param_latent, \n",
    "]\n",
    "parameters_values = [\n",
    "    pd.DataFrame(df['Value']) \n",
    "    for df in parameters\n",
    "]\n",
    "summary = pd.concat(parameters_values, \n",
    "                    axis='columns')\n",
    "summary.columns = [\n",
    "    'Logit', \n",
    "    'Normal', \n",
    "    'Lognormal',\n",
    "    'Latent', \n",
    "]"
   ]
  },
  {
   "cell_type": "markdown",
   "id": "3e1866b1",
   "metadata": {},
   "source": [
    "Then we gather the value of the final log likelihood for each model."
   ]
  },
  {
   "cell_type": "code",
   "execution_count": 27,
   "id": "f5ef15ec",
   "metadata": {},
   "outputs": [],
   "source": [
    "stats = {\n",
    "    'Logit': stats_logit, \n",
    "    'Normal': stats_normal, \n",
    "    'Lognormal': stats_lognormal, \n",
    "    'Latent': stats_latent, \n",
    "}"
   ]
  },
  {
   "cell_type": "code",
   "execution_count": 28,
   "id": "d58be635",
   "metadata": {},
   "outputs": [
    {
     "data": {
      "text/html": [
       "<div>\n",
       "<style scoped>\n",
       "    .dataframe tbody tr th:only-of-type {\n",
       "        vertical-align: middle;\n",
       "    }\n",
       "\n",
       "    .dataframe tbody tr th {\n",
       "        vertical-align: top;\n",
       "    }\n",
       "\n",
       "    .dataframe thead th {\n",
       "        text-align: right;\n",
       "    }\n",
       "</style>\n",
       "<table border=\"1\" class=\"dataframe\">\n",
       "  <thead>\n",
       "    <tr style=\"text-align: right;\">\n",
       "      <th></th>\n",
       "      <th>Logit</th>\n",
       "      <th>Normal</th>\n",
       "      <th>Lognormal</th>\n",
       "      <th>Latent</th>\n",
       "    </tr>\n",
       "  </thead>\n",
       "  <tbody>\n",
       "    <tr>\n",
       "      <th>ASC_CAR</th>\n",
       "      <td>-0.261838</td>\n",
       "      <td>0.011932</td>\n",
       "      <td>0.054452</td>\n",
       "      <td>0.00295</td>\n",
       "    </tr>\n",
       "    <tr>\n",
       "      <th>ASC_TRAIN</th>\n",
       "      <td>-0.451015</td>\n",
       "      <td>-0.103973</td>\n",
       "      <td>-0.067536</td>\n",
       "      <td>-0.108823</td>\n",
       "    </tr>\n",
       "    <tr>\n",
       "      <th>B_COST</th>\n",
       "      <td>-1.084663</td>\n",
       "      <td>-1.294047</td>\n",
       "      <td>-1.385676</td>\n",
       "      <td>-1.269444</td>\n",
       "    </tr>\n",
       "    <tr>\n",
       "      <th>B_FR</th>\n",
       "      <td>-5.35324</td>\n",
       "      <td>-6.371798</td>\n",
       "      <td>-5.969799</td>\n",
       "      <td>-6.119264</td>\n",
       "    </tr>\n",
       "    <tr>\n",
       "      <th>B_TIME</th>\n",
       "      <td>-1.276782</td>\n",
       "      <td>-2.27339</td>\n",
       "      <td>0.572966</td>\n",
       "      <td>-2.806484</td>\n",
       "    </tr>\n",
       "    <tr>\n",
       "      <th>B_TIME_S</th>\n",
       "      <td></td>\n",
       "      <td>1.683225</td>\n",
       "      <td>1.245342</td>\n",
       "      <td></td>\n",
       "    </tr>\n",
       "    <tr>\n",
       "      <th>OMEGA</th>\n",
       "      <td></td>\n",
       "      <td></td>\n",
       "      <td></td>\n",
       "      <td>0.748568</td>\n",
       "    </tr>\n",
       "    <tr>\n",
       "      <th>Log likelihood</th>\n",
       "      <td>-5315.386329</td>\n",
       "      <td>-5197.436873</td>\n",
       "      <td>-5215.046312</td>\n",
       "      <td>-5191.089957</td>\n",
       "    </tr>\n",
       "  </tbody>\n",
       "</table>\n",
       "</div>"
      ],
      "text/plain": [
       "                      Logit       Normal    Lognormal       Latent\n",
       "ASC_CAR           -0.261838     0.011932     0.054452      0.00295\n",
       "ASC_TRAIN         -0.451015    -0.103973    -0.067536    -0.108823\n",
       "B_COST            -1.084663    -1.294047    -1.385676    -1.269444\n",
       "B_FR               -5.35324    -6.371798    -5.969799    -6.119264\n",
       "B_TIME            -1.276782     -2.27339     0.572966    -2.806484\n",
       "B_TIME_S                        1.683225     1.245342             \n",
       "OMEGA                                                     0.748568\n",
       "Log likelihood -5315.386329 -5197.436873 -5215.046312 -5191.089957"
      ]
     },
     "execution_count": 28,
     "metadata": {},
     "output_type": "execute_result"
    }
   ],
   "source": [
    "loglike = {\n",
    "    k: v['Final log likelihood'][0] \n",
    "    for k, v in stats.items()\n",
    "}\n",
    "loglike_row = pd.Series(data=loglike, \n",
    "                        name='Log likelihood')\n",
    "summary = summary.append(loglike_row)\n",
    "summary.fillna('')"
   ]
  }
 ],
 "metadata": {
  "kernelspec": {
   "display_name": "Python 3",
   "language": "python",
   "name": "python3"
  },
  "language_info": {
   "codemirror_mode": {
    "name": "ipython",
    "version": 3
   },
   "file_extension": ".py",
   "mimetype": "text/x-python",
   "name": "python",
   "nbconvert_exporter": "python",
   "pygments_lexer": "ipython3",
   "version": "3.9.5"
  }
 },
 "nbformat": 4,
 "nbformat_minor": 5
}
