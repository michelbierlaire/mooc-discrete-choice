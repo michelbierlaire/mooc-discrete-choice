{
 "cells": [
  {
   "cell_type": "code",
   "execution_count": 1,
   "id": "28bc61bf",
   "metadata": {},
   "outputs": [],
   "source": [
    "import pandas as pd\n",
    "import biogeme.database as db\n",
    "import biogeme.biogeme as bio\n",
    "import biogeme.version as ver\n",
    "from biogeme import models\n",
    "from biogeme.expressions import Beta, log"
   ]
  },
  {
   "cell_type": "markdown",
   "id": "fd0d1104",
   "metadata": {},
   "source": [
    "Version of Biogeme"
   ]
  },
  {
   "cell_type": "code",
   "execution_count": 2,
   "id": "2b03ddd9",
   "metadata": {},
   "outputs": [
    {
     "name": "stdout",
     "output_type": "stream",
     "text": [
      "biogeme 3.2.8 [2021-09-02]\n",
      "Version entirely written in Python\n",
      "Home page: http://biogeme.epfl.ch\n",
      "Submit questions to https://groups.google.com/d/forum/biogeme\n",
      "Michel Bierlaire, Transport and Mobility Laboratory, Ecole Polytechnique Fédérale de Lausanne (EPFL)\n",
      "\n"
     ]
    }
   ],
   "source": [
    "print(ver.getText())"
   ]
  },
  {
   "cell_type": "markdown",
   "id": "9d24e32d",
   "metadata": {},
   "source": [
    "Results of the experiment from Ariely (2008):\n",
    "\n",
    "|     | Experiment 1            | Experiment 2           |     |\n",
    "| --- | ---                     | ---                    | --- |\n",
    "|16   | Web only @ \\$59         | Web only @ \\$59        | 68  |\n",
    "|0    | Print only @ \\$125      |                        |     |\n",
    "|84   | Print and web @ \\$125   | Print and web @ \\$125  | 32  |"
   ]
  },
  {
   "cell_type": "code",
   "execution_count": 3,
   "id": "84e4660b",
   "metadata": {},
   "outputs": [],
   "source": [
    "data = pd.DataFrame({'Experiment': [1, 2], \n",
    "                     'Web_only': [16, 68], \n",
    "                     'Print_and_web': [84, 32]})\n"
   ]
  },
  {
   "cell_type": "code",
   "execution_count": 4,
   "id": "28c14633",
   "metadata": {},
   "outputs": [
    {
     "data": {
      "text/html": [
       "<div>\n",
       "<style scoped>\n",
       "    .dataframe tbody tr th:only-of-type {\n",
       "        vertical-align: middle;\n",
       "    }\n",
       "\n",
       "    .dataframe tbody tr th {\n",
       "        vertical-align: top;\n",
       "    }\n",
       "\n",
       "    .dataframe thead th {\n",
       "        text-align: right;\n",
       "    }\n",
       "</style>\n",
       "<table border=\"1\" class=\"dataframe\">\n",
       "  <thead>\n",
       "    <tr style=\"text-align: right;\">\n",
       "      <th></th>\n",
       "      <th>Experiment</th>\n",
       "      <th>Web_only</th>\n",
       "      <th>Print_and_web</th>\n",
       "    </tr>\n",
       "  </thead>\n",
       "  <tbody>\n",
       "    <tr>\n",
       "      <th>0</th>\n",
       "      <td>1</td>\n",
       "      <td>16</td>\n",
       "      <td>84</td>\n",
       "    </tr>\n",
       "    <tr>\n",
       "      <th>1</th>\n",
       "      <td>2</td>\n",
       "      <td>68</td>\n",
       "      <td>32</td>\n",
       "    </tr>\n",
       "  </tbody>\n",
       "</table>\n",
       "</div>"
      ],
      "text/plain": [
       "   Experiment  Web_only  Print_and_web\n",
       "0           1        16             84\n",
       "1           2        68             32"
      ]
     },
     "execution_count": 4,
     "metadata": {},
     "output_type": "execute_result"
    }
   ],
   "source": [
    "data"
   ]
  },
  {
   "cell_type": "code",
   "execution_count": 5,
   "id": "8ba7f5d8",
   "metadata": {},
   "outputs": [],
   "source": [
    "database = db.Database('data', data)\n",
    "globals().update(database.variables)"
   ]
  },
  {
   "cell_type": "markdown",
   "id": "db29b25f",
   "metadata": {},
   "source": [
    "# Logit model"
   ]
  },
  {
   "cell_type": "markdown",
   "id": "be401a9b",
   "metadata": {},
   "source": [
    "## Parameters "
   ]
  },
  {
   "cell_type": "markdown",
   "id": "43272f05",
   "metadata": {},
   "source": [
    "We estimate two parameters:\n",
    "- a coefficient for the cost,\n",
    "- a constant associated with alternatives involving the web option."
   ]
  },
  {
   "cell_type": "code",
   "execution_count": 6,
   "id": "746f71ec",
   "metadata": {},
   "outputs": [],
   "source": [
    "beta_cost = Beta('beta_cost', 0, None, None, 0)\n",
    "cte_web = Beta('cte_web', 0, None, None, 0)"
   ]
  },
  {
   "cell_type": "markdown",
   "id": "ca3e0ad9",
   "metadata": {},
   "source": [
    "## Utility functions"
   ]
  },
  {
   "cell_type": "code",
   "execution_count": 7,
   "id": "f383709c",
   "metadata": {},
   "outputs": [],
   "source": [
    "V_web = beta_cost * 59 + cte_web\n",
    "V_print = beta_cost * 125\n",
    "V_print_web = beta_cost * 125 + cte_web"
   ]
  },
  {
   "cell_type": "code",
   "execution_count": 8,
   "id": "6edec2d5",
   "metadata": {},
   "outputs": [],
   "source": [
    "V = {\n",
    "    1: V_web, \n",
    "    2: V_print, \n",
    "    3: V_print_web\n",
    "}"
   ]
  },
  {
   "cell_type": "markdown",
   "id": "9b9ad259",
   "metadata": {},
   "source": [
    "## Availability conditions"
   ]
  },
  {
   "cell_type": "markdown",
   "id": "e83853d9",
   "metadata": {},
   "source": [
    "Alternative 2 (print only) is only available in experiment 1."
   ]
  },
  {
   "cell_type": "code",
   "execution_count": 9,
   "id": "709c88af",
   "metadata": {},
   "outputs": [],
   "source": [
    "av = {1: 1, 2: Experiment == 1, 3: 1}"
   ]
  },
  {
   "cell_type": "markdown",
   "id": "5f03385b",
   "metadata": {},
   "source": [
    "## Log likelihood"
   ]
  },
  {
   "cell_type": "markdown",
   "id": "32e9e5a2",
   "metadata": {},
   "source": [
    "As alternative 2 is never chosen, it does not appear in the log likelihood function."
   ]
  },
  {
   "cell_type": "code",
   "execution_count": 10,
   "id": "27ec3339",
   "metadata": {},
   "outputs": [],
   "source": [
    "loglike = (\n",
    "    Web_only * models.loglogit(V, av, 1) + \n",
    "    Print_and_web * models.loglogit(V, av, 3)\n",
    ")"
   ]
  },
  {
   "cell_type": "code",
   "execution_count": 11,
   "id": "647b4e25",
   "metadata": {},
   "outputs": [],
   "source": [
    "biogeme = bio.BIOGEME(database, loglike)\n",
    "biogeme.modelName = 'logit'"
   ]
  },
  {
   "cell_type": "code",
   "execution_count": 12,
   "id": "f20a03d8",
   "metadata": {},
   "outputs": [],
   "source": [
    "results = biogeme.estimate()"
   ]
  },
  {
   "cell_type": "code",
   "execution_count": 13,
   "id": "57ce9fe3",
   "metadata": {},
   "outputs": [
    {
     "name": "stdout",
     "output_type": "stream",
     "text": [
      "Number of estimated parameters:\t2\n",
      "Sample size:\t2\n",
      "Excluded observations:\t0\n",
      "Init log likelihood:\t-136.0584\n",
      "Final log likelihood:\t-136.0584\n",
      "Likelihood ratio test for the init. model:\t4.331306e-05\n",
      "Rho-square for the init. model:\t1.59e-07\n",
      "Rho-square-bar for the init. model:\t-0.0147\n",
      "Akaike Information Criterion:\t276.1168\n",
      "Bayesian Information Criterion:\t273.5031\n",
      "Final gradient norm:\t3.4960E-04\n",
      "Nbr of threads:\t16\n",
      "\n"
     ]
    }
   ],
   "source": [
    "print(results.printGeneralStatistics())"
   ]
  },
  {
   "cell_type": "code",
   "execution_count": 14,
   "id": "1f529d75",
   "metadata": {
    "scrolled": true
   },
   "outputs": [
    {
     "data": {
      "text/html": [
       "<div>\n",
       "<style scoped>\n",
       "    .dataframe tbody tr th:only-of-type {\n",
       "        vertical-align: middle;\n",
       "    }\n",
       "\n",
       "    .dataframe tbody tr th {\n",
       "        vertical-align: top;\n",
       "    }\n",
       "\n",
       "    .dataframe thead th {\n",
       "        text-align: right;\n",
       "    }\n",
       "</style>\n",
       "<table border=\"1\" class=\"dataframe\">\n",
       "  <thead>\n",
       "    <tr style=\"text-align: right;\">\n",
       "      <th></th>\n",
       "      <th>Value</th>\n",
       "      <th>Std err</th>\n",
       "      <th>t-test</th>\n",
       "      <th>p-value</th>\n",
       "      <th>Rob. Std err</th>\n",
       "      <th>Rob. t-test</th>\n",
       "      <th>Rob. p-value</th>\n",
       "    </tr>\n",
       "  </thead>\n",
       "  <tbody>\n",
       "    <tr>\n",
       "      <th>beta_cost</th>\n",
       "      <td>0.004891</td>\n",
       "      <td>0.002171</td>\n",
       "      <td>2.252949</td>\n",
       "      <td>0.024262</td>\n",
       "      <td>0.011435</td>\n",
       "      <td>0.427678</td>\n",
       "      <td>0.668886</td>\n",
       "    </tr>\n",
       "    <tr>\n",
       "      <th>cte_web</th>\n",
       "      <td>15.341971</td>\n",
       "      <td>281.677898</td>\n",
       "      <td>0.054466</td>\n",
       "      <td>0.956564</td>\n",
       "      <td>1.244489</td>\n",
       "      <td>12.327932</td>\n",
       "      <td>0.000000</td>\n",
       "    </tr>\n",
       "  </tbody>\n",
       "</table>\n",
       "</div>"
      ],
      "text/plain": [
       "               Value     Std err    t-test   p-value  Rob. Std err  \\\n",
       "beta_cost   0.004891    0.002171  2.252949  0.024262      0.011435   \n",
       "cte_web    15.341971  281.677898  0.054466  0.956564      1.244489   \n",
       "\n",
       "           Rob. t-test  Rob. p-value  \n",
       "beta_cost     0.427678      0.668886  \n",
       "cte_web      12.327932      0.000000  "
      ]
     },
     "execution_count": 14,
     "metadata": {},
     "output_type": "execute_result"
    }
   ],
   "source": [
    "results.getEstimatedParameters()"
   ]
  },
  {
   "cell_type": "markdown",
   "id": "ba3d0ca4",
   "metadata": {},
   "source": [
    "We note that the cost coefficient is not significantly different from zero."
   ]
  },
  {
   "cell_type": "markdown",
   "id": "ba1e7bd6",
   "metadata": {},
   "source": [
    "# Logit model with a decoy"
   ]
  },
  {
   "cell_type": "markdown",
   "id": "a1e9b36b",
   "metadata": {},
   "source": [
    "We introduce now a variable that identifies the presence of the decoy. The behavioral assumption is that the \"print and web\" alternative becomes attractive because customers perceive that they obtain a significant discount, as they can obtain this alternative for the same price as \"print only\". Therefore, the presence of the dominated alternative \"print only\" (in experiment 1) increases the perceived utility of the alternative \"print and web\"."
   ]
  },
  {
   "cell_type": "code",
   "execution_count": 15,
   "id": "b751c021",
   "metadata": {},
   "outputs": [],
   "source": [
    "decoy = Experiment == 1\n",
    "beta_decoy = Beta('beta_decoy', 0, None, None, 0)"
   ]
  },
  {
   "cell_type": "code",
   "execution_count": 16,
   "id": "36d94fc3",
   "metadata": {},
   "outputs": [],
   "source": [
    "V_print_web_decoy = (\n",
    "    beta_cost * 125 +  \n",
    "    cte_web +\n",
    "    beta_decoy * decoy\n",
    ")"
   ]
  },
  {
   "cell_type": "code",
   "execution_count": 17,
   "id": "867f190c",
   "metadata": {},
   "outputs": [],
   "source": [
    "V_decoy = {\n",
    "    1: V_web, \n",
    "    2: V_print, \n",
    "    3: V_print_web_decoy\n",
    "}"
   ]
  },
  {
   "cell_type": "code",
   "execution_count": 18,
   "id": "064b71b4",
   "metadata": {},
   "outputs": [],
   "source": [
    "loglike_decoy = (\n",
    "    Web_only * models.loglogit(V_decoy, av, 1) + \n",
    "    Print_and_web * models.loglogit(V_decoy, av, 3)\n",
    ")"
   ]
  },
  {
   "cell_type": "code",
   "execution_count": 19,
   "id": "99704560",
   "metadata": {},
   "outputs": [],
   "source": [
    "biogeme_decoy = bio.BIOGEME(database, loglike_decoy)\n",
    "biogeme.modelName = 'logit_decoy'"
   ]
  },
  {
   "cell_type": "code",
   "execution_count": 20,
   "id": "4c355331",
   "metadata": {},
   "outputs": [],
   "source": [
    "results_decoy = biogeme_decoy.estimate()"
   ]
  },
  {
   "cell_type": "code",
   "execution_count": 21,
   "id": "42222442",
   "metadata": {},
   "outputs": [
    {
     "name": "stdout",
     "output_type": "stream",
     "text": [
      "Number of estimated parameters:\t3\n",
      "Sample size:\t2\n",
      "Excluded observations:\t0\n",
      "Init log likelihood:\t-106.654\n",
      "Final log likelihood:\t-106.654\n",
      "Likelihood ratio test for the init. model:\t8.282283e-05\n",
      "Rho-square for the init. model:\t3.88e-07\n",
      "Rho-square-bar for the init. model:\t-0.0281\n",
      "Akaike Information Criterion:\t219.3079\n",
      "Bayesian Information Criterion:\t215.3874\n",
      "Final gradient norm:\t2.5649E-04\n",
      "Nbr of threads:\t16\n",
      "\n"
     ]
    }
   ],
   "source": [
    "print(results_decoy.printGeneralStatistics())"
   ]
  },
  {
   "cell_type": "code",
   "execution_count": 22,
   "id": "4d0d02d9",
   "metadata": {},
   "outputs": [
    {
     "data": {
      "text/html": [
       "<div>\n",
       "<style scoped>\n",
       "    .dataframe tbody tr th:only-of-type {\n",
       "        vertical-align: middle;\n",
       "    }\n",
       "\n",
       "    .dataframe tbody tr th {\n",
       "        vertical-align: top;\n",
       "    }\n",
       "\n",
       "    .dataframe thead th {\n",
       "        text-align: right;\n",
       "    }\n",
       "</style>\n",
       "<table border=\"1\" class=\"dataframe\">\n",
       "  <thead>\n",
       "    <tr style=\"text-align: right;\">\n",
       "      <th></th>\n",
       "      <th>Value</th>\n",
       "      <th>Std err</th>\n",
       "      <th>t-test</th>\n",
       "      <th>p-value</th>\n",
       "      <th>Rob. Std err</th>\n",
       "      <th>Rob. t-test</th>\n",
       "      <th>Rob. p-value</th>\n",
       "    </tr>\n",
       "  </thead>\n",
       "  <tbody>\n",
       "    <tr>\n",
       "      <th>beta_cost</th>\n",
       "      <td>-0.011421</td>\n",
       "      <td>0.003248</td>\n",
       "      <td>-3.516166</td>\n",
       "      <td>4.378276e-04</td>\n",
       "      <td>2.753867e-13</td>\n",
       "      <td>-4.147181e+10</td>\n",
       "      <td>0.0</td>\n",
       "    </tr>\n",
       "    <tr>\n",
       "      <th>beta_decoy</th>\n",
       "      <td>2.412000</td>\n",
       "      <td>0.346930</td>\n",
       "      <td>6.952404</td>\n",
       "      <td>3.591127e-12</td>\n",
       "      <td>3.385965e-11</td>\n",
       "      <td>7.123522e+10</td>\n",
       "      <td>0.0</td>\n",
       "    </tr>\n",
       "    <tr>\n",
       "      <th>cte_web</th>\n",
       "      <td>12.652095</td>\n",
       "      <td>203.698434</td>\n",
       "      <td>0.062112</td>\n",
       "      <td>9.504737e-01</td>\n",
       "      <td>1.000000e+00</td>\n",
       "      <td>1.265209e+01</td>\n",
       "      <td>0.0</td>\n",
       "    </tr>\n",
       "  </tbody>\n",
       "</table>\n",
       "</div>"
      ],
      "text/plain": [
       "                Value     Std err    t-test       p-value  Rob. Std err  \\\n",
       "beta_cost   -0.011421    0.003248 -3.516166  4.378276e-04  2.753867e-13   \n",
       "beta_decoy   2.412000    0.346930  6.952404  3.591127e-12  3.385965e-11   \n",
       "cte_web     12.652095  203.698434  0.062112  9.504737e-01  1.000000e+00   \n",
       "\n",
       "             Rob. t-test  Rob. p-value  \n",
       "beta_cost  -4.147181e+10           0.0  \n",
       "beta_decoy  7.123522e+10           0.0  \n",
       "cte_web     1.265209e+01           0.0  "
      ]
     },
     "execution_count": 22,
     "metadata": {},
     "output_type": "execute_result"
    }
   ],
   "source": [
    "results_decoy.getEstimatedParameters()"
   ]
  },
  {
   "cell_type": "markdown",
   "id": "66c71a28",
   "metadata": {},
   "source": [
    "Now, the cost coefficient is negative, and significantly different from zero. And the impact of the decoy is to increase the utility of the \"print and web\" alternative, as expected. "
   ]
  },
  {
   "cell_type": "markdown",
   "id": "7048d02d",
   "metadata": {},
   "source": [
    "In this example, we have been able to capture the apparent irrationality reported by Ariely (2008) with a simple specification of the utility functions, resulting from the behavioral assumption that customers are attracted by alternatives associated with a discount. More complex examples may involve subjectivity, perception, and attitudes to address the apparent irrationality. These behavioral concepts cannot easily be captured by observed variables. But, as we will see later, they can be captured by so-called \"latent variables\", that can be included in the choice models. "
   ]
  }
 ],
 "metadata": {
  "kernelspec": {
   "display_name": "Python 3 (ipykernel)",
   "language": "python",
   "name": "python3"
  },
  "language_info": {
   "codemirror_mode": {
    "name": "ipython",
    "version": 3
   },
   "file_extension": ".py",
   "mimetype": "text/x-python",
   "name": "python",
   "nbconvert_exporter": "python",
   "pygments_lexer": "ipython3",
   "version": "3.9.6"
  }
 },
 "nbformat": 4,
 "nbformat_minor": 5
}
