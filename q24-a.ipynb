{
 "cells": [
  {
   "cell_type": "code",
   "execution_count": 1,
   "id": "royal-framing",
   "metadata": {},
   "outputs": [],
   "source": [
    "import pandas as pd\n",
    "import numpy as np\n",
    "import matplotlib.pyplot as plt\n",
    "import biogeme.database as db\n",
    "import biogeme.biogeme as bio\n",
    "from biogeme import models\n",
    "import biogeme.optimization as opt\n",
    "import biogeme.version as ver\n",
    "from biogeme.expressions import Beta, Variable"
   ]
  },
  {
   "cell_type": "markdown",
   "id": "insured-outdoors",
   "metadata": {},
   "source": [
    "We first print the version of Biogeme that has been used to generate the results."
   ]
  },
  {
   "cell_type": "code",
   "execution_count": 2,
   "id": "distant-likelihood",
   "metadata": {},
   "outputs": [
    {
     "name": "stdout",
     "output_type": "stream",
     "text": [
      "biogeme 3.2.8 [2021-07-29]\n",
      "Version entirely written in Python\n",
      "Home page: http://biogeme.epfl.ch\n",
      "Submit questions to https://groups.google.com/d/forum/biogeme\n",
      "Michel Bierlaire, Transport and Mobility Laboratory, Ecole Polytechnique Fédérale de Lausanne (EPFL)\n",
      "\n"
     ]
    }
   ],
   "source": [
    "print(ver.getText())"
   ]
  },
  {
   "cell_type": "markdown",
   "id": "vulnerable-switch",
   "metadata": {},
   "source": [
    "# Sampling procedures"
   ]
  },
  {
   "cell_type": "markdown",
   "id": "august-august",
   "metadata": {},
   "source": [
    "Load the population and display information about it."
   ]
  },
  {
   "cell_type": "code",
   "execution_count": 3,
   "id": "aquatic-thread",
   "metadata": {},
   "outputs": [],
   "source": [
    "url = ('https://raw.githubusercontent.com/michelbierlaire/mooc-discrete-choice/master/'\n",
    "       'syntheticPopulationWithChoice.zip')\n",
    "population = pd.read_csv(url)"
   ]
  },
  {
   "cell_type": "code",
   "execution_count": 4,
   "id": "22aad0f3",
   "metadata": {},
   "outputs": [
    {
     "data": {
      "text/html": [
       "<div>\n",
       "<style scoped>\n",
       "    .dataframe tbody tr th:only-of-type {\n",
       "        vertical-align: middle;\n",
       "    }\n",
       "\n",
       "    .dataframe tbody tr th {\n",
       "        vertical-align: top;\n",
       "    }\n",
       "\n",
       "    .dataframe thead th {\n",
       "        text-align: right;\n",
       "    }\n",
       "</style>\n",
       "<table border=\"1\" class=\"dataframe\">\n",
       "  <thead>\n",
       "    <tr style=\"text-align: right;\">\n",
       "      <th></th>\n",
       "      <th>Id</th>\n",
       "      <th>MarginalCostPT</th>\n",
       "      <th>WaitingTimePT</th>\n",
       "      <th>CostCarCHF</th>\n",
       "      <th>NbTransf</th>\n",
       "      <th>distance_km</th>\n",
       "      <th>TimePT</th>\n",
       "      <th>TimeCar</th>\n",
       "      <th>OccupStat</th>\n",
       "      <th>LangCode</th>\n",
       "      <th>CarAvail</th>\n",
       "      <th>Education</th>\n",
       "      <th>TripPurpose</th>\n",
       "      <th>Prob0</th>\n",
       "      <th>Prob1</th>\n",
       "      <th>Prob2</th>\n",
       "      <th>Choice</th>\n",
       "    </tr>\n",
       "  </thead>\n",
       "  <tbody>\n",
       "    <tr>\n",
       "      <th>count</th>\n",
       "      <td>1000000.000000</td>\n",
       "      <td>1000000.000000</td>\n",
       "      <td>1000000.000000</td>\n",
       "      <td>1000000.000000</td>\n",
       "      <td>1000000.000000</td>\n",
       "      <td>1000000.000000</td>\n",
       "      <td>1000000.000000</td>\n",
       "      <td>1000000.000000</td>\n",
       "      <td>1000000.000000</td>\n",
       "      <td>1000000.000000</td>\n",
       "      <td>1000000.000000</td>\n",
       "      <td>1000000.000000</td>\n",
       "      <td>1000000.000000</td>\n",
       "      <td>1000000.000000</td>\n",
       "      <td>1000000.000000</td>\n",
       "      <td>1.000000e+06</td>\n",
       "      <td>1000000.000000</td>\n",
       "    </tr>\n",
       "    <tr>\n",
       "      <th>mean</th>\n",
       "      <td>499999.500000</td>\n",
       "      <td>11.130081</td>\n",
       "      <td>13.125910</td>\n",
       "      <td>5.760960</td>\n",
       "      <td>2.009250</td>\n",
       "      <td>40.380471</td>\n",
       "      <td>107.915374</td>\n",
       "      <td>40.702842</td>\n",
       "      <td>1.923853</td>\n",
       "      <td>1.744393</td>\n",
       "      <td>1.102572</td>\n",
       "      <td>4.153050</td>\n",
       "      <td>1.656476</td>\n",
       "      <td>0.286302</td>\n",
       "      <td>0.649073</td>\n",
       "      <td>6.462583e-02</td>\n",
       "      <td>0.779402</td>\n",
       "    </tr>\n",
       "    <tr>\n",
       "      <th>std</th>\n",
       "      <td>288675.278932</td>\n",
       "      <td>16.310957</td>\n",
       "      <td>22.341342</td>\n",
       "      <td>8.404421</td>\n",
       "      <td>2.200499</td>\n",
       "      <td>63.054669</td>\n",
       "      <td>88.125821</td>\n",
       "      <td>48.109134</td>\n",
       "      <td>0.869789</td>\n",
       "      <td>0.436202</td>\n",
       "      <td>0.441161</td>\n",
       "      <td>1.518441</td>\n",
       "      <td>0.474885</td>\n",
       "      <td>0.283246</td>\n",
       "      <td>0.271691</td>\n",
       "      <td>1.078408e-01</td>\n",
       "      <td>0.549619</td>\n",
       "    </tr>\n",
       "    <tr>\n",
       "      <th>min</th>\n",
       "      <td>0.000000</td>\n",
       "      <td>0.000000</td>\n",
       "      <td>0.000000</td>\n",
       "      <td>0.000000</td>\n",
       "      <td>0.000000</td>\n",
       "      <td>0.000000</td>\n",
       "      <td>0.000000</td>\n",
       "      <td>0.000000</td>\n",
       "      <td>1.000000</td>\n",
       "      <td>1.000000</td>\n",
       "      <td>1.000000</td>\n",
       "      <td>3.000000</td>\n",
       "      <td>1.000000</td>\n",
       "      <td>0.000002</td>\n",
       "      <td>0.000000</td>\n",
       "      <td>5.856389e-111</td>\n",
       "      <td>0.000000</td>\n",
       "    </tr>\n",
       "    <tr>\n",
       "      <th>25%</th>\n",
       "      <td>249999.750000</td>\n",
       "      <td>2.533611</td>\n",
       "      <td>0.000000</td>\n",
       "      <td>1.451197</td>\n",
       "      <td>0.000000</td>\n",
       "      <td>8.844138</td>\n",
       "      <td>46.343927</td>\n",
       "      <td>13.346889</td>\n",
       "      <td>1.000000</td>\n",
       "      <td>1.000000</td>\n",
       "      <td>1.000000</td>\n",
       "      <td>3.000000</td>\n",
       "      <td>1.000000</td>\n",
       "      <td>0.084735</td>\n",
       "      <td>0.537786</td>\n",
       "      <td>2.228475e-06</td>\n",
       "      <td>0.000000</td>\n",
       "    </tr>\n",
       "    <tr>\n",
       "      <th>50%</th>\n",
       "      <td>499999.500000</td>\n",
       "      <td>5.473843</td>\n",
       "      <td>5.212542</td>\n",
       "      <td>2.969225</td>\n",
       "      <td>1.621549</td>\n",
       "      <td>18.861824</td>\n",
       "      <td>85.299806</td>\n",
       "      <td>26.206421</td>\n",
       "      <td>2.000000</td>\n",
       "      <td>2.000000</td>\n",
       "      <td>1.000000</td>\n",
       "      <td>3.000000</td>\n",
       "      <td>2.000000</td>\n",
       "      <td>0.181506</td>\n",
       "      <td>0.710326</td>\n",
       "      <td>4.427529e-03</td>\n",
       "      <td>1.000000</td>\n",
       "    </tr>\n",
       "    <tr>\n",
       "      <th>75%</th>\n",
       "      <td>749999.250000</td>\n",
       "      <td>12.756591</td>\n",
       "      <td>17.591064</td>\n",
       "      <td>6.292116</td>\n",
       "      <td>3.281843</td>\n",
       "      <td>43.464997</td>\n",
       "      <td>143.598715</td>\n",
       "      <td>49.411055</td>\n",
       "      <td>3.000000</td>\n",
       "      <td>2.000000</td>\n",
       "      <td>1.000000</td>\n",
       "      <td>6.000000</td>\n",
       "      <td>2.000000</td>\n",
       "      <td>0.368227</td>\n",
       "      <td>0.855592</td>\n",
       "      <td>8.545803e-02</td>\n",
       "      <td>1.000000</td>\n",
       "    </tr>\n",
       "    <tr>\n",
       "      <th>max</th>\n",
       "      <td>999999.000000</td>\n",
       "      <td>275.905800</td>\n",
       "      <td>470.223169</td>\n",
       "      <td>81.148874</td>\n",
       "      <td>16.785921</td>\n",
       "      <td>622.584149</td>\n",
       "      <td>893.873634</td>\n",
       "      <td>592.327680</td>\n",
       "      <td>3.000000</td>\n",
       "      <td>2.000000</td>\n",
       "      <td>3.000000</td>\n",
       "      <td>7.000000</td>\n",
       "      <td>2.000000</td>\n",
       "      <td>1.000000</td>\n",
       "      <td>0.999997</td>\n",
       "      <td>9.720215e-01</td>\n",
       "      <td>2.000000</td>\n",
       "    </tr>\n",
       "  </tbody>\n",
       "</table>\n",
       "</div>"
      ],
      "text/plain": [
       "                   Id  MarginalCostPT   WaitingTimePT      CostCarCHF  \\\n",
       "count  1000000.000000  1000000.000000  1000000.000000  1000000.000000   \n",
       "mean    499999.500000       11.130081       13.125910        5.760960   \n",
       "std     288675.278932       16.310957       22.341342        8.404421   \n",
       "min          0.000000        0.000000        0.000000        0.000000   \n",
       "25%     249999.750000        2.533611        0.000000        1.451197   \n",
       "50%     499999.500000        5.473843        5.212542        2.969225   \n",
       "75%     749999.250000       12.756591       17.591064        6.292116   \n",
       "max     999999.000000      275.905800      470.223169       81.148874   \n",
       "\n",
       "             NbTransf     distance_km          TimePT         TimeCar  \\\n",
       "count  1000000.000000  1000000.000000  1000000.000000  1000000.000000   \n",
       "mean         2.009250       40.380471      107.915374       40.702842   \n",
       "std          2.200499       63.054669       88.125821       48.109134   \n",
       "min          0.000000        0.000000        0.000000        0.000000   \n",
       "25%          0.000000        8.844138       46.343927       13.346889   \n",
       "50%          1.621549       18.861824       85.299806       26.206421   \n",
       "75%          3.281843       43.464997      143.598715       49.411055   \n",
       "max         16.785921      622.584149      893.873634      592.327680   \n",
       "\n",
       "            OccupStat        LangCode        CarAvail       Education  \\\n",
       "count  1000000.000000  1000000.000000  1000000.000000  1000000.000000   \n",
       "mean         1.923853        1.744393        1.102572        4.153050   \n",
       "std          0.869789        0.436202        0.441161        1.518441   \n",
       "min          1.000000        1.000000        1.000000        3.000000   \n",
       "25%          1.000000        1.000000        1.000000        3.000000   \n",
       "50%          2.000000        2.000000        1.000000        3.000000   \n",
       "75%          3.000000        2.000000        1.000000        6.000000   \n",
       "max          3.000000        2.000000        3.000000        7.000000   \n",
       "\n",
       "          TripPurpose           Prob0           Prob1          Prob2  \\\n",
       "count  1000000.000000  1000000.000000  1000000.000000   1.000000e+06   \n",
       "mean         1.656476        0.286302        0.649073   6.462583e-02   \n",
       "std          0.474885        0.283246        0.271691   1.078408e-01   \n",
       "min          1.000000        0.000002        0.000000  5.856389e-111   \n",
       "25%          1.000000        0.084735        0.537786   2.228475e-06   \n",
       "50%          2.000000        0.181506        0.710326   4.427529e-03   \n",
       "75%          2.000000        0.368227        0.855592   8.545803e-02   \n",
       "max          2.000000        1.000000        0.999997   9.720215e-01   \n",
       "\n",
       "               Choice  \n",
       "count  1000000.000000  \n",
       "mean         0.779402  \n",
       "std          0.549619  \n",
       "min          0.000000  \n",
       "25%          0.000000  \n",
       "50%          1.000000  \n",
       "75%          1.000000  \n",
       "max          2.000000  "
      ]
     },
     "execution_count": 4,
     "metadata": {},
     "output_type": "execute_result"
    }
   ],
   "source": [
    "population.describe()"
   ]
  },
  {
   "cell_type": "code",
   "execution_count": 5,
   "id": "9be46343",
   "metadata": {},
   "outputs": [],
   "source": [
    "populationSize = population.shape[0]"
   ]
  },
  {
   "cell_type": "markdown",
   "id": "236a5a65",
   "metadata": {},
   "source": [
    "We set the seed so that the results are reproducible"
   ]
  },
  {
   "cell_type": "code",
   "execution_count": 6,
   "id": "54ce68cd",
   "metadata": {},
   "outputs": [],
   "source": [
    "np.random.seed(seed=9021967)"
   ]
  },
  {
   "cell_type": "markdown",
   "id": "placed-madonna",
   "metadata": {},
   "source": [
    "Generic stratified sampling procedure"
   ]
  },
  {
   "cell_type": "code",
   "execution_count": 7,
   "id": "daily-creativity",
   "metadata": {},
   "outputs": [],
   "source": [
    "def stratifiedSample(name, mask, H, sampleSize=1000):\n",
    "    # name: name of the sampling scheme\n",
    "    # mask: list of masks identifying the strata\n",
    "    # H: target shares for each stratum\n",
    "    groupname = f'{name}Group'\n",
    "    # Calculate the share of each group in the population\n",
    "    W = [None] * len(mask)\n",
    "    for i, m in enumerate(mask):\n",
    "        W[i] = population[m].shape[0] / populationSize\n",
    "        population.loc[m, groupname] = i\n",
    "        population.loc[m, f'Weight{name}'] = W[i] / H[i] if H[i] != 0 else 0\n",
    "    # Sampling\n",
    "    groupsize = np.array(H) * sampleSize\n",
    "    \n",
    "    def sampleStratum(x):\n",
    "        size = int(groupsize[int(x[groupname].mean())])\n",
    "        if size == 0:\n",
    "            return None\n",
    "        elif size > x.shape[0]:\n",
    "            # not enough individual in stratum to reach the requirements\n",
    "            return x\n",
    "        else:\n",
    "            return x.sample(n=size)\n",
    "    # The statement 'int(x[groupname].mean())' retireves the index of the group.\n",
    "    sample = (population.groupby(groupname).\n",
    "              apply(sampleStratum).\n",
    "              reset_index(drop=True))\n",
    "    population.drop(groupname, axis='columns', inplace=True)\n",
    "    return sample"
   ]
  },
  {
   "cell_type": "markdown",
   "id": "incomplete-eagle",
   "metadata": {},
   "source": [
    "## Endogenously stratified Sample"
   ]
  },
  {
   "cell_type": "markdown",
   "id": "stone-episode",
   "metadata": {},
   "source": [
    "The strata are defined based on car availability and the chosen alternative.  As the choice is involved in the definition of strata, the stratified sampling is *endogenous*. Target shares in the sample: there are 5 non empty strata, taking 20% each"
   ]
  },
  {
   "cell_type": "code",
   "execution_count": 8,
   "id": "sufficient-amber",
   "metadata": {},
   "outputs": [],
   "source": [
    "def ess1(sampleSize=1000):\n",
    "    ess1Mask = [(population['CarAvail'] == i) & (population['Choice'] == j) \n",
    "                for i in [1, 3] for j in [0, 1, 2]]\n",
    "    H = [0.2, 0.2, 0.2, 0.2, 0.0, 0.2]\n",
    "    name = 'ESS1'\n",
    "    return name, stratifiedSample(name, ess1Mask, H, sampleSize)"
   ]
  },
  {
   "cell_type": "markdown",
   "id": "productive-incentive",
   "metadata": {},
   "source": [
    "# Choice model"
   ]
  },
  {
   "cell_type": "markdown",
   "id": "unsigned-attendance",
   "metadata": {},
   "source": [
    "The specification of the choice model is available in the file <code>spec_optima</code>. Note that it is the exact same specification that has been used to generate the synthetic choices."
   ]
  },
  {
   "cell_type": "markdown",
   "id": "ca452766",
   "metadata": {},
   "source": [
    "If the file ``spec_optima.py``is in your local directory, simply use the following statement to obtain the model specification. For this notebook running on a remote server, we have copied the code in the following cell."
   ]
  },
  {
   "cell_type": "code",
   "execution_count": 9,
   "id": "typical-vietnam",
   "metadata": {},
   "outputs": [],
   "source": [
    "#from spec_optima import V, av, Choice"
   ]
  },
  {
   "cell_type": "code",
   "execution_count": 10,
   "id": "417b37d9",
   "metadata": {},
   "outputs": [],
   "source": [
    "# File spec_optima.py\n",
    "#\n",
    "# Definition of the variables in the data file\n",
    "Id = Variable('Id')\n",
    "MarginalCostPT = Variable('MarginalCostPT')\n",
    "WaitingTimePT = Variable('WaitingTimePT')\n",
    "CostCarCHF = Variable('CostCarCHF')\n",
    "NbTransf = Variable('NbTransf')\n",
    "distance_km = Variable('distance_km')\n",
    "TimePT = Variable('TimePT')\n",
    "TimeCar = Variable('TimeCar')\n",
    "OccupStat = Variable('OccupStat')\n",
    "LangCode = Variable('LangCode')\n",
    "CarAvail = Variable('CarAvail')\n",
    "Education = Variable('Education')\n",
    "TripPurpose = Variable('TripPurpose')\n",
    "Prob0 = Variable('Prob0')\n",
    "Prob1 = Variable('Prob1')\n",
    "Prob2 = Variable('Prob2')\n",
    "Choice = Variable('Choice')\n",
    "\n",
    "TimePT_scaled = TimePT / 200\n",
    "TimeCar_scaled = TimeCar / 200\n",
    "MarginalCostPT_scaled = MarginalCostPT / 10\n",
    "CostCarCHF_scaled = CostCarCHF / 10\n",
    "distance_km_scaled = distance_km / 5\n",
    "\n",
    "ASC_PT_GERMAN_CARAVAIL = Beta('ASC_PT_GERMAN_CARAVAIL', 0, None, None, 0)\n",
    "\n",
    "ASC_PT_GERMAN_NOCARAVAIL = Beta('ASC_PT_GERMAN_NOCARAVAIL', 0, None, None, 0)\n",
    "\n",
    "ASC_PT_GERMAN = ASC_PT_GERMAN_CARAVAIL * (\n",
    "    CarAvail == 1\n",
    ") + ASC_PT_GERMAN_NOCARAVAIL * (CarAvail != 1)\n",
    "\n",
    "ASC_PT_FRENCH_CARAVAIL = Beta('ASC_PT_FRENCH_CARAVAIL', 0, None, None, 0)\n",
    "\n",
    "ASC_PT_FRENCH_NOCARAVAIL = Beta('ASC_PT_FRENCH_NOCARAVAIL', 0, None, None, 0)\n",
    "\n",
    "ASC_PT_FRENCH = ASC_PT_FRENCH_CARAVAIL * (\n",
    "    CarAvail == 1\n",
    ") + ASC_PT_FRENCH_NOCARAVAIL * (CarAvail != 1)\n",
    "\n",
    "ASC_PT = ASC_PT_GERMAN * (LangCode != 1) + ASC_PT_FRENCH * (LangCode == 1)\n",
    "\n",
    "ASC_CAR_GERMAN = Beta('ASC_CAR_GERMAN', 0, None, None, 0)\n",
    "ASC_CAR_FRENCH = Beta('ASC_CAR_FRENCH', 0, None, None, 0)\n",
    "\n",
    "ASC_CAR = ASC_CAR_FRENCH * (LangCode == 1) + ASC_CAR_GERMAN * (LangCode != 1)\n",
    "\n",
    "BETA_TIME_FULL = Beta('BETA_TIME_FULL', 0, None, None, 0)\n",
    "\n",
    "BETA_TIME_PARTTIME = Beta('BETA_TIME_PARTTIME', 0, None, None, 0)\n",
    "\n",
    "BETA_TIME_OTHERS = Beta('BETA_TIME_OTHERS', 0, None, None, 0)\n",
    "\n",
    "BETA_TIME = (\n",
    "    BETA_TIME_FULL * (OccupStat == 1)\n",
    "    + BETA_TIME_PARTTIME * (OccupStat == 2)\n",
    "    + BETA_TIME_OTHERS * (OccupStat == 3)\n",
    ")\n",
    "\n",
    "BETA_COST_PT = Beta('BETA_COST_PT', 0, None, None, 0)\n",
    "BETA_COST_CAR = Beta('BETA_COST_CAR', 0, None, None, 0)\n",
    "\n",
    "BETA_WAITING_WORK = Beta('BETA_WAITING_WORK', 0, None, None, 0)\n",
    "\n",
    "BETA_WAITING_NONWORK = Beta('BETA_WAITING_NONWORK', 0, None, None, 0)\n",
    "\n",
    "BETA_WAITING = BETA_WAITING_WORK * (\n",
    "    TripPurpose == 1\n",
    ") + BETA_WAITING_NONWORK * (TripPurpose != 1)\n",
    "\n",
    "BETA_DIST_VOCA = Beta('BETA_DIST_VOCA', 0, None, None, 0)\n",
    "BETA_DIST_HIGH_SCHOOL = Beta('BETA_DIST_HIGH_SCHOOL', 0, None, None, 0)\n",
    "\n",
    "BETA_DIST_HIGHER = Beta('BETA_DIST_HIGHER', 0, None, None, 0)\n",
    "BETA_DIST_UNIV = Beta('BETA_DIST_UNIV', 0, None, None, 0)\n",
    "\n",
    "BETA_DIST = (\n",
    "    BETA_DIST_VOCA * (Education == 3)\n",
    "    + BETA_DIST_HIGH_SCHOOL * (Education == 4)\n",
    "    + BETA_DIST_HIGHER * (Education == 6)\n",
    "    + BETA_DIST_UNIV * (Education == 7)\n",
    ")\n",
    "\n",
    "LAMBDA_COST = 0.3214999879822265\n",
    "\n",
    "V_PT = (\n",
    "    ASC_PT\n",
    "    + BETA_TIME * TimePT_scaled\n",
    "    + BETA_COST_PT * models.boxcox(MarginalCostPT_scaled, LAMBDA_COST)\n",
    "    + BETA_WAITING * WaitingTimePT ** 0.5\n",
    ")\n",
    "\n",
    "V_CAR = (\n",
    "    ASC_CAR\n",
    "    + BETA_TIME * TimeCar_scaled\n",
    "    + BETA_COST_CAR * models.boxcox(CostCarCHF_scaled, LAMBDA_COST)\n",
    ")\n",
    "\n",
    "V_SM = BETA_DIST * distance_km_scaled\n",
    "\n",
    "\n",
    "V = {0: V_PT, 1: V_CAR, 2: V_SM}\n",
    "\n",
    "av = {0: 1, 1: CarAvail != 3, 2: 1}\n",
    "\n"
   ]
  },
  {
   "cell_type": "markdown",
   "id": "former-medline",
   "metadata": {},
   "source": [
    "For each sample, we estimate the parameters once with ESML, and once with WESML"
   ]
  },
  {
   "cell_type": "code",
   "execution_count": 11,
   "id": "voluntary-vessel",
   "metadata": {},
   "outputs": [],
   "source": [
    "def sampleAndEstimate(sampling):\n",
    "    name, sample = sampling()\n",
    "    database = db.Database(name, sample)\n",
    "    logprob = models.loglogit(V, av, Choice)\n",
    "    formulas = {'loglike': logprob, 'weight': Variable(f'Weight{name}')}\n",
    "    biogeme_noweight = bio.BIOGEME(database, logprob)\n",
    "    biogeme_noweight.modelName = name\n",
    "    biogeme_noweight.generateHtml = False\n",
    "    biogeme_noweight.generatePickle = False\n",
    "    results_noweight = biogeme_noweight.quickEstimate(algoParameters={'maxiter': 100})\n",
    "    pandasResults_noweight = results_noweight.getEstimatedParameters()\n",
    "\n",
    "    biogeme_weight = bio.BIOGEME(database, formulas)\n",
    "    biogeme_weight.modelName = name\n",
    "    biogeme_weight.generateHtml = False\n",
    "    biogeme_weight.generatePickle = False\n",
    "    results_weight = biogeme_weight.quickEstimate(algoParameters={'maxiter': 100})\n",
    "    pandasResults_weight = results_weight.getEstimatedParameters()\n",
    "    return pandasResults_noweight['Value'].T, pandasResults_weight['Value'].T"
   ]
  },
  {
   "cell_type": "markdown",
   "id": "collected-closer",
   "metadata": {},
   "source": [
    "# Code the experiment"
   ]
  },
  {
   "cell_type": "markdown",
   "id": "otherwise-spotlight",
   "metadata": {},
   "source": [
    "We first load the true values of the parameters"
   ]
  },
  {
   "cell_type": "code",
   "execution_count": 12,
   "id": "level-perry",
   "metadata": {},
   "outputs": [],
   "source": [
    "trueValuesOfTheParameters = {'ASC_CAR_FRENCH': -2.3964170553344726,\n",
    " 'ASC_CAR_GERMAN': -3.5077163185270175,\n",
    " 'ASC_PT_FRENCH_CARAVAIL': -2.361224966506705,\n",
    " 'ASC_PT_FRENCH_NOCARAVAIL': 4.620997760623915,\n",
    " 'ASC_PT_GERMAN_CARAVAIL': -2.3439305816983027,\n",
    " 'ASC_PT_GERMAN_NOCARAVAIL': 2.4527259821306058,\n",
    " 'BETA_COST_CAR': -1.6857507208148164,\n",
    " 'BETA_COST_PT': -0.6736462504002271,\n",
    " 'BETA_DIST_HIGHER': -1.6393574970002036,\n",
    " 'BETA_DIST_HIGH_SCHOOL': -1.6452607972992284,\n",
    " 'BETA_DIST_UNIV': -0.9390891835029462,\n",
    " 'BETA_DIST_VOCA': -2.065461231848294,\n",
    " 'BETA_TIME_FULL': -2.8832500848406823,\n",
    " 'BETA_TIME_OTHERS': -0.16765495123858037,\n",
    " 'BETA_TIME_PARTTIME': -2.0805822527972277,\n",
    " 'BETA_WAITING_NONWORK': -0.2650336860286495,\n",
    " 'BETA_WAITING_WORK': -0.1281619517257249}"
   ]
  },
  {
   "cell_type": "markdown",
   "id": "municipal-pizza",
   "metadata": {},
   "source": [
    "The following procedure implements the experiment. It repeats sampling and estimation, stores all estimation results. When it is done, the mean and the standard deviation is calculated for each parameter, as well as the *t*-statistic. "
   ]
  },
  {
   "cell_type": "code",
   "execution_count": 13,
   "id": "stunning-escape",
   "metadata": {},
   "outputs": [],
   "source": [
    "def runExperiment(sampling, repetitions):\n",
    "    results_noweight = pd.DataFrame(columns=trueValuesOfTheParameters)\n",
    "    results_weight = pd.DataFrame(columns=trueValuesOfTheParameters)\n",
    "    for i in range(repetitions):\n",
    "        if i % 20 == 0:\n",
    "            print(f'Repetition {i}/{repetitions}')\n",
    "        row_noweight, row_weight = sampleAndEstimate(sampling)\n",
    "        results_noweight = results_noweight.append(row_noweight)\n",
    "        results_weight = results_weight.append(row_weight)\n",
    "\n",
    "\n",
    "    comparisons = pd.DataFrame.from_dict(trueValuesOfTheParameters, orient='index', columns=['True'])\n",
    "    comparisons['Estimated_noweight'] = results_noweight.mean()\n",
    "    comparisons['StdDev_noweight'] = results_noweight.std()\n",
    "    comparisons['t-test_noweight'] = ((comparisons['Estimated_noweight'] - comparisons['True']) \n",
    "                                      / comparisons['StdDev_noweight'])\n",
    "    comparisons['Estimated_weight'] = results_weight.mean()\n",
    "    comparisons['StdDev_weight'] = results_weight.std()\n",
    "    comparisons['t-test_weight'] = ((comparisons['Estimated_weight'] - comparisons['True']) \n",
    "                                    / comparisons['StdDev_weight'])\n",
    "    return results_noweight, results_weight, comparisons"
   ]
  },
  {
   "cell_type": "markdown",
   "id": "personalized-disposal",
   "metadata": {},
   "source": [
    "# Run the experiment"
   ]
  },
  {
   "cell_type": "code",
   "execution_count": 14,
   "id": "ruled-jacket",
   "metadata": {},
   "outputs": [],
   "source": [
    "repetitions = 200"
   ]
  },
  {
   "cell_type": "markdown",
   "id": "traditional-programmer",
   "metadata": {},
   "source": [
    "## Endogenous sampling"
   ]
  },
  {
   "cell_type": "code",
   "execution_count": 15,
   "id": "magnetic-slovenia",
   "metadata": {},
   "outputs": [
    {
     "name": "stdout",
     "output_type": "stream",
     "text": [
      "Repetition 0/200\n",
      "Repetition 20/200\n",
      "Repetition 40/200\n",
      "Repetition 60/200\n",
      "Repetition 80/200\n",
      "Repetition 100/200\n",
      "Repetition 120/200\n",
      "Repetition 140/200\n",
      "Repetition 160/200\n",
      "Repetition 180/200\n",
      "CPU times: user 14min 13s, sys: 35.1 s, total: 14min 48s\n",
      "Wall time: 3min 19s\n"
     ]
    }
   ],
   "source": [
    "%%time\n",
    "resultsESS1_noweight, resultsESS1_weight, comparisonsESS1 = runExperiment(ess1, repetitions=repetitions)"
   ]
  },
  {
   "cell_type": "markdown",
   "id": "editorial-persian",
   "metadata": {},
   "source": [
    "### Correct the constants"
   ]
  },
  {
   "cell_type": "markdown",
   "id": "requested-minority",
   "metadata": {},
   "source": [
    "Calculate the shares in the population and the sample"
   ]
  },
  {
   "cell_type": "code",
   "execution_count": 16,
   "id": "suspended-novel",
   "metadata": {},
   "outputs": [],
   "source": [
    "ess1Mask = [(population['CarAvail'] == i) & (population['Choice'] == j) \n",
    "                for i in [1, 3] for j in [0, 1, 2]]\n",
    "W = [population[m].shape[0] / populationSize for m in ess1Mask]\n",
    "H = [0.2, 0.2, 0.2, 0.2, 0.0, 0.2]"
   ]
  },
  {
   "cell_type": "markdown",
   "id": "3ee6bb01",
   "metadata": {},
   "source": [
    "Group numbering: the next statement displays the numbering of the groups. For instance, group 0 corresponds to ``CarAvail = 1``and ``Choice = 0``, and group 4 corresponds to ``CarAvail = 3`` and ``Choice = 1``."
   ]
  },
  {
   "cell_type": "code",
   "execution_count": 17,
   "id": "b4b972cb",
   "metadata": {},
   "outputs": [
    {
     "data": {
      "text/plain": [
       "{0: (1, 0), 1: (1, 1), 2: (1, 2), 3: (3, 0), 4: (3, 1), 5: (3, 2)}"
      ]
     },
     "execution_count": 17,
     "metadata": {},
     "output_type": "execute_result"
    }
   ],
   "source": [
    "{k: v for k, v in enumerate([(i, j) for i in [1, 3] for j in [0, 1, 2]])}"
   ]
  },
  {
   "cell_type": "markdown",
   "id": "polyphonic-blank",
   "metadata": {},
   "source": [
    "The first index is the group associated with the constant. The second index is the corresponding group for \"Slow modes\", used as a reference."
   ]
  },
  {
   "cell_type": "code",
   "execution_count": 18,
   "id": "liquid-valuable",
   "metadata": {},
   "outputs": [],
   "source": [
    "groups = {'ASC_CAR_FRENCH': (1, 2), \n",
    "          'ASC_CAR_GERMAN': (1, 2), \n",
    "          'ASC_PT_FRENCH_CARAVAIL': (0, 2), \n",
    "          'ASC_PT_FRENCH_NOCARAVAIL': (3, 5), \n",
    "          'ASC_PT_GERMAN_CARAVAIL': (0, 2), \n",
    "          'ASC_PT_GERMAN_NOCARAVAIL': (3, 5)}"
   ]
  },
  {
   "cell_type": "markdown",
   "id": "demanding-agent",
   "metadata": {},
   "source": [
    "Copy the estimated values in a new column, and correct the constants."
   ]
  },
  {
   "cell_type": "code",
   "execution_count": 19,
   "id": "incident-tattoo",
   "metadata": {},
   "outputs": [],
   "source": [
    "comparisonsESS1['Corrected_noweight'] = comparisonsESS1['Estimated_noweight']\n",
    "for k, (i, j) in groups.items():\n",
    "    comparisonsESS1.loc[k, 'Corrected_noweight'] = (comparisonsESS1.loc[k, 'Estimated_noweight'] \n",
    "                                                    - np.log(H[i]) + np.log(W[i]) \n",
    "                                                    + np.log(H[j]) - np.log(W[j]))\n"
   ]
  },
  {
   "cell_type": "markdown",
   "id": "sporting-score",
   "metadata": {},
   "source": [
    "Recalculate the $t$-test with the corrected constants"
   ]
  },
  {
   "cell_type": "code",
   "execution_count": 20,
   "id": "junior-specification",
   "metadata": {},
   "outputs": [],
   "source": [
    "comparisonsESS1['t-test_noweight'] = (comparisonsESS1['Corrected_noweight'] - comparisonsESS1['True']) / comparisonsESS1['StdDev_noweight']"
   ]
  },
  {
   "cell_type": "code",
   "execution_count": 21,
   "id": "meaningful-princeton",
   "metadata": {},
   "outputs": [
    {
     "data": {
      "text/html": [
       "<div>\n",
       "<style scoped>\n",
       "    .dataframe tbody tr th:only-of-type {\n",
       "        vertical-align: middle;\n",
       "    }\n",
       "\n",
       "    .dataframe tbody tr th {\n",
       "        vertical-align: top;\n",
       "    }\n",
       "\n",
       "    .dataframe thead th {\n",
       "        text-align: right;\n",
       "    }\n",
       "</style>\n",
       "<table border=\"1\" class=\"dataframe\">\n",
       "  <thead>\n",
       "    <tr style=\"text-align: right;\">\n",
       "      <th></th>\n",
       "      <th>True</th>\n",
       "      <th>Estimated_noweight</th>\n",
       "      <th>StdDev_noweight</th>\n",
       "      <th>t-test_noweight</th>\n",
       "      <th>Estimated_weight</th>\n",
       "      <th>StdDev_weight</th>\n",
       "      <th>t-test_weight</th>\n",
       "      <th>Corrected_noweight</th>\n",
       "    </tr>\n",
       "  </thead>\n",
       "  <tbody>\n",
       "    <tr>\n",
       "      <th>ASC_CAR_FRENCH</th>\n",
       "      <td>-2.396417</td>\n",
       "      <td>-4.961063</td>\n",
       "      <td>0.480341</td>\n",
       "      <td>-0.538551</td>\n",
       "      <td>-2.615858</td>\n",
       "      <td>0.603873</td>\n",
       "      <td>-0.363389</td>\n",
       "      <td>-2.655105</td>\n",
       "    </tr>\n",
       "    <tr>\n",
       "      <th>ASC_CAR_GERMAN</th>\n",
       "      <td>-3.507716</td>\n",
       "      <td>-6.126763</td>\n",
       "      <td>0.430973</td>\n",
       "      <td>-0.726469</td>\n",
       "      <td>-3.754314</td>\n",
       "      <td>0.562784</td>\n",
       "      <td>-0.438176</td>\n",
       "      <td>-3.820805</td>\n",
       "    </tr>\n",
       "    <tr>\n",
       "      <th>ASC_PT_FRENCH_CARAVAIL</th>\n",
       "      <td>-2.361225</td>\n",
       "      <td>-3.863984</td>\n",
       "      <td>0.447510</td>\n",
       "      <td>-0.478431</td>\n",
       "      <td>-2.554087</td>\n",
       "      <td>0.545594</td>\n",
       "      <td>-0.353489</td>\n",
       "      <td>-2.575328</td>\n",
       "    </tr>\n",
       "    <tr>\n",
       "      <th>ASC_PT_FRENCH_NOCARAVAIL</th>\n",
       "      <td>4.620998</td>\n",
       "      <td>-0.656104</td>\n",
       "      <td>0.834493</td>\n",
       "      <td>-0.409499</td>\n",
       "      <td>3.907046</td>\n",
       "      <td>1.153505</td>\n",
       "      <td>-0.618942</td>\n",
       "      <td>4.279274</td>\n",
       "    </tr>\n",
       "    <tr>\n",
       "      <th>ASC_PT_GERMAN_CARAVAIL</th>\n",
       "      <td>-2.343931</td>\n",
       "      <td>-3.822051</td>\n",
       "      <td>0.276156</td>\n",
       "      <td>-0.686076</td>\n",
       "      <td>-2.477502</td>\n",
       "      <td>0.364243</td>\n",
       "      <td>-0.366708</td>\n",
       "      <td>-2.533395</td>\n",
       "    </tr>\n",
       "    <tr>\n",
       "      <th>ASC_PT_GERMAN_NOCARAVAIL</th>\n",
       "      <td>2.452726</td>\n",
       "      <td>-2.610609</td>\n",
       "      <td>0.220315</td>\n",
       "      <td>-0.580792</td>\n",
       "      <td>2.342492</td>\n",
       "      <td>0.396771</td>\n",
       "      <td>-0.277828</td>\n",
       "      <td>2.324769</td>\n",
       "    </tr>\n",
       "    <tr>\n",
       "      <th>BETA_COST_CAR</th>\n",
       "      <td>-1.685751</td>\n",
       "      <td>-1.774996</td>\n",
       "      <td>0.204863</td>\n",
       "      <td>-0.435633</td>\n",
       "      <td>-1.774852</td>\n",
       "      <td>0.261212</td>\n",
       "      <td>-0.341106</td>\n",
       "      <td>-1.774996</td>\n",
       "    </tr>\n",
       "    <tr>\n",
       "      <th>BETA_COST_PT</th>\n",
       "      <td>-0.673646</td>\n",
       "      <td>-0.686131</td>\n",
       "      <td>0.088471</td>\n",
       "      <td>-0.141121</td>\n",
       "      <td>-0.702658</td>\n",
       "      <td>0.118678</td>\n",
       "      <td>-0.244455</td>\n",
       "      <td>-0.686131</td>\n",
       "    </tr>\n",
       "    <tr>\n",
       "      <th>BETA_DIST_HIGHER</th>\n",
       "      <td>-1.639357</td>\n",
       "      <td>-1.761969</td>\n",
       "      <td>0.173985</td>\n",
       "      <td>-0.704722</td>\n",
       "      <td>-1.723016</td>\n",
       "      <td>0.215809</td>\n",
       "      <td>-0.387652</td>\n",
       "      <td>-1.761969</td>\n",
       "    </tr>\n",
       "    <tr>\n",
       "      <th>BETA_DIST_HIGH_SCHOOL</th>\n",
       "      <td>-1.645261</td>\n",
       "      <td>-1.758491</td>\n",
       "      <td>0.174174</td>\n",
       "      <td>-0.650099</td>\n",
       "      <td>-1.714282</td>\n",
       "      <td>0.242671</td>\n",
       "      <td>-0.284421</td>\n",
       "      <td>-1.758491</td>\n",
       "    </tr>\n",
       "    <tr>\n",
       "      <th>BETA_DIST_UNIV</th>\n",
       "      <td>-0.939089</td>\n",
       "      <td>-0.996080</td>\n",
       "      <td>0.102864</td>\n",
       "      <td>-0.554035</td>\n",
       "      <td>-0.980511</td>\n",
       "      <td>0.138963</td>\n",
       "      <td>-0.298078</td>\n",
       "      <td>-0.996080</td>\n",
       "    </tr>\n",
       "    <tr>\n",
       "      <th>BETA_DIST_VOCA</th>\n",
       "      <td>-2.065461</td>\n",
       "      <td>-2.210724</td>\n",
       "      <td>0.163390</td>\n",
       "      <td>-0.889056</td>\n",
       "      <td>-2.140023</td>\n",
       "      <td>0.215879</td>\n",
       "      <td>-0.345388</td>\n",
       "      <td>-2.210724</td>\n",
       "    </tr>\n",
       "    <tr>\n",
       "      <th>BETA_TIME_FULL</th>\n",
       "      <td>-2.883250</td>\n",
       "      <td>-2.963488</td>\n",
       "      <td>0.653177</td>\n",
       "      <td>-0.122843</td>\n",
       "      <td>-2.939919</td>\n",
       "      <td>0.863231</td>\n",
       "      <td>-0.065647</td>\n",
       "      <td>-2.963488</td>\n",
       "    </tr>\n",
       "    <tr>\n",
       "      <th>BETA_TIME_OTHERS</th>\n",
       "      <td>-0.167655</td>\n",
       "      <td>-0.098301</td>\n",
       "      <td>0.638670</td>\n",
       "      <td>0.108592</td>\n",
       "      <td>-0.158751</td>\n",
       "      <td>0.737623</td>\n",
       "      <td>0.012071</td>\n",
       "      <td>-0.098301</td>\n",
       "    </tr>\n",
       "    <tr>\n",
       "      <th>BETA_TIME_PARTTIME</th>\n",
       "      <td>-2.080582</td>\n",
       "      <td>-2.166167</td>\n",
       "      <td>0.746287</td>\n",
       "      <td>-0.114681</td>\n",
       "      <td>-2.167473</td>\n",
       "      <td>0.933426</td>\n",
       "      <td>-0.093088</td>\n",
       "      <td>-2.166167</td>\n",
       "    </tr>\n",
       "    <tr>\n",
       "      <th>BETA_WAITING_NONWORK</th>\n",
       "      <td>-0.265034</td>\n",
       "      <td>-0.280946</td>\n",
       "      <td>0.071620</td>\n",
       "      <td>-0.222182</td>\n",
       "      <td>-0.279825</td>\n",
       "      <td>0.097550</td>\n",
       "      <td>-0.151623</td>\n",
       "      <td>-0.280946</td>\n",
       "    </tr>\n",
       "    <tr>\n",
       "      <th>BETA_WAITING_WORK</th>\n",
       "      <td>-0.128162</td>\n",
       "      <td>-0.148384</td>\n",
       "      <td>0.082013</td>\n",
       "      <td>-0.246574</td>\n",
       "      <td>-0.142098</td>\n",
       "      <td>0.104736</td>\n",
       "      <td>-0.133057</td>\n",
       "      <td>-0.148384</td>\n",
       "    </tr>\n",
       "  </tbody>\n",
       "</table>\n",
       "</div>"
      ],
      "text/plain": [
       "                              True  Estimated_noweight  StdDev_noweight  \\\n",
       "ASC_CAR_FRENCH           -2.396417           -4.961063         0.480341   \n",
       "ASC_CAR_GERMAN           -3.507716           -6.126763         0.430973   \n",
       "ASC_PT_FRENCH_CARAVAIL   -2.361225           -3.863984         0.447510   \n",
       "ASC_PT_FRENCH_NOCARAVAIL  4.620998           -0.656104         0.834493   \n",
       "ASC_PT_GERMAN_CARAVAIL   -2.343931           -3.822051         0.276156   \n",
       "ASC_PT_GERMAN_NOCARAVAIL  2.452726           -2.610609         0.220315   \n",
       "BETA_COST_CAR            -1.685751           -1.774996         0.204863   \n",
       "BETA_COST_PT             -0.673646           -0.686131         0.088471   \n",
       "BETA_DIST_HIGHER         -1.639357           -1.761969         0.173985   \n",
       "BETA_DIST_HIGH_SCHOOL    -1.645261           -1.758491         0.174174   \n",
       "BETA_DIST_UNIV           -0.939089           -0.996080         0.102864   \n",
       "BETA_DIST_VOCA           -2.065461           -2.210724         0.163390   \n",
       "BETA_TIME_FULL           -2.883250           -2.963488         0.653177   \n",
       "BETA_TIME_OTHERS         -0.167655           -0.098301         0.638670   \n",
       "BETA_TIME_PARTTIME       -2.080582           -2.166167         0.746287   \n",
       "BETA_WAITING_NONWORK     -0.265034           -0.280946         0.071620   \n",
       "BETA_WAITING_WORK        -0.128162           -0.148384         0.082013   \n",
       "\n",
       "                          t-test_noweight  Estimated_weight  StdDev_weight  \\\n",
       "ASC_CAR_FRENCH                  -0.538551         -2.615858       0.603873   \n",
       "ASC_CAR_GERMAN                  -0.726469         -3.754314       0.562784   \n",
       "ASC_PT_FRENCH_CARAVAIL          -0.478431         -2.554087       0.545594   \n",
       "ASC_PT_FRENCH_NOCARAVAIL        -0.409499          3.907046       1.153505   \n",
       "ASC_PT_GERMAN_CARAVAIL          -0.686076         -2.477502       0.364243   \n",
       "ASC_PT_GERMAN_NOCARAVAIL        -0.580792          2.342492       0.396771   \n",
       "BETA_COST_CAR                   -0.435633         -1.774852       0.261212   \n",
       "BETA_COST_PT                    -0.141121         -0.702658       0.118678   \n",
       "BETA_DIST_HIGHER                -0.704722         -1.723016       0.215809   \n",
       "BETA_DIST_HIGH_SCHOOL           -0.650099         -1.714282       0.242671   \n",
       "BETA_DIST_UNIV                  -0.554035         -0.980511       0.138963   \n",
       "BETA_DIST_VOCA                  -0.889056         -2.140023       0.215879   \n",
       "BETA_TIME_FULL                  -0.122843         -2.939919       0.863231   \n",
       "BETA_TIME_OTHERS                 0.108592         -0.158751       0.737623   \n",
       "BETA_TIME_PARTTIME              -0.114681         -2.167473       0.933426   \n",
       "BETA_WAITING_NONWORK            -0.222182         -0.279825       0.097550   \n",
       "BETA_WAITING_WORK               -0.246574         -0.142098       0.104736   \n",
       "\n",
       "                          t-test_weight  Corrected_noweight  \n",
       "ASC_CAR_FRENCH                -0.363389           -2.655105  \n",
       "ASC_CAR_GERMAN                -0.438176           -3.820805  \n",
       "ASC_PT_FRENCH_CARAVAIL        -0.353489           -2.575328  \n",
       "ASC_PT_FRENCH_NOCARAVAIL      -0.618942            4.279274  \n",
       "ASC_PT_GERMAN_CARAVAIL        -0.366708           -2.533395  \n",
       "ASC_PT_GERMAN_NOCARAVAIL      -0.277828            2.324769  \n",
       "BETA_COST_CAR                 -0.341106           -1.774996  \n",
       "BETA_COST_PT                  -0.244455           -0.686131  \n",
       "BETA_DIST_HIGHER              -0.387652           -1.761969  \n",
       "BETA_DIST_HIGH_SCHOOL         -0.284421           -1.758491  \n",
       "BETA_DIST_UNIV                -0.298078           -0.996080  \n",
       "BETA_DIST_VOCA                -0.345388           -2.210724  \n",
       "BETA_TIME_FULL                -0.065647           -2.963488  \n",
       "BETA_TIME_OTHERS               0.012071           -0.098301  \n",
       "BETA_TIME_PARTTIME            -0.093088           -2.166167  \n",
       "BETA_WAITING_NONWORK          -0.151623           -0.280946  \n",
       "BETA_WAITING_WORK             -0.133057           -0.148384  "
      ]
     },
     "execution_count": 21,
     "metadata": {},
     "output_type": "execute_result"
    }
   ],
   "source": [
    "comparisonsESS1"
   ]
  },
  {
   "cell_type": "markdown",
   "id": "detected-failure",
   "metadata": {},
   "source": [
    "In the above table, we see that both estimators are in good agreement with the true values. In theory, the precision is higher when ESML is used, and the constants are corrected. It can be seen empirically by calculating the average standard errors in both cases. The value without weight should be lower than the value with weights."
   ]
  },
  {
   "cell_type": "code",
   "execution_count": 26,
   "id": "driven-carroll",
   "metadata": {},
   "outputs": [
    {
     "data": {
      "text/plain": [
       "0.3405472529193685"
      ]
     },
     "execution_count": 26,
     "metadata": {},
     "output_type": "execute_result"
    }
   ],
   "source": [
    "comparisonsESS1['StdDev_noweight'].abs().mean()"
   ]
  },
  {
   "cell_type": "code",
   "execution_count": 27,
   "id": "historic-mumbai",
   "metadata": {},
   "outputs": [
    {
     "data": {
      "text/plain": [
       "0.4445028223510333"
      ]
     },
     "execution_count": 27,
     "metadata": {},
     "output_type": "execute_result"
    }
   ],
   "source": [
    "comparisonsESS1['StdDev_weight'].abs().mean()"
   ]
  },
  {
   "cell_type": "code",
   "execution_count": null,
   "id": "e366dd9c",
   "metadata": {},
   "outputs": [],
   "source": []
  }
 ],
 "metadata": {
  "kernelspec": {
   "display_name": "Python 3",
   "language": "python",
   "name": "python3"
  },
  "language_info": {
   "codemirror_mode": {
    "name": "ipython",
    "version": 3
   },
   "file_extension": ".py",
   "mimetype": "text/x-python",
   "name": "python",
   "nbconvert_exporter": "python",
   "pygments_lexer": "ipython3",
   "version": "3.9.5"
  }
 },
 "nbformat": 4,
 "nbformat_minor": 5
}
