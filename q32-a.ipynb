{
 "cells": [
  {
   "cell_type": "code",
   "execution_count": 1,
   "id": "adolescent-exhibition",
   "metadata": {},
   "outputs": [],
   "source": [
    "import matplotlib.pyplot as plt\n",
    "import numpy as np\n",
    "import scipy.integrate as integrate\n",
    "from scipy.stats import norm as normal"
   ]
  },
  {
   "cell_type": "markdown",
   "id": "uniform-province",
   "metadata": {},
   "source": [
    "# Binary choice model"
   ]
  },
  {
   "cell_type": "markdown",
   "id": "british-silly",
   "metadata": {},
   "source": [
    "We consider a simple binary choice model, with the following utility functions:\n",
    "- Alternative 1: $V_1 = 0$  \n",
    "- Alternative 2: $V_2 = -\\beta x$.\n",
    "The exact value of $\\beta$ is not known. It is known to be distributed across the population, following a normal distribution: \n",
    " $$\\beta \\sim N(-1, 3^2).$$"
   ]
  },
  {
   "cell_type": "code",
   "execution_count": 2,
   "id": "aging-compiler",
   "metadata": {},
   "outputs": [],
   "source": [
    "mean = -1\n",
    "scale = 3"
   ]
  },
  {
   "cell_type": "markdown",
   "id": "heavy-puzzle",
   "metadata": {},
   "source": [
    "The following function calculates the choice probability of alternative 1 if $\\beta$ is known. It is a binary logit model:\n",
    "$$\n",
    "P(1; \\beta) = \\frac{1}{1 + e^{-\\beta x}}\n",
    "$$"
   ]
  },
  {
   "cell_type": "code",
   "execution_count": 3,
   "id": "seven-buffalo",
   "metadata": {},
   "outputs": [],
   "source": [
    "def condprob(beta, x):\n",
    "    return 1 / (1 + np.exp(-beta * x))"
   ]
  },
  {
   "cell_type": "markdown",
   "id": "physical-problem",
   "metadata": {},
   "source": [
    "The following functions calculate the choice probability :\n",
    "$$\n",
    "P(1|x) = \\int_{\\beta=-\\infty}^{+\\infty}\\frac{1}{1 + e^{-\\beta x}} f(\\beta) d\\beta,\n",
    "$$\n",
    "where $f$ is the pdf of the normal distribution."
   ]
  },
  {
   "cell_type": "markdown",
   "id": "willing-pitch",
   "metadata": {},
   "source": [
    "We first calculate the integral using quadrature methods. To do that, we define the integrand:"
   ]
  },
  {
   "cell_type": "code",
   "execution_count": 4,
   "id": "suited-travel",
   "metadata": {},
   "outputs": [],
   "source": [
    "def integrand(beta, x):\n",
    "    return condprob(beta, x) * normal.pdf(beta, loc=mean, scale=scale)"
   ]
  },
  {
   "cell_type": "markdown",
   "id": "structured-constant",
   "metadata": {},
   "source": [
    "Then we integrate to obtain the choice probability."
   ]
  },
  {
   "cell_type": "code",
   "execution_count": 5,
   "id": "african-malpractice",
   "metadata": {},
   "outputs": [],
   "source": [
    "def prob(x):\n",
    "    return integrate.quad(integrand, -np.inf, +np.inf, args=x)[0]"
   ]
  },
  {
   "cell_type": "markdown",
   "id": "written-storm",
   "metadata": {},
   "source": [
    "The value for $x=1$ is calculated as follows. Note that some overflow warning may be produced."
   ]
  },
  {
   "cell_type": "code",
   "execution_count": 6,
   "id": "aggressive-ambassador",
   "metadata": {},
   "outputs": [
    {
     "name": "stderr",
     "output_type": "stream",
     "text": [
      "<ipython-input-3-a889b5a0a8dc>:2: RuntimeWarning: overflow encountered in exp\n",
      "  return 1 / (1 + np.exp(-beta * x))\n"
     ]
    },
    {
     "data": {
      "text/plain": [
       "0.3867526054707759"
      ]
     },
     "execution_count": 6,
     "metadata": {},
     "output_type": "execute_result"
    }
   ],
   "source": [
    "quad_prob = prob(1)\n",
    "quad_prob"
   ]
  },
  {
   "cell_type": "markdown",
   "id": "pressed-quarter",
   "metadata": {},
   "source": [
    "We now compute the same quantity with Monte-Carlo integration."
   ]
  },
  {
   "cell_type": "markdown",
   "id": "increasing-reduction",
   "metadata": {},
   "source": [
    "We set the number of draws."
   ]
  },
  {
   "cell_type": "code",
   "execution_count": 7,
   "id": "animated-auckland",
   "metadata": {},
   "outputs": [],
   "source": [
    "R = 50000"
   ]
  },
  {
   "cell_type": "markdown",
   "id": "weird-tracker",
   "metadata": {},
   "source": [
    "We generate draws from the normal distribution"
   ]
  },
  {
   "cell_type": "code",
   "execution_count": 8,
   "id": "patent-witch",
   "metadata": {},
   "outputs": [],
   "source": [
    "beta = np.random.normal(loc=mean, scale=scale, size=R)"
   ]
  },
  {
   "cell_type": "markdown",
   "id": "qualified-borough",
   "metadata": {},
   "source": [
    "We calculate the conditional probability for each draw"
   ]
  },
  {
   "cell_type": "code",
   "execution_count": 9,
   "id": "superior-berkeley",
   "metadata": {},
   "outputs": [],
   "source": [
    "mc_integrand = condprob(beta, 1) "
   ]
  },
  {
   "cell_type": "markdown",
   "id": "scientific-thompson",
   "metadata": {},
   "source": [
    "The Monte-Carlo estimation of the integral is the mean of the integrads."
   ]
  },
  {
   "cell_type": "code",
   "execution_count": 10,
   "id": "accessory-vitamin",
   "metadata": {},
   "outputs": [
    {
     "data": {
      "text/plain": [
       "0.3887380679268334"
      ]
     },
     "execution_count": 10,
     "metadata": {},
     "output_type": "execute_result"
    }
   ],
   "source": [
    "mc_integrand.mean()"
   ]
  },
  {
   "cell_type": "markdown",
   "id": "unlikely-chemical",
   "metadata": {},
   "source": [
    "In order to illustrate the process, we calculate the running mean, for all values of R. We first store all values of R."
   ]
  },
  {
   "cell_type": "code",
   "execution_count": 11,
   "id": "included-creator",
   "metadata": {},
   "outputs": [
    {
     "data": {
      "text/plain": [
       "array([    1,     2,     3, ..., 49998, 49999, 50000])"
      ]
     },
     "execution_count": 11,
     "metadata": {},
     "output_type": "execute_result"
    }
   ],
   "source": [
    "mc_R = np.array(range(1,R+1))\n",
    "mc_R"
   ]
  },
  {
   "cell_type": "markdown",
   "id": "ethical-captain",
   "metadata": {},
   "source": [
    "Then, we calculate and plot the running average. The plot also includes an horizontal line corresponding to the value obtained by quadrature."
   ]
  },
  {
   "cell_type": "code",
   "execution_count": 12,
   "id": "coupled-petite",
   "metadata": {},
   "outputs": [
    {
     "data": {
      "text/plain": [
       "array([0.52809108, 0.35086934, 0.56109491, ..., 0.38873566, 0.38874579,\n",
       "       0.38873807])"
      ]
     },
     "execution_count": 12,
     "metadata": {},
     "output_type": "execute_result"
    }
   ],
   "source": [
    "mc_integrand.cumsum()\n",
    "res = mc_integrand.cumsum() / mc_R\n",
    "res"
   ]
  },
  {
   "cell_type": "code",
   "execution_count": 13,
   "id": "other-austin",
   "metadata": {},
   "outputs": [
    {
     "data": {
      "image/png": "[encoded data removed]",
      "text/plain": [
       "<Figure size 432x288 with 1 Axes>"
      ]
     },
     "metadata": {
      "needs_background": "light"
     },
     "output_type": "display_data"
    }
   ],
   "source": [
    "plt.plot(mc_R, res, color='g')\n",
    "plt.axhline(y = quad_prob, color = 'r', linestyle = '-')\n",
    "delta = 0.1\n",
    "plt.ylim(quad_prob - delta, quad_prob + delta)\n",
    "plt.show()"
   ]
  },
  {
   "cell_type": "markdown",
   "id": "automated-stamp",
   "metadata": {},
   "source": [
    "In order to calculate the confidence interval, we approximate the variance using the formula\n",
    "$$\n",
    "\\text{Var}[g(\\beta)] \\approx \\frac{1}{R} \\sum_r g(\\beta_r)^2 - \\widehat{I}_R^2,\n",
    "$$\n",
    "where $g(x)$ is the conditional probability, and $\\widehat{I}_R$ is the Monte-Carlo estimation of the integral."
   ]
  },
  {
   "cell_type": "code",
   "execution_count": 14,
   "id": "phantom-albany",
   "metadata": {},
   "outputs": [],
   "source": [
    "mc_integrand_square = mc_integrand**2\n",
    "var = mc_integrand_square.cumsum()/ mc_R - res**2"
   ]
  },
  {
   "cell_type": "markdown",
   "id": "contemporary-college",
   "metadata": {},
   "source": [
    "The 95\\% confidence interval is $$[\\widehat{I}- 1.96 e_R, \\widehat{I}+ 1.96 e_R],$$ where $$e_R= \\sqrt{\\frac{\\text{Var}[g(\\beta)]}{R}}.$$"
   ]
  },
  {
   "cell_type": "code",
   "execution_count": 15,
   "id": "stainless-default",
   "metadata": {},
   "outputs": [
    {
     "data": {
      "text/plain": [
       "array([0.        , 0.12531469, 0.19089957, ..., 0.00159971, 0.00159971,\n",
       "       0.0015997 ])"
      ]
     },
     "execution_count": 15,
     "metadata": {},
     "output_type": "execute_result"
    }
   ],
   "source": [
    "err = np.sqrt(var / mc_R)\n",
    "err"
   ]
  },
  {
   "cell_type": "markdown",
   "id": "novel-resident",
   "metadata": {},
   "source": [
    "We plot again the running average, together with the confidence interval. The parameter delta controls the range on the y-axis."
   ]
  },
  {
   "cell_type": "code",
   "execution_count": 16,
   "id": "french-residence",
   "metadata": {},
   "outputs": [],
   "source": [
    "delta = 0.05"
   ]
  },
  {
   "cell_type": "code",
   "execution_count": 17,
   "id": "applied-contractor",
   "metadata": {},
   "outputs": [
    {
     "data": {
      "image/png": "[encoded data removed]",
      "text/plain": [
       "<Figure size 432x288 with 1 Axes>"
      ]
     },
     "metadata": {
      "needs_background": "light"
     },
     "output_type": "display_data"
    }
   ],
   "source": [
    "plt.plot(\n",
    "    mc_R, \n",
    "    res, \n",
    "    color='g',\n",
    "    label='Monte-Carlo approximation')\n",
    "plt.plot(\n",
    "    mc_R, \n",
    "    res - 1.96 * err, \n",
    "    color='y', \n",
    "    linestyle='dotted',\n",
    "    label='Confidence interval (lower bound)'\n",
    ")\n",
    "plt.plot(\n",
    "    mc_R, res + 1.96 * err, \n",
    "    color='y', \n",
    "    linestyle='dotted',\n",
    "    label='Confidence interval (upper bound)'\n",
    ")\n",
    "plt.axhline(\n",
    "    y = quad_prob, \n",
    "    color = 'r', \n",
    "    linestyle = '-',\n",
    "    label='Value from quadrature')\n",
    "plt.ylim(quad_prob - delta, quad_prob + delta)\n",
    "plt.xlabel('Number of draws')\n",
    "plt.legend()\n",
    "plt.show()"
   ]
  }
 ],
 "metadata": {
  "kernelspec": {
   "display_name": "Python 3",
   "language": "python",
   "name": "python3"
  },
  "language_info": {
   "codemirror_mode": {
    "name": "ipython",
    "version": 3
   },
   "file_extension": ".py",
   "mimetype": "text/x-python",
   "name": "python",
   "nbconvert_exporter": "python",
   "pygments_lexer": "ipython3",
   "version": "3.8.8"
  }
 },
 "nbformat": 4,
 "nbformat_minor": 5
}
