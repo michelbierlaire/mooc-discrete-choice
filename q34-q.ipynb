{
 "cells": [
  {
   "cell_type": "markdown",
   "id": "d321d2cc",
   "metadata": {},
   "source": [
    "Consider the logit model presented below. \n",
    "\n",
    "1. Include error components to obtain a model with alternative specific variances. \n",
    "2. Estimate the model without any normalization.\n",
    "3. Identify the scale parameter that must be normalized to zero. \n",
    "4. Compare the entries of the variance-covariance matrix for both models.\n",
    "5. Perform the same analysis when the wrong scale parameter is normalized to zero."
   ]
  },
  {
   "cell_type": "code",
   "execution_count": 1,
   "id": "3f8147c4",
   "metadata": {},
   "outputs": [],
   "source": [
    "import pandas as pd\n",
    "import pickle\n",
    "import biogeme.database as db\n",
    "import biogeme.biogeme as bio\n",
    "import biogeme.results as res\n",
    "import biogeme.models as models\n",
    "from biogeme.expressions import Beta, log, bioDraws, MonteCarlo"
   ]
  },
  {
   "cell_type": "markdown",
   "id": "131ca282",
   "metadata": {},
   "source": [
    "# The data"
   ]
  },
  {
   "cell_type": "code",
   "execution_count": 2,
   "id": "ce3154ec",
   "metadata": {},
   "outputs": [
    {
     "data": {
      "text/plain": [
       "Index(['SubjectId', 'OriginGMT', 'DestinationGMT', 'Direction',\n",
       "       'q02_TripPurpose', 'q03_WhoPays', 'q11_DepartureOrArrivalIsImportant',\n",
       "       'q12_IdealDepTime', 'q13_IdealArrTime', 'q14_PartySize', 'q15_Age',\n",
       "       'q16_Income', 'Cont_Income', 'q17_Gender', 'q19_Occupation',\n",
       "       'q20_Education', 'AirlineFirstFlight_1', 'AirlineFirstFlight_2',\n",
       "       'AirlineFirstFlight_3', 'AirlineSecondFlight_1',\n",
       "       'AirlineSecondFlight_2', 'AirlineSecondFlight_3',\n",
       "       'AirplaneFirstFlight_1', 'AirplaneFirstFlight_2',\n",
       "       'AirplaneFirstFlight_3', 'AirplaneSecondFlight_1',\n",
       "       'AirplaneSecondFlight_2', 'AirplaneSecondFlight_3',\n",
       "       'DepartureTimeHours_1', 'DepartureTimeHours_2', 'DepartureTimeHours_3',\n",
       "       'DepartureTimeMins_1', 'DepartureTimeMins_2', 'DepartureTimeMins_3',\n",
       "       'ArrivalTimeHours_1', 'ArrivalTimeHours_2', 'ArrivalTimeHours_3',\n",
       "       'ArrivalTimeMins_1', 'ArrivalTimeMins_2', 'ArrivalTimeMins_3',\n",
       "       'FlyingTimeHours_1', 'FlyingTimeHours_2', 'FlyingTimeHours_3',\n",
       "       'TripTimeHours_1', 'TripTimeHours_2', 'TripTimeHours_3', 'Legroom_1',\n",
       "       'Legroom_2', 'Legroom_3', 'Fare_1', 'Fare_2', 'Fare_3',\n",
       "       'BestAlternative_1', 'BestAlternative_2', 'BestAlternative_3',\n",
       "       'TripPurpose'],\n",
       "      dtype='object')"
      ]
     },
     "execution_count": 2,
     "metadata": {},
     "output_type": "execute_result"
    }
   ],
   "source": [
    "data = pd.read_table('airline.dat')\n",
    "data.columns"
   ]
  },
  {
   "cell_type": "code",
   "execution_count": 3,
   "id": "45c2bc86",
   "metadata": {},
   "outputs": [],
   "source": [
    "database = db.Database('airline',data)\n",
    "globals().update(database.variables)\n",
    "exclude = (ArrivalTimeHours_1 == -1)\n",
    "database.remove(exclude)"
   ]
  },
  {
   "cell_type": "markdown",
   "id": "9f5f0143",
   "metadata": {},
   "source": [
    "# The model "
   ]
  },
  {
   "cell_type": "markdown",
   "id": "c1a2e2f8",
   "metadata": {},
   "source": [
    "Variables"
   ]
  },
  {
   "cell_type": "code",
   "execution_count": 4,
   "id": "6c663ac5",
   "metadata": {},
   "outputs": [],
   "source": [
    "chosenAlternative = (\n",
    "    BestAlternative_1 * 1 +\n",
    "    BestAlternative_2 * 2 +\n",
    "    BestAlternative_3 * 3\n",
    ")\n",
    "DepartureTimeSensitive = (\n",
    "    q11_DepartureOrArrivalIsImportant == 1\n",
    ")\n",
    "ArrivalTimeSensitive = (\n",
    "    q11_DepartureOrArrivalIsImportant == 2\n",
    ")\n",
    "Missing = (\n",
    "    (q11_DepartureOrArrivalIsImportant != 1) *\n",
    "    (q11_DepartureOrArrivalIsImportant != 2)\n",
    ")\n",
    "DesiredDepartureTime = q12_IdealDepTime\n",
    "DesiredArrivalTime = q13_IdealArrTime\n",
    "ScheduledDelay_1 = (\n",
    "    DepartureTimeSensitive *\n",
    "    (DepartureTimeMins_1 - DesiredDepartureTime) +\n",
    "    ArrivalTimeSensitive *\n",
    "    (ArrivalTimeMins_1 - DesiredArrivalTime)\n",
    ")\n",
    "ScheduledDelay_2  = (\n",
    "    DepartureTimeSensitive *\n",
    "    (DepartureTimeMins_2 - DesiredDepartureTime) +\n",
    "    ArrivalTimeSensitive *\n",
    "    (ArrivalTimeMins_2 - DesiredArrivalTime)\n",
    ")\n",
    "ScheduledDelay_3  = (\n",
    "    DepartureTimeSensitive *\n",
    "    (DepartureTimeMins_3 - DesiredDepartureTime) +\n",
    "    ArrivalTimeSensitive *\n",
    "    (ArrivalTimeMins_3 - DesiredArrivalTime)\n",
    ")\n",
    "Opt1_SchedDelayEarly  = (\n",
    "    -ScheduledDelay_1 * (ScheduledDelay_1 < 0) / 60\n",
    ")\n",
    "Opt2_SchedDelayEarly  = (\n",
    "    -ScheduledDelay_2 * (ScheduledDelay_2 < 0) / 60\n",
    ")\n",
    "Opt3_SchedDelayEarly  = (\n",
    "    -ScheduledDelay_3 * (ScheduledDelay_3 < 0) / 60\n",
    ")\n",
    "Opt1_SchedDelayLate  = (\n",
    "    ScheduledDelay_1 * (ScheduledDelay_1 > 0) / 60\n",
    ")\n",
    "Opt2_SchedDelayLate  = (\n",
    "    ScheduledDelay_2 * (ScheduledDelay_2 > 0) / 60\n",
    ")\n",
    "Opt3_SchedDelayLate  = (\n",
    "    ScheduledDelay_3 * (ScheduledDelay_3 > 0) / 60\n",
    ")"
   ]
  },
  {
   "cell_type": "markdown",
   "id": "6e111ea1",
   "metadata": {},
   "source": [
    "Parameters"
   ]
  },
  {
   "cell_type": "code",
   "execution_count": 5,
   "id": "6254766c",
   "metadata": {},
   "outputs": [],
   "source": [
    "Constant2 = Beta('Constant2', 0, None, None, 0)\n",
    "Constant3 = Beta('Constant3', 0, None, None, 0)\n",
    "Fare = Beta('Fare', 0, None, None, 0)\n",
    "Legroom = Beta('Legroom', 0, None, None, 0)\n",
    "SchedDE = Beta('SchedDE', 0, None, None, 0)\n",
    "SchedDL = Beta('SchedDL', 0, None, None, 0)\n",
    "Total_TT1 = Beta('Total_TT1', 0, None, None, 0)\n",
    "Total_TT2 = Beta('Total_TT2', 0, None, None, 0)\n",
    "Total_TT3 = Beta('Total_TT3', 0, None, None, 0)"
   ]
  },
  {
   "cell_type": "markdown",
   "id": "e8e5217a",
   "metadata": {},
   "source": [
    "Utility functions."
   ]
  },
  {
   "cell_type": "code",
   "execution_count": 6,
   "id": "1d8fe02e",
   "metadata": {},
   "outputs": [],
   "source": [
    "Opt1 = (\n",
    "    Fare * Fare_1 +\n",
    "    Legroom * Legroom_1 +\n",
    "    SchedDE * Opt1_SchedDelayEarly +\n",
    "    SchedDL * Opt1_SchedDelayLate +\n",
    "    Total_TT1 * TripTimeHours_1\n",
    ")\n",
    "Opt2 = (\n",
    "    Constant2 +\n",
    "    Fare * Fare_2 +\n",
    "    Legroom * Legroom_2 +\n",
    "    SchedDE * Opt2_SchedDelayEarly +\n",
    "    SchedDL * Opt2_SchedDelayLate +\n",
    "    Total_TT2 * TripTimeHours_2\n",
    ")\n",
    "Opt3 = (\n",
    "    Constant3 +\n",
    "    Fare * Fare_3 +\n",
    "    Legroom * Legroom_3 +\n",
    "    SchedDE * Opt3_SchedDelayEarly +\n",
    "    SchedDL * Opt3_SchedDelayLate +\n",
    "    Total_TT3 * TripTimeHours_3\n",
    ")\n",
    "V = {1: Opt1, 2: Opt2, 3: Opt3}"
   ]
  },
  {
   "cell_type": "markdown",
   "id": "33e39b13",
   "metadata": {},
   "source": [
    "# Estimation of the logit model"
   ]
  },
  {
   "cell_type": "code",
   "execution_count": 7,
   "id": "49503f16",
   "metadata": {},
   "outputs": [],
   "source": [
    "logprob = models.loglogit(V, None, chosenAlternative)\n",
    "biogeme  = bio.BIOGEME(database, logprob)"
   ]
  },
  {
   "cell_type": "code",
   "execution_count": 8,
   "id": "c8e5f704",
   "metadata": {},
   "outputs": [],
   "source": [
    "results = biogeme.estimate()"
   ]
  },
  {
   "cell_type": "code",
   "execution_count": 9,
   "id": "7f1ea2cd",
   "metadata": {},
   "outputs": [
    {
     "name": "stdout",
     "output_type": "stream",
     "text": [
      "Number of estimated parameters:\t9\n",
      "Sample size:\t3609\n",
      "Excluded observations:\t0\n",
      "Init log likelihood:\t-2475.905\n",
      "Final log likelihood:\t-2320.447\n",
      "Likelihood ratio test for the init. model:\t310.9157\n",
      "Rho-square for the init. model:\t0.0628\n",
      "Rho-square-bar for the init. model:\t0.0592\n",
      "Akaike Information Criterion:\t4658.894\n",
      "Bayesian Information Criterion:\t4714.615\n",
      "Final gradient norm:\t1.1591E-02\n",
      "Nbr of threads:\t16\n",
      "\n"
     ]
    }
   ],
   "source": [
    "print(results.printGeneralStatistics())"
   ]
  },
  {
   "cell_type": "code",
   "execution_count": 10,
   "id": "b2da27d6",
   "metadata": {},
   "outputs": [
    {
     "data": {
      "text/html": [
       "<div>\n",
       "<style scoped>\n",
       "    .dataframe tbody tr th:only-of-type {\n",
       "        vertical-align: middle;\n",
       "    }\n",
       "\n",
       "    .dataframe tbody tr th {\n",
       "        vertical-align: top;\n",
       "    }\n",
       "\n",
       "    .dataframe thead th {\n",
       "        text-align: right;\n",
       "    }\n",
       "</style>\n",
       "<table border=\"1\" class=\"dataframe\">\n",
       "  <thead>\n",
       "    <tr style=\"text-align: right;\">\n",
       "      <th></th>\n",
       "      <th>Value</th>\n",
       "      <th>Std err</th>\n",
       "      <th>t-test</th>\n",
       "      <th>p-value</th>\n",
       "      <th>Rob. Std err</th>\n",
       "      <th>Rob. t-test</th>\n",
       "      <th>Rob. p-value</th>\n",
       "    </tr>\n",
       "  </thead>\n",
       "  <tbody>\n",
       "    <tr>\n",
       "      <th>Constant2</th>\n",
       "      <td>-1.429221</td>\n",
       "      <td>0.190335</td>\n",
       "      <td>-7.508960</td>\n",
       "      <td>5.950795e-14</td>\n",
       "      <td>0.182916</td>\n",
       "      <td>-7.813539</td>\n",
       "      <td>5.551115e-15</td>\n",
       "    </tr>\n",
       "    <tr>\n",
       "      <th>Constant3</th>\n",
       "      <td>-1.640739</td>\n",
       "      <td>0.198969</td>\n",
       "      <td>-8.246209</td>\n",
       "      <td>2.220446e-16</td>\n",
       "      <td>0.192298</td>\n",
       "      <td>-8.532286</td>\n",
       "      <td>0.000000e+00</td>\n",
       "    </tr>\n",
       "    <tr>\n",
       "      <th>Fare</th>\n",
       "      <td>-0.019294</td>\n",
       "      <td>0.000700</td>\n",
       "      <td>-27.580161</td>\n",
       "      <td>0.000000e+00</td>\n",
       "      <td>0.000802</td>\n",
       "      <td>-24.047321</td>\n",
       "      <td>0.000000e+00</td>\n",
       "    </tr>\n",
       "    <tr>\n",
       "      <th>Legroom</th>\n",
       "      <td>0.225589</td>\n",
       "      <td>0.024970</td>\n",
       "      <td>9.034392</td>\n",
       "      <td>0.000000e+00</td>\n",
       "      <td>0.026685</td>\n",
       "      <td>8.453921</td>\n",
       "      <td>0.000000e+00</td>\n",
       "    </tr>\n",
       "    <tr>\n",
       "      <th>SchedDE</th>\n",
       "      <td>-0.139382</td>\n",
       "      <td>0.015585</td>\n",
       "      <td>-8.943294</td>\n",
       "      <td>0.000000e+00</td>\n",
       "      <td>0.016341</td>\n",
       "      <td>-8.529672</td>\n",
       "      <td>0.000000e+00</td>\n",
       "    </tr>\n",
       "    <tr>\n",
       "      <th>SchedDL</th>\n",
       "      <td>-0.104223</td>\n",
       "      <td>0.012783</td>\n",
       "      <td>-8.153230</td>\n",
       "      <td>4.440892e-16</td>\n",
       "      <td>0.013738</td>\n",
       "      <td>-7.586558</td>\n",
       "      <td>3.286260e-14</td>\n",
       "    </tr>\n",
       "    <tr>\n",
       "      <th>Total_TT1</th>\n",
       "      <td>-0.331974</td>\n",
       "      <td>0.072128</td>\n",
       "      <td>-4.602604</td>\n",
       "      <td>4.172414e-06</td>\n",
       "      <td>0.073501</td>\n",
       "      <td>-4.516592</td>\n",
       "      <td>6.284295e-06</td>\n",
       "    </tr>\n",
       "    <tr>\n",
       "      <th>Total_TT2</th>\n",
       "      <td>-0.298833</td>\n",
       "      <td>0.069722</td>\n",
       "      <td>-4.286072</td>\n",
       "      <td>1.818597e-05</td>\n",
       "      <td>0.069634</td>\n",
       "      <td>-4.291493</td>\n",
       "      <td>1.774757e-05</td>\n",
       "    </tr>\n",
       "    <tr>\n",
       "      <th>Total_TT3</th>\n",
       "      <td>-0.301675</td>\n",
       "      <td>0.070035</td>\n",
       "      <td>-4.307481</td>\n",
       "      <td>1.651244e-05</td>\n",
       "      <td>0.069931</td>\n",
       "      <td>-4.313891</td>\n",
       "      <td>1.604057e-05</td>\n",
       "    </tr>\n",
       "  </tbody>\n",
       "</table>\n",
       "</div>"
      ],
      "text/plain": [
       "              Value   Std err     t-test       p-value  Rob. Std err  \\\n",
       "Constant2 -1.429221  0.190335  -7.508960  5.950795e-14      0.182916   \n",
       "Constant3 -1.640739  0.198969  -8.246209  2.220446e-16      0.192298   \n",
       "Fare      -0.019294  0.000700 -27.580161  0.000000e+00      0.000802   \n",
       "Legroom    0.225589  0.024970   9.034392  0.000000e+00      0.026685   \n",
       "SchedDE   -0.139382  0.015585  -8.943294  0.000000e+00      0.016341   \n",
       "SchedDL   -0.104223  0.012783  -8.153230  4.440892e-16      0.013738   \n",
       "Total_TT1 -0.331974  0.072128  -4.602604  4.172414e-06      0.073501   \n",
       "Total_TT2 -0.298833  0.069722  -4.286072  1.818597e-05      0.069634   \n",
       "Total_TT3 -0.301675  0.070035  -4.307481  1.651244e-05      0.069931   \n",
       "\n",
       "           Rob. t-test  Rob. p-value  \n",
       "Constant2    -7.813539  5.551115e-15  \n",
       "Constant3    -8.532286  0.000000e+00  \n",
       "Fare        -24.047321  0.000000e+00  \n",
       "Legroom       8.453921  0.000000e+00  \n",
       "SchedDE      -8.529672  0.000000e+00  \n",
       "SchedDL      -7.586558  3.286260e-14  \n",
       "Total_TT1    -4.516592  6.284295e-06  \n",
       "Total_TT2    -4.291493  1.774757e-05  \n",
       "Total_TT3    -4.313891  1.604057e-05  "
      ]
     },
     "execution_count": 10,
     "metadata": {},
     "output_type": "execute_result"
    }
   ],
   "source": [
    "betas = results.getEstimatedParameters()\n",
    "betas"
   ]
  }
 ],
 "metadata": {
  "kernelspec": {
   "display_name": "Python 3",
   "language": "python",
   "name": "python3"
  },
  "language_info": {
   "codemirror_mode": {
    "name": "ipython",
    "version": 3
   },
   "file_extension": ".py",
   "mimetype": "text/x-python",
   "name": "python",
   "nbconvert_exporter": "python",
   "pygments_lexer": "ipython3",
   "version": "3.8.8"
  }
 },
 "nbformat": 4,
 "nbformat_minor": 5
}
