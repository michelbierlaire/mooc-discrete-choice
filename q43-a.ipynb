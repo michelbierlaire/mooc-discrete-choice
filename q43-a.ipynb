{
 "cells": [
  {
   "cell_type": "code",
   "execution_count": 1,
   "id": "c97e5f3e",
   "metadata": {},
   "outputs": [],
   "source": [
    "import pandas as pd\n",
    "import pickle\n",
    "from urllib.request import urlopen\n",
    "import biogeme.database as db\n",
    "import biogeme.biogeme as bio\n",
    "import biogeme.distributions as dist\n",
    "import biogeme.results as res\n",
    "import biogeme.version as ver\n",
    "from biogeme import models\n",
    "from biogeme.expressions import (\n",
    "    Beta,\n",
    "    DefineVariable,\n",
    "    log,\n",
    "    exp,\n",
    "    Elem,\n",
    "    bioNormalCdf,\n",
    "    Variable,\n",
    "    RandomVariable,\n",
    "    bioMultSum,\n",
    "    Integrate\n",
    ")"
   ]
  },
  {
   "cell_type": "markdown",
   "id": "9d2e40d6",
   "metadata": {},
   "source": [
    "Version of Biogeme"
   ]
  },
  {
   "cell_type": "code",
   "execution_count": 2,
   "id": "d7e98b0b",
   "metadata": {},
   "outputs": [
    {
     "name": "stdout",
     "output_type": "stream",
     "text": [
      "biogeme 3.2.8 [2021-09-02]\n",
      "Version entirely written in Python\n",
      "Home page: http://biogeme.epfl.ch\n",
      "Submit questions to https://groups.google.com/d/forum/biogeme\n",
      "Michel Bierlaire, Transport and Mobility Laboratory, Ecole Polytechnique Fédérale de Lausanne (EPFL)\n",
      "\n"
     ]
    }
   ],
   "source": [
    "print(ver.getText())"
   ]
  },
  {
   "cell_type": "markdown",
   "id": "8d753a55",
   "metadata": {},
   "source": [
    "The estimation of these models may take a while. It you want to run the notebook using pre-estimated results saved on file, set the following variable to `True`"
   ]
  },
  {
   "cell_type": "code",
   "execution_count": 3,
   "id": "cdb4fed5",
   "metadata": {},
   "outputs": [],
   "source": [
    "read_results_from_file = True"
   ]
  },
  {
   "cell_type": "code",
   "execution_count": 4,
   "id": "fcd67871",
   "metadata": {},
   "outputs": [],
   "source": [
    "def get_results_from_url(file):\n",
    "    pickle_file = f'{url_root}{file}'\n",
    "\n",
    "    with urlopen(pickle_file) as p:\n",
    "        data = pickle.load(p)\n",
    "    return res.bioResults(data)"
   ]
  },
  {
   "cell_type": "code",
   "execution_count": 5,
   "id": "abe53190",
   "metadata": {},
   "outputs": [],
   "source": [
    "url_root = (\n",
    "    'https://courses.edx.org/'\n",
    "    'asset-v1:EPFLx+ChoiceModels2x+3T2021+type@asset+block@'\n",
    ")"
   ]
  },
  {
   "cell_type": "markdown",
   "id": "606e3747",
   "metadata": {},
   "source": [
    "# Read the data"
   ]
  },
  {
   "cell_type": "code",
   "execution_count": 6,
   "id": "07b77bb5",
   "metadata": {},
   "outputs": [],
   "source": [
    "df = pd.read_table(f'{url_root}optima.dat')\n",
    "database = db.Database('optima', df)"
   ]
  },
  {
   "cell_type": "markdown",
   "id": "649f2732",
   "metadata": {},
   "source": [
    "Extract the variables from the data file"
   ]
  },
  {
   "cell_type": "markdown",
   "id": "6128cffc",
   "metadata": {},
   "source": [
    "Exclude observations such that the chosen alternative is -1"
   ]
  },
  {
   "cell_type": "code",
   "execution_count": 7,
   "id": "62dc71db",
   "metadata": {},
   "outputs": [],
   "source": [
    "Choice = Variable('Choice')\n",
    "database.remove(Choice == -1.0)"
   ]
  },
  {
   "cell_type": "markdown",
   "id": "52bbc1a2",
   "metadata": {},
   "source": [
    "# Structural equation for the latent variable"
   ]
  },
  {
   "cell_type": "markdown",
   "id": "c2288b4c",
   "metadata": {},
   "source": [
    "## Variables"
   ]
  },
  {
   "cell_type": "markdown",
   "id": "f44b7841",
   "metadata": {},
   "source": [
    "Variables directly available in the data file"
   ]
  },
  {
   "cell_type": "code",
   "execution_count": 8,
   "id": "4e63c81e",
   "metadata": {},
   "outputs": [],
   "source": [
    "Gender = Variable('Gender')\n",
    "FamilSitu = Variable('FamilSitu')\n",
    "Education = Variable('Education')\n",
    "ResidChild = Variable('ResidChild')\n",
    "SocioProfCat = Variable('SocioProfCat')\n",
    "age = Variable('age')"
   ]
  },
  {
   "cell_type": "markdown",
   "id": "059968fe",
   "metadata": {},
   "source": [
    "Creation of new variables, inserted into the database"
   ]
  },
  {
   "cell_type": "code",
   "execution_count": 9,
   "id": "2d76693f",
   "metadata": {},
   "outputs": [],
   "source": [
    "male = DefineVariable('male', Gender == 1, database)\n",
    "\n",
    "haveChildren = DefineVariable(\n",
    "    'haveChildren',\n",
    "    ((FamilSitu == 3) + (FamilSitu == 4)) > 0,\n",
    "    database\n",
    ")\n",
    "\n",
    "highEducation = DefineVariable('highEducation',\n",
    "                               Education >= 6,\n",
    "                               database)\n",
    "\n",
    "childCenter = DefineVariable(\n",
    "    'childCenter',\n",
    "    ((ResidChild == 1) + (ResidChild == 2)) > 0,\n",
    "    database\n",
    ")\n",
    "\n",
    "childSuburb = DefineVariable(\n",
    "    'childSuburb',\n",
    "    ((ResidChild == 3) + (ResidChild == 4)) > 0,\n",
    "    database\n",
    ")\n"
   ]
  },
  {
   "cell_type": "markdown",
   "id": "a4e47dac",
   "metadata": {},
   "source": [
    "## Coefficients"
   ]
  },
  {
   "cell_type": "code",
   "execution_count": 10,
   "id": "0842514d",
   "metadata": {},
   "outputs": [],
   "source": [
    "coef_intercept = Beta(\n",
    "    'coef_intercept', 0.0, None, None, 0\n",
    ")\n",
    "coef_age_30_less = Beta(\n",
    "    'coef_age_30_less', 0.0, None, None, 0\n",
    ")\n",
    "coef_male = Beta(\n",
    "    'coef_male', 0.0, None, None, 0\n",
    ")\n",
    "coef_haveChildren = Beta(\n",
    "    'coef_haveChildren', 0.0, None, None, 0\n",
    ")\n",
    "coef_highEducation = Beta(\n",
    "    'coef_highEducation', 0.0, None, None, 0\n",
    ")\n",
    "coef_artisans = Beta(\n",
    "    'coef_artisans', 0.0, None, None, 0\n",
    ")\n",
    "coef_employees = Beta(\n",
    "    'coef_employees', 0.0, None, None, 0\n",
    ")\n",
    "coef_child_center = Beta(\n",
    "    'coef_child_center', 0.0, None, None, 0\n",
    ")\n",
    "coef_child_suburb = Beta(\n",
    "    'coef_child_suburb', 0.0, None, None, 0\n",
    ")\n"
   ]
  },
  {
   "cell_type": "markdown",
   "id": "aad8727d",
   "metadata": {},
   "source": [
    "## Structural equation"
   ]
  },
  {
   "cell_type": "markdown",
   "id": "acbd46a1",
   "metadata": {},
   "source": [
    "If we denote $X_n^*$ the latent variable, the structural equation is\n",
    "$$ X_n^* = \\sum_m \\lambda_k x_{nk} + \\sigma_\\omega \\omega_n,$$ where $\\omega_n\\sim N(0, 1)$."
   ]
  },
  {
   "cell_type": "code",
   "execution_count": 11,
   "id": "5cc96016",
   "metadata": {},
   "outputs": [],
   "source": [
    "ACTIVELIFE = (\n",
    "    coef_intercept\n",
    "    + coef_child_center * childCenter\n",
    "    + coef_child_suburb * childSuburb\n",
    "    + coef_highEducation * highEducation\n",
    "    + coef_artisans * (SocioProfCat == 5)\n",
    "    + coef_employees * (SocioProfCat == 6)\n",
    "    + coef_age_30_less * (age <= 30)\n",
    "    + coef_male * male\n",
    "    + coef_haveChildren * haveChildren\n",
    ")"
   ]
  },
  {
   "cell_type": "markdown",
   "id": "27886688",
   "metadata": {},
   "source": [
    "# Measurement equations"
   ]
  },
  {
   "cell_type": "markdown",
   "id": "784606af",
   "metadata": {},
   "source": [
    "If we denote $X^*$ the latent variable, the measurement equations for one indicator $i$ are:\n",
    "$$I^*_i = \\alpha_i + \\beta_i X_n^* + \\sigma_i \\xi_{in},$$ where $\\xi_{in}\\sim N(0,1)$, if we assume that the error terms are independent across $i$. Then, this continuous latent indicator is associated with the discrete response as follows: \n",
    "$$ I_i = \\left\\{ \\begin{array}{ll} \n",
    "   1 & \\mbox{if } -\\infty < I^*_i \\leq \\tau_1, \\\\\n",
    "   2 & \\mbox{if } \\tau_1 < I^*_i \\leq \\tau_2, \\\\\n",
    "   3 & \\mbox{if } \\tau_2 < I^*_i \\leq \\tau_3, \\\\\n",
    "   4 & \\mbox{if } \\tau_3 < I^*_i \\leq \\tau_4, \\\\\n",
    "   5 & \\mbox{if } \\tau_4 < I^*_i < +\\infty. \\\\\n",
    "\\end{array} \\right. $$\n",
    "In order to simplify the specification, we assume a symmetrical organization of the thresholds $\\tau$ as follows:\n",
    "$$\n",
    "\\begin{align}\n",
    "\\tau_1 &= -\\delta_1 - \\delta_2, \\\\\n",
    "\\tau_2 &= -\\delta_1, \\\\\n",
    "\\tau_3 &= \\delta_1, \\\\\n",
    "\\tau_4 &= \\delta_1 + \\delta_2.\n",
    "\\end{align}\n",
    "$$"
   ]
  },
  {
   "cell_type": "markdown",
   "id": "be7d337f",
   "metadata": {},
   "source": [
    "Note that, if we combine the structural equation and the measurement equations, without a choice model, the error terms are confounded: \n",
    "$$\n",
    "\\begin{align}\n",
    "I^*_i &= \\alpha_i + \\beta_i X_n^* + \\sigma_i \\xi_{in},\\\\\n",
    "  &= \\alpha_i + \\beta_i (\\sum_m \\lambda_k x_{nk} + \\sigma_\\omega \\omega_n) + \\sigma_i \\xi_{in}, \\\\\n",
    "    &= \\alpha_i + \\beta_i \\sum_m \\lambda_k x_{nk} + \\beta_i \\sigma_\\omega \\omega_n + \\sigma_i \\xi_{in}, \\\\\n",
    "        &= \\alpha_i + \\beta_i \\sum_m \\lambda_k x_{nk}  + \\sigma'_i \\xi'_{in}. \\\\\n",
    "\\end{align}\n",
    "$$\n",
    "Therefore, in the following, we drop the error term of the structural equation. It will be reincluded when the model is combined with the choice model."
   ]
  },
  {
   "cell_type": "markdown",
   "id": "41c220a7",
   "metadata": {},
   "source": [
    "For instance, the probability that indicator $i$ takes the value 1, say, is \n",
    "$$\n",
    "\\begin{align}\n",
    "Pr(I_i^* \\leq \\tau_1) &= Pr(\\alpha_i + \\beta_i \\sum_m \\lambda_k x_{nk}  + \\sigma'_i \\xi'_{in} \\leq \\tau_1) \\\\\n",
    " &= Pr(\\xi'_{in} \\leq (\\tau_1-\\alpha_i-\\beta_i \\sum_m \\lambda_k x_{nk}) / \\sigma'_i) \\\\\n",
    " &= \\Phi\\left(\\frac{\\tau_1-\\alpha_i-\\beta_i \\sum_m \\lambda_k x_{nk}}{ \\sigma'_i}\\right),\n",
    "\\end{align}\n",
    "$$\n",
    "where $\\Phi(\\cdot)$ is the CDF of the standard normal distribution. \n",
    "Similarly, the probability for the value 2 is\n",
    "$$\n",
    "Pr(\\tau_1 < I^*_i \\leq \\tau_2) =  \\Phi\\left(\\frac{\\tau_2-\\alpha_i-\\beta_i \\sum_m \\lambda_k x_{nk}}{ \\sigma'_i}\\right) -  \\Phi\\left(\\frac{\\tau_1-\\alpha_i-\\beta_i \\sum_m \\lambda_k x_{nk}}{ \\sigma'_i}\\right).\n",
    "$$"
   ]
  },
  {
   "cell_type": "code",
   "execution_count": 12,
   "id": "2f087ca5",
   "metadata": {},
   "outputs": [],
   "source": [
    "indicators = [\n",
    "    'ResidCh01',\n",
    "    'ResidCh04',\n",
    "    'ResidCh05',\n",
    "    'ResidCh06',\n",
    "    'LifSty07',\n",
    "    'LifSty10',\n",
    "]\n"
   ]
  },
  {
   "cell_type": "markdown",
   "id": "eabbb3b4",
   "metadata": {},
   "source": [
    "We define first the intercept parameters $\\alpha_i$ and store them in a dictionary. Note that the first one is normalized to 0."
   ]
  },
  {
   "cell_type": "code",
   "execution_count": 13,
   "id": "d07de4fc",
   "metadata": {},
   "outputs": [],
   "source": [
    "INTER = {\n",
    "    k: Beta(f'INTER_{k}', 0, None, None, 0) \n",
    "    for k in indicators[1:]\n",
    "}\n",
    "INTER[indicators[0]] = Beta(\n",
    "    f'INTER_{indicators[0]}', 0, None, None, 1\n",
    ")"
   ]
  },
  {
   "cell_type": "markdown",
   "id": "9f6ee00c",
   "metadata": {},
   "source": [
    "We then define the coefficient $\\beta_i$, and store them as well in a dictionary.The first one is normalized to one."
   ]
  },
  {
   "cell_type": "code",
   "execution_count": 14,
   "id": "25fee26c",
   "metadata": {},
   "outputs": [],
   "source": [
    "B = {\n",
    "    k: Beta(f'B_{k}', 0, None, None, 0) \n",
    "    for k in indicators[1:]\n",
    "}\n",
    "B[indicators[0]] = Beta(\n",
    "    f'B_{indicators[0]}', 1, None, None, 1\n",
    ")"
   ]
  },
  {
   "cell_type": "markdown",
   "id": "807b0cca",
   "metadata": {},
   "source": [
    "We then create a dictionary with the measurement equations for $I^*_i$."
   ]
  },
  {
   "cell_type": "code",
   "execution_count": 15,
   "id": "a0f68483",
   "metadata": {},
   "outputs": [],
   "source": [
    "MODEL = {\n",
    "    k: INTER[k] + B[k] * ACTIVELIFE for k in indicators\n",
    "}"
   ]
  },
  {
   "cell_type": "markdown",
   "id": "631592ae",
   "metadata": {},
   "source": [
    "We define the scale parameters $\\sigma'_i$ of the error terms, again stored in a dictionary."
   ]
  },
  {
   "cell_type": "code",
   "execution_count": 16,
   "id": "0daadce0",
   "metadata": {},
   "outputs": [],
   "source": [
    "SIGMA_STAR = {\n",
    "    k: Beta(\n",
    "        f'SIGMA_STAR_{k}', 1, 1.0e-5, None, 0\n",
    "    ) \n",
    "    for k in indicators[1:]\n",
    "}\n",
    "SIGMA_STAR[indicators[0]] = Beta(\n",
    "    f'SIGMA_STAR_{indicators[0]}', 1, None, None, 1\n",
    ")"
   ]
  },
  {
   "cell_type": "markdown",
   "id": "2b6e8469",
   "metadata": {},
   "source": [
    "We define the thresholds."
   ]
  },
  {
   "cell_type": "code",
   "execution_count": 17,
   "id": "fb101293",
   "metadata": {},
   "outputs": [],
   "source": [
    "delta_1 = Beta('delta_1', 0.1, 1.0e-5, None, 0)\n",
    "delta_2 = Beta('delta_2', 0.2, 1.0e-5, None, 0)\n",
    "tau_1 = -delta_1 - delta_2\n",
    "tau_2 = -delta_1\n",
    "tau_3 = delta_1\n",
    "tau_4 = delta_1 + delta_2"
   ]
  },
  {
   "cell_type": "markdown",
   "id": "7108c1ce",
   "metadata": {},
   "source": [
    "We calculate the residuals with respect with each threshold, that are the arguments for the $\\Phi(\\cdot)$ function above."
   ]
  },
  {
   "cell_type": "code",
   "execution_count": 18,
   "id": "0ec676f0",
   "metadata": {},
   "outputs": [],
   "source": [
    "tau_1_residual = {\n",
    "    k: (tau_1 - MODEL[k]) / SIGMA_STAR[k] \n",
    "    for k in indicators\n",
    "}\n",
    "tau_2_residual = {\n",
    "    k: (tau_2 - MODEL[k]) / SIGMA_STAR[k] \n",
    "    for k in indicators\n",
    "}\n",
    "tau_3_residual = {\n",
    "    k: (tau_3 - MODEL[k]) / SIGMA_STAR[k] \n",
    "    for k in indicators\n",
    "}\n",
    "tau_4_residual = {\n",
    "    k: (tau_4 - MODEL[k]) / SIGMA_STAR[k] \n",
    "    for k in indicators\n",
    "}"
   ]
  },
  {
   "cell_type": "markdown",
   "id": "60b1a343",
   "metadata": {},
   "source": [
    "For each indicator, we associate a dictionary that associates each value of the indicators with the corresponding probability. We associate erroneous values (6, -1, -2) with probability 1 so that they do not contribute to the likelihood function."
   ]
  },
  {
   "cell_type": "code",
   "execution_count": 19,
   "id": "3657dfa1",
   "metadata": {},
   "outputs": [],
   "source": [
    "Ind = {\n",
    "    k: {\n",
    "        1: bioNormalCdf(tau_1_residual[k]),\n",
    "        2: bioNormalCdf(tau_2_residual[k]) \n",
    "            - bioNormalCdf(tau_1_residual[k]),\n",
    "        3: bioNormalCdf(tau_3_residual[k]) \n",
    "            - bioNormalCdf(tau_2_residual[k]),\n",
    "        4: bioNormalCdf(tau_4_residual[k]) \n",
    "            - bioNormalCdf(tau_3_residual[k]),\n",
    "        5: 1 - bioNormalCdf(tau_4_residual[k]),\n",
    "        6: 1.0,\n",
    "        -1: 1.0,\n",
    "        -2: 1.0,\n",
    "    }\n",
    "    for k in indicators\n",
    "}"
   ]
  },
  {
   "cell_type": "markdown",
   "id": "96496fad",
   "metadata": {},
   "source": [
    "# Latent variable model, without the choice model "
   ]
  },
  {
   "cell_type": "markdown",
   "id": "c68aad1a",
   "metadata": {},
   "source": [
    "We define the log likelihood function"
   ]
  },
  {
   "cell_type": "code",
   "execution_count": 20,
   "id": "403e2695",
   "metadata": {},
   "outputs": [],
   "source": [
    "logP = {\n",
    "    k: log(Elem(Ind[k], Variable(k))) \n",
    "    for k in indicators\n",
    "}\n",
    "loglike = bioMultSum(logP)"
   ]
  },
  {
   "cell_type": "markdown",
   "id": "94e721be",
   "metadata": {},
   "source": [
    "And we estimate the parameters"
   ]
  },
  {
   "cell_type": "code",
   "execution_count": 21,
   "id": "703e3066",
   "metadata": {},
   "outputs": [],
   "source": [
    "biogeme_m01 = bio.BIOGEME(database, loglike)\n",
    "biogeme_m01.modelName = 'm01_latent_variable'"
   ]
  },
  {
   "cell_type": "code",
   "execution_count": 22,
   "id": "b1d17ac0",
   "metadata": {},
   "outputs": [],
   "source": [
    "if read_results_from_file:\n",
    "    structResults = get_results_from_url(\n",
    "        'm01_latent_variable.pickle'\n",
    "    )\n",
    "else:\n",
    "    structResults = biogeme_m01.estimate()"
   ]
  },
  {
   "cell_type": "code",
   "execution_count": 23,
   "id": "5f6822b3",
   "metadata": {},
   "outputs": [
    {
     "name": "stdout",
     "output_type": "stream",
     "text": [
      "Number of estimated parameters:\t26\n",
      "Sample size:\t1906\n",
      "Excluded observations:\t359\n",
      "Init log likelihood:\t-22053.9\n",
      "Final log likelihood:\t-14126.6\n",
      "Likelihood ratio test for the init. model:\t15854.59\n",
      "Rho-square for the init. model:\t0.359\n",
      "Rho-square-bar for the init. model:\t0.358\n",
      "Akaike Information Criterion:\t28305.2\n",
      "Bayesian Information Criterion:\t28449.57\n",
      "Final gradient norm:\t2.0607E-03\n",
      "Nbr of threads:\t16\n",
      "\n"
     ]
    }
   ],
   "source": [
    "print(structResults.printGeneralStatistics())"
   ]
  },
  {
   "cell_type": "code",
   "execution_count": 24,
   "id": "85ad67e5",
   "metadata": {},
   "outputs": [
    {
     "data": {
      "text/html": [
       "<div>\n",
       "<style scoped>\n",
       "    .dataframe tbody tr th:only-of-type {\n",
       "        vertical-align: middle;\n",
       "    }\n",
       "\n",
       "    .dataframe tbody tr th {\n",
       "        vertical-align: top;\n",
       "    }\n",
       "\n",
       "    .dataframe thead th {\n",
       "        text-align: right;\n",
       "    }\n",
       "</style>\n",
       "<table border=\"1\" class=\"dataframe\">\n",
       "  <thead>\n",
       "    <tr style=\"text-align: right;\">\n",
       "      <th></th>\n",
       "      <th>Value</th>\n",
       "      <th>Std err</th>\n",
       "      <th>t-test</th>\n",
       "      <th>p-value</th>\n",
       "      <th>Rob. Std err</th>\n",
       "      <th>Rob. t-test</th>\n",
       "      <th>Rob. p-value</th>\n",
       "    </tr>\n",
       "  </thead>\n",
       "  <tbody>\n",
       "    <tr>\n",
       "      <th>B_LifSty07</th>\n",
       "      <td>1.101205</td>\n",
       "      <td>0.258570</td>\n",
       "      <td>4.258825</td>\n",
       "      <td>2.055043e-05</td>\n",
       "      <td>0.329748</td>\n",
       "      <td>3.339531</td>\n",
       "      <td>0.000839</td>\n",
       "    </tr>\n",
       "    <tr>\n",
       "      <th>B_LifSty10</th>\n",
       "      <td>0.668749</td>\n",
       "      <td>0.191114</td>\n",
       "      <td>3.499210</td>\n",
       "      <td>4.666388e-04</td>\n",
       "      <td>0.223517</td>\n",
       "      <td>2.991945</td>\n",
       "      <td>0.002772</td>\n",
       "    </tr>\n",
       "    <tr>\n",
       "      <th>B_ResidCh04</th>\n",
       "      <td>0.240098</td>\n",
       "      <td>0.155763</td>\n",
       "      <td>1.541433</td>\n",
       "      <td>1.232114e-01</td>\n",
       "      <td>0.202259</td>\n",
       "      <td>1.187085</td>\n",
       "      <td>0.235194</td>\n",
       "    </tr>\n",
       "    <tr>\n",
       "      <th>B_ResidCh05</th>\n",
       "      <td>2.205324</td>\n",
       "      <td>0.440121</td>\n",
       "      <td>5.010720</td>\n",
       "      <td>5.422678e-07</td>\n",
       "      <td>0.545249</td>\n",
       "      <td>4.044620</td>\n",
       "      <td>0.000052</td>\n",
       "    </tr>\n",
       "    <tr>\n",
       "      <th>B_ResidCh06</th>\n",
       "      <td>1.623046</td>\n",
       "      <td>0.406338</td>\n",
       "      <td>3.994326</td>\n",
       "      <td>6.487856e-05</td>\n",
       "      <td>0.671135</td>\n",
       "      <td>2.418361</td>\n",
       "      <td>0.015591</td>\n",
       "    </tr>\n",
       "    <tr>\n",
       "      <th>INTER_LifSty07</th>\n",
       "      <td>-0.435314</td>\n",
       "      <td>0.124234</td>\n",
       "      <td>-3.503991</td>\n",
       "      <td>4.583401e-04</td>\n",
       "      <td>0.156394</td>\n",
       "      <td>-2.783456</td>\n",
       "      <td>0.005378</td>\n",
       "    </tr>\n",
       "    <tr>\n",
       "      <th>INTER_LifSty10</th>\n",
       "      <td>0.009087</td>\n",
       "      <td>0.091734</td>\n",
       "      <td>0.099059</td>\n",
       "      <td>9.210916e-01</td>\n",
       "      <td>0.104783</td>\n",
       "      <td>0.086722</td>\n",
       "      <td>0.930892</td>\n",
       "    </tr>\n",
       "    <tr>\n",
       "      <th>INTER_ResidCh04</th>\n",
       "      <td>0.183328</td>\n",
       "      <td>0.074748</td>\n",
       "      <td>2.452620</td>\n",
       "      <td>1.418200e-02</td>\n",
       "      <td>0.095006</td>\n",
       "      <td>1.929648</td>\n",
       "      <td>0.053650</td>\n",
       "    </tr>\n",
       "    <tr>\n",
       "      <th>INTER_ResidCh05</th>\n",
       "      <td>-0.842968</td>\n",
       "      <td>0.210573</td>\n",
       "      <td>-4.003212</td>\n",
       "      <td>6.248821e-05</td>\n",
       "      <td>0.256127</td>\n",
       "      <td>-3.291214</td>\n",
       "      <td>0.000998</td>\n",
       "    </tr>\n",
       "    <tr>\n",
       "      <th>INTER_ResidCh06</th>\n",
       "      <td>0.143380</td>\n",
       "      <td>0.191671</td>\n",
       "      <td>0.748054</td>\n",
       "      <td>4.544275e-01</td>\n",
       "      <td>0.310273</td>\n",
       "      <td>0.462108</td>\n",
       "      <td>0.644004</td>\n",
       "    </tr>\n",
       "    <tr>\n",
       "      <th>SIGMA_STAR_LifSty07</th>\n",
       "      <td>1.120348</td>\n",
       "      <td>0.034834</td>\n",
       "      <td>32.162649</td>\n",
       "      <td>0.000000e+00</td>\n",
       "      <td>0.032635</td>\n",
       "      <td>34.329762</td>\n",
       "      <td>0.000000</td>\n",
       "    </tr>\n",
       "    <tr>\n",
       "      <th>SIGMA_STAR_LifSty10</th>\n",
       "      <td>0.974915</td>\n",
       "      <td>0.028068</td>\n",
       "      <td>34.733506</td>\n",
       "      <td>0.000000e+00</td>\n",
       "      <td>0.026117</td>\n",
       "      <td>37.328913</td>\n",
       "      <td>0.000000</td>\n",
       "    </tr>\n",
       "    <tr>\n",
       "      <th>SIGMA_STAR_ResidCh04</th>\n",
       "      <td>0.938793</td>\n",
       "      <td>0.026667</td>\n",
       "      <td>35.204260</td>\n",
       "      <td>0.000000e+00</td>\n",
       "      <td>0.024687</td>\n",
       "      <td>38.028502</td>\n",
       "      <td>0.000000</td>\n",
       "    </tr>\n",
       "    <tr>\n",
       "      <th>SIGMA_STAR_ResidCh05</th>\n",
       "      <td>1.368480</td>\n",
       "      <td>0.051618</td>\n",
       "      <td>26.511735</td>\n",
       "      <td>0.000000e+00</td>\n",
       "      <td>0.052596</td>\n",
       "      <td>26.018912</td>\n",
       "      <td>0.000000</td>\n",
       "    </tr>\n",
       "    <tr>\n",
       "      <th>SIGMA_STAR_ResidCh06</th>\n",
       "      <td>1.361245</td>\n",
       "      <td>0.041851</td>\n",
       "      <td>32.525800</td>\n",
       "      <td>0.000000e+00</td>\n",
       "      <td>0.038146</td>\n",
       "      <td>35.685454</td>\n",
       "      <td>0.000000</td>\n",
       "    </tr>\n",
       "    <tr>\n",
       "      <th>coef_age_30_less</th>\n",
       "      <td>0.423995</td>\n",
       "      <td>0.085563</td>\n",
       "      <td>4.955325</td>\n",
       "      <td>7.220955e-07</td>\n",
       "      <td>0.142361</td>\n",
       "      <td>2.978317</td>\n",
       "      <td>0.002898</td>\n",
       "    </tr>\n",
       "    <tr>\n",
       "      <th>coef_artisans</th>\n",
       "      <td>-0.105076</td>\n",
       "      <td>0.051266</td>\n",
       "      <td>-2.049602</td>\n",
       "      <td>4.040332e-02</td>\n",
       "      <td>0.061175</td>\n",
       "      <td>-1.717622</td>\n",
       "      <td>0.085866</td>\n",
       "    </tr>\n",
       "    <tr>\n",
       "      <th>coef_child_center</th>\n",
       "      <td>0.192669</td>\n",
       "      <td>0.040429</td>\n",
       "      <td>4.765630</td>\n",
       "      <td>1.882644e-06</td>\n",
       "      <td>0.048888</td>\n",
       "      <td>3.941035</td>\n",
       "      <td>0.000081</td>\n",
       "    </tr>\n",
       "    <tr>\n",
       "      <th>coef_child_suburb</th>\n",
       "      <td>0.116323</td>\n",
       "      <td>0.028323</td>\n",
       "      <td>4.106989</td>\n",
       "      <td>4.008496e-05</td>\n",
       "      <td>0.038946</td>\n",
       "      <td>2.986785</td>\n",
       "      <td>0.002819</td>\n",
       "    </tr>\n",
       "    <tr>\n",
       "      <th>coef_employees</th>\n",
       "      <td>-0.049369</td>\n",
       "      <td>0.024105</td>\n",
       "      <td>-2.048086</td>\n",
       "      <td>4.055155e-02</td>\n",
       "      <td>0.033435</td>\n",
       "      <td>-1.476563</td>\n",
       "      <td>0.139793</td>\n",
       "    </tr>\n",
       "    <tr>\n",
       "      <th>coef_haveChildren</th>\n",
       "      <td>-0.054748</td>\n",
       "      <td>0.021893</td>\n",
       "      <td>-2.500704</td>\n",
       "      <td>1.239467e-02</td>\n",
       "      <td>0.028732</td>\n",
       "      <td>-1.905437</td>\n",
       "      <td>0.056723</td>\n",
       "    </tr>\n",
       "    <tr>\n",
       "      <th>coef_highEducation</th>\n",
       "      <td>-0.068297</td>\n",
       "      <td>0.028787</td>\n",
       "      <td>-2.372507</td>\n",
       "      <td>1.766781e-02</td>\n",
       "      <td>0.043955</td>\n",
       "      <td>-1.553796</td>\n",
       "      <td>0.120233</td>\n",
       "    </tr>\n",
       "    <tr>\n",
       "      <th>coef_intercept</th>\n",
       "      <td>-0.552751</td>\n",
       "      <td>0.039566</td>\n",
       "      <td>-13.970406</td>\n",
       "      <td>0.000000e+00</td>\n",
       "      <td>0.050374</td>\n",
       "      <td>-10.972853</td>\n",
       "      <td>0.000000</td>\n",
       "    </tr>\n",
       "    <tr>\n",
       "      <th>coef_male</th>\n",
       "      <td>0.117999</td>\n",
       "      <td>0.031739</td>\n",
       "      <td>3.717755</td>\n",
       "      <td>2.010013e-04</td>\n",
       "      <td>0.050388</td>\n",
       "      <td>2.341786</td>\n",
       "      <td>0.019192</td>\n",
       "    </tr>\n",
       "    <tr>\n",
       "      <th>delta_1</th>\n",
       "      <td>0.484286</td>\n",
       "      <td>0.011728</td>\n",
       "      <td>41.293820</td>\n",
       "      <td>0.000000e+00</td>\n",
       "      <td>0.012075</td>\n",
       "      <td>40.106752</td>\n",
       "      <td>0.000000</td>\n",
       "    </tr>\n",
       "    <tr>\n",
       "      <th>delta_2</th>\n",
       "      <td>1.016994</td>\n",
       "      <td>0.023029</td>\n",
       "      <td>44.161908</td>\n",
       "      <td>0.000000e+00</td>\n",
       "      <td>0.024378</td>\n",
       "      <td>41.717311</td>\n",
       "      <td>0.000000</td>\n",
       "    </tr>\n",
       "  </tbody>\n",
       "</table>\n",
       "</div>"
      ],
      "text/plain": [
       "                         Value   Std err     t-test       p-value  \\\n",
       "B_LifSty07            1.101205  0.258570   4.258825  2.055043e-05   \n",
       "B_LifSty10            0.668749  0.191114   3.499210  4.666388e-04   \n",
       "B_ResidCh04           0.240098  0.155763   1.541433  1.232114e-01   \n",
       "B_ResidCh05           2.205324  0.440121   5.010720  5.422678e-07   \n",
       "B_ResidCh06           1.623046  0.406338   3.994326  6.487856e-05   \n",
       "INTER_LifSty07       -0.435314  0.124234  -3.503991  4.583401e-04   \n",
       "INTER_LifSty10        0.009087  0.091734   0.099059  9.210916e-01   \n",
       "INTER_ResidCh04       0.183328  0.074748   2.452620  1.418200e-02   \n",
       "INTER_ResidCh05      -0.842968  0.210573  -4.003212  6.248821e-05   \n",
       "INTER_ResidCh06       0.143380  0.191671   0.748054  4.544275e-01   \n",
       "SIGMA_STAR_LifSty07   1.120348  0.034834  32.162649  0.000000e+00   \n",
       "SIGMA_STAR_LifSty10   0.974915  0.028068  34.733506  0.000000e+00   \n",
       "SIGMA_STAR_ResidCh04  0.938793  0.026667  35.204260  0.000000e+00   \n",
       "SIGMA_STAR_ResidCh05  1.368480  0.051618  26.511735  0.000000e+00   \n",
       "SIGMA_STAR_ResidCh06  1.361245  0.041851  32.525800  0.000000e+00   \n",
       "coef_age_30_less      0.423995  0.085563   4.955325  7.220955e-07   \n",
       "coef_artisans        -0.105076  0.051266  -2.049602  4.040332e-02   \n",
       "coef_child_center     0.192669  0.040429   4.765630  1.882644e-06   \n",
       "coef_child_suburb     0.116323  0.028323   4.106989  4.008496e-05   \n",
       "coef_employees       -0.049369  0.024105  -2.048086  4.055155e-02   \n",
       "coef_haveChildren    -0.054748  0.021893  -2.500704  1.239467e-02   \n",
       "coef_highEducation   -0.068297  0.028787  -2.372507  1.766781e-02   \n",
       "coef_intercept       -0.552751  0.039566 -13.970406  0.000000e+00   \n",
       "coef_male             0.117999  0.031739   3.717755  2.010013e-04   \n",
       "delta_1               0.484286  0.011728  41.293820  0.000000e+00   \n",
       "delta_2               1.016994  0.023029  44.161908  0.000000e+00   \n",
       "\n",
       "                      Rob. Std err  Rob. t-test  Rob. p-value  \n",
       "B_LifSty07                0.329748     3.339531      0.000839  \n",
       "B_LifSty10                0.223517     2.991945      0.002772  \n",
       "B_ResidCh04               0.202259     1.187085      0.235194  \n",
       "B_ResidCh05               0.545249     4.044620      0.000052  \n",
       "B_ResidCh06               0.671135     2.418361      0.015591  \n",
       "INTER_LifSty07            0.156394    -2.783456      0.005378  \n",
       "INTER_LifSty10            0.104783     0.086722      0.930892  \n",
       "INTER_ResidCh04           0.095006     1.929648      0.053650  \n",
       "INTER_ResidCh05           0.256127    -3.291214      0.000998  \n",
       "INTER_ResidCh06           0.310273     0.462108      0.644004  \n",
       "SIGMA_STAR_LifSty07       0.032635    34.329762      0.000000  \n",
       "SIGMA_STAR_LifSty10       0.026117    37.328913      0.000000  \n",
       "SIGMA_STAR_ResidCh04      0.024687    38.028502      0.000000  \n",
       "SIGMA_STAR_ResidCh05      0.052596    26.018912      0.000000  \n",
       "SIGMA_STAR_ResidCh06      0.038146    35.685454      0.000000  \n",
       "coef_age_30_less          0.142361     2.978317      0.002898  \n",
       "coef_artisans             0.061175    -1.717622      0.085866  \n",
       "coef_child_center         0.048888     3.941035      0.000081  \n",
       "coef_child_suburb         0.038946     2.986785      0.002819  \n",
       "coef_employees            0.033435    -1.476563      0.139793  \n",
       "coef_haveChildren         0.028732    -1.905437      0.056723  \n",
       "coef_highEducation        0.043955    -1.553796      0.120233  \n",
       "coef_intercept            0.050374   -10.972853      0.000000  \n",
       "coef_male                 0.050388     2.341786      0.019192  \n",
       "delta_1                   0.012075    40.106752      0.000000  \n",
       "delta_2                   0.024378    41.717311      0.000000  "
      ]
     },
     "execution_count": 24,
     "metadata": {},
     "output_type": "execute_result"
    }
   ],
   "source": [
    "structResults.getEstimatedParameters()"
   ]
  },
  {
   "cell_type": "markdown",
   "id": "40f5f072",
   "metadata": {},
   "source": [
    "Extract the values of the estimation for the next models."
   ]
  },
  {
   "cell_type": "code",
   "execution_count": 25,
   "id": "8e6e04b9",
   "metadata": {},
   "outputs": [
    {
     "data": {
      "text/plain": [
       "{'B_LifSty07': 1.1012049480189057,\n",
       " 'B_LifSty10': 0.6687491776991253,\n",
       " 'B_ResidCh04': 0.2400979719518658,\n",
       " 'B_ResidCh05': 2.2053239945074856,\n",
       " 'B_ResidCh06': 1.623046032373433,\n",
       " 'INTER_LifSty07': -0.4353144982916982,\n",
       " 'INTER_LifSty10': 0.009087023834455657,\n",
       " 'INTER_ResidCh04': 0.18332813671127693,\n",
       " 'INTER_ResidCh05': -0.8429682675575829,\n",
       " 'INTER_ResidCh06': 0.14337994776439433,\n",
       " 'SIGMA_STAR_LifSty07': 1.1203484524587883,\n",
       " 'SIGMA_STAR_LifSty10': 0.9749154193748854,\n",
       " 'SIGMA_STAR_ResidCh04': 0.9387931927478614,\n",
       " 'SIGMA_STAR_ResidCh05': 1.3684797690972972,\n",
       " 'SIGMA_STAR_ResidCh06': 1.3612447994986747,\n",
       " 'coef_age_30_less': 0.4239948873692861,\n",
       " 'coef_artisans': -0.10507573314740531,\n",
       " 'coef_child_center': 0.19266861436974295,\n",
       " 'coef_child_suburb': 0.1163225864087651,\n",
       " 'coef_employees': -0.0493687361349252,\n",
       " 'coef_haveChildren': -0.054747696631536315,\n",
       " 'coef_highEducation': -0.068296711310007,\n",
       " 'coef_intercept': -0.5527510374784939,\n",
       " 'coef_male': 0.11799867458973735,\n",
       " 'delta_1': 0.484285616609752,\n",
       " 'delta_2': 1.0169940655081415}"
      ]
     },
     "execution_count": 25,
     "metadata": {},
     "output_type": "execute_result"
    }
   ],
   "source": [
    "structBetas = structResults.getBetaValues()\n",
    "structBetas"
   ]
  },
  {
   "cell_type": "markdown",
   "id": "f0ec0a59",
   "metadata": {},
   "source": [
    "# Choice model, with  the latent variable model: sequential estimation"
   ]
  },
  {
   "cell_type": "markdown",
   "id": "af8bb7b0",
   "metadata": {},
   "source": [
    "## Variables"
   ]
  },
  {
   "cell_type": "code",
   "execution_count": 26,
   "id": "0d541e85",
   "metadata": {},
   "outputs": [],
   "source": [
    "TimePT = Variable('TimePT')\n",
    "TimeCar = Variable('TimeCar')\n",
    "MarginalCostPT = Variable('MarginalCostPT')\n",
    "CostCarCHF = Variable('CostCarCHF')\n",
    "distance_km = Variable('distance_km')\n",
    "TripPurpose = Variable('TripPurpose')\n",
    "WaitingTimePT = Variable('WaitingTimePT')\n",
    "TimePT_scaled = DefineVariable(\n",
    "    'TimePT_scaled', \n",
    "    TimePT / 200, database\n",
    ")\n",
    "TimeCar_scaled = DefineVariable(\n",
    "    'TimeCar_scaled', \n",
    "    TimeCar / 200, \n",
    "    database\n",
    ")\n",
    "MarginalCostPT_scaled = DefineVariable(\n",
    "    'MarginalCostPT_scaled', \n",
    "    MarginalCostPT / 10, \n",
    "    database\n",
    ")\n",
    "CostCarCHF_scaled = DefineVariable(\n",
    "    'CostCarCHF_scaled', \n",
    "    CostCarCHF / 10, \n",
    "    database\n",
    ")\n",
    "distance_km_scaled = DefineVariable(\n",
    "    'distance_km_scaled', \n",
    "    distance_km / 5, \n",
    "    database\n",
    ")\n",
    "PurpHWH = DefineVariable(\n",
    "    'PurpHWH', \n",
    "    TripPurpose == 1, \n",
    "    database\n",
    ")\n",
    "PurpOther = DefineVariable(\n",
    "    'PurpOther', \n",
    "    TripPurpose != 1, \n",
    "    database\n",
    ")\n"
   ]
  },
  {
   "cell_type": "markdown",
   "id": "83a6ba64",
   "metadata": {},
   "source": [
    "## Latent variable"
   ]
  },
  {
   "cell_type": "markdown",
   "id": "32614e85",
   "metadata": {},
   "source": [
    "Here, we need to include the error term for the structural equation, and estimate its scale."
   ]
  },
  {
   "cell_type": "code",
   "execution_count": 27,
   "id": "d5e686c3",
   "metadata": {},
   "outputs": [],
   "source": [
    "omega = RandomVariable('omega')\n",
    "density = dist.normalpdf(omega)\n",
    "sigma_s = Beta('sigma_s', 1, None, None, 0)"
   ]
  },
  {
   "cell_type": "markdown",
   "id": "2ba8e538",
   "metadata": {},
   "source": [
    "For the coefficients, we use the values estimated previously."
   ]
  },
  {
   "cell_type": "code",
   "execution_count": 28,
   "id": "f1259bdc",
   "metadata": {},
   "outputs": [],
   "source": [
    "est_coef_intercept = structBetas['coef_intercept']\n",
    "est_coef_age_30_less = structBetas['coef_age_30_less']\n",
    "est_coef_male = structBetas['coef_male']\n",
    "est_coef_haveChildren = structBetas['coef_haveChildren']\n",
    "est_coef_highEducation = structBetas['coef_highEducation']\n",
    "est_coef_artisans = structBetas['coef_artisans']\n",
    "est_coef_employees = structBetas['coef_employees']\n",
    "est_coef_child_center = structBetas['coef_child_center']\n",
    "est_coef_child_suburb = structBetas['coef_child_suburb']\n"
   ]
  },
  {
   "cell_type": "code",
   "execution_count": 29,
   "id": "23e8115a",
   "metadata": {},
   "outputs": [],
   "source": [
    "est_ACTIVELIFE = (\n",
    "    est_coef_intercept\n",
    "    + est_coef_child_center * childCenter\n",
    "    + est_coef_child_suburb * childSuburb\n",
    "    + est_coef_highEducation * highEducation\n",
    "    + est_coef_artisans * (SocioProfCat == 5)\n",
    "    + est_coef_employees * (SocioProfCat == 6)\n",
    "    + est_coef_age_30_less * (age <= 30)\n",
    "    + est_coef_male * male\n",
    "    + est_coef_haveChildren * haveChildren\n",
    "    + sigma_s * omega\n",
    ")\n"
   ]
  },
  {
   "cell_type": "markdown",
   "id": "9113be92",
   "metadata": {},
   "source": [
    "## Coefficients"
   ]
  },
  {
   "cell_type": "code",
   "execution_count": 30,
   "id": "b6e47dd2",
   "metadata": {},
   "outputs": [],
   "source": [
    "ASC_CAR = Beta(\n",
    "    'ASC_CAR', 0, None, None, 0\n",
    ")\n",
    "ASC_SM = Beta(\n",
    "    'ASC_SM', 0, None, None, 0\n",
    ")\n",
    "BETA_COST_HWH = Beta(\n",
    "    'BETA_COST_HWH', 0, None, None, 0\n",
    ")\n",
    "BETA_COST_OTHER = Beta(\n",
    "    'BETA_COST_OTHER', 0, None, None, 0\n",
    ")\n",
    "BETA_DIST = Beta(\n",
    "    'BETA_DIST', 0, None, None, 0\n",
    ")\n",
    "BETA_TIME_CAR_REF = Beta(\n",
    "    'BETA_TIME_CAR_REF', -0.1, None, 0, 0\n",
    ")\n",
    "BETA_TIME_PT_REF = Beta(\n",
    "    'BETA_TIME_PT_REF', -0.1, None, 0, 0\n",
    ")\n",
    "BETA_WAITING_TIME = Beta(\n",
    "    'BETA_WAITING_TIME', 0, None, None, 0\n",
    ")"
   ]
  },
  {
   "cell_type": "markdown",
   "id": "ba7cbf8b",
   "metadata": {},
   "source": [
    "The coefficients for travel time depend on the latent variable."
   ]
  },
  {
   "cell_type": "code",
   "execution_count": 31,
   "id": "e07cc4e7",
   "metadata": {},
   "outputs": [],
   "source": [
    "BETA_TIME_PT_AL = Beta(\n",
    "    'BETA_TIME_PT_AL', 1, None, None, 0\n",
    ")\n",
    "BETA_TIME_CAR_AL = Beta(\n",
    "    'BETA_TIME_CAR_AL', 1, None, None, 0\n",
    ")\n",
    "BETA_TIME_PT = (\n",
    "    BETA_TIME_PT_REF * \n",
    "    exp(BETA_TIME_PT_AL * est_ACTIVELIFE)\n",
    ")\n",
    "BETA_TIME_CAR = (\n",
    "    BETA_TIME_CAR_REF * \n",
    "    exp(BETA_TIME_CAR_AL * est_ACTIVELIFE)\n",
    ")"
   ]
  },
  {
   "cell_type": "markdown",
   "id": "51450a5a",
   "metadata": {},
   "source": [
    "## Utility functions"
   ]
  },
  {
   "cell_type": "code",
   "execution_count": 32,
   "id": "5c9b02a1",
   "metadata": {},
   "outputs": [],
   "source": [
    "V0 = (\n",
    "    BETA_TIME_PT * TimePT_scaled\n",
    "    + BETA_WAITING_TIME * WaitingTimePT\n",
    "    + BETA_COST_HWH * MarginalCostPT_scaled * PurpHWH\n",
    "    + BETA_COST_OTHER * MarginalCostPT_scaled * PurpOther\n",
    ")\n"
   ]
  },
  {
   "cell_type": "code",
   "execution_count": 33,
   "id": "e18e805d",
   "metadata": {},
   "outputs": [],
   "source": [
    "V1 = (\n",
    "    ASC_CAR\n",
    "    + BETA_TIME_CAR * TimeCar_scaled\n",
    "    + BETA_COST_HWH * CostCarCHF_scaled * PurpHWH\n",
    "    + BETA_COST_OTHER * CostCarCHF_scaled * PurpOther\n",
    ")\n"
   ]
  },
  {
   "cell_type": "code",
   "execution_count": 34,
   "id": "cb728be3",
   "metadata": {},
   "outputs": [],
   "source": [
    "V2 = ASC_SM + BETA_DIST * distance_km_scaled\n"
   ]
  },
  {
   "cell_type": "code",
   "execution_count": 35,
   "id": "6ee6d21b",
   "metadata": {},
   "outputs": [],
   "source": [
    "V = {0: V0, 1: V1, 2: V2}"
   ]
  },
  {
   "cell_type": "markdown",
   "id": "cf6e7737",
   "metadata": {},
   "source": [
    "## Log likelihood function"
   ]
  },
  {
   "cell_type": "markdown",
   "id": "45941c39",
   "metadata": {},
   "source": [
    "Conditional to omega, we have a logit model (called the kernel)"
   ]
  },
  {
   "cell_type": "code",
   "execution_count": 36,
   "id": "7e30b4e6",
   "metadata": {},
   "outputs": [],
   "source": [
    "condprob = models.logit(V, None, Choice)"
   ]
  },
  {
   "cell_type": "markdown",
   "id": "9acb74d4",
   "metadata": {},
   "source": [
    "We integrate over omega using numerical integration"
   ]
  },
  {
   "cell_type": "code",
   "execution_count": 37,
   "id": "c33ab73f",
   "metadata": {},
   "outputs": [],
   "source": [
    "loglike = log(Integrate(condprob * density, 'omega'))"
   ]
  },
  {
   "cell_type": "markdown",
   "id": "e22f1d26",
   "metadata": {},
   "source": [
    "And we estimate the parameters."
   ]
  },
  {
   "cell_type": "code",
   "execution_count": 38,
   "id": "a0768586",
   "metadata": {},
   "outputs": [],
   "source": [
    "biogeme_m02 = bio.BIOGEME(database, loglike)\n",
    "biogeme_m02.modelName = 'm02_sequential_estimation'"
   ]
  },
  {
   "cell_type": "code",
   "execution_count": 39,
   "id": "68994ea0",
   "metadata": {},
   "outputs": [],
   "source": [
    "if read_results_from_file:\n",
    "    seqResults = get_results_from_url(\n",
    "        'm02_sequential_estimation.pickle'\n",
    "    )\n",
    "else:\n",
    "    seqResults = biogeme_m02.estimate()"
   ]
  },
  {
   "cell_type": "code",
   "execution_count": 40,
   "id": "96204e77",
   "metadata": {},
   "outputs": [
    {
     "name": "stdout",
     "output_type": "stream",
     "text": [
      "Number of estimated parameters:\t11\n",
      "Sample size:\t1906\n",
      "Excluded observations:\t359\n",
      "Init log likelihood:\t-2101.799\n",
      "Final log likelihood:\t-1119.839\n",
      "Likelihood ratio test for the init. model:\t1963.92\n",
      "Rho-square for the init. model:\t0.467\n",
      "Rho-square-bar for the init. model:\t0.462\n",
      "Akaike Information Criterion:\t2261.678\n",
      "Bayesian Information Criterion:\t2322.758\n",
      "Final gradient norm:\t9.0656E-03\n",
      "Nbr of threads:\t16\n",
      "\n"
     ]
    }
   ],
   "source": [
    "print(seqResults.printGeneralStatistics())"
   ]
  },
  {
   "cell_type": "code",
   "execution_count": 41,
   "id": "87fad736",
   "metadata": {},
   "outputs": [
    {
     "data": {
      "text/html": [
       "<div>\n",
       "<style scoped>\n",
       "    .dataframe tbody tr th:only-of-type {\n",
       "        vertical-align: middle;\n",
       "    }\n",
       "\n",
       "    .dataframe tbody tr th {\n",
       "        vertical-align: top;\n",
       "    }\n",
       "\n",
       "    .dataframe thead th {\n",
       "        text-align: right;\n",
       "    }\n",
       "</style>\n",
       "<table border=\"1\" class=\"dataframe\">\n",
       "  <thead>\n",
       "    <tr style=\"text-align: right;\">\n",
       "      <th></th>\n",
       "      <th>Value</th>\n",
       "      <th>Std err</th>\n",
       "      <th>t-test</th>\n",
       "      <th>p-value</th>\n",
       "      <th>Rob. Std err</th>\n",
       "      <th>Rob. t-test</th>\n",
       "      <th>Rob. p-value</th>\n",
       "    </tr>\n",
       "  </thead>\n",
       "  <tbody>\n",
       "    <tr>\n",
       "      <th>ASC_CAR</th>\n",
       "      <td>0.691748</td>\n",
       "      <td>0.121114</td>\n",
       "      <td>5.711560</td>\n",
       "      <td>1.119451e-08</td>\n",
       "      <td>0.125240</td>\n",
       "      <td>5.523369</td>\n",
       "      <td>3.325606e-08</td>\n",
       "    </tr>\n",
       "    <tr>\n",
       "      <th>ASC_SM</th>\n",
       "      <td>1.755680</td>\n",
       "      <td>0.238022</td>\n",
       "      <td>7.376113</td>\n",
       "      <td>1.629807e-13</td>\n",
       "      <td>0.234413</td>\n",
       "      <td>7.489682</td>\n",
       "      <td>6.905587e-14</td>\n",
       "    </tr>\n",
       "    <tr>\n",
       "      <th>BETA_COST_HWH</th>\n",
       "      <td>-1.860270</td>\n",
       "      <td>0.266549</td>\n",
       "      <td>-6.979094</td>\n",
       "      <td>2.970957e-12</td>\n",
       "      <td>0.397933</td>\n",
       "      <td>-4.674830</td>\n",
       "      <td>2.941974e-06</td>\n",
       "    </tr>\n",
       "    <tr>\n",
       "      <th>BETA_COST_OTHER</th>\n",
       "      <td>-0.989018</td>\n",
       "      <td>0.157917</td>\n",
       "      <td>-6.262891</td>\n",
       "      <td>3.779042e-10</td>\n",
       "      <td>0.248458</td>\n",
       "      <td>-3.980619</td>\n",
       "      <td>6.873615e-05</td>\n",
       "    </tr>\n",
       "    <tr>\n",
       "      <th>BETA_DIST</th>\n",
       "      <td>-5.074333</td>\n",
       "      <td>0.597694</td>\n",
       "      <td>-8.489850</td>\n",
       "      <td>0.000000e+00</td>\n",
       "      <td>0.577042</td>\n",
       "      <td>-8.793699</td>\n",
       "      <td>0.000000e+00</td>\n",
       "    </tr>\n",
       "    <tr>\n",
       "      <th>BETA_TIME_CAR_AL</th>\n",
       "      <td>0.667730</td>\n",
       "      <td>0.315177</td>\n",
       "      <td>2.118587</td>\n",
       "      <td>3.412541e-02</td>\n",
       "      <td>0.271731</td>\n",
       "      <td>2.457324</td>\n",
       "      <td>1.399763e-02</td>\n",
       "    </tr>\n",
       "    <tr>\n",
       "      <th>BETA_TIME_CAR_REF</th>\n",
       "      <td>-11.584386</td>\n",
       "      <td>1.997772</td>\n",
       "      <td>-5.798653</td>\n",
       "      <td>6.684957e-09</td>\n",
       "      <td>1.896292</td>\n",
       "      <td>-6.108967</td>\n",
       "      <td>1.002778e-09</td>\n",
       "    </tr>\n",
       "    <tr>\n",
       "      <th>BETA_TIME_PT_AL</th>\n",
       "      <td>0.648111</td>\n",
       "      <td>0.305920</td>\n",
       "      <td>2.118565</td>\n",
       "      <td>3.412724e-02</td>\n",
       "      <td>0.264178</td>\n",
       "      <td>2.453307</td>\n",
       "      <td>1.415497e-02</td>\n",
       "    </tr>\n",
       "    <tr>\n",
       "      <th>BETA_TIME_PT_REF</th>\n",
       "      <td>-3.589068</td>\n",
       "      <td>0.678779</td>\n",
       "      <td>-5.287536</td>\n",
       "      <td>1.239753e-07</td>\n",
       "      <td>0.567153</td>\n",
       "      <td>-6.328224</td>\n",
       "      <td>2.479987e-10</td>\n",
       "    </tr>\n",
       "    <tr>\n",
       "      <th>BETA_WAITING_TIME</th>\n",
       "      <td>-0.030944</td>\n",
       "      <td>0.008573</td>\n",
       "      <td>-3.609644</td>\n",
       "      <td>3.066175e-04</td>\n",
       "      <td>0.011939</td>\n",
       "      <td>-2.591918</td>\n",
       "      <td>9.544244e-03</td>\n",
       "    </tr>\n",
       "    <tr>\n",
       "      <th>sigma_s</th>\n",
       "      <td>2.059540</td>\n",
       "      <td>0.959608</td>\n",
       "      <td>2.146232</td>\n",
       "      <td>3.185451e-02</td>\n",
       "      <td>0.805627</td>\n",
       "      <td>2.556444</td>\n",
       "      <td>1.057482e-02</td>\n",
       "    </tr>\n",
       "  </tbody>\n",
       "</table>\n",
       "</div>"
      ],
      "text/plain": [
       "                       Value   Std err    t-test       p-value  Rob. Std err  \\\n",
       "ASC_CAR             0.691748  0.121114  5.711560  1.119451e-08      0.125240   \n",
       "ASC_SM              1.755680  0.238022  7.376113  1.629807e-13      0.234413   \n",
       "BETA_COST_HWH      -1.860270  0.266549 -6.979094  2.970957e-12      0.397933   \n",
       "BETA_COST_OTHER    -0.989018  0.157917 -6.262891  3.779042e-10      0.248458   \n",
       "BETA_DIST          -5.074333  0.597694 -8.489850  0.000000e+00      0.577042   \n",
       "BETA_TIME_CAR_AL    0.667730  0.315177  2.118587  3.412541e-02      0.271731   \n",
       "BETA_TIME_CAR_REF -11.584386  1.997772 -5.798653  6.684957e-09      1.896292   \n",
       "BETA_TIME_PT_AL     0.648111  0.305920  2.118565  3.412724e-02      0.264178   \n",
       "BETA_TIME_PT_REF   -3.589068  0.678779 -5.287536  1.239753e-07      0.567153   \n",
       "BETA_WAITING_TIME  -0.030944  0.008573 -3.609644  3.066175e-04      0.011939   \n",
       "sigma_s             2.059540  0.959608  2.146232  3.185451e-02      0.805627   \n",
       "\n",
       "                   Rob. t-test  Rob. p-value  \n",
       "ASC_CAR               5.523369  3.325606e-08  \n",
       "ASC_SM                7.489682  6.905587e-14  \n",
       "BETA_COST_HWH        -4.674830  2.941974e-06  \n",
       "BETA_COST_OTHER      -3.980619  6.873615e-05  \n",
       "BETA_DIST            -8.793699  0.000000e+00  \n",
       "BETA_TIME_CAR_AL      2.457324  1.399763e-02  \n",
       "BETA_TIME_CAR_REF    -6.108967  1.002778e-09  \n",
       "BETA_TIME_PT_AL       2.453307  1.415497e-02  \n",
       "BETA_TIME_PT_REF     -6.328224  2.479987e-10  \n",
       "BETA_WAITING_TIME    -2.591918  9.544244e-03  \n",
       "sigma_s               2.556444  1.057482e-02  "
      ]
     },
     "execution_count": 41,
     "metadata": {},
     "output_type": "execute_result"
    }
   ],
   "source": [
    "seqResults.getEstimatedParameters()"
   ]
  },
  {
   "cell_type": "code",
   "execution_count": 42,
   "id": "cf31a53a",
   "metadata": {},
   "outputs": [
    {
     "data": {
      "text/plain": [
       "{'ASC_CAR': 0.6917475398851577,\n",
       " 'ASC_SM': 1.7556798407020104,\n",
       " 'BETA_COST_HWH': -1.860270305188812,\n",
       " 'BETA_COST_OTHER': -0.9890184285333976,\n",
       " 'BETA_DIST': -5.074333035856518,\n",
       " 'BETA_TIME_CAR_AL': 0.6677302325521346,\n",
       " 'BETA_TIME_CAR_REF': -11.584385587754586,\n",
       " 'BETA_TIME_PT_AL': 0.6481106468376574,\n",
       " 'BETA_TIME_PT_REF': -3.5890682268388465,\n",
       " 'BETA_WAITING_TIME': -0.03094425377509753,\n",
       " 'sigma_s': 2.0595400068101823}"
      ]
     },
     "execution_count": 42,
     "metadata": {},
     "output_type": "execute_result"
    }
   ],
   "source": [
    "seqBetas = seqResults.getBetaValues()\n",
    "seqBetas"
   ]
  },
  {
   "cell_type": "markdown",
   "id": "443b0d8f",
   "metadata": {},
   "source": [
    "# Choice model, with  the latent variable model: simultaneous estimation"
   ]
  },
  {
   "cell_type": "markdown",
   "id": "4516eec1",
   "metadata": {},
   "source": [
    "## Latent variable"
   ]
  },
  {
   "cell_type": "code",
   "execution_count": 43,
   "id": "db747fba",
   "metadata": {},
   "outputs": [],
   "source": [
    "ACTIVELIFE = (\n",
    "    coef_intercept\n",
    "    + coef_child_center * childCenter\n",
    "    + coef_child_suburb * childSuburb\n",
    "    + coef_highEducation * highEducation\n",
    "    + coef_artisans * (SocioProfCat == 5)\n",
    "    + coef_employees * (SocioProfCat == 6)\n",
    "    + coef_age_30_less * (age <= 30)\n",
    "    + coef_male * male\n",
    "    + coef_haveChildren * haveChildren\n",
    "    + sigma_s * omega\n",
    ")\n",
    "\n"
   ]
  },
  {
   "cell_type": "markdown",
   "id": "4131e872",
   "metadata": {},
   "source": [
    "# Utility functions"
   ]
  },
  {
   "cell_type": "markdown",
   "id": "f77d25c9",
   "metadata": {},
   "source": [
    "Travel time coefficients"
   ]
  },
  {
   "cell_type": "code",
   "execution_count": 44,
   "id": "cdaa9be6",
   "metadata": {},
   "outputs": [],
   "source": [
    "BETA_TIME_PT_AL = Beta(\n",
    "    'BETA_TIME_PT_AL', 1, None, None, 0\n",
    ")\n",
    "BETA_TIME_CAR_AL = Beta(\n",
    "    'BETA_TIME_CAR_AL', 1, None, None, 0\n",
    ")\n",
    "BETA_TIME_PT = (\n",
    "    BETA_TIME_PT_REF * \n",
    "    exp(BETA_TIME_PT_AL * ACTIVELIFE)\n",
    ")\n",
    "BETA_TIME_CAR = (\n",
    "    BETA_TIME_CAR_REF * \n",
    "    exp(BETA_TIME_CAR_AL * ACTIVELIFE)\n",
    ")"
   ]
  },
  {
   "cell_type": "code",
   "execution_count": 45,
   "id": "91bcdc43",
   "metadata": {},
   "outputs": [],
   "source": [
    "V0 = (\n",
    "    BETA_TIME_PT * TimePT_scaled\n",
    "    + BETA_WAITING_TIME * WaitingTimePT\n",
    "    + BETA_COST_HWH * MarginalCostPT_scaled * PurpHWH\n",
    "    + BETA_COST_OTHER * MarginalCostPT_scaled * PurpOther\n",
    ")"
   ]
  },
  {
   "cell_type": "code",
   "execution_count": 46,
   "id": "b012dd3a",
   "metadata": {},
   "outputs": [],
   "source": [
    "V1 = (\n",
    "    ASC_CAR\n",
    "    + BETA_TIME_CAR * TimeCar_scaled\n",
    "    + BETA_COST_HWH * CostCarCHF_scaled * PurpHWH\n",
    "    + BETA_COST_OTHER * CostCarCHF_scaled * PurpOther\n",
    ")"
   ]
  },
  {
   "cell_type": "code",
   "execution_count": 47,
   "id": "c23f40e2",
   "metadata": {},
   "outputs": [],
   "source": [
    "V = {0: V0, 1: V1, 2: V2}"
   ]
  },
  {
   "cell_type": "markdown",
   "id": "5a16a241",
   "metadata": {},
   "source": [
    "## Log likelihood function"
   ]
  },
  {
   "cell_type": "markdown",
   "id": "cc07541c",
   "metadata": {},
   "source": [
    "Conditional to omega, we have a logit model (called the kernel) for the choice"
   ]
  },
  {
   "cell_type": "code",
   "execution_count": 48,
   "id": "7d4755de",
   "metadata": {},
   "outputs": [],
   "source": [
    "condprob = models.logit(V, None, Choice)"
   ]
  },
  {
   "cell_type": "markdown",
   "id": "77f3f829",
   "metadata": {},
   "source": [
    "Conditional to omega, we have the product of the ordered probit probability for each indicator."
   ]
  },
  {
   "cell_type": "code",
   "execution_count": 49,
   "id": "df7d8b70",
   "metadata": {},
   "outputs": [],
   "source": [
    "prob_indicators = Elem(\n",
    "    Ind[indicators[0]], \n",
    "    Variable(indicators[0])\n",
    ")\n",
    "for k in indicators[1:]:\n",
    "    prob_indicators *= Elem(Ind[k], Variable(k))\n"
   ]
  },
  {
   "cell_type": "markdown",
   "id": "979a1332",
   "metadata": {},
   "source": [
    "The likelihood, conditional on omega, is the product of the two."
   ]
  },
  {
   "cell_type": "code",
   "execution_count": 50,
   "id": "115bd92e",
   "metadata": {},
   "outputs": [],
   "source": [
    "condlike = prob_indicators * condprob"
   ]
  },
  {
   "cell_type": "markdown",
   "id": "14221439",
   "metadata": {},
   "source": [
    "We integrate over omega using numerical integration"
   ]
  },
  {
   "cell_type": "code",
   "execution_count": 51,
   "id": "e3d001c3",
   "metadata": {},
   "outputs": [],
   "source": [
    "loglike = log(Integrate(condlike * density, 'omega'))"
   ]
  },
  {
   "cell_type": "markdown",
   "id": "d8c9fd9a",
   "metadata": {},
   "source": [
    "Create the Biogeme object"
   ]
  },
  {
   "cell_type": "code",
   "execution_count": 52,
   "id": "bb87c1b8",
   "metadata": {},
   "outputs": [],
   "source": [
    "biogeme_m03 = bio.BIOGEME(database, loglike)\n",
    "biogeme_m03.modelName = 'm03_simultaneous_estimation'"
   ]
  },
  {
   "cell_type": "markdown",
   "id": "ca713fc3",
   "metadata": {},
   "source": [
    "Use the estimated values as starting values. "
   ]
  },
  {
   "cell_type": "code",
   "execution_count": 53,
   "id": "898cbd2a",
   "metadata": {},
   "outputs": [],
   "source": [
    "biogeme_m03.changeInitValues(structBetas | seqBetas)"
   ]
  },
  {
   "cell_type": "code",
   "execution_count": 54,
   "id": "afdb7963",
   "metadata": {},
   "outputs": [],
   "source": [
    "if read_results_from_file:\n",
    "    results = get_results_from_url(\n",
    "        'm03_simultaneous_estimation.pickle'\n",
    "    )\n",
    "else:\n",
    "    results = biogeme_m03.estimate()"
   ]
  },
  {
   "cell_type": "code",
   "execution_count": 55,
   "id": "1cf3ad7e",
   "metadata": {},
   "outputs": [
    {
     "name": "stdout",
     "output_type": "stream",
     "text": [
      "Number of estimated parameters:\t37\n",
      "Sample size:\t1906\n",
      "Excluded observations:\t359\n",
      "Init log likelihood:\t-15246.44\n",
      "Final log likelihood:\t-15246.39\n",
      "Likelihood ratio test for the init. model:\t0.09686514\n",
      "Rho-square for the init. model:\t3.18e-06\n",
      "Rho-square-bar for the init. model:\t-0.00242\n",
      "Akaike Information Criterion:\t30566.78\n",
      "Bayesian Information Criterion:\t30772.23\n",
      "Final gradient norm:\t2.8090E-02\n",
      "Nbr of threads:\t16\n",
      "\n"
     ]
    }
   ],
   "source": [
    "print(results.printGeneralStatistics())"
   ]
  },
  {
   "cell_type": "code",
   "execution_count": 56,
   "id": "fe32d29e",
   "metadata": {},
   "outputs": [
    {
     "data": {
      "text/html": [
       "<div>\n",
       "<style scoped>\n",
       "    .dataframe tbody tr th:only-of-type {\n",
       "        vertical-align: middle;\n",
       "    }\n",
       "\n",
       "    .dataframe tbody tr th {\n",
       "        vertical-align: top;\n",
       "    }\n",
       "\n",
       "    .dataframe thead th {\n",
       "        text-align: right;\n",
       "    }\n",
       "</style>\n",
       "<table border=\"1\" class=\"dataframe\">\n",
       "  <thead>\n",
       "    <tr style=\"text-align: right;\">\n",
       "      <th></th>\n",
       "      <th>Value</th>\n",
       "      <th>Std err</th>\n",
       "      <th>t-test</th>\n",
       "      <th>p-value</th>\n",
       "      <th>Rob. Std err</th>\n",
       "      <th>Rob. t-test</th>\n",
       "      <th>Rob. p-value</th>\n",
       "    </tr>\n",
       "  </thead>\n",
       "  <tbody>\n",
       "    <tr>\n",
       "      <th>ASC_CAR</th>\n",
       "      <td>0.694171</td>\n",
       "      <td>0.121948</td>\n",
       "      <td>5.692361</td>\n",
       "      <td>1.252945e-08</td>\n",
       "      <td>0.129368</td>\n",
       "      <td>5.365843</td>\n",
       "      <td>8.057198e-08</td>\n",
       "    </tr>\n",
       "    <tr>\n",
       "      <th>ASC_SM</th>\n",
       "      <td>1.759646</td>\n",
       "      <td>0.239427</td>\n",
       "      <td>7.349396</td>\n",
       "      <td>1.991740e-13</td>\n",
       "      <td>0.238797</td>\n",
       "      <td>7.368811</td>\n",
       "      <td>1.720846e-13</td>\n",
       "    </tr>\n",
       "    <tr>\n",
       "      <th>BETA_COST_HWH</th>\n",
       "      <td>-1.861603</td>\n",
       "      <td>0.267024</td>\n",
       "      <td>-6.971661</td>\n",
       "      <td>3.132161e-12</td>\n",
       "      <td>0.399575</td>\n",
       "      <td>-4.658959</td>\n",
       "      <td>3.178120e-06</td>\n",
       "    </tr>\n",
       "    <tr>\n",
       "      <th>BETA_COST_OTHER</th>\n",
       "      <td>-0.990762</td>\n",
       "      <td>0.158746</td>\n",
       "      <td>-6.241160</td>\n",
       "      <td>4.343368e-10</td>\n",
       "      <td>0.250101</td>\n",
       "      <td>-3.961452</td>\n",
       "      <td>7.449527e-05</td>\n",
       "    </tr>\n",
       "    <tr>\n",
       "      <th>BETA_DIST</th>\n",
       "      <td>-5.078340</td>\n",
       "      <td>0.600055</td>\n",
       "      <td>-8.463119</td>\n",
       "      <td>0.000000e+00</td>\n",
       "      <td>0.582168</td>\n",
       "      <td>-8.723158</td>\n",
       "      <td>0.000000e+00</td>\n",
       "    </tr>\n",
       "    <tr>\n",
       "      <th>BETA_TIME_CAR_AL</th>\n",
       "      <td>0.673587</td>\n",
       "      <td>0.343149</td>\n",
       "      <td>1.962959</td>\n",
       "      <td>4.965098e-02</td>\n",
       "      <td>0.324173</td>\n",
       "      <td>2.077862</td>\n",
       "      <td>3.772211e-02</td>\n",
       "    </tr>\n",
       "    <tr>\n",
       "      <th>BETA_TIME_CAR_REF</th>\n",
       "      <td>-11.585466</td>\n",
       "      <td>2.125612</td>\n",
       "      <td>-5.450415</td>\n",
       "      <td>5.025242e-08</td>\n",
       "      <td>2.098832</td>\n",
       "      <td>-5.519959</td>\n",
       "      <td>3.390787e-08</td>\n",
       "    </tr>\n",
       "    <tr>\n",
       "      <th>BETA_TIME_PT_AL</th>\n",
       "      <td>0.654151</td>\n",
       "      <td>0.333359</td>\n",
       "      <td>1.962301</td>\n",
       "      <td>4.972749e-02</td>\n",
       "      <td>0.315634</td>\n",
       "      <td>2.072497</td>\n",
       "      <td>3.821915e-02</td>\n",
       "    </tr>\n",
       "    <tr>\n",
       "      <th>BETA_TIME_PT_REF</th>\n",
       "      <td>-3.579375</td>\n",
       "      <td>0.710361</td>\n",
       "      <td>-5.038814</td>\n",
       "      <td>4.684256e-07</td>\n",
       "      <td>0.633240</td>\n",
       "      <td>-5.652478</td>\n",
       "      <td>1.581514e-08</td>\n",
       "    </tr>\n",
       "    <tr>\n",
       "      <th>BETA_WAITING_TIME</th>\n",
       "      <td>-0.031055</td>\n",
       "      <td>0.008600</td>\n",
       "      <td>-3.611173</td>\n",
       "      <td>3.048156e-04</td>\n",
       "      <td>0.012071</td>\n",
       "      <td>-2.572718</td>\n",
       "      <td>1.009035e-02</td>\n",
       "    </tr>\n",
       "    <tr>\n",
       "      <th>B_LifSty07</th>\n",
       "      <td>1.077802</td>\n",
       "      <td>0.253277</td>\n",
       "      <td>4.255435</td>\n",
       "      <td>2.086433e-05</td>\n",
       "      <td>0.321413</td>\n",
       "      <td>3.353330</td>\n",
       "      <td>7.984531e-04</td>\n",
       "    </tr>\n",
       "    <tr>\n",
       "      <th>B_LifSty10</th>\n",
       "      <td>0.654112</td>\n",
       "      <td>0.187659</td>\n",
       "      <td>3.485634</td>\n",
       "      <td>4.909718e-04</td>\n",
       "      <td>0.219196</td>\n",
       "      <td>2.984144</td>\n",
       "      <td>2.843728e-03</td>\n",
       "    </tr>\n",
       "    <tr>\n",
       "      <th>B_ResidCh04</th>\n",
       "      <td>0.246753</td>\n",
       "      <td>0.154286</td>\n",
       "      <td>1.599324</td>\n",
       "      <td>1.097486e-01</td>\n",
       "      <td>0.199352</td>\n",
       "      <td>1.237772</td>\n",
       "      <td>2.158005e-01</td>\n",
       "    </tr>\n",
       "    <tr>\n",
       "      <th>B_ResidCh05</th>\n",
       "      <td>2.195800</td>\n",
       "      <td>0.433516</td>\n",
       "      <td>5.065099</td>\n",
       "      <td>4.081892e-07</td>\n",
       "      <td>0.533246</td>\n",
       "      <td>4.117801</td>\n",
       "      <td>3.825044e-05</td>\n",
       "    </tr>\n",
       "    <tr>\n",
       "      <th>B_ResidCh06</th>\n",
       "      <td>1.596470</td>\n",
       "      <td>0.397656</td>\n",
       "      <td>4.014703</td>\n",
       "      <td>5.952065e-05</td>\n",
       "      <td>0.655733</td>\n",
       "      <td>2.434635</td>\n",
       "      <td>1.490683e-02</td>\n",
       "    </tr>\n",
       "    <tr>\n",
       "      <th>INTER_LifSty07</th>\n",
       "      <td>-0.446088</td>\n",
       "      <td>0.121869</td>\n",
       "      <td>-3.660377</td>\n",
       "      <td>2.518447e-04</td>\n",
       "      <td>0.152611</td>\n",
       "      <td>-2.923042</td>\n",
       "      <td>3.466297e-03</td>\n",
       "    </tr>\n",
       "    <tr>\n",
       "      <th>INTER_LifSty10</th>\n",
       "      <td>0.002412</td>\n",
       "      <td>0.090199</td>\n",
       "      <td>0.026739</td>\n",
       "      <td>9.786676e-01</td>\n",
       "      <td>0.102899</td>\n",
       "      <td>0.023439</td>\n",
       "      <td>9.812999e-01</td>\n",
       "    </tr>\n",
       "    <tr>\n",
       "      <th>INTER_ResidCh04</th>\n",
       "      <td>0.186374</td>\n",
       "      <td>0.074143</td>\n",
       "      <td>2.513694</td>\n",
       "      <td>1.194739e-02</td>\n",
       "      <td>0.093758</td>\n",
       "      <td>1.987824</td>\n",
       "      <td>4.683118e-02</td>\n",
       "    </tr>\n",
       "    <tr>\n",
       "      <th>INTER_ResidCh05</th>\n",
       "      <td>-0.847260</td>\n",
       "      <td>0.207712</td>\n",
       "      <td>-4.079011</td>\n",
       "      <td>4.522773e-05</td>\n",
       "      <td>0.250851</td>\n",
       "      <td>-3.377540</td>\n",
       "      <td>7.313734e-04</td>\n",
       "    </tr>\n",
       "    <tr>\n",
       "      <th>INTER_ResidCh06</th>\n",
       "      <td>0.131292</td>\n",
       "      <td>0.187784</td>\n",
       "      <td>0.699169</td>\n",
       "      <td>4.844465e-01</td>\n",
       "      <td>0.303199</td>\n",
       "      <td>0.433025</td>\n",
       "      <td>6.649969e-01</td>\n",
       "    </tr>\n",
       "    <tr>\n",
       "      <th>SIGMA_STAR_LifSty07</th>\n",
       "      <td>1.120971</td>\n",
       "      <td>0.034853</td>\n",
       "      <td>32.163261</td>\n",
       "      <td>0.000000e+00</td>\n",
       "      <td>0.032646</td>\n",
       "      <td>34.337171</td>\n",
       "      <td>0.000000e+00</td>\n",
       "    </tr>\n",
       "    <tr>\n",
       "      <th>SIGMA_STAR_LifSty10</th>\n",
       "      <td>0.975340</td>\n",
       "      <td>0.028079</td>\n",
       "      <td>34.735210</td>\n",
       "      <td>0.000000e+00</td>\n",
       "      <td>0.026102</td>\n",
       "      <td>37.366199</td>\n",
       "      <td>0.000000e+00</td>\n",
       "    </tr>\n",
       "    <tr>\n",
       "      <th>SIGMA_STAR_ResidCh04</th>\n",
       "      <td>0.938975</td>\n",
       "      <td>0.026671</td>\n",
       "      <td>35.205703</td>\n",
       "      <td>0.000000e+00</td>\n",
       "      <td>0.024690</td>\n",
       "      <td>38.030609</td>\n",
       "      <td>0.000000e+00</td>\n",
       "    </tr>\n",
       "    <tr>\n",
       "      <th>SIGMA_STAR_ResidCh05</th>\n",
       "      <td>1.367927</td>\n",
       "      <td>0.051592</td>\n",
       "      <td>26.514457</td>\n",
       "      <td>0.000000e+00</td>\n",
       "      <td>0.052568</td>\n",
       "      <td>26.021966</td>\n",
       "      <td>0.000000e+00</td>\n",
       "    </tr>\n",
       "    <tr>\n",
       "      <th>SIGMA_STAR_ResidCh06</th>\n",
       "      <td>1.361966</td>\n",
       "      <td>0.041864</td>\n",
       "      <td>32.532986</td>\n",
       "      <td>0.000000e+00</td>\n",
       "      <td>0.038185</td>\n",
       "      <td>35.667503</td>\n",
       "      <td>0.000000e+00</td>\n",
       "    </tr>\n",
       "    <tr>\n",
       "      <th>coef_age_30_less</th>\n",
       "      <td>0.433309</td>\n",
       "      <td>0.085798</td>\n",
       "      <td>5.050339</td>\n",
       "      <td>4.410258e-07</td>\n",
       "      <td>0.141758</td>\n",
       "      <td>3.056685</td>\n",
       "      <td>2.237997e-03</td>\n",
       "    </tr>\n",
       "    <tr>\n",
       "      <th>coef_artisans</th>\n",
       "      <td>-0.108069</td>\n",
       "      <td>0.051710</td>\n",
       "      <td>-2.089909</td>\n",
       "      <td>3.662601e-02</td>\n",
       "      <td>0.062127</td>\n",
       "      <td>-1.739485</td>\n",
       "      <td>8.194956e-02</td>\n",
       "    </tr>\n",
       "    <tr>\n",
       "      <th>coef_child_center</th>\n",
       "      <td>0.193143</td>\n",
       "      <td>0.040282</td>\n",
       "      <td>4.794814</td>\n",
       "      <td>1.628261e-06</td>\n",
       "      <td>0.048436</td>\n",
       "      <td>3.987621</td>\n",
       "      <td>6.673922e-05</td>\n",
       "    </tr>\n",
       "    <tr>\n",
       "      <th>coef_child_suburb</th>\n",
       "      <td>0.113062</td>\n",
       "      <td>0.028333</td>\n",
       "      <td>3.990436</td>\n",
       "      <td>6.595206e-05</td>\n",
       "      <td>0.039904</td>\n",
       "      <td>2.833362</td>\n",
       "      <td>4.606122e-03</td>\n",
       "    </tr>\n",
       "    <tr>\n",
       "      <th>coef_employees</th>\n",
       "      <td>-0.051461</td>\n",
       "      <td>0.024318</td>\n",
       "      <td>-2.116200</td>\n",
       "      <td>3.432779e-02</td>\n",
       "      <td>0.033690</td>\n",
       "      <td>-1.527481</td>\n",
       "      <td>1.266415e-01</td>\n",
       "    </tr>\n",
       "    <tr>\n",
       "      <th>coef_haveChildren</th>\n",
       "      <td>-0.052330</td>\n",
       "      <td>0.022005</td>\n",
       "      <td>-2.378149</td>\n",
       "      <td>1.739979e-02</td>\n",
       "      <td>0.029288</td>\n",
       "      <td>-1.786733</td>\n",
       "      <td>7.398066e-02</td>\n",
       "    </tr>\n",
       "    <tr>\n",
       "      <th>coef_highEducation</th>\n",
       "      <td>-0.064791</td>\n",
       "      <td>0.028444</td>\n",
       "      <td>-2.277812</td>\n",
       "      <td>2.273778e-02</td>\n",
       "      <td>0.042970</td>\n",
       "      <td>-1.507822</td>\n",
       "      <td>1.316001e-01</td>\n",
       "    </tr>\n",
       "    <tr>\n",
       "      <th>coef_intercept</th>\n",
       "      <td>-0.553536</td>\n",
       "      <td>0.039561</td>\n",
       "      <td>-13.992021</td>\n",
       "      <td>0.000000e+00</td>\n",
       "      <td>0.050084</td>\n",
       "      <td>-11.052148</td>\n",
       "      <td>0.000000e+00</td>\n",
       "    </tr>\n",
       "    <tr>\n",
       "      <th>coef_male</th>\n",
       "      <td>0.116744</td>\n",
       "      <td>0.031431</td>\n",
       "      <td>3.714261</td>\n",
       "      <td>2.037983e-04</td>\n",
       "      <td>0.049516</td>\n",
       "      <td>2.357732</td>\n",
       "      <td>1.838695e-02</td>\n",
       "    </tr>\n",
       "    <tr>\n",
       "      <th>delta_1</th>\n",
       "      <td>0.484434</td>\n",
       "      <td>0.011731</td>\n",
       "      <td>41.296486</td>\n",
       "      <td>0.000000e+00</td>\n",
       "      <td>0.012075</td>\n",
       "      <td>40.117340</td>\n",
       "      <td>0.000000e+00</td>\n",
       "    </tr>\n",
       "    <tr>\n",
       "      <th>delta_2</th>\n",
       "      <td>1.017233</td>\n",
       "      <td>0.023033</td>\n",
       "      <td>44.163400</td>\n",
       "      <td>0.000000e+00</td>\n",
       "      <td>0.024383</td>\n",
       "      <td>41.718637</td>\n",
       "      <td>0.000000e+00</td>\n",
       "    </tr>\n",
       "    <tr>\n",
       "      <th>sigma_s</th>\n",
       "      <td>2.042936</td>\n",
       "      <td>1.029512</td>\n",
       "      <td>1.984373</td>\n",
       "      <td>4.721424e-02</td>\n",
       "      <td>0.956570</td>\n",
       "      <td>2.135688</td>\n",
       "      <td>3.270486e-02</td>\n",
       "    </tr>\n",
       "  </tbody>\n",
       "</table>\n",
       "</div>"
      ],
      "text/plain": [
       "                          Value   Std err     t-test       p-value  \\\n",
       "ASC_CAR                0.694171  0.121948   5.692361  1.252945e-08   \n",
       "ASC_SM                 1.759646  0.239427   7.349396  1.991740e-13   \n",
       "BETA_COST_HWH         -1.861603  0.267024  -6.971661  3.132161e-12   \n",
       "BETA_COST_OTHER       -0.990762  0.158746  -6.241160  4.343368e-10   \n",
       "BETA_DIST             -5.078340  0.600055  -8.463119  0.000000e+00   \n",
       "BETA_TIME_CAR_AL       0.673587  0.343149   1.962959  4.965098e-02   \n",
       "BETA_TIME_CAR_REF    -11.585466  2.125612  -5.450415  5.025242e-08   \n",
       "BETA_TIME_PT_AL        0.654151  0.333359   1.962301  4.972749e-02   \n",
       "BETA_TIME_PT_REF      -3.579375  0.710361  -5.038814  4.684256e-07   \n",
       "BETA_WAITING_TIME     -0.031055  0.008600  -3.611173  3.048156e-04   \n",
       "B_LifSty07             1.077802  0.253277   4.255435  2.086433e-05   \n",
       "B_LifSty10             0.654112  0.187659   3.485634  4.909718e-04   \n",
       "B_ResidCh04            0.246753  0.154286   1.599324  1.097486e-01   \n",
       "B_ResidCh05            2.195800  0.433516   5.065099  4.081892e-07   \n",
       "B_ResidCh06            1.596470  0.397656   4.014703  5.952065e-05   \n",
       "INTER_LifSty07        -0.446088  0.121869  -3.660377  2.518447e-04   \n",
       "INTER_LifSty10         0.002412  0.090199   0.026739  9.786676e-01   \n",
       "INTER_ResidCh04        0.186374  0.074143   2.513694  1.194739e-02   \n",
       "INTER_ResidCh05       -0.847260  0.207712  -4.079011  4.522773e-05   \n",
       "INTER_ResidCh06        0.131292  0.187784   0.699169  4.844465e-01   \n",
       "SIGMA_STAR_LifSty07    1.120971  0.034853  32.163261  0.000000e+00   \n",
       "SIGMA_STAR_LifSty10    0.975340  0.028079  34.735210  0.000000e+00   \n",
       "SIGMA_STAR_ResidCh04   0.938975  0.026671  35.205703  0.000000e+00   \n",
       "SIGMA_STAR_ResidCh05   1.367927  0.051592  26.514457  0.000000e+00   \n",
       "SIGMA_STAR_ResidCh06   1.361966  0.041864  32.532986  0.000000e+00   \n",
       "coef_age_30_less       0.433309  0.085798   5.050339  4.410258e-07   \n",
       "coef_artisans         -0.108069  0.051710  -2.089909  3.662601e-02   \n",
       "coef_child_center      0.193143  0.040282   4.794814  1.628261e-06   \n",
       "coef_child_suburb      0.113062  0.028333   3.990436  6.595206e-05   \n",
       "coef_employees        -0.051461  0.024318  -2.116200  3.432779e-02   \n",
       "coef_haveChildren     -0.052330  0.022005  -2.378149  1.739979e-02   \n",
       "coef_highEducation    -0.064791  0.028444  -2.277812  2.273778e-02   \n",
       "coef_intercept        -0.553536  0.039561 -13.992021  0.000000e+00   \n",
       "coef_male              0.116744  0.031431   3.714261  2.037983e-04   \n",
       "delta_1                0.484434  0.011731  41.296486  0.000000e+00   \n",
       "delta_2                1.017233  0.023033  44.163400  0.000000e+00   \n",
       "sigma_s                2.042936  1.029512   1.984373  4.721424e-02   \n",
       "\n",
       "                      Rob. Std err  Rob. t-test  Rob. p-value  \n",
       "ASC_CAR                   0.129368     5.365843  8.057198e-08  \n",
       "ASC_SM                    0.238797     7.368811  1.720846e-13  \n",
       "BETA_COST_HWH             0.399575    -4.658959  3.178120e-06  \n",
       "BETA_COST_OTHER           0.250101    -3.961452  7.449527e-05  \n",
       "BETA_DIST                 0.582168    -8.723158  0.000000e+00  \n",
       "BETA_TIME_CAR_AL          0.324173     2.077862  3.772211e-02  \n",
       "BETA_TIME_CAR_REF         2.098832    -5.519959  3.390787e-08  \n",
       "BETA_TIME_PT_AL           0.315634     2.072497  3.821915e-02  \n",
       "BETA_TIME_PT_REF          0.633240    -5.652478  1.581514e-08  \n",
       "BETA_WAITING_TIME         0.012071    -2.572718  1.009035e-02  \n",
       "B_LifSty07                0.321413     3.353330  7.984531e-04  \n",
       "B_LifSty10                0.219196     2.984144  2.843728e-03  \n",
       "B_ResidCh04               0.199352     1.237772  2.158005e-01  \n",
       "B_ResidCh05               0.533246     4.117801  3.825044e-05  \n",
       "B_ResidCh06               0.655733     2.434635  1.490683e-02  \n",
       "INTER_LifSty07            0.152611    -2.923042  3.466297e-03  \n",
       "INTER_LifSty10            0.102899     0.023439  9.812999e-01  \n",
       "INTER_ResidCh04           0.093758     1.987824  4.683118e-02  \n",
       "INTER_ResidCh05           0.250851    -3.377540  7.313734e-04  \n",
       "INTER_ResidCh06           0.303199     0.433025  6.649969e-01  \n",
       "SIGMA_STAR_LifSty07       0.032646    34.337171  0.000000e+00  \n",
       "SIGMA_STAR_LifSty10       0.026102    37.366199  0.000000e+00  \n",
       "SIGMA_STAR_ResidCh04      0.024690    38.030609  0.000000e+00  \n",
       "SIGMA_STAR_ResidCh05      0.052568    26.021966  0.000000e+00  \n",
       "SIGMA_STAR_ResidCh06      0.038185    35.667503  0.000000e+00  \n",
       "coef_age_30_less          0.141758     3.056685  2.237997e-03  \n",
       "coef_artisans             0.062127    -1.739485  8.194956e-02  \n",
       "coef_child_center         0.048436     3.987621  6.673922e-05  \n",
       "coef_child_suburb         0.039904     2.833362  4.606122e-03  \n",
       "coef_employees            0.033690    -1.527481  1.266415e-01  \n",
       "coef_haveChildren         0.029288    -1.786733  7.398066e-02  \n",
       "coef_highEducation        0.042970    -1.507822  1.316001e-01  \n",
       "coef_intercept            0.050084   -11.052148  0.000000e+00  \n",
       "coef_male                 0.049516     2.357732  1.838695e-02  \n",
       "delta_1                   0.012075    40.117340  0.000000e+00  \n",
       "delta_2                   0.024383    41.718637  0.000000e+00  \n",
       "sigma_s                   0.956570     2.135688  3.270486e-02  "
      ]
     },
     "execution_count": 56,
     "metadata": {},
     "output_type": "execute_result"
    }
   ],
   "source": [
    "results.getEstimatedParameters()"
   ]
  },
  {
   "cell_type": "markdown",
   "id": "4a15a2c0",
   "metadata": {},
   "source": [
    "# Simulation"
   ]
  },
  {
   "cell_type": "markdown",
   "id": "3277f1d0",
   "metadata": {},
   "source": [
    "In order to illustrate the latent variables, we calculate the average value of the ACTIVELIFE latent variable (that is, without the error term) for each individual in the sample."
   ]
  },
  {
   "cell_type": "code",
   "execution_count": 57,
   "id": "ec340608",
   "metadata": {},
   "outputs": [],
   "source": [
    "ACTIVELIFE = (\n",
    "    coef_intercept\n",
    "    + coef_child_center * childCenter\n",
    "    + coef_child_suburb * childSuburb\n",
    "    + coef_highEducation * highEducation\n",
    "    + coef_artisans * (SocioProfCat == 5)\n",
    "    + coef_employees * (SocioProfCat == 6)\n",
    "    + coef_age_30_less * (age <= 30)\n",
    "    + coef_male * male\n",
    "    + coef_haveChildren * haveChildren\n",
    ")"
   ]
  },
  {
   "cell_type": "code",
   "execution_count": 58,
   "id": "72d8ca20",
   "metadata": {},
   "outputs": [],
   "source": [
    "simulate = {'ACTIVELIFE': ACTIVELIFE}"
   ]
  },
  {
   "cell_type": "code",
   "execution_count": 59,
   "id": "d122d855",
   "metadata": {},
   "outputs": [],
   "source": [
    "biosim = bio.BIOGEME(database, simulate)"
   ]
  },
  {
   "cell_type": "code",
   "execution_count": 60,
   "id": "b5be6381",
   "metadata": {},
   "outputs": [],
   "source": [
    "simresults = biosim.simulate(\n",
    "    theBetaValues=results.getBetaValues()\n",
    ")"
   ]
  },
  {
   "cell_type": "code",
   "execution_count": 61,
   "id": "2f35c43d",
   "metadata": {},
   "outputs": [
    {
     "data": {
      "text/html": [
       "<div>\n",
       "<style scoped>\n",
       "    .dataframe tbody tr th:only-of-type {\n",
       "        vertical-align: middle;\n",
       "    }\n",
       "\n",
       "    .dataframe tbody tr th {\n",
       "        vertical-align: top;\n",
       "    }\n",
       "\n",
       "    .dataframe thead th {\n",
       "        text-align: right;\n",
       "    }\n",
       "</style>\n",
       "<table border=\"1\" class=\"dataframe\">\n",
       "  <thead>\n",
       "    <tr style=\"text-align: right;\">\n",
       "      <th></th>\n",
       "      <th>ACTIVELIFE</th>\n",
       "    </tr>\n",
       "  </thead>\n",
       "  <tbody>\n",
       "    <tr>\n",
       "      <th>count</th>\n",
       "      <td>1906.000000</td>\n",
       "    </tr>\n",
       "    <tr>\n",
       "      <th>mean</th>\n",
       "      <td>-0.444100</td>\n",
       "    </tr>\n",
       "    <tr>\n",
       "      <th>std</th>\n",
       "      <td>0.175964</td>\n",
       "    </tr>\n",
       "    <tr>\n",
       "      <th>min</th>\n",
       "      <td>-0.722118</td>\n",
       "    </tr>\n",
       "    <tr>\n",
       "      <th>25%</th>\n",
       "      <td>-0.553913</td>\n",
       "    </tr>\n",
       "    <tr>\n",
       "      <th>50%</th>\n",
       "      <td>-0.489122</td>\n",
       "    </tr>\n",
       "    <tr>\n",
       "      <th>75%</th>\n",
       "      <td>-0.376059</td>\n",
       "    </tr>\n",
       "    <tr>\n",
       "      <th>max</th>\n",
       "      <td>0.189660</td>\n",
       "    </tr>\n",
       "  </tbody>\n",
       "</table>\n",
       "</div>"
      ],
      "text/plain": [
       "        ACTIVELIFE\n",
       "count  1906.000000\n",
       "mean     -0.444100\n",
       "std       0.175964\n",
       "min      -0.722118\n",
       "25%      -0.553913\n",
       "50%      -0.489122\n",
       "75%      -0.376059\n",
       "max       0.189660"
      ]
     },
     "execution_count": 61,
     "metadata": {},
     "output_type": "execute_result"
    }
   ],
   "source": [
    "simresults.describe()"
   ]
  },
  {
   "cell_type": "code",
   "execution_count": 62,
   "id": "0003ce83",
   "metadata": {},
   "outputs": [
    {
     "data": {
      "image/png": "[encoded data removed]",
      "text/plain": [
       "<Figure size 432x288 with 1 Axes>"
      ]
     },
     "metadata": {
      "needs_background": "light"
     },
     "output_type": "display_data"
    }
   ],
   "source": [
    "_ = simresults.hist()"
   ]
  }
 ],
 "metadata": {
  "kernelspec": {
   "display_name": "Python 3 (ipykernel)",
   "language": "python",
   "name": "python3"
  },
  "language_info": {
   "codemirror_mode": {
    "name": "ipython",
    "version": 3
   },
   "file_extension": ".py",
   "mimetype": "text/x-python",
   "name": "python",
   "nbconvert_exporter": "python",
   "pygments_lexer": "ipython3",
   "version": "3.9.6"
  }
 },
 "nbformat": 4,
 "nbformat_minor": 5
}
