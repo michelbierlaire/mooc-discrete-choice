{
 "cells": [
  {
   "cell_type": "code",
   "execution_count": 1,
   "metadata": {},
   "outputs": [],
   "source": [
    "import pandas as pd\n",
    "import numpy as np"
   ]
  },
  {
   "cell_type": "code",
   "execution_count": 2,
   "metadata": {},
   "outputs": [],
   "source": [
    "url = ('https://raw.githubusercontent.com/michelbierlaire/mooc-discrete-choice/master/'\n",
    "       'syntheticPopulationWithChoice.zip')\n",
    "population = pd.read_csv(url)"
   ]
  },
  {
   "cell_type": "code",
   "execution_count": 3,
   "metadata": {},
   "outputs": [],
   "source": [
    "populationSize = population.shape[0]\n",
    "sampleSize = 1000"
   ]
  },
  {
   "cell_type": "markdown",
   "metadata": {},
   "source": [
    "# Simple random sample"
   ]
  },
  {
   "cell_type": "markdown",
   "metadata": {},
   "source": [
    "## Calculation of the sampling probabilities"
   ]
  },
  {
   "cell_type": "markdown",
   "metadata": {},
   "source": [
    "Simple random sample assigns the same probability to be sampled to each individual. We store it in the column <code>SRS</code>."
   ]
  },
  {
   "cell_type": "code",
   "execution_count": 4,
   "metadata": {},
   "outputs": [],
   "source": [
    "population['SRS'] = sampleSize / populationSize"
   ]
  },
  {
   "cell_type": "markdown",
   "metadata": {},
   "source": [
    "We use the sample function of Pandas."
   ]
  },
  {
   "cell_type": "code",
   "execution_count": 5,
   "metadata": {},
   "outputs": [
    {
     "data": {
      "text/plain": [
       "(1000, 18)"
      ]
     },
     "execution_count": 5,
     "metadata": {},
     "output_type": "execute_result"
    }
   ],
   "source": [
    "srsData = population.sample(n=1000)\n",
    "srsData.shape"
   ]
  },
  {
   "cell_type": "code",
   "execution_count": 6,
   "metadata": {},
   "outputs": [],
   "source": [
    "srsData.to_csv('srsData.csv', index=False)"
   ]
  },
  {
   "cell_type": "markdown",
   "metadata": {},
   "source": [
    "# Sampling function"
   ]
  },
  {
   "cell_type": "markdown",
   "metadata": {},
   "source": [
    "We first define a generic function for stratified sampling. It takes as arguments: \n",
    "\n",
    "- the name of the sampling scheme, that is used to create new columns in the database,\n",
    "- the mask identifying the entries in the database corresponding with each group,\n",
    "- the target shares for each group in the sample (the length of the list must be the number of groups).\n",
    "\n",
    "The function returns $W$, the share of each group in the population, and the sample.\n",
    "\n",
    "If the name of the sampling scheme is SS, say, two columns are added to the database: \n",
    "\n",
    "- the column <code>SS</code> contains the sampling probability of each individual,\n",
    "- the column <code>SSGroup</code> contains the ID of the group of each individual.\n",
    "\n",
    "Note the function <code>sampleStratum</code> that takes a stratum as argument and samples from it. The statement <code>x[groupname].mean()</code> retrieves the group ID from the column <code>SSGRoup</code>, so that the requested group size in the sample can be obtained. Two special cases need to be addressed: \n",
    "\n",
    "- if the requested size is zero, the function returns <code>None</code>,\n",
    "- if the requested size exceeds the number of individuals actually present in this group in the population, the whole group is returned."
   ]
  },
  {
   "cell_type": "code",
   "execution_count": 7,
   "metadata": {},
   "outputs": [],
   "source": [
    "def sample(name, mask, H):\n",
    "    # name: name of the sampling scheme\n",
    "    # mask: list of masks identifying the strata\n",
    "    # H: target shares for each stratum\n",
    "    groupname = f'{name}Group'\n",
    "    # Calculate the share of each group in the population\n",
    "    W = [None] * len(mask)\n",
    "    for i, m in enumerate(mask):\n",
    "        W[i] = population[m].shape[0] / populationSize\n",
    "        population.loc[m, groupname] = i\n",
    "    # Sampling probabilities\n",
    "    for s in range(4):\n",
    "        population.loc[mask[s], name] = (\n",
    "            H[s] * sampleSize / (W[s] * populationSize)\n",
    "        )\n",
    "    # Sampling\n",
    "    groupsize = np.array(H) * sampleSize\n",
    "\n",
    "    def sampleStratum(x):\n",
    "        # The statement 'int(x[groupname].mean())' retrieves the index of\n",
    "        # the group.\n",
    "        size = int(groupsize[int(x[groupname].mean())])\n",
    "        print(f'Sample {size} out of {x.shape[0]}')\n",
    "        if size == 0:\n",
    "            return None\n",
    "        if size > x.shape[0]:\n",
    "            print(\n",
    "                'Warning: not enough individual in stratum '\n",
    "                'to reach the requirements'\n",
    "            )\n",
    "            return x\n",
    "        return x.sample(n=size)\n",
    "\n",
    "    return (\n",
    "        W,\n",
    "        (\n",
    "            population.groupby(groupname)\n",
    "            .apply(sampleStratum)\n",
    "            .reset_index(drop=True)\n",
    "        ),\n",
    "    )\n"
   ]
  },
  {
   "cell_type": "markdown",
   "metadata": {},
   "source": [
    "# Exogenously stratified Sample"
   ]
  },
  {
   "cell_type": "markdown",
   "metadata": {},
   "source": [
    "The strata are defined based on trip purpose and car availability. As the choice is not involved in the definition of strata, the stratified sampling is *exogenous*."
   ]
  },
  {
   "cell_type": "code",
   "execution_count": 8,
   "metadata": {},
   "outputs": [],
   "source": [
    "mask = [None]*4"
   ]
  },
  {
   "cell_type": "markdown",
   "metadata": {},
   "source": [
    "Group 0: TripPurpose = work (1), CarAvail = yes (1) "
   ]
  },
  {
   "cell_type": "code",
   "execution_count": 9,
   "metadata": {},
   "outputs": [],
   "source": [
    "mask[0] = (population['TripPurpose'] == 1) & (population['CarAvail'] == 1)"
   ]
  },
  {
   "cell_type": "markdown",
   "metadata": {},
   "source": [
    "Group 1: TripPurpose = work (1), CarAvail = no (not 1) "
   ]
  },
  {
   "cell_type": "code",
   "execution_count": 10,
   "metadata": {},
   "outputs": [],
   "source": [
    "mask[1] = (population['TripPurpose'] == 1) & (population['CarAvail'] != 1)"
   ]
  },
  {
   "cell_type": "markdown",
   "metadata": {},
   "source": [
    "Group 2: TripPurpose = other (not 1), CarAvail = yes (1) "
   ]
  },
  {
   "cell_type": "code",
   "execution_count": 11,
   "metadata": {},
   "outputs": [],
   "source": [
    "mask[2] = (population['TripPurpose'] != 1) & (population['CarAvail'] == 1)"
   ]
  },
  {
   "cell_type": "markdown",
   "metadata": {},
   "source": [
    "Group 3: TripPurpose = other (not 1), CarAvail = no (not 1) "
   ]
  },
  {
   "cell_type": "code",
   "execution_count": 12,
   "metadata": {},
   "outputs": [],
   "source": [
    "mask[3] = (population['TripPurpose'] != 1) & (population['CarAvail'] != 1)"
   ]
  },
  {
   "cell_type": "markdown",
   "metadata": {},
   "source": [
    "Target shares in the sample: 25% for each stratum"
   ]
  },
  {
   "cell_type": "code",
   "execution_count": 13,
   "metadata": {},
   "outputs": [],
   "source": [
    "H = [0.25]*4"
   ]
  },
  {
   "cell_type": "markdown",
   "metadata": {},
   "source": [
    "Sampling"
   ]
  },
  {
   "cell_type": "code",
   "execution_count": 14,
   "metadata": {},
   "outputs": [
    {
     "name": "stdout",
     "output_type": "stream",
     "text": [
      "Sample 250 out of 322501\n",
      "Sample 250 out of 21023\n",
      "Sample 250 out of 626213\n",
      "Sample 250 out of 30263\n"
     ]
    }
   ],
   "source": [
    "W, sampleXSS = sample('XSS', mask, H)"
   ]
  },
  {
   "cell_type": "code",
   "execution_count": 15,
   "metadata": {},
   "outputs": [
    {
     "data": {
      "text/plain": [
       "[0.322501, 0.021023, 0.626213, 0.030263]"
      ]
     },
     "execution_count": 15,
     "metadata": {},
     "output_type": "execute_result"
    }
   ],
   "source": [
    "W"
   ]
  },
  {
   "cell_type": "markdown",
   "metadata": {},
   "source": [
    "Checksum: they should add up to one."
   ]
  },
  {
   "cell_type": "code",
   "execution_count": 16,
   "metadata": {
    "scrolled": true
   },
   "outputs": [
    {
     "data": {
      "text/plain": [
       "1.0"
      ]
     },
     "execution_count": 16,
     "metadata": {},
     "output_type": "execute_result"
    }
   ],
   "source": [
    "sum(W)"
   ]
  },
  {
   "cell_type": "markdown",
   "metadata": {},
   "source": [
    "We verify the sample size"
   ]
  },
  {
   "cell_type": "code",
   "execution_count": 17,
   "metadata": {},
   "outputs": [
    {
     "data": {
      "text/plain": [
       "1000"
      ]
     },
     "execution_count": 17,
     "metadata": {},
     "output_type": "execute_result"
    }
   ],
   "source": [
    "sampleXSS.shape[0]"
   ]
  },
  {
   "cell_type": "markdown",
   "metadata": {},
   "source": [
    "We verify the share of each group in the sample"
   ]
  },
  {
   "cell_type": "code",
   "execution_count": 18,
   "metadata": {},
   "outputs": [
    {
     "data": {
      "text/plain": [
       "[0.25, 0.25, 0.25, 0.25]"
      ]
     },
     "execution_count": 18,
     "metadata": {},
     "output_type": "execute_result"
    }
   ],
   "source": [
    "actualShares = list(sampleXSS.groupby('XSSGroup').size() / sampleSize)\n",
    "actualShares"
   ]
  },
  {
   "cell_type": "markdown",
   "metadata": {},
   "source": [
    "We save the sample on file"
   ]
  },
  {
   "cell_type": "code",
   "execution_count": 19,
   "metadata": {},
   "outputs": [],
   "source": [
    "sampleXSS.to_csv('sampleXSS.csv', index=False)"
   ]
  },
  {
   "cell_type": "markdown",
   "metadata": {},
   "source": [
    "## Endogenously stratified Sample 1"
   ]
  },
  {
   "cell_type": "markdown",
   "metadata": {},
   "source": [
    "The strata are defined based on car availability and the chosen alternative.  As the choice is involved in the definition of strata, the stratified sampling is *endogenous*."
   ]
  },
  {
   "cell_type": "code",
   "execution_count": 20,
   "metadata": {},
   "outputs": [],
   "source": [
    "mask = [None] * 6"
   ]
  },
  {
   "cell_type": "markdown",
   "metadata": {},
   "source": [
    "Group 0: CarAvail = yes (1), Choice = public transportation (0) "
   ]
  },
  {
   "cell_type": "code",
   "execution_count": 21,
   "metadata": {},
   "outputs": [],
   "source": [
    "mask[0] = (population['CarAvail'] == 1) & (population['Choice'] == 0)"
   ]
  },
  {
   "cell_type": "markdown",
   "metadata": {},
   "source": [
    "Group 1: CarAvail = yes (1), Choice = car (1) "
   ]
  },
  {
   "cell_type": "code",
   "execution_count": 22,
   "metadata": {},
   "outputs": [],
   "source": [
    "mask[1] = (population['CarAvail'] == 1) & (population['Choice'] == 1)"
   ]
  },
  {
   "cell_type": "markdown",
   "metadata": {},
   "source": [
    "Group 2: CarAvail = yes (1), Choice = slow mode (2) "
   ]
  },
  {
   "cell_type": "code",
   "execution_count": 23,
   "metadata": {},
   "outputs": [],
   "source": [
    "mask[2] = (population['CarAvail'] == 1) & (population['Choice'] == 2)"
   ]
  },
  {
   "cell_type": "markdown",
   "metadata": {},
   "source": [
    "Group 3: CarAvail = no (not 1), Choice = public transportation (0) "
   ]
  },
  {
   "cell_type": "code",
   "execution_count": 24,
   "metadata": {},
   "outputs": [],
   "source": [
    "mask[3] = (population['CarAvail'] != 1) & (population['Choice'] == 0)"
   ]
  },
  {
   "cell_type": "markdown",
   "metadata": {},
   "source": [
    "Group 4: CarAvail = no (not 1), Choice = car (1) "
   ]
  },
  {
   "cell_type": "code",
   "execution_count": 25,
   "metadata": {},
   "outputs": [],
   "source": [
    "mask[4] = (population['CarAvail'] != 1) & (population['Choice'] == 1)"
   ]
  },
  {
   "cell_type": "markdown",
   "metadata": {},
   "source": [
    "Note: there is no individual in group 4. Indeed, if no car is available, car cannot be chosen."
   ]
  },
  {
   "cell_type": "markdown",
   "metadata": {},
   "source": [
    "Group 5: CarAvail = no (not 1), Choice = slow mode (2) "
   ]
  },
  {
   "cell_type": "code",
   "execution_count": 26,
   "metadata": {},
   "outputs": [],
   "source": [
    "mask[5] = (population['CarAvail'] != 1) & (population['Choice'] == 2)"
   ]
  },
  {
   "cell_type": "markdown",
   "metadata": {},
   "source": [
    "Target shares in the sample: there are 5 non empty strata, taking 20% each"
   ]
  },
  {
   "cell_type": "code",
   "execution_count": 27,
   "metadata": {},
   "outputs": [],
   "source": [
    "H = [0.2, 0.2, 0.2, 0.2, 0.0, 0.2]"
   ]
  },
  {
   "cell_type": "code",
   "execution_count": 28,
   "metadata": {},
   "outputs": [
    {
     "name": "stdout",
     "output_type": "stream",
     "text": [
      "Sample 200 out of 234751\n",
      "Sample 200 out of 649256\n",
      "Sample 200 out of 64707\n",
      "Sample 200 out of 50920\n",
      "Sample 200 out of 366\n"
     ]
    }
   ],
   "source": [
    "W, sampleESS = sample('ESS', mask, H)"
   ]
  },
  {
   "cell_type": "code",
   "execution_count": 29,
   "metadata": {},
   "outputs": [
    {
     "data": {
      "text/plain": [
       "[0.234751, 0.649256, 0.064707, 0.05092, 0.0, 0.000366]"
      ]
     },
     "execution_count": 29,
     "metadata": {},
     "output_type": "execute_result"
    }
   ],
   "source": [
    "W"
   ]
  },
  {
   "cell_type": "markdown",
   "metadata": {},
   "source": [
    "Checksum: they should add up to one."
   ]
  },
  {
   "cell_type": "code",
   "execution_count": 30,
   "metadata": {
    "scrolled": true
   },
   "outputs": [
    {
     "data": {
      "text/plain": [
       "0.9999999999999999"
      ]
     },
     "execution_count": 30,
     "metadata": {},
     "output_type": "execute_result"
    }
   ],
   "source": [
    "sum(W)"
   ]
  },
  {
   "cell_type": "markdown",
   "metadata": {},
   "source": [
    "We verify the sample size"
   ]
  },
  {
   "cell_type": "code",
   "execution_count": 31,
   "metadata": {},
   "outputs": [
    {
     "data": {
      "text/plain": [
       "1000"
      ]
     },
     "execution_count": 31,
     "metadata": {},
     "output_type": "execute_result"
    }
   ],
   "source": [
    "sampleESS.shape[0]"
   ]
  },
  {
   "cell_type": "markdown",
   "metadata": {},
   "source": [
    "We verify the share of each group in the sample"
   ]
  },
  {
   "cell_type": "code",
   "execution_count": 32,
   "metadata": {},
   "outputs": [
    {
     "data": {
      "text/plain": [
       "[0.2, 0.2, 0.2, 0.2, 0.2]"
      ]
     },
     "execution_count": 32,
     "metadata": {},
     "output_type": "execute_result"
    }
   ],
   "source": [
    "actualShares = list(sampleESS.groupby('ESSGroup').size() / sampleSize)\n",
    "actualShares"
   ]
  },
  {
   "cell_type": "markdown",
   "metadata": {},
   "source": [
    "We save the sample on file"
   ]
  },
  {
   "cell_type": "code",
   "execution_count": 33,
   "metadata": {},
   "outputs": [],
   "source": [
    "sampleESS.to_csv('sampleESS.csv', index=False)"
   ]
  },
  {
   "cell_type": "markdown",
   "metadata": {},
   "source": [
    "## Endogenously stratified Sample 2"
   ]
  },
  {
   "cell_type": "markdown",
   "metadata": {},
   "source": [
    "The strata are defined based on the trip purpose, the language and the chosen alternative.   As the choice is involved in the definition of strata, the stratified sampling is *endogenous*."
   ]
  },
  {
   "cell_type": "code",
   "execution_count": 34,
   "metadata": {},
   "outputs": [],
   "source": [
    "mask = [None] * 12"
   ]
  },
  {
   "cell_type": "markdown",
   "metadata": {},
   "source": [
    "Group 0: CarAvail = yes (1), language = French (1), Choice = public transportation (0) "
   ]
  },
  {
   "cell_type": "code",
   "execution_count": 35,
   "metadata": {},
   "outputs": [],
   "source": [
    "mask[0] = (population['CarAvail'] == 1) & (population['LangCode'] == 1) & (population['Choice'] == 0)"
   ]
  },
  {
   "cell_type": "markdown",
   "metadata": {},
   "source": [
    "Group 1: CarAvail = yes (1), language = French (1), Choice = car (1) "
   ]
  },
  {
   "cell_type": "code",
   "execution_count": 36,
   "metadata": {},
   "outputs": [],
   "source": [
    "mask[1] = (population['CarAvail'] == 1) & (population['LangCode'] == 1) & (population['Choice'] == 1)"
   ]
  },
  {
   "cell_type": "markdown",
   "metadata": {},
   "source": [
    "Group 2: CarAvail = yes (1), language = French (1), Choice = slow mode (2) "
   ]
  },
  {
   "cell_type": "code",
   "execution_count": 37,
   "metadata": {},
   "outputs": [],
   "source": [
    "mask[2] = (population['CarAvail'] == 1) & (population['LangCode'] == 1) & (population['Choice'] == 2)"
   ]
  },
  {
   "cell_type": "markdown",
   "metadata": {},
   "source": [
    "Group 3: CarAvail = no (not 1), language = French (1), Choice = public transportation (0) "
   ]
  },
  {
   "cell_type": "code",
   "execution_count": 38,
   "metadata": {},
   "outputs": [],
   "source": [
    "mask[3] = (population['CarAvail'] != 1) & (population['LangCode'] == 1) & (population['Choice'] == 0)"
   ]
  },
  {
   "cell_type": "markdown",
   "metadata": {},
   "source": [
    "Group 4: CarAvail = no (not 1), language = French (1), Choice = car (1) "
   ]
  },
  {
   "cell_type": "code",
   "execution_count": 39,
   "metadata": {},
   "outputs": [],
   "source": [
    "mask[4] = (population['CarAvail'] != 3) & (population['LangCode'] == 1) & (population['Choice'] == 1)"
   ]
  },
  {
   "cell_type": "markdown",
   "metadata": {},
   "source": [
    "There is  no individual in group 4. Indeed, if no car is available, car cannot be chosen."
   ]
  },
  {
   "cell_type": "markdown",
   "metadata": {},
   "source": [
    "Group 5: CarAvail = no (not 1), language = French (1), Choice = slow mode (2) "
   ]
  },
  {
   "cell_type": "code",
   "execution_count": 40,
   "metadata": {},
   "outputs": [],
   "source": [
    "mask[5] = (population['CarAvail'] != 1) & (population['LangCode'] == 1) & (population['Choice'] == 2)"
   ]
  },
  {
   "cell_type": "markdown",
   "metadata": {},
   "source": [
    "Group 6: CarAvail = yes (1), language = German (2), Choice = public transportation (0) "
   ]
  },
  {
   "cell_type": "code",
   "execution_count": 41,
   "metadata": {},
   "outputs": [],
   "source": [
    "mask[6] = (population['CarAvail'] == 1) & (population['LangCode'] == 2) & (population['Choice'] == 0)"
   ]
  },
  {
   "cell_type": "markdown",
   "metadata": {},
   "source": [
    "Group 7: CarAvail = yes (1), language = German (2), Choice = car (1) "
   ]
  },
  {
   "cell_type": "code",
   "execution_count": 42,
   "metadata": {},
   "outputs": [],
   "source": [
    "mask[7] = (population['CarAvail'] == 1) & (population['LangCode'] == 2) & (population['Choice'] == 1)"
   ]
  },
  {
   "cell_type": "markdown",
   "metadata": {},
   "source": [
    "Group 8: CarAvail = yes (1), language = German (2), Choice = slow mode (2) "
   ]
  },
  {
   "cell_type": "code",
   "execution_count": 43,
   "metadata": {},
   "outputs": [],
   "source": [
    "mask[8] = (population['CarAvail'] == 1) & (population['LangCode'] == 2) & (population['Choice'] == 2)"
   ]
  },
  {
   "cell_type": "markdown",
   "metadata": {},
   "source": [
    "Group 9: CarAvail = no (not 1), language = German (2), Choice = public transportation (0) "
   ]
  },
  {
   "cell_type": "code",
   "execution_count": 44,
   "metadata": {},
   "outputs": [],
   "source": [
    "mask[9] = (population['CarAvail'] != 1) & (population['LangCode'] == 2) & (population['Choice'] == 0)"
   ]
  },
  {
   "cell_type": "markdown",
   "metadata": {},
   "source": [
    "Group 10: CarAvail = no (not 1), language = German (2), Choice = car (1) "
   ]
  },
  {
   "cell_type": "code",
   "execution_count": 45,
   "metadata": {},
   "outputs": [],
   "source": [
    "mask[10] = (population['CarAvail'] != 1) & (population['LangCode'] == 2) & (population['Choice'] == 1)"
   ]
  },
  {
   "cell_type": "markdown",
   "metadata": {},
   "source": [
    "There is  no individual in group 10. Indeed, if no car is available, car cannot be chosen."
   ]
  },
  {
   "cell_type": "markdown",
   "metadata": {},
   "source": [
    "Group 11: CarAvail = no (not 1), language = German (2), Choice = slow mode (2) "
   ]
  },
  {
   "cell_type": "code",
   "execution_count": 46,
   "metadata": {},
   "outputs": [],
   "source": [
    "mask[11] = (population['CarAvail'] != 1) & (population['LangCode'] == 2) & (population['Choice'] == 2)"
   ]
  },
  {
   "cell_type": "markdown",
   "metadata": {},
   "source": [
    "Target shares in the sample: there are 10 non empty strata, taking 10% each"
   ]
  },
  {
   "cell_type": "code",
   "execution_count": 47,
   "metadata": {},
   "outputs": [],
   "source": [
    "H = [0.1, 0.1, 0.1, 0.1, 0.0, 0.1, 0.1, 0.1, 0.1, 0.1, 0.0, 0.1]"
   ]
  },
  {
   "cell_type": "code",
   "execution_count": 48,
   "metadata": {},
   "outputs": [
    {
     "name": "stdout",
     "output_type": "stream",
     "text": [
      "Sample 100 out of 38401\n",
      "Sample 100 out of 9632\n",
      "Sample 100 out of 5707\n",
      "Sample 0 out of 201857\n",
      "Sample 100 out of 10\n",
      "Warning: not enough individual in stratum to reach the requirements\n",
      "Sample 100 out of 196350\n",
      "Sample 100 out of 447399\n",
      "Sample 100 out of 55075\n",
      "Sample 100 out of 45213\n",
      "Sample 100 out of 356\n"
     ]
    }
   ],
   "source": [
    "W, sampleESS2 = sample('ESS2', mask, H)"
   ]
  },
  {
   "cell_type": "code",
   "execution_count": 49,
   "metadata": {},
   "outputs": [
    {
     "data": {
      "text/plain": [
       "[0.038401,\n",
       " 0.201857,\n",
       " 0.009632,\n",
       " 0.005707,\n",
       " 0.201857,\n",
       " 1e-05,\n",
       " 0.19635,\n",
       " 0.447399,\n",
       " 0.055075,\n",
       " 0.045213,\n",
       " 0.0,\n",
       " 0.000356]"
      ]
     },
     "execution_count": 49,
     "metadata": {},
     "output_type": "execute_result"
    }
   ],
   "source": [
    "W"
   ]
  },
  {
   "cell_type": "markdown",
   "metadata": {},
   "source": [
    "Checksum: they should add up to one."
   ]
  },
  {
   "cell_type": "code",
   "execution_count": 50,
   "metadata": {
    "scrolled": true
   },
   "outputs": [
    {
     "data": {
      "text/plain": [
       "1.201857"
      ]
     },
     "execution_count": 50,
     "metadata": {},
     "output_type": "execute_result"
    }
   ],
   "source": [
    "sum(W)"
   ]
  },
  {
   "cell_type": "markdown",
   "metadata": {},
   "source": [
    "We verify the sample size. In this case, we did not manage to sample 100 individuals from 4, as this group is composed of only 10 individuals in the population. We are therefore missing 90 individuals in the sample, compared to the original request."
   ]
  },
  {
   "cell_type": "code",
   "execution_count": 51,
   "metadata": {},
   "outputs": [
    {
     "data": {
      "text/plain": [
       "810"
      ]
     },
     "execution_count": 51,
     "metadata": {},
     "output_type": "execute_result"
    }
   ],
   "source": [
    "sampleESS2.shape[0]"
   ]
  },
  {
   "cell_type": "markdown",
   "metadata": {},
   "source": [
    "We verify the share of each stratum in the sample. In this case, the last stratum did not contain enough individuals to fulfill the requirement."
   ]
  },
  {
   "cell_type": "code",
   "execution_count": 52,
   "metadata": {},
   "outputs": [
    {
     "data": {
      "text/plain": [
       "[0.2, 0.1, 0.2, 0.2, 0.11]"
      ]
     },
     "execution_count": 52,
     "metadata": {},
     "output_type": "execute_result"
    }
   ],
   "source": [
    "actualShares = list(sampleESS2.groupby('ESSGroup').size() / sampleSize)\n",
    "actualShares"
   ]
  },
  {
   "cell_type": "markdown",
   "metadata": {},
   "source": [
    "We save the sample on file"
   ]
  },
  {
   "cell_type": "code",
   "execution_count": 53,
   "metadata": {},
   "outputs": [],
   "source": [
    "sampleESS2.to_csv('sampleESS2.csv', index=False)"
   ]
  }
 ],
 "metadata": {
  "kernelspec": {
   "display_name": "Python 3",
   "language": "python",
   "name": "python3"
  },
  "language_info": {
   "codemirror_mode": {
    "name": "ipython",
    "version": 3
   },
   "file_extension": ".py",
   "mimetype": "text/x-python",
   "name": "python",
   "nbconvert_exporter": "python",
   "pygments_lexer": "ipython3",
   "version": "3.9.5"
  }
 },
 "nbformat": 4,
 "nbformat_minor": 4
}
