{
 "cells": [
  {
   "cell_type": "code",
   "execution_count": 1,
   "id": "9007aaba",
   "metadata": {},
   "outputs": [],
   "source": [
    "import pandas as pd\n",
    "import pickle\n",
    "from urllib.request import urlopen\n",
    "import biogeme.database as db\n",
    "import biogeme.biogeme as bio\n",
    "import biogeme.results as res\n",
    "from biogeme.expressions import (\n",
    "    Beta,\n",
    "    log,\n",
    "    DefineVariable,\n",
    ")\n",
    "import biogeme.messaging as msg\n",
    "from biogeme import models\n"
   ]
  },
  {
   "cell_type": "markdown",
   "id": "7842d22f",
   "metadata": {},
   "source": [
    "Consider the logit model introduced below. The data is stated preferences data, where each individual has responded to several questions. This creates serial correlation. You are asked to modify the specification in order to capture this serial correlation, and to estimate the parameters of the new model."
   ]
  },
  {
   "cell_type": "markdown",
   "id": "357ab5d1",
   "metadata": {},
   "source": [
    "Note that the identifier for each individual is found in column ``ID``. "
   ]
  },
  {
   "cell_type": "code",
   "execution_count": 2,
   "id": "ab62b0ac",
   "metadata": {},
   "outputs": [],
   "source": [
    "url_root = (\n",
    "    'https://courses.edx.org/'\n",
    "    'asset-v1:EPFLx+ChoiceModels2x+3T2021+type@asset+block@'\n",
    ")"
   ]
  },
  {
   "cell_type": "markdown",
   "id": "ca1f51b6",
   "metadata": {},
   "source": [
    "# Read the data"
   ]
  },
  {
   "cell_type": "code",
   "execution_count": 3,
   "id": "fba63c03",
   "metadata": {},
   "outputs": [],
   "source": [
    "theData = pd.read_table(f'{url_root}swissmetro.dat')\n",
    "database = db.Database('swissmetro', theData)\n",
    "globals().update(database.variables)\n"
   ]
  },
  {
   "cell_type": "markdown",
   "id": "acf26fce",
   "metadata": {},
   "source": [
    "Exclude several observations"
   ]
  },
  {
   "cell_type": "code",
   "execution_count": 4,
   "id": "381b0f83",
   "metadata": {},
   "outputs": [],
   "source": [
    "exclude = ((PURPOSE != 1) * (PURPOSE != 3) + (CHOICE == 0)) > 0\n",
    "database.remove(exclude)"
   ]
  },
  {
   "cell_type": "markdown",
   "id": "67efebde",
   "metadata": {},
   "source": [
    "# Model specification"
   ]
  },
  {
   "cell_type": "markdown",
   "id": "e4ba0cdc",
   "metadata": {},
   "source": [
    "Parameters to be estimated."
   ]
  },
  {
   "cell_type": "code",
   "execution_count": 5,
   "id": "2946ac9a",
   "metadata": {},
   "outputs": [],
   "source": [
    "ASC_CAR = Beta('ASC_CAR', 0.0, None, None, 0)\n",
    "ASC_SM = Beta('ASC_SM', 0.0, None, None, 0)\n",
    "BETA_CAR_COST = Beta('BETA_CAR_COST', 0.0, None, None, 0)\n",
    "BETA_HE = Beta('BETA_HE', 0.0, None, None, 0)\n",
    "BETA_SM_COST = Beta('BETA_SM_COST', 0.0, None, None, 0)\n",
    "BETA_TIME = Beta('BETA_TIME', 0.0, None, None, 0)\n",
    "BETA_TRAIN_COST = Beta('BETA_TRAIN_COST', 0.0, None, None, 0)"
   ]
  },
  {
   "cell_type": "markdown",
   "id": "52623926",
   "metadata": {},
   "source": [
    "Define new variables. In order to speed up the estimation process, the new variables are stored in new columns of the database, using the expression ``DefineVariable``. It avoids to recalculate them at each iteration of the algorithm. "
   ]
  },
  {
   "cell_type": "code",
   "execution_count": 6,
   "id": "25e87e02",
   "metadata": {},
   "outputs": [],
   "source": [
    "CAR_AV_SP = DefineVariable(\n",
    "    'CAR_AV_SP',\n",
    "    CAR_AV * (SP != 0),\n",
    "    database,\n",
    ")\n",
    "SM_COST = DefineVariable(\n",
    "    'SM_COST',\n",
    "    SM_CO * (GA == 0),\n",
    "    database,\n",
    ")\n",
    "TRAIN_AV_SP = DefineVariable(\n",
    "    'TRAIN_AV_SP',\n",
    "    TRAIN_AV * (SP != 0),\n",
    "    database,\n",
    ")\n",
    "TRAIN_COST = DefineVariable(\n",
    "    'TRAIN_COST',\n",
    "    TRAIN_CO * (GA == 0),\n",
    "    database,\n",
    ")\n",
    "\n",
    "TRAIN_TT_SCALED = DefineVariable(\n",
    "    'TRAIN_TT_SCALED',\n",
    "    TRAIN_TT / 100.0,\n",
    "    database,\n",
    ")\n",
    "TRAIN_COST_SCALED = DefineVariable(\n",
    "    'TRAIN_COST_SCALED', TRAIN_COST / 100, database\n",
    ")\n",
    "SM_TT_SCALED = DefineVariable(\n",
    "    'SM_TT_SCALED',\n",
    "    SM_TT / 100.0,\n",
    "    database,\n",
    ")\n",
    "SM_COST_SCALED = DefineVariable(\n",
    "    'SM_COST_SCALED',\n",
    "    SM_COST / 100,\n",
    "    database,\n",
    ")\n",
    "CAR_TT_SCALED = DefineVariable(\n",
    "    'CAR_TT_SCALED',\n",
    "    CAR_TT / 100,\n",
    "    database,\n",
    ")\n",
    "CAR_CO_SCALED = DefineVariable(\n",
    "    'CAR_CO_SCALED',\n",
    "    CAR_CO / 100,\n",
    "    database,\n",
    ")\n",
    "TRAIN_HE_SCALED = DefineVariable(\n",
    "    'TRAIN_HE_SCALED',\n",
    "    TRAIN_HE / 100,\n",
    "    database,\n",
    ")\n",
    "SM_HE_SCALED = DefineVariable(\n",
    "    'SM_HE_SCALED',\n",
    "    SM_HE / 100,\n",
    "    database,\n",
    ")\n"
   ]
  },
  {
   "cell_type": "markdown",
   "id": "b39f83df",
   "metadata": {},
   "source": [
    "Utility functions"
   ]
  },
  {
   "cell_type": "code",
   "execution_count": 7,
   "id": "0ae2a8ed",
   "metadata": {},
   "outputs": [],
   "source": [
    "V_Car_SP = (\n",
    "    ASC_CAR\n",
    "    + BETA_TIME * CAR_TT_SCALED\n",
    "    + BETA_CAR_COST * CAR_CO_SCALED\n",
    ")\n",
    "V_SBB_SP = (\n",
    "    BETA_TIME * TRAIN_TT_SCALED\n",
    "    + BETA_TRAIN_COST * TRAIN_COST_SCALED\n",
    "    + BETA_HE * TRAIN_HE_SCALED\n",
    ")\n",
    "V_SM_SP = (\n",
    "    ASC_SM\n",
    "    + BETA_TIME * SM_TT_SCALED\n",
    "    + BETA_SM_COST * SM_COST_SCALED\n",
    "    + BETA_HE * SM_HE_SCALED\n",
    ")\n",
    "#\n",
    "V = {3: V_Car_SP, 1: V_SBB_SP, 2: V_SM_SP}\n",
    "av = {3: CAR_AV_SP, 1: TRAIN_AV_SP, 2: SM_AV}\n"
   ]
  },
  {
   "cell_type": "markdown",
   "id": "02c369b8",
   "metadata": {},
   "source": [
    "The choice probability for each observation is given by a logit model, conditional on the agent effect."
   ]
  },
  {
   "cell_type": "code",
   "execution_count": 8,
   "id": "6c61e22c",
   "metadata": {},
   "outputs": [],
   "source": [
    "logprob = models.loglogit(V, av, CHOICE)"
   ]
  },
  {
   "cell_type": "code",
   "execution_count": 9,
   "id": "b9268f78",
   "metadata": {},
   "outputs": [],
   "source": [
    "biogeme = bio.BIOGEME(database, logprob)\n",
    "biogeme.modelName = 'logit'\n",
    "results = biogeme.estimate()\n"
   ]
  },
  {
   "cell_type": "code",
   "execution_count": 10,
   "id": "a4a76af9",
   "metadata": {
    "scrolled": true
   },
   "outputs": [
    {
     "name": "stdout",
     "output_type": "stream",
     "text": [
      "Number of estimated parameters:\t7\n",
      "Sample size:\t6768\n",
      "Excluded observations:\t3960\n",
      "Init log likelihood:\t-6964.663\n",
      "Final log likelihood:\t-5068.559\n",
      "Likelihood ratio test for the init. model:\t3792.209\n",
      "Rho-square for the init. model:\t0.272\n",
      "Rho-square-bar for the init. model:\t0.271\n",
      "Akaike Information Criterion:\t10151.12\n",
      "Bayesian Information Criterion:\t10198.86\n",
      "Final gradient norm:\t1.2900E-02\n",
      "Nbr of threads:\t16\n",
      "\n"
     ]
    }
   ],
   "source": [
    "print(results.printGeneralStatistics())"
   ]
  },
  {
   "cell_type": "code",
   "execution_count": 11,
   "id": "004cc7ef",
   "metadata": {},
   "outputs": [
    {
     "data": {
      "text/html": [
       "<div>\n",
       "<style scoped>\n",
       "    .dataframe tbody tr th:only-of-type {\n",
       "        vertical-align: middle;\n",
       "    }\n",
       "\n",
       "    .dataframe tbody tr th {\n",
       "        vertical-align: top;\n",
       "    }\n",
       "\n",
       "    .dataframe thead th {\n",
       "        text-align: right;\n",
       "    }\n",
       "</style>\n",
       "<table border=\"1\" class=\"dataframe\">\n",
       "  <thead>\n",
       "    <tr style=\"text-align: right;\">\n",
       "      <th></th>\n",
       "      <th>Value</th>\n",
       "      <th>Std err</th>\n",
       "      <th>t-test</th>\n",
       "      <th>p-value</th>\n",
       "      <th>Rob. Std err</th>\n",
       "      <th>Rob. t-test</th>\n",
       "      <th>Rob. p-value</th>\n",
       "    </tr>\n",
       "  </thead>\n",
       "  <tbody>\n",
       "    <tr>\n",
       "      <th>ASC_CAR</th>\n",
       "      <td>-0.971210</td>\n",
       "      <td>0.114883</td>\n",
       "      <td>-8.453894</td>\n",
       "      <td>0.000000e+00</td>\n",
       "      <td>0.134449</td>\n",
       "      <td>-7.223614</td>\n",
       "      <td>5.062617e-13</td>\n",
       "    </tr>\n",
       "    <tr>\n",
       "      <th>ASC_SM</th>\n",
       "      <td>-0.444070</td>\n",
       "      <td>0.080233</td>\n",
       "      <td>-5.534775</td>\n",
       "      <td>3.116279e-08</td>\n",
       "      <td>0.102341</td>\n",
       "      <td>-4.339139</td>\n",
       "      <td>1.430420e-05</td>\n",
       "    </tr>\n",
       "    <tr>\n",
       "      <th>BETA_CAR_COST</th>\n",
       "      <td>-0.948548</td>\n",
       "      <td>0.090329</td>\n",
       "      <td>-10.501002</td>\n",
       "      <td>0.000000e+00</td>\n",
       "      <td>0.115599</td>\n",
       "      <td>-8.205529</td>\n",
       "      <td>2.220446e-16</td>\n",
       "    </tr>\n",
       "    <tr>\n",
       "      <th>BETA_HE</th>\n",
       "      <td>-0.542112</td>\n",
       "      <td>0.100386</td>\n",
       "      <td>-5.400258</td>\n",
       "      <td>6.654498e-08</td>\n",
       "      <td>0.101233</td>\n",
       "      <td>-5.355091</td>\n",
       "      <td>8.551318e-08</td>\n",
       "    </tr>\n",
       "    <tr>\n",
       "      <th>BETA_SM_COST</th>\n",
       "      <td>-1.089252</td>\n",
       "      <td>0.052616</td>\n",
       "      <td>-20.702053</td>\n",
       "      <td>0.000000e+00</td>\n",
       "      <td>0.070339</td>\n",
       "      <td>-15.485737</td>\n",
       "      <td>0.000000e+00</td>\n",
       "    </tr>\n",
       "    <tr>\n",
       "      <th>BETA_TIME</th>\n",
       "      <td>-1.112112</td>\n",
       "      <td>0.060944</td>\n",
       "      <td>-18.247961</td>\n",
       "      <td>0.000000e+00</td>\n",
       "      <td>0.120101</td>\n",
       "      <td>-9.259816</td>\n",
       "      <td>0.000000e+00</td>\n",
       "    </tr>\n",
       "    <tr>\n",
       "      <th>BETA_TRAIN_COST</th>\n",
       "      <td>-2.932868</td>\n",
       "      <td>0.112530</td>\n",
       "      <td>-26.062910</td>\n",
       "      <td>0.000000e+00</td>\n",
       "      <td>0.169339</td>\n",
       "      <td>-17.319523</td>\n",
       "      <td>0.000000e+00</td>\n",
       "    </tr>\n",
       "  </tbody>\n",
       "</table>\n",
       "</div>"
      ],
      "text/plain": [
       "                    Value   Std err     t-test       p-value  Rob. Std err  \\\n",
       "ASC_CAR         -0.971210  0.114883  -8.453894  0.000000e+00      0.134449   \n",
       "ASC_SM          -0.444070  0.080233  -5.534775  3.116279e-08      0.102341   \n",
       "BETA_CAR_COST   -0.948548  0.090329 -10.501002  0.000000e+00      0.115599   \n",
       "BETA_HE         -0.542112  0.100386  -5.400258  6.654498e-08      0.101233   \n",
       "BETA_SM_COST    -1.089252  0.052616 -20.702053  0.000000e+00      0.070339   \n",
       "BETA_TIME       -1.112112  0.060944 -18.247961  0.000000e+00      0.120101   \n",
       "BETA_TRAIN_COST -2.932868  0.112530 -26.062910  0.000000e+00      0.169339   \n",
       "\n",
       "                 Rob. t-test  Rob. p-value  \n",
       "ASC_CAR            -7.223614  5.062617e-13  \n",
       "ASC_SM             -4.339139  1.430420e-05  \n",
       "BETA_CAR_COST      -8.205529  2.220446e-16  \n",
       "BETA_HE            -5.355091  8.551318e-08  \n",
       "BETA_SM_COST      -15.485737  0.000000e+00  \n",
       "BETA_TIME          -9.259816  0.000000e+00  \n",
       "BETA_TRAIN_COST   -17.319523  0.000000e+00  "
      ]
     },
     "execution_count": 11,
     "metadata": {},
     "output_type": "execute_result"
    }
   ],
   "source": [
    "results.getEstimatedParameters()"
   ]
  }
 ],
 "metadata": {
  "kernelspec": {
   "display_name": "Python 3",
   "language": "python",
   "name": "python3"
  },
  "language_info": {
   "codemirror_mode": {
    "name": "ipython",
    "version": 3
   },
   "file_extension": ".py",
   "mimetype": "text/x-python",
   "name": "python",
   "nbconvert_exporter": "python",
   "pygments_lexer": "ipython3",
   "version": "3.9.5"
  }
 },
 "nbformat": 4,
 "nbformat_minor": 5
}
