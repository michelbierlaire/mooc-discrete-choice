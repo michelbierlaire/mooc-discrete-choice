{
 "cells": [
  {
   "cell_type": "code",
   "execution_count": 1,
   "id": "specialized-slope",
   "metadata": {},
   "outputs": [],
   "source": [
    "import sympy as sy"
   ]
  },
  {
   "cell_type": "markdown",
   "id": "prospective-throw",
   "metadata": {},
   "source": [
    "The error component specification is\n",
    "$$\n",
    "\\begin{align*}\n",
    "\\varepsilon_c &= \\xi_E + \\nu_c \\\\\n",
    "\\varepsilon_t &= \\xi_E + \\xi_P + \\nu_t \\\\\n",
    "\\varepsilon_s &= \\xi_P + \\nu_s\n",
    "\\end{align*}\n",
    "$$\n",
    "where $\\xi \\sim N(0, T T^T)$ or, equivalently,\n",
    "$$\n",
    "\\begin{align*}\n",
    "\\varepsilon_c &= \\sigma_E\\zeta_E + \\nu_c \\\\\n",
    "\\varepsilon_t &= \\sigma_E\\zeta_E + \\sigma_P\\zeta_P + \\nu_t \\\\\n",
    "\\varepsilon_s &= \\sigma_P\\zeta_P + \\nu_s\n",
    "\\end{align*}\n",
    "$$\n",
    "where $\\zeta\\sim N(0, I)$."
   ]
  },
  {
   "cell_type": "markdown",
   "id": "polyphonic-option",
   "metadata": {},
   "source": [
    "We first define the symbols used in the specification of the error terms"
   ]
  },
  {
   "cell_type": "code",
   "execution_count": 2,
   "id": "naughty-institution",
   "metadata": {},
   "outputs": [],
   "source": [
    "sigma_E = sy.symbols('sigma_E')\n",
    "sigma_P = sy.symbols('sigma_P')\n",
    "mu = sy.symbols('mu')\n",
    "pi = sy.symbols('pi')"
   ]
  },
  {
   "cell_type": "markdown",
   "id": "later-marking",
   "metadata": {},
   "source": [
    "The number of alternatives"
   ]
  },
  {
   "cell_type": "code",
   "execution_count": 3,
   "id": "compressed-mainstream",
   "metadata": {},
   "outputs": [],
   "source": [
    "J = 3"
   ]
  },
  {
   "cell_type": "markdown",
   "id": "pressing-criterion",
   "metadata": {},
   "source": [
    "We now consider the factor analytic specification: $$U_n = V_n + F T \\zeta_n + \\nu_n.$$"
   ]
  },
  {
   "cell_type": "markdown",
   "id": "canadian-monitoring",
   "metadata": {},
   "source": [
    "The scale matrix is"
   ]
  },
  {
   "cell_type": "code",
   "execution_count": 4,
   "id": "printable-livestock",
   "metadata": {},
   "outputs": [
    {
     "data": {
      "text/latex": [
       "$\\displaystyle \\left[\\begin{matrix}\\sigma_{E} & 0\\\\0 & \\sigma_{P}\\end{matrix}\\right]$"
      ],
      "text/plain": [
       "Matrix([\n",
       "[sigma_E,       0],\n",
       "[      0, sigma_P]])"
      ]
     },
     "execution_count": 4,
     "metadata": {},
     "output_type": "execute_result"
    }
   ],
   "source": [
    "T = sy.Matrix([[sigma_E, 0], [0, sigma_P]])\n",
    "T"
   ]
  },
  {
   "cell_type": "markdown",
   "id": "coastal-lover",
   "metadata": {},
   "source": [
    "The factor loadings matrix is"
   ]
  },
  {
   "cell_type": "code",
   "execution_count": 5,
   "id": "independent-sympathy",
   "metadata": {},
   "outputs": [
    {
     "data": {
      "text/latex": [
       "$\\displaystyle \\left[\\begin{matrix}1 & 0\\\\1 & 1\\\\0 & 1\\end{matrix}\\right]$"
      ],
      "text/plain": [
       "Matrix([\n",
       "[1, 0],\n",
       "[1, 1],\n",
       "[0, 1]])"
      ]
     },
     "execution_count": 5,
     "metadata": {},
     "output_type": "execute_result"
    }
   ],
   "source": [
    "F = sy.Matrix([[1, 0], [1, 1], [0, 1]])\n",
    "F"
   ]
  },
  {
   "cell_type": "markdown",
   "id": "generous-presentation",
   "metadata": {},
   "source": [
    "The variance-covariance matrix of the Extreme Value component is "
   ]
  },
  {
   "cell_type": "code",
   "execution_count": 6,
   "id": "naked-illness",
   "metadata": {},
   "outputs": [
    {
     "data": {
      "text/latex": [
       "$\\displaystyle \\left[\\begin{matrix}\\frac{\\pi^{2}}{6 \\mu^{2}} & 0 & 0\\\\0 & \\frac{\\pi^{2}}{6 \\mu^{2}} & 0\\\\0 & 0 & \\frac{\\pi^{2}}{6 \\mu^{2}}\\end{matrix}\\right]$"
      ],
      "text/plain": [
       "Matrix([\n",
       "[pi**2/(6*mu**2),               0,               0],\n",
       "[              0, pi**2/(6*mu**2),               0],\n",
       "[              0,               0, pi**2/(6*mu**2)]])"
      ]
     },
     "execution_count": 6,
     "metadata": {},
     "output_type": "execute_result"
    }
   ],
   "source": [
    "nu = pi**2 / (6 * mu**2) * sy.eye(J)\n",
    "nu"
   ]
  },
  {
   "cell_type": "markdown",
   "id": "selected-orlando",
   "metadata": {},
   "source": [
    "The variance-covariance matrix of the normal component is "
   ]
  },
  {
   "cell_type": "code",
   "execution_count": 7,
   "id": "heavy-thought",
   "metadata": {},
   "outputs": [
    {
     "data": {
      "text/latex": [
       "$\\displaystyle \\left[\\begin{matrix}\\sigma_{E}^{2} & \\sigma_{E}^{2} & 0\\\\\\sigma_{E}^{2} & \\sigma_{E}^{2} + \\sigma_{P}^{2} & \\sigma_{P}^{2}\\\\0 & \\sigma_{P}^{2} & \\sigma_{P}^{2}\\end{matrix}\\right]$"
      ],
      "text/plain": [
       "Matrix([\n",
       "[sigma_E**2,              sigma_E**2,          0],\n",
       "[sigma_E**2, sigma_E**2 + sigma_P**2, sigma_P**2],\n",
       "[         0,              sigma_P**2, sigma_P**2]])"
      ]
     },
     "execution_count": 7,
     "metadata": {},
     "output_type": "execute_result"
    }
   ],
   "source": [
    "sigma = F * T * T.T * F.T\n",
    "sigma"
   ]
  },
  {
   "cell_type": "markdown",
   "id": "assumed-cleaners",
   "metadata": {},
   "source": [
    "The variance-covariance matrix of the utility vector is the sum of the two:"
   ]
  },
  {
   "cell_type": "code",
   "execution_count": 8,
   "id": "quiet-elevation",
   "metadata": {},
   "outputs": [
    {
     "data": {
      "text/latex": [
       "$\\displaystyle \\left[\\begin{matrix}\\sigma_{E}^{2} + \\frac{\\pi^{2}}{6 \\mu^{2}} & \\sigma_{E}^{2} & 0\\\\\\sigma_{E}^{2} & \\sigma_{E}^{2} + \\sigma_{P}^{2} + \\frac{\\pi^{2}}{6 \\mu^{2}} & \\sigma_{P}^{2}\\\\0 & \\sigma_{P}^{2} & \\sigma_{P}^{2} + \\frac{\\pi^{2}}{6 \\mu^{2}}\\end{matrix}\\right]$"
      ],
      "text/plain": [
       "Matrix([\n",
       "[sigma_E**2 + pi**2/(6*mu**2),                                sigma_E**2,                            0],\n",
       "[                  sigma_E**2, sigma_E**2 + sigma_P**2 + pi**2/(6*mu**2),                   sigma_P**2],\n",
       "[                           0,                                sigma_P**2, sigma_P**2 + pi**2/(6*mu**2)]])"
      ]
     },
     "execution_count": 8,
     "metadata": {},
     "output_type": "execute_result"
    }
   ],
   "source": [
    "covar = sigma + nu\n",
    "covar"
   ]
  },
  {
   "cell_type": "markdown",
   "id": "vertical-cliff",
   "metadata": {},
   "source": [
    "The $\\Delta$ operator"
   ]
  },
  {
   "cell_type": "code",
   "execution_count": 9,
   "id": "characteristic-slovak",
   "metadata": {},
   "outputs": [],
   "source": [
    "def delta(i, J):\n",
    "    d = sy.eye(J - 1)\n",
    "    d = d.col_insert(i - 1, sy.Matrix([-1] * (J-1)))\n",
    "    return d"
   ]
  },
  {
   "cell_type": "markdown",
   "id": "0e7edfc9",
   "metadata": {},
   "source": [
    "Example of $\\Delta$ operator when the reference alternative is $c=1$:"
   ]
  },
  {
   "cell_type": "code",
   "execution_count": 10,
   "id": "laughing-assurance",
   "metadata": {},
   "outputs": [
    {
     "data": {
      "text/latex": [
       "$\\displaystyle \\left[\\begin{matrix}-1 & 1 & 0\\\\-1 & 0 & 1\\end{matrix}\\right]$"
      ],
      "text/plain": [
       "Matrix([\n",
       "[-1, 1, 0],\n",
       "[-1, 0, 1]])"
      ]
     },
     "execution_count": 10,
     "metadata": {},
     "output_type": "execute_result"
    }
   ],
   "source": [
    "deltac = delta(1, J)\n",
    "deltac"
   ]
  },
  {
   "cell_type": "markdown",
   "id": "elect-miller",
   "metadata": {},
   "source": [
    "The variance-covariance matrix of differences, for alternative $c$, that is alternative 1, as a reference, is"
   ]
  },
  {
   "cell_type": "code",
   "execution_count": 11,
   "id": "wrong-worship",
   "metadata": {},
   "outputs": [
    {
     "data": {
      "text/latex": [
       "$\\displaystyle \\left[\\begin{matrix}\\sigma_{P}^{2} + \\frac{\\pi^{2}}{3 \\mu^{2}} & \\sigma_{P}^{2} + \\frac{\\pi^{2}}{6 \\mu^{2}}\\\\\\sigma_{P}^{2} + \\frac{\\pi^{2}}{6 \\mu^{2}} & \\sigma_{E}^{2} + \\sigma_{P}^{2} + \\frac{\\pi^{2}}{3 \\mu^{2}}\\end{matrix}\\right]$"
      ],
      "text/plain": [
       "Matrix([\n",
       "[sigma_P**2 + pi**2/(3*mu**2),              sigma_P**2 + pi**2/(6*mu**2)],\n",
       "[sigma_P**2 + pi**2/(6*mu**2), sigma_E**2 + sigma_P**2 + pi**2/(3*mu**2)]])"
      ]
     },
     "execution_count": 11,
     "metadata": {},
     "output_type": "execute_result"
    }
   ],
   "source": [
    "delta_cov = deltac * covar * deltac.T\n",
    "delta_cov"
   ]
  },
  {
   "cell_type": "markdown",
   "id": "typical-quick",
   "metadata": {},
   "source": [
    "Upper bound on the number of parameters identified, based on the number of alternatives"
   ]
  },
  {
   "cell_type": "code",
   "execution_count": 12,
   "id": "linear-longer",
   "metadata": {},
   "outputs": [
    {
     "data": {
      "text/plain": [
       "2.0"
      ]
     },
     "execution_count": 12,
     "metadata": {},
     "output_type": "execute_result"
    }
   ],
   "source": [
    "J * (J - 1) / 2 - 1"
   ]
  },
  {
   "cell_type": "markdown",
   "id": "advance-auditor",
   "metadata": {},
   "source": [
    "Exact number of estimated parameters based on the rank"
   ]
  },
  {
   "cell_type": "markdown",
   "id": "italic-chemical",
   "metadata": {},
   "source": [
    "The unique entries of the matrix are\n",
    "\\begin{align*}\n",
    "\\gamma_{11} &=  \\sigma_{P}^{2} + \\frac{\\pi^{2}}{3 \\mu^{2}} \\\\\n",
    "\\gamma_{12} &=  \\sigma_{P}^{2} + \\frac{\\pi^{2}}{6 \\mu^{2}} \\\\\n",
    "\\gamma_{22} & =  \\sigma_{E}^{2} + \\sigma_{P}^{2} + \\frac{\\pi^{2}}{3 \\mu^{2}}\n",
    "\\end{align*}"
   ]
  },
  {
   "cell_type": "markdown",
   "id": "insured-desert",
   "metadata": {},
   "source": [
    "Using the change of variables $\\widehat{\\sigma}_i = \\sigma^2_i$ and $\\widehat{\\mu}\n",
    "= \\pi^2/6\\mu^2$, we obtain\n",
    " \\begin{align*}\n",
    "   \\gamma_{11} &= \\widehat{\\sigma}_P + 2 \\widehat{\\mu}, \\\\\n",
    "   \\gamma_{12} &= \\widehat{\\sigma}_P +  \\widehat{\\mu}, \\\\\n",
    "   \\gamma_{22} &= \\widehat{\\sigma}_P + \\widehat{\\sigma}_E + 2 \\widehat{\\mu}.\n",
    "\\end{align*}\n"
   ]
  },
  {
   "cell_type": "markdown",
   "id": "upper-contributor",
   "metadata": {},
   "source": [
    "The matrix of the above system is:"
   ]
  },
  {
   "cell_type": "code",
   "execution_count": 13,
   "id": "indian-literature",
   "metadata": {},
   "outputs": [
    {
     "data": {
      "text/latex": [
       "$\\displaystyle \\left[\\begin{matrix}1 & 0 & 2\\\\1 & 0 & 1\\\\1 & 1 & 2\\end{matrix}\\right]$"
      ],
      "text/plain": [
       "Matrix([\n",
       "[1, 0, 2],\n",
       "[1, 0, 1],\n",
       "[1, 1, 2]])"
      ]
     },
     "execution_count": 13,
     "metadata": {},
     "output_type": "execute_result"
    }
   ],
   "source": [
    "P = sy.Matrix([[1, 0, 2], [1, 0, 1], [1, 1, 2]])\n",
    "P"
   ]
  },
  {
   "cell_type": "markdown",
   "id": "radio-outreach",
   "metadata": {},
   "source": [
    "The number of identified parameters is the rank of the matrix, minus one:"
   ]
  },
  {
   "cell_type": "code",
   "execution_count": 14,
   "id": "artistic-australian",
   "metadata": {},
   "outputs": [
    {
     "data": {
      "text/plain": [
       "2"
      ]
     },
     "execution_count": 14,
     "metadata": {},
     "output_type": "execute_result"
    }
   ],
   "source": [
    "P.rank() - 1"
   ]
  }
 ],
 "metadata": {
  "kernelspec": {
   "display_name": "Python 3",
   "language": "python",
   "name": "python3"
  },
  "language_info": {
   "codemirror_mode": {
    "name": "ipython",
    "version": 3
   },
   "file_extension": ".py",
   "mimetype": "text/x-python",
   "name": "python",
   "nbconvert_exporter": "python",
   "pygments_lexer": "ipython3",
   "version": "3.8.8"
  }
 },
 "nbformat": 4,
 "nbformat_minor": 5
}
