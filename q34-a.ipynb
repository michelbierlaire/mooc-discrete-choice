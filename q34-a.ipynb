{
 "cells": [
  {
   "cell_type": "code",
   "execution_count": 1,
   "id": "3f8147c4",
   "metadata": {},
   "outputs": [],
   "source": [
    "import pandas as pd\n",
    "import pickle\n",
    "import biogeme.database as db\n",
    "import biogeme.biogeme as bio\n",
    "import biogeme.results as res\n",
    "import biogeme.models as models\n",
    "from biogeme.expressions import Beta, log, bioDraws, MonteCarlo"
   ]
  },
  {
   "cell_type": "markdown",
   "id": "089a5b50",
   "metadata": {},
   "source": [
    "# The data"
   ]
  },
  {
   "cell_type": "code",
   "execution_count": 2,
   "id": "ce3154ec",
   "metadata": {},
   "outputs": [],
   "source": [
    "data = pd.read_table('airline.dat')"
   ]
  },
  {
   "cell_type": "code",
   "execution_count": 3,
   "id": "45c2bc86",
   "metadata": {},
   "outputs": [],
   "source": [
    "database = db.Database('airline',data)\n",
    "globals().update(database.variables)\n",
    "exclude = (ArrivalTimeHours_1 == -1)\n",
    "database.remove(exclude)"
   ]
  },
  {
   "cell_type": "markdown",
   "id": "01032b8e",
   "metadata": {},
   "source": [
    "# The model "
   ]
  },
  {
   "cell_type": "markdown",
   "id": "c1a2e2f8",
   "metadata": {},
   "source": [
    "Variables"
   ]
  },
  {
   "cell_type": "code",
   "execution_count": 4,
   "id": "6c663ac5",
   "metadata": {},
   "outputs": [],
   "source": [
    "chosenAlternative = (\n",
    "    BestAlternative_1 * 1 +\n",
    "    BestAlternative_2 * 2 +\n",
    "    BestAlternative_3 * 3\n",
    ")\n",
    "DepartureTimeSensitive = (\n",
    "    q11_DepartureOrArrivalIsImportant == 1\n",
    ")\n",
    "ArrivalTimeSensitive = (\n",
    "    q11_DepartureOrArrivalIsImportant == 2\n",
    ")\n",
    "Missing = (\n",
    "    (q11_DepartureOrArrivalIsImportant != 1) *\n",
    "    (q11_DepartureOrArrivalIsImportant != 2)\n",
    ")\n",
    "DesiredDepartureTime = q12_IdealDepTime\n",
    "DesiredArrivalTime = q13_IdealArrTime\n",
    "ScheduledDelay_1 = (\n",
    "    DepartureTimeSensitive *\n",
    "    (DepartureTimeMins_1 - DesiredDepartureTime) +\n",
    "    ArrivalTimeSensitive *\n",
    "    (ArrivalTimeMins_1 - DesiredArrivalTime)\n",
    ")\n",
    "ScheduledDelay_2  = (\n",
    "    DepartureTimeSensitive *\n",
    "    (DepartureTimeMins_2 - DesiredDepartureTime) +\n",
    "    ArrivalTimeSensitive *\n",
    "    (ArrivalTimeMins_2 - DesiredArrivalTime)\n",
    ")\n",
    "ScheduledDelay_3  = (\n",
    "    DepartureTimeSensitive *\n",
    "    (DepartureTimeMins_3 - DesiredDepartureTime) +\n",
    "    ArrivalTimeSensitive *\n",
    "    (ArrivalTimeMins_3 - DesiredArrivalTime)\n",
    ")\n",
    "Opt1_SchedDelayEarly  = (\n",
    "    -ScheduledDelay_1 * (ScheduledDelay_1 < 0) / 60\n",
    ")\n",
    "Opt2_SchedDelayEarly  = (\n",
    "    -ScheduledDelay_2 * (ScheduledDelay_2 < 0) / 60\n",
    ")\n",
    "Opt3_SchedDelayEarly  = (\n",
    "    -ScheduledDelay_3 * (ScheduledDelay_3 < 0) / 60\n",
    ")\n",
    "Opt1_SchedDelayLate  = (\n",
    "    ScheduledDelay_1 * (ScheduledDelay_1 > 0) / 60\n",
    ")\n",
    "Opt2_SchedDelayLate  = (\n",
    "    ScheduledDelay_2 * (ScheduledDelay_2 > 0) / 60\n",
    ")\n",
    "Opt3_SchedDelayLate  = (\n",
    "    ScheduledDelay_3 * (ScheduledDelay_3 > 0) / 60\n",
    ")"
   ]
  },
  {
   "cell_type": "markdown",
   "id": "6e111ea1",
   "metadata": {},
   "source": [
    "Parameters"
   ]
  },
  {
   "cell_type": "code",
   "execution_count": 5,
   "id": "6254766c",
   "metadata": {},
   "outputs": [],
   "source": [
    "Constant2 = Beta('Constant2', 0, None, None, 0)\n",
    "Constant3 = Beta('Constant3', 0, None, None, 0)\n",
    "Fare = Beta('Fare', 0, None, None, 0)\n",
    "Legroom = Beta('Legroom', 0, None, None, 0)\n",
    "SchedDE = Beta('SchedDE', 0, None, None, 0)\n",
    "SchedDL = Beta('SchedDL', 0, None, None, 0)\n",
    "Total_TT1 = Beta('Total_TT1', 0, None, None, 0)\n",
    "Total_TT2 = Beta('Total_TT2', 0, None, None, 0)\n",
    "Total_TT3 = Beta('Total_TT3', 0, None, None, 0)"
   ]
  },
  {
   "cell_type": "markdown",
   "id": "009b50a9",
   "metadata": {},
   "source": [
    "Error components"
   ]
  },
  {
   "cell_type": "code",
   "execution_count": 6,
   "id": "e386567f",
   "metadata": {},
   "outputs": [],
   "source": [
    "SIGMA_1 = Beta('SIGMA_1', 1, None, None, 0)\n",
    "EC_1 = SIGMA_1 * bioDraws('EC_1', 'NORMAL')\n",
    "SIGMA_2 = Beta('SIGMA_2', 1, None, None, 0)\n",
    "EC_2 = SIGMA_2 * bioDraws('EC_2', 'NORMAL')\n",
    "SIGMA_3 = Beta('SIGMA_3', 1, None, None, 0)\n",
    "EC_3 = SIGMA_3 * bioDraws('EC_3', 'NORMAL')"
   ]
  },
  {
   "cell_type": "markdown",
   "id": "e8e5217a",
   "metadata": {},
   "source": [
    "Utility functions. The normalization identifies the id of the alternative such that the error component is not included, which is equivalent to normalize its scale to zero. "
   ]
  },
  {
   "cell_type": "code",
   "execution_count": 7,
   "id": "1d8fe02e",
   "metadata": {},
   "outputs": [],
   "source": [
    "def utility(normalization):\n",
    "    Opt1 = (Fare * Fare_1 +\n",
    "            Legroom * Legroom_1 +\n",
    "            SchedDE * Opt1_SchedDelayEarly +\n",
    "            SchedDL * Opt1_SchedDelayLate +\n",
    "            Total_TT1 * TripTimeHours_1)\n",
    "    if normalization != 1:\n",
    "        Opt1 += EC_1\n",
    "    Opt2 = (Constant2 +\n",
    "            Fare * Fare_2 +\n",
    "            Legroom * Legroom_2 +\n",
    "            SchedDE * Opt2_SchedDelayEarly +\n",
    "            SchedDL * Opt2_SchedDelayLate +\n",
    "            Total_TT2 * TripTimeHours_2)\n",
    "    if normalization != 2:\n",
    "        Opt2 += EC_2\n",
    "    Opt3 = (Constant3 +\n",
    "            Fare * Fare_3 +\n",
    "            Legroom * Legroom_3 +\n",
    "            SchedDE * Opt3_SchedDelayEarly +\n",
    "            SchedDL * Opt3_SchedDelayLate +\n",
    "            Total_TT3 * TripTimeHours_3)\n",
    "    if normalization != 3:\n",
    "        Opt3 += EC_3\n",
    "    return {1: Opt1, 2: Opt2, 3: Opt3}"
   ]
  },
  {
   "cell_type": "markdown",
   "id": "33e39b13",
   "metadata": {},
   "source": [
    "# Estimation without normalization"
   ]
  },
  {
   "cell_type": "markdown",
   "id": "95224a30",
   "metadata": {},
   "source": [
    "For the sake of saving estimation time, we first estimate the model using only 100 draws to illustrate the process. Afterwards, we use pre-calculated results using 10000 draws."
   ]
  },
  {
   "cell_type": "code",
   "execution_count": 8,
   "id": "49503f16",
   "metadata": {},
   "outputs": [],
   "source": [
    "prob = models.logit(utility(None), None, chosenAlternative)\n",
    "logprob = log(MonteCarlo(prob))\n",
    "biogeme  = bio.BIOGEME(database, logprob, numberOfDraws=100)"
   ]
  },
  {
   "cell_type": "code",
   "execution_count": 9,
   "id": "c8e5f704",
   "metadata": {},
   "outputs": [
    {
     "name": "stdout",
     "output_type": "stream",
     "text": [
      "CPU times: user 11min 26s, sys: 2.52 s, total: 11min 29s\n",
      "Wall time: 46.7 s\n"
     ]
    }
   ],
   "source": [
    "%%time\n",
    "results_100draws = biogeme.estimate()"
   ]
  },
  {
   "cell_type": "code",
   "execution_count": 10,
   "id": "7f1ea2cd",
   "metadata": {},
   "outputs": [
    {
     "data": {
      "text/plain": [
       "-2299.363434912883"
      ]
     },
     "execution_count": 10,
     "metadata": {},
     "output_type": "execute_result"
    }
   ],
   "source": [
    "general_100draws = results_100draws.getGeneralStatistics()\n",
    "LL_100draws = general_100draws['Final log likelihood'][0]\n",
    "LL_100draws"
   ]
  },
  {
   "cell_type": "code",
   "execution_count": 11,
   "id": "b2da27d6",
   "metadata": {},
   "outputs": [
    {
     "data": {
      "text/html": [
       "<div>\n",
       "<style scoped>\n",
       "    .dataframe tbody tr th:only-of-type {\n",
       "        vertical-align: middle;\n",
       "    }\n",
       "\n",
       "    .dataframe tbody tr th {\n",
       "        vertical-align: top;\n",
       "    }\n",
       "\n",
       "    .dataframe thead th {\n",
       "        text-align: right;\n",
       "    }\n",
       "</style>\n",
       "<table border=\"1\" class=\"dataframe\">\n",
       "  <thead>\n",
       "    <tr style=\"text-align: right;\">\n",
       "      <th></th>\n",
       "      <th>Value</th>\n",
       "      <th>Std err</th>\n",
       "      <th>t-test</th>\n",
       "      <th>p-value</th>\n",
       "      <th>Rob. Std err</th>\n",
       "      <th>Rob. t-test</th>\n",
       "      <th>Rob. p-value</th>\n",
       "    </tr>\n",
       "  </thead>\n",
       "  <tbody>\n",
       "    <tr>\n",
       "      <th>Constant2</th>\n",
       "      <td>-2.255699</td>\n",
       "      <td>0.318151</td>\n",
       "      <td>-7.090035</td>\n",
       "      <td>1.340705e-12</td>\n",
       "      <td>0.329155</td>\n",
       "      <td>-6.853003</td>\n",
       "      <td>7.231549e-12</td>\n",
       "    </tr>\n",
       "    <tr>\n",
       "      <th>Constant3</th>\n",
       "      <td>-2.521511</td>\n",
       "      <td>0.334979</td>\n",
       "      <td>-7.527374</td>\n",
       "      <td>5.173639e-14</td>\n",
       "      <td>0.356123</td>\n",
       "      <td>-7.080450</td>\n",
       "      <td>1.436851e-12</td>\n",
       "    </tr>\n",
       "    <tr>\n",
       "      <th>Fare</th>\n",
       "      <td>-0.028892</td>\n",
       "      <td>0.002047</td>\n",
       "      <td>-14.117188</td>\n",
       "      <td>0.000000e+00</td>\n",
       "      <td>0.002445</td>\n",
       "      <td>-11.818815</td>\n",
       "      <td>0.000000e+00</td>\n",
       "    </tr>\n",
       "    <tr>\n",
       "      <th>Legroom</th>\n",
       "      <td>0.313564</td>\n",
       "      <td>0.038756</td>\n",
       "      <td>8.090722</td>\n",
       "      <td>6.661338e-16</td>\n",
       "      <td>0.040791</td>\n",
       "      <td>7.687143</td>\n",
       "      <td>1.509903e-14</td>\n",
       "    </tr>\n",
       "    <tr>\n",
       "      <th>SIGMA_1</th>\n",
       "      <td>2.406643</td>\n",
       "      <td>0.312902</td>\n",
       "      <td>7.691367</td>\n",
       "      <td>1.465494e-14</td>\n",
       "      <td>0.388790</td>\n",
       "      <td>6.190079</td>\n",
       "      <td>6.013416e-10</td>\n",
       "    </tr>\n",
       "    <tr>\n",
       "      <th>SIGMA_2</th>\n",
       "      <td>0.149366</td>\n",
       "      <td>0.356873</td>\n",
       "      <td>0.418540</td>\n",
       "      <td>6.755522e-01</td>\n",
       "      <td>0.279686</td>\n",
       "      <td>0.534048</td>\n",
       "      <td>5.933083e-01</td>\n",
       "    </tr>\n",
       "    <tr>\n",
       "      <th>SIGMA_3</th>\n",
       "      <td>-0.231739</td>\n",
       "      <td>0.423809</td>\n",
       "      <td>-0.546800</td>\n",
       "      <td>5.845159e-01</td>\n",
       "      <td>0.364353</td>\n",
       "      <td>-0.636028</td>\n",
       "      <td>5.247585e-01</td>\n",
       "    </tr>\n",
       "    <tr>\n",
       "      <th>SchedDE</th>\n",
       "      <td>-0.210243</td>\n",
       "      <td>0.025978</td>\n",
       "      <td>-8.093192</td>\n",
       "      <td>6.661338e-16</td>\n",
       "      <td>0.028650</td>\n",
       "      <td>-7.338315</td>\n",
       "      <td>2.162714e-13</td>\n",
       "    </tr>\n",
       "    <tr>\n",
       "      <th>SchedDL</th>\n",
       "      <td>-0.138759</td>\n",
       "      <td>0.019017</td>\n",
       "      <td>-7.296501</td>\n",
       "      <td>2.953193e-13</td>\n",
       "      <td>0.019715</td>\n",
       "      <td>-7.038263</td>\n",
       "      <td>1.946443e-12</td>\n",
       "    </tr>\n",
       "    <tr>\n",
       "      <th>Total_TT1</th>\n",
       "      <td>-0.503314</td>\n",
       "      <td>0.104140</td>\n",
       "      <td>-4.833064</td>\n",
       "      <td>1.344477e-06</td>\n",
       "      <td>0.106551</td>\n",
       "      <td>-4.723685</td>\n",
       "      <td>2.316096e-06</td>\n",
       "    </tr>\n",
       "    <tr>\n",
       "      <th>Total_TT2</th>\n",
       "      <td>-0.432483</td>\n",
       "      <td>0.094757</td>\n",
       "      <td>-4.564113</td>\n",
       "      <td>5.016116e-06</td>\n",
       "      <td>0.096197</td>\n",
       "      <td>-4.495816</td>\n",
       "      <td>6.930374e-06</td>\n",
       "    </tr>\n",
       "    <tr>\n",
       "      <th>Total_TT3</th>\n",
       "      <td>-0.437633</td>\n",
       "      <td>0.094621</td>\n",
       "      <td>-4.625138</td>\n",
       "      <td>3.743490e-06</td>\n",
       "      <td>0.094241</td>\n",
       "      <td>-4.643744</td>\n",
       "      <td>3.421511e-06</td>\n",
       "    </tr>\n",
       "  </tbody>\n",
       "</table>\n",
       "</div>"
      ],
      "text/plain": [
       "              Value   Std err     t-test       p-value  Rob. Std err  \\\n",
       "Constant2 -2.255699  0.318151  -7.090035  1.340705e-12      0.329155   \n",
       "Constant3 -2.521511  0.334979  -7.527374  5.173639e-14      0.356123   \n",
       "Fare      -0.028892  0.002047 -14.117188  0.000000e+00      0.002445   \n",
       "Legroom    0.313564  0.038756   8.090722  6.661338e-16      0.040791   \n",
       "SIGMA_1    2.406643  0.312902   7.691367  1.465494e-14      0.388790   \n",
       "SIGMA_2    0.149366  0.356873   0.418540  6.755522e-01      0.279686   \n",
       "SIGMA_3   -0.231739  0.423809  -0.546800  5.845159e-01      0.364353   \n",
       "SchedDE   -0.210243  0.025978  -8.093192  6.661338e-16      0.028650   \n",
       "SchedDL   -0.138759  0.019017  -7.296501  2.953193e-13      0.019715   \n",
       "Total_TT1 -0.503314  0.104140  -4.833064  1.344477e-06      0.106551   \n",
       "Total_TT2 -0.432483  0.094757  -4.564113  5.016116e-06      0.096197   \n",
       "Total_TT3 -0.437633  0.094621  -4.625138  3.743490e-06      0.094241   \n",
       "\n",
       "           Rob. t-test  Rob. p-value  \n",
       "Constant2    -6.853003  7.231549e-12  \n",
       "Constant3    -7.080450  1.436851e-12  \n",
       "Fare        -11.818815  0.000000e+00  \n",
       "Legroom       7.687143  1.509903e-14  \n",
       "SIGMA_1       6.190079  6.013416e-10  \n",
       "SIGMA_2       0.534048  5.933083e-01  \n",
       "SIGMA_3      -0.636028  5.247585e-01  \n",
       "SchedDE      -7.338315  2.162714e-13  \n",
       "SchedDL      -7.038263  1.946443e-12  \n",
       "Total_TT1    -4.723685  2.316096e-06  \n",
       "Total_TT2    -4.495816  6.930374e-06  \n",
       "Total_TT3    -4.643744  3.421511e-06  "
      ]
     },
     "execution_count": 11,
     "metadata": {},
     "output_type": "execute_result"
    }
   ],
   "source": [
    "betas_100draws = results_100draws.getEstimatedParameters()\n",
    "betas_100draws"
   ]
  },
  {
   "cell_type": "markdown",
   "id": "0344b704",
   "metadata": {},
   "source": [
    "We now load the estimation results from file"
   ]
  },
  {
   "cell_type": "code",
   "execution_count": 12,
   "id": "c62c9992",
   "metadata": {},
   "outputs": [],
   "source": [
    "results = res.bioResults(pickleFile='02asv.pickle')"
   ]
  },
  {
   "cell_type": "code",
   "execution_count": 13,
   "id": "7763fb9a",
   "metadata": {},
   "outputs": [],
   "source": [
    "general = results.getGeneralStatistics()"
   ]
  },
  {
   "cell_type": "markdown",
   "id": "72ae6cf7",
   "metadata": {},
   "source": [
    "Check the number of draws"
   ]
  },
  {
   "cell_type": "code",
   "execution_count": 14,
   "id": "2b32344a",
   "metadata": {},
   "outputs": [
    {
     "data": {
      "text/plain": [
       "10000"
      ]
     },
     "execution_count": 14,
     "metadata": {},
     "output_type": "execute_result"
    }
   ],
   "source": [
    "general['Number of draws'][0]"
   ]
  },
  {
   "cell_type": "markdown",
   "id": "b0aa7080",
   "metadata": {},
   "source": [
    "Final log likelihood"
   ]
  },
  {
   "cell_type": "code",
   "execution_count": 15,
   "id": "2c769b2f",
   "metadata": {},
   "outputs": [
    {
     "data": {
      "text/plain": [
       "-2294.2515456698898"
      ]
     },
     "execution_count": 15,
     "metadata": {},
     "output_type": "execute_result"
    }
   ],
   "source": [
    "LL = general['Final log likelihood'][0]\n",
    "LL"
   ]
  },
  {
   "cell_type": "markdown",
   "id": "81ce6574",
   "metadata": {},
   "source": [
    "Estimated parameters"
   ]
  },
  {
   "cell_type": "code",
   "execution_count": 16,
   "id": "d981abca",
   "metadata": {},
   "outputs": [
    {
     "data": {
      "text/html": [
       "<div>\n",
       "<style scoped>\n",
       "    .dataframe tbody tr th:only-of-type {\n",
       "        vertical-align: middle;\n",
       "    }\n",
       "\n",
       "    .dataframe tbody tr th {\n",
       "        vertical-align: top;\n",
       "    }\n",
       "\n",
       "    .dataframe thead th {\n",
       "        text-align: right;\n",
       "    }\n",
       "</style>\n",
       "<table border=\"1\" class=\"dataframe\">\n",
       "  <thead>\n",
       "    <tr style=\"text-align: right;\">\n",
       "      <th></th>\n",
       "      <th>Value</th>\n",
       "      <th>Std err</th>\n",
       "      <th>t-test</th>\n",
       "      <th>p-value</th>\n",
       "      <th>Rob. Std err</th>\n",
       "      <th>Rob. t-test</th>\n",
       "      <th>Rob. p-value</th>\n",
       "    </tr>\n",
       "  </thead>\n",
       "  <tbody>\n",
       "    <tr>\n",
       "      <th>Constant2</th>\n",
       "      <td>-2.344128</td>\n",
       "      <td>0.329602</td>\n",
       "      <td>-7.111989</td>\n",
       "      <td>1.143752e-12</td>\n",
       "      <td>0.326193</td>\n",
       "      <td>-7.186327</td>\n",
       "      <td>6.654677e-13</td>\n",
       "    </tr>\n",
       "    <tr>\n",
       "      <th>Constant3</th>\n",
       "      <td>-2.615196</td>\n",
       "      <td>0.380049</td>\n",
       "      <td>-6.881209</td>\n",
       "      <td>5.934586e-12</td>\n",
       "      <td>0.357343</td>\n",
       "      <td>-7.318457</td>\n",
       "      <td>2.509104e-13</td>\n",
       "    </tr>\n",
       "    <tr>\n",
       "      <th>Fare</th>\n",
       "      <td>-0.029853</td>\n",
       "      <td>0.002412</td>\n",
       "      <td>-12.376691</td>\n",
       "      <td>0.000000e+00</td>\n",
       "      <td>0.002419</td>\n",
       "      <td>-12.341563</td>\n",
       "      <td>0.000000e+00</td>\n",
       "    </tr>\n",
       "    <tr>\n",
       "      <th>Legroom</th>\n",
       "      <td>0.318450</td>\n",
       "      <td>0.042213</td>\n",
       "      <td>7.543928</td>\n",
       "      <td>4.551914e-14</td>\n",
       "      <td>0.042414</td>\n",
       "      <td>7.508044</td>\n",
       "      <td>5.995204e-14</td>\n",
       "    </tr>\n",
       "    <tr>\n",
       "      <th>SIGMA_1</th>\n",
       "      <td>2.562056</td>\n",
       "      <td>0.324017</td>\n",
       "      <td>7.907154</td>\n",
       "      <td>2.664535e-15</td>\n",
       "      <td>0.346842</td>\n",
       "      <td>7.386817</td>\n",
       "      <td>1.503242e-13</td>\n",
       "    </tr>\n",
       "    <tr>\n",
       "      <th>SIGMA_2</th>\n",
       "      <td>0.001777</td>\n",
       "      <td>0.607809</td>\n",
       "      <td>0.002923</td>\n",
       "      <td>9.976676e-01</td>\n",
       "      <td>0.087294</td>\n",
       "      <td>0.020354</td>\n",
       "      <td>9.837613e-01</td>\n",
       "    </tr>\n",
       "    <tr>\n",
       "      <th>SIGMA_3</th>\n",
       "      <td>0.156254</td>\n",
       "      <td>1.505390</td>\n",
       "      <td>0.103796</td>\n",
       "      <td>9.173312e-01</td>\n",
       "      <td>1.049248</td>\n",
       "      <td>0.148920</td>\n",
       "      <td>8.816171e-01</td>\n",
       "    </tr>\n",
       "    <tr>\n",
       "      <th>SchedDE</th>\n",
       "      <td>-0.217721</td>\n",
       "      <td>0.028056</td>\n",
       "      <td>-7.760199</td>\n",
       "      <td>8.437695e-15</td>\n",
       "      <td>0.029267</td>\n",
       "      <td>-7.439081</td>\n",
       "      <td>1.014744e-13</td>\n",
       "    </tr>\n",
       "    <tr>\n",
       "      <th>SchedDL</th>\n",
       "      <td>-0.143123</td>\n",
       "      <td>0.020728</td>\n",
       "      <td>-6.904671</td>\n",
       "      <td>5.031975e-12</td>\n",
       "      <td>0.020620</td>\n",
       "      <td>-6.940881</td>\n",
       "      <td>3.896661e-12</td>\n",
       "    </tr>\n",
       "    <tr>\n",
       "      <th>Total_TT1</th>\n",
       "      <td>-0.528930</td>\n",
       "      <td>0.109730</td>\n",
       "      <td>-4.820296</td>\n",
       "      <td>1.433456e-06</td>\n",
       "      <td>0.109138</td>\n",
       "      <td>-4.846438</td>\n",
       "      <td>1.256981e-06</td>\n",
       "    </tr>\n",
       "    <tr>\n",
       "      <th>Total_TT2</th>\n",
       "      <td>-0.449921</td>\n",
       "      <td>0.099148</td>\n",
       "      <td>-4.537854</td>\n",
       "      <td>5.682953e-06</td>\n",
       "      <td>0.098337</td>\n",
       "      <td>-4.575289</td>\n",
       "      <td>4.755631e-06</td>\n",
       "    </tr>\n",
       "    <tr>\n",
       "      <th>Total_TT3</th>\n",
       "      <td>-0.455250</td>\n",
       "      <td>0.098325</td>\n",
       "      <td>-4.630057</td>\n",
       "      <td>3.655643e-06</td>\n",
       "      <td>0.096822</td>\n",
       "      <td>-4.701945</td>\n",
       "      <td>2.576951e-06</td>\n",
       "    </tr>\n",
       "  </tbody>\n",
       "</table>\n",
       "</div>"
      ],
      "text/plain": [
       "              Value   Std err     t-test       p-value  Rob. Std err  \\\n",
       "Constant2 -2.344128  0.329602  -7.111989  1.143752e-12      0.326193   \n",
       "Constant3 -2.615196  0.380049  -6.881209  5.934586e-12      0.357343   \n",
       "Fare      -0.029853  0.002412 -12.376691  0.000000e+00      0.002419   \n",
       "Legroom    0.318450  0.042213   7.543928  4.551914e-14      0.042414   \n",
       "SIGMA_1    2.562056  0.324017   7.907154  2.664535e-15      0.346842   \n",
       "SIGMA_2    0.001777  0.607809   0.002923  9.976676e-01      0.087294   \n",
       "SIGMA_3    0.156254  1.505390   0.103796  9.173312e-01      1.049248   \n",
       "SchedDE   -0.217721  0.028056  -7.760199  8.437695e-15      0.029267   \n",
       "SchedDL   -0.143123  0.020728  -6.904671  5.031975e-12      0.020620   \n",
       "Total_TT1 -0.528930  0.109730  -4.820296  1.433456e-06      0.109138   \n",
       "Total_TT2 -0.449921  0.099148  -4.537854  5.682953e-06      0.098337   \n",
       "Total_TT3 -0.455250  0.098325  -4.630057  3.655643e-06      0.096822   \n",
       "\n",
       "           Rob. t-test  Rob. p-value  \n",
       "Constant2    -7.186327  6.654677e-13  \n",
       "Constant3    -7.318457  2.509104e-13  \n",
       "Fare        -12.341563  0.000000e+00  \n",
       "Legroom       7.508044  5.995204e-14  \n",
       "SIGMA_1       7.386817  1.503242e-13  \n",
       "SIGMA_2       0.020354  9.837613e-01  \n",
       "SIGMA_3       0.148920  8.816171e-01  \n",
       "SchedDE      -7.439081  1.014744e-13  \n",
       "SchedDL      -6.940881  3.896661e-12  \n",
       "Total_TT1    -4.846438  1.256981e-06  \n",
       "Total_TT2    -4.575289  4.755631e-06  \n",
       "Total_TT3    -4.701945  2.576951e-06  "
      ]
     },
     "execution_count": 16,
     "metadata": {},
     "output_type": "execute_result"
    }
   ],
   "source": [
    "betas = results.getEstimatedParameters()\n",
    "betas"
   ]
  },
  {
   "cell_type": "markdown",
   "id": "8dfd5f9b",
   "metadata": {},
   "source": [
    "From the values of the $\\sigma$ parameter, we see that $\\sigma_2^2$ is lesser than $\\sigma_1^2$ and $\\sigma_3^3$. Therefore, the correct normalization consists in setting $\\sigma_2 = 0$. Note that this conclusion could not be reached with the results obtained with 100 draws. "
   ]
  },
  {
   "cell_type": "markdown",
   "id": "cfa14084",
   "metadata": {},
   "source": [
    "We extract the sigmas"
   ]
  },
  {
   "cell_type": "code",
   "execution_count": 17,
   "id": "977faf34",
   "metadata": {},
   "outputs": [],
   "source": [
    "sigma1 = betas.loc['SIGMA_1', 'Value']\n",
    "sigma2 = betas.loc['SIGMA_2', 'Value']\n",
    "sigma3 = betas.loc['SIGMA_3', 'Value']"
   ]
  },
  {
   "cell_type": "markdown",
   "id": "73c77e31",
   "metadata": {},
   "source": [
    "Relevant quantities from the variance-covariance matrix: \\begin{align}s_3 &= \\sigma_1^2 + \\sigma_2^2 \\\\ s_2 &= \\sigma_1^2 + \\sigma_3^2 \\\\ s_1 &= \\sigma_2^2 + \\sigma_3^2\\end{align}"
   ]
  },
  {
   "cell_type": "code",
   "execution_count": 18,
   "id": "3be504e8",
   "metadata": {},
   "outputs": [],
   "source": [
    "s3 = sigma1**2 + sigma2**2"
   ]
  },
  {
   "cell_type": "code",
   "execution_count": 19,
   "id": "4dce800b",
   "metadata": {},
   "outputs": [],
   "source": [
    "s2 = sigma1**2 + sigma3**2"
   ]
  },
  {
   "cell_type": "code",
   "execution_count": 20,
   "id": "b333bcc1",
   "metadata": {},
   "outputs": [],
   "source": [
    "s1 = sigma2**2 + sigma3**2"
   ]
  },
  {
   "cell_type": "code",
   "execution_count": 21,
   "id": "3cfdc98f",
   "metadata": {},
   "outputs": [],
   "source": [
    "relevant = s1, s2, s3"
   ]
  },
  {
   "cell_type": "markdown",
   "id": "523af9cc",
   "metadata": {},
   "source": [
    "Results with normalization"
   ]
  },
  {
   "cell_type": "code",
   "execution_count": 22,
   "id": "4cb3190b",
   "metadata": {},
   "outputs": [],
   "source": [
    "files = ['03asv_1.pickle', '04asv_2.pickle', '05asv_3.pickle']\n",
    "normalized_results = [res.bioResults(pickleFile=f) for f in files]"
   ]
  },
  {
   "cell_type": "markdown",
   "id": "6ac80ea4",
   "metadata": {},
   "source": [
    "We extract the final log likelihood and the three scale parameters"
   ]
  },
  {
   "cell_type": "code",
   "execution_count": 23,
   "id": "15e044ac",
   "metadata": {},
   "outputs": [],
   "source": [
    "def extract(r):\n",
    "    LL = r.getGeneralStatistics()['Final log likelihood'][0]\n",
    "    try:\n",
    "        s1 = r.getEstimatedParameters().loc['SIGMA_1', 'Value']\n",
    "    except KeyError:\n",
    "        s1 = 0\n",
    "    try:\n",
    "        s2 = r.getEstimatedParameters().loc['SIGMA_2', 'Value']\n",
    "    except KeyError:\n",
    "        s2 = 0\n",
    "\n",
    "    try:\n",
    "        s3 = r.getEstimatedParameters().loc['SIGMA_3', 'Value']\n",
    "    except KeyError:\n",
    "        s3 = 0\n",
    "    return LL, s1, s2, s3\n",
    "        "
   ]
  },
  {
   "cell_type": "code",
   "execution_count": 24,
   "id": "0aff4b79",
   "metadata": {},
   "outputs": [],
   "source": [
    "allresults = [extract(r) for r in normalized_results]"
   ]
  },
  {
   "cell_type": "code",
   "execution_count": 25,
   "id": "3838bd98",
   "metadata": {},
   "outputs": [
    {
     "data": {
      "text/plain": [
       "[(-2320.4361905355304, 0, 0.005253134534250563, 0.2978510108887043),\n",
       " (-2294.972049849141, 2.559972474696234, 0, 0.2679546413379093),\n",
       " (-2294.308619390231, 2.5465965295475197, 0.043493143419558705, 0)]"
      ]
     },
     "execution_count": 25,
     "metadata": {},
     "output_type": "execute_result"
    }
   ],
   "source": [
    "allresults"
   ]
  },
  {
   "cell_type": "code",
   "execution_count": 26,
   "id": "5166df9e",
   "metadata": {},
   "outputs": [],
   "source": [
    "def relevantQuantities(normalization):\n",
    "    s1 = allresults[normalization-1][2]**2 + allresults[normalization-1][3]**2\n",
    "    s2 = allresults[normalization-1][1]**2 + allresults[normalization-1][3]**2\n",
    "    s3 = allresults[normalization-1][1]**2 + allresults[normalization-1][2]**2\n",
    "    return s1, s2, s3"
   ]
  },
  {
   "cell_type": "markdown",
   "id": "b103d5a3",
   "metadata": {},
   "source": [
    "We now compare the relevant quantities of the variance-covariance matrix"
   ]
  },
  {
   "cell_type": "markdown",
   "id": "6204522a",
   "metadata": {},
   "source": [
    "Correct normalization: $\\sigma_2 = 0$."
   ]
  },
  {
   "cell_type": "code",
   "execution_count": 27,
   "id": "10464042",
   "metadata": {},
   "outputs": [
    {
     "data": {
      "text/plain": [
       "(0.07179968981452761, 6.625258761016888, 6.553459071202361)"
      ]
     },
     "execution_count": 27,
     "metadata": {},
     "output_type": "execute_result"
    }
   ],
   "source": [
    "relevantQuantities(2)"
   ]
  },
  {
   "cell_type": "markdown",
   "id": "506b762d",
   "metadata": {},
   "source": [
    "Same quantities from the unnormalized model"
   ]
  },
  {
   "cell_type": "code",
   "execution_count": 28,
   "id": "6c751ef3",
   "metadata": {},
   "outputs": [
    {
     "data": {
      "text/plain": [
       "(0.02441832171963788, 6.588544393247788, 6.564132385224736)"
      ]
     },
     "execution_count": 28,
     "metadata": {},
     "output_type": "execute_result"
    }
   ],
   "source": [
    "relevant"
   ]
  },
  {
   "cell_type": "markdown",
   "id": "f50962f8",
   "metadata": {},
   "source": [
    "Difference"
   ]
  },
  {
   "cell_type": "code",
   "execution_count": 29,
   "id": "199909f0",
   "metadata": {},
   "outputs": [
    {
     "data": {
      "text/plain": [
       "(0.04738136809488973, 0.03671436776910042, -0.010673314022375813)"
      ]
     },
     "execution_count": 29,
     "metadata": {},
     "output_type": "execute_result"
    }
   ],
   "source": [
    "tuple(a - b for a, b in zip(relevantQuantities(2), relevant))"
   ]
  },
  {
   "cell_type": "markdown",
   "id": "7e48ec97",
   "metadata": {},
   "source": [
    "The differences are due to simulation errors."
   ]
  },
  {
   "cell_type": "markdown",
   "id": "14d4aab0",
   "metadata": {},
   "source": [
    "Incorrect normalization: $\\sigma_1 = 0$"
   ]
  },
  {
   "cell_type": "code",
   "execution_count": 30,
   "id": "5de97068",
   "metadata": {},
   "outputs": [
    {
     "data": {
      "text/plain": [
       "(0.08874282010985798, 0.08871522468742304, 2.7595422434935877e-05)"
      ]
     },
     "execution_count": 30,
     "metadata": {},
     "output_type": "execute_result"
    }
   ],
   "source": [
    "relevantQuantities(1)"
   ]
  },
  {
   "cell_type": "markdown",
   "id": "a3343ebe",
   "metadata": {},
   "source": [
    "Difference with unnormalized model"
   ]
  },
  {
   "cell_type": "code",
   "execution_count": 31,
   "id": "aec941e4",
   "metadata": {},
   "outputs": [
    {
     "data": {
      "text/plain": [
       "(0.0643244983902201, -6.499829168560365, -6.564104789802301)"
      ]
     },
     "execution_count": 31,
     "metadata": {},
     "output_type": "execute_result"
    }
   ],
   "source": [
    "tuple(a - b for a, b in zip(relevantQuantities(1), relevant))"
   ]
  },
  {
   "cell_type": "markdown",
   "id": "02bf1695",
   "metadata": {},
   "source": [
    "The level of magnitude of the differences is higher than for the correct normalization, and cannot be attributed to simulation error."
   ]
  },
  {
   "cell_type": "markdown",
   "id": "e95f43a5",
   "metadata": {},
   "source": [
    "Incorrect normalization: $\\sigma_3=0$"
   ]
  },
  {
   "cell_type": "code",
   "execution_count": 32,
   "id": "4250f8c8",
   "metadata": {},
   "outputs": [
    {
     "data": {
      "text/plain": [
       "(0.0018916535245143027, 6.485153884303472, 6.487045537827986)"
      ]
     },
     "execution_count": 32,
     "metadata": {},
     "output_type": "execute_result"
    }
   ],
   "source": [
    "relevantQuantities(3)"
   ]
  },
  {
   "cell_type": "markdown",
   "id": "96a484c7",
   "metadata": {},
   "source": [
    "Difference with unnormalized model"
   ]
  },
  {
   "cell_type": "code",
   "execution_count": 33,
   "id": "3714a2c2",
   "metadata": {},
   "outputs": [
    {
     "data": {
      "text/plain": [
       "(-0.022526668195123577, -0.10339050894431612, -0.07708684739675054)"
      ]
     },
     "execution_count": 33,
     "metadata": {},
     "output_type": "execute_result"
    }
   ],
   "source": [
    "tuple(a - b for a, b in zip(relevantQuantities(3), relevant))"
   ]
  },
  {
   "cell_type": "markdown",
   "id": "e80b99e7",
   "metadata": {},
   "source": [
    "In this case, the differences are lower, and it is difficult to say if they are due to simulation or normalization error. "
   ]
  }
 ],
 "metadata": {
  "kernelspec": {
   "display_name": "Python 3",
   "language": "python",
   "name": "python3"
  },
  "language_info": {
   "codemirror_mode": {
    "name": "ipython",
    "version": 3
   },
   "file_extension": ".py",
   "mimetype": "text/x-python",
   "name": "python",
   "nbconvert_exporter": "python",
   "pygments_lexer": "ipython3",
   "version": "3.8.8"
  }
 },
 "nbformat": 4,
 "nbformat_minor": 5
}
