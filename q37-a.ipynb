{
 "cells": [
  {
   "cell_type": "code",
   "execution_count": 1,
   "id": "e8d04dab",
   "metadata": {},
   "outputs": [],
   "source": [
    "import pandas as pd\n",
    "import pickle\n",
    "from urllib.request import urlopen\n",
    "import matplotlib.pyplot as plt\n",
    "import biogeme.database as db\n",
    "import biogeme.biogeme as bio\n",
    "import biogeme.version as ver\n",
    "import biogeme.results as res\n",
    "from biogeme import models\n",
    "from biogeme.expressions import Beta, bioDraws, MonteCarlo"
   ]
  },
  {
   "cell_type": "markdown",
   "id": "eeed832c",
   "metadata": {},
   "source": [
    "Version of Biogeme"
   ]
  },
  {
   "cell_type": "code",
   "execution_count": 2,
   "id": "5d7dd8a7",
   "metadata": {},
   "outputs": [
    {
     "name": "stdout",
     "output_type": "stream",
     "text": [
      "biogeme 3.2.8 [2021-09-02]\n",
      "Version entirely written in Python\n",
      "Home page: http://biogeme.epfl.ch\n",
      "Submit questions to https://groups.google.com/d/forum/biogeme\n",
      "Michel Bierlaire, Transport and Mobility Laboratory, Ecole Polytechnique Fédérale de Lausanne (EPFL)\n",
      "\n"
     ]
    }
   ],
   "source": [
    "print(ver.getText())"
   ]
  },
  {
   "cell_type": "markdown",
   "id": "16cd7190",
   "metadata": {},
   "source": [
    "The following function obtains the data from the file available online."
   ]
  },
  {
   "cell_type": "code",
   "execution_count": 3,
   "id": "cf5f0e81",
   "metadata": {},
   "outputs": [],
   "source": [
    "url_root = (\n",
    "    'https://courses.edx.org/'\n",
    "    'asset-v1:EPFLx+ChoiceModels2x+3T2021+type@asset+block@'\n",
    ")"
   ]
  },
  {
   "cell_type": "code",
   "execution_count": 4,
   "id": "276c2cf4",
   "metadata": {},
   "outputs": [],
   "source": [
    "def get_results_from_url(file):\n",
    "    pickle_file = f'{url_root}{file}'\n",
    "\n",
    "    with urlopen(pickle_file) as p:\n",
    "        data = pickle.load(p)\n",
    "    return res.bioResults(data)"
   ]
  },
  {
   "cell_type": "markdown",
   "id": "bccfd4e4",
   "metadata": {},
   "source": [
    "# Read the data"
   ]
  },
  {
   "cell_type": "code",
   "execution_count": 5,
   "id": "d9986df2",
   "metadata": {},
   "outputs": [],
   "source": [
    "df = pd.read_table(f'{url_root}swissmetro.dat')\n",
    "database = db.Database('swissmetro', df)\n",
    "globals().update(database.variables)\n",
    "exclude = ((PURPOSE != 1) * (PURPOSE != 3) + (CHOICE == 0)) > 0\n",
    "database.remove(exclude)"
   ]
  },
  {
   "cell_type": "markdown",
   "id": "3d525436",
   "metadata": {},
   "source": [
    "# List of parameters to be estimated"
   ]
  },
  {
   "cell_type": "code",
   "execution_count": 6,
   "id": "4bc72052",
   "metadata": {},
   "outputs": [],
   "source": [
    "ASC_CAR = Beta('ASC_CAR', 0, None, None, 0)\n",
    "ASC_TRAIN = Beta('ASC_TRAIN', 0, None, None, 0)\n",
    "ASC_SM = Beta('ASC_SM', 0, None, None, 1)\n",
    "B_COST = Beta('B_COST', 0, None, None, 0)\n",
    "B_TIME = Beta('B_TIME', 0, None, None, 0)\n",
    "B_TIME_S = Beta('B_TIME_S', 1, None, None, 0)\n",
    "B_TIME_RND = B_TIME + B_TIME_S * bioDraws('B_TIME_RND', 'NORMAL')"
   ]
  },
  {
   "cell_type": "markdown",
   "id": "fafb842a",
   "metadata": {},
   "source": [
    "# Definition of variables"
   ]
  },
  {
   "cell_type": "code",
   "execution_count": 7,
   "id": "0be69202",
   "metadata": {},
   "outputs": [],
   "source": [
    "SM_COST = SM_CO * (GA == 0)\n",
    "TRAIN_COST = TRAIN_CO * (GA == 0)\n",
    "CAR_AV_SP = CAR_AV * (SP != 0)\n",
    "TRAIN_AV_SP = TRAIN_AV * (SP != 0)\n",
    "TRAIN_TT_SCALED = TRAIN_TT / 100\n",
    "TRAIN_COST_SCALED = TRAIN_COST / 100\n",
    "SM_TT_SCALED = SM_TT / 100\n",
    "SM_COST_SCALED = SM_COST / 100\n",
    "CAR_TT_SCALED = CAR_TT / 100\n",
    "CAR_CO_SCALED = CAR_CO / 100\n",
    "TRAIN_HE_SCALED = TRAIN_HE / 1000\n",
    "SM_HE_SCALED = SM_HE / 1000\n",
    "LOW_INC = INCOME <= 1\n",
    "BUSINESS = (PURPOSE == 3)"
   ]
  },
  {
   "cell_type": "markdown",
   "id": "4cde8f30",
   "metadata": {},
   "source": [
    "# Utility functions and availability condition"
   ]
  },
  {
   "cell_type": "code",
   "execution_count": 8,
   "id": "32510adb",
   "metadata": {},
   "outputs": [],
   "source": [
    "V1 = (ASC_TRAIN +\n",
    "      B_TIME_RND * TRAIN_TT_SCALED +\n",
    "      B_COST * TRAIN_COST_SCALED)\n",
    "V2 = (B_TIME_RND * SM_TT_SCALED +\n",
    "      B_COST * SM_COST_SCALED)\n",
    "V3 = (ASC_CAR +\n",
    "      B_TIME_RND * CAR_TT_SCALED +\n",
    "      B_COST * CAR_CO_SCALED)\n",
    "\n",
    "V = {1: V1,\n",
    "     2: V2,\n",
    "     3: V3}\n",
    "\n",
    "av = {1: TRAIN_AV_SP,\n",
    "      2: SM_AV,\n",
    "      3: CAR_AV_SP}"
   ]
  },
  {
   "cell_type": "markdown",
   "id": "9afaecdc",
   "metadata": {},
   "source": [
    "# Results of the estimation"
   ]
  },
  {
   "cell_type": "markdown",
   "id": "42942126",
   "metadata": {},
   "source": [
    "If the estimation has already been made, the results are read from the file. If not, estimation is performed. It may take a while. "
   ]
  },
  {
   "cell_type": "code",
   "execution_count": 9,
   "id": "22e717d7",
   "metadata": {},
   "outputs": [],
   "source": [
    "results = get_results_from_url(f'swissmetroRandomCoefficients.pickle')"
   ]
  },
  {
   "cell_type": "code",
   "execution_count": 10,
   "id": "5ebe69d2",
   "metadata": {},
   "outputs": [
    {
     "data": {
      "text/html": [
       "<div>\n",
       "<style scoped>\n",
       "    .dataframe tbody tr th:only-of-type {\n",
       "        vertical-align: middle;\n",
       "    }\n",
       "\n",
       "    .dataframe tbody tr th {\n",
       "        vertical-align: top;\n",
       "    }\n",
       "\n",
       "    .dataframe thead th {\n",
       "        text-align: right;\n",
       "    }\n",
       "</style>\n",
       "<table border=\"1\" class=\"dataframe\">\n",
       "  <thead>\n",
       "    <tr style=\"text-align: right;\">\n",
       "      <th></th>\n",
       "      <th>Value</th>\n",
       "      <th>Std err</th>\n",
       "      <th>t-test</th>\n",
       "      <th>p-value</th>\n",
       "      <th>Rob. Std err</th>\n",
       "      <th>Rob. t-test</th>\n",
       "      <th>Rob. p-value</th>\n",
       "    </tr>\n",
       "  </thead>\n",
       "  <tbody>\n",
       "    <tr>\n",
       "      <th>ASC_CAR</th>\n",
       "      <td>-0.984734</td>\n",
       "      <td>0.034848</td>\n",
       "      <td>-28.258202</td>\n",
       "      <td>0.000000</td>\n",
       "      <td>0.033608</td>\n",
       "      <td>-29.300813</td>\n",
       "      <td>0.000000</td>\n",
       "    </tr>\n",
       "    <tr>\n",
       "      <th>ASC_TRAIN</th>\n",
       "      <td>-1.505986</td>\n",
       "      <td>0.046929</td>\n",
       "      <td>-32.090459</td>\n",
       "      <td>0.000000</td>\n",
       "      <td>0.046043</td>\n",
       "      <td>-32.708387</td>\n",
       "      <td>0.000000</td>\n",
       "    </tr>\n",
       "    <tr>\n",
       "      <th>B_COST</th>\n",
       "      <td>-0.662681</td>\n",
       "      <td>0.042402</td>\n",
       "      <td>-15.628515</td>\n",
       "      <td>0.000000</td>\n",
       "      <td>0.048266</td>\n",
       "      <td>-13.729648</td>\n",
       "      <td>0.000000</td>\n",
       "    </tr>\n",
       "    <tr>\n",
       "      <th>B_TIME</th>\n",
       "      <td>-0.140265</td>\n",
       "      <td>0.035929</td>\n",
       "      <td>-3.903931</td>\n",
       "      <td>0.000095</td>\n",
       "      <td>0.032522</td>\n",
       "      <td>-4.312954</td>\n",
       "      <td>0.000016</td>\n",
       "    </tr>\n",
       "    <tr>\n",
       "      <th>B_TIME_S</th>\n",
       "      <td>0.099318</td>\n",
       "      <td>0.077782</td>\n",
       "      <td>1.276874</td>\n",
       "      <td>0.201647</td>\n",
       "      <td>0.063169</td>\n",
       "      <td>1.572266</td>\n",
       "      <td>0.115889</td>\n",
       "    </tr>\n",
       "  </tbody>\n",
       "</table>\n",
       "</div>"
      ],
      "text/plain": [
       "              Value   Std err     t-test   p-value  Rob. Std err  Rob. t-test  \\\n",
       "ASC_CAR   -0.984734  0.034848 -28.258202  0.000000      0.033608   -29.300813   \n",
       "ASC_TRAIN -1.505986  0.046929 -32.090459  0.000000      0.046043   -32.708387   \n",
       "B_COST    -0.662681  0.042402 -15.628515  0.000000      0.048266   -13.729648   \n",
       "B_TIME    -0.140265  0.035929  -3.903931  0.000095      0.032522    -4.312954   \n",
       "B_TIME_S   0.099318  0.077782   1.276874  0.201647      0.063169     1.572266   \n",
       "\n",
       "           Rob. p-value  \n",
       "ASC_CAR        0.000000  \n",
       "ASC_TRAIN      0.000000  \n",
       "B_COST         0.000000  \n",
       "B_TIME         0.000016  \n",
       "B_TIME_S       0.115889  "
      ]
     },
     "execution_count": 10,
     "metadata": {},
     "output_type": "execute_result"
    }
   ],
   "source": [
    "results.getEstimatedParameters()"
   ]
  },
  {
   "cell_type": "markdown",
   "id": "5f73e1a6",
   "metadata": {},
   "source": [
    "# Simulation"
   ]
  },
  {
   "cell_type": "markdown",
   "id": "c633baa0",
   "metadata": {},
   "source": [
    "The distribution of the random parameter $\\beta$ for individuals with configuration $(i, x)$ is given by \n",
    "$$\n",
    "h(\\beta|i,x,\\theta) = \\frac{P(i|x,\\beta) f(\\beta|\\theta)}{\n",
    "  P(i|x,\\theta)} = \\frac{P(i|x,\\beta) f(\\beta|\\theta)}{\n",
    "  \\int P(i|x,\\beta) f(\\beta|\\theta) d\\beta}.\n",
    "$$\n",
    "The expected value of the parameter is given by\n",
    "$$\n",
    "\\bar{\\beta} = \\int \\beta \\,h(\\beta|i,x,\\theta) d\\beta= \\frac{\\int \\beta\\, P(i|x,\\beta) f(\\beta|\\theta) d\\beta}{\n",
    "  \\int P(i|x,\\beta) f(\\beta|\\theta) d\\beta}.\n",
    "$$\n"
   ]
  },
  {
   "cell_type": "markdown",
   "id": "bd6ea968",
   "metadata": {},
   "source": [
    "The choice probability $P(i|x,\\beta)$, conditional on $\\beta$, is calculated as follows."
   ]
  },
  {
   "cell_type": "code",
   "execution_count": 11,
   "id": "8cc3d595",
   "metadata": {},
   "outputs": [],
   "source": [
    "prob_chosen = models.logit(V, None, CHOICE)"
   ]
  },
  {
   "cell_type": "markdown",
   "id": "3be1d990",
   "metadata": {},
   "source": [
    "The numerator $$\\int \\beta\\, P(i|x,\\beta) f(\\beta|\\theta) d\\beta$$ is calculated as follows."
   ]
  },
  {
   "cell_type": "code",
   "execution_count": 12,
   "id": "170c5871",
   "metadata": {},
   "outputs": [],
   "source": [
    "numerator = MonteCarlo(B_TIME_RND * prob_chosen)"
   ]
  },
  {
   "cell_type": "markdown",
   "id": "4cacad8c",
   "metadata": {},
   "source": [
    "The denominator $$\\int P(i|x,\\beta) f(\\beta|\\theta) d\\beta$$ is calculated as follows."
   ]
  },
  {
   "cell_type": "code",
   "execution_count": 13,
   "id": "31b50bfe",
   "metadata": {},
   "outputs": [],
   "source": [
    "denominator = MonteCarlo(prob_chosen)"
   ]
  },
  {
   "cell_type": "markdown",
   "id": "e3b511bc",
   "metadata": {},
   "source": [
    "These quantities are calculated for each indivual in the sample using Biogeme in simulation mode."
   ]
  },
  {
   "cell_type": "code",
   "execution_count": 14,
   "id": "21c771f2",
   "metadata": {},
   "outputs": [],
   "source": [
    "simulate = {'Numerator': numerator,\n",
    "            'Denominator': denominator,\n",
    "            'Choice': CHOICE}"
   ]
  },
  {
   "cell_type": "code",
   "execution_count": 15,
   "id": "74657a2a",
   "metadata": {},
   "outputs": [],
   "source": [
    "biosim = bio.BIOGEME(database, simulate, numberOfDraws=1000)"
   ]
  },
  {
   "cell_type": "code",
   "execution_count": 16,
   "id": "166be9c3",
   "metadata": {},
   "outputs": [],
   "source": [
    "sim = biosim.simulate(results.getBetaValues())"
   ]
  },
  {
   "cell_type": "markdown",
   "id": "3d294d26",
   "metadata": {},
   "source": [
    "Finally, the value itself is calculated by dividing the numerator by the denominator."
   ]
  },
  {
   "cell_type": "code",
   "execution_count": 17,
   "id": "76a94fbe",
   "metadata": {},
   "outputs": [],
   "source": [
    "sim['Individual-level parameters'] = (\n",
    "    sim['Numerator'] / sim['Denominator']\n",
    ")"
   ]
  },
  {
   "cell_type": "markdown",
   "id": "f5e6f530",
   "metadata": {},
   "source": [
    "We investigate these quantities for each market segment."
   ]
  },
  {
   "cell_type": "code",
   "execution_count": 18,
   "id": "3be05183",
   "metadata": {},
   "outputs": [],
   "source": [
    "Train = sim[sim.Choice == 1]\n",
    "Car = sim[sim.Choice == 3]\n",
    "SM = sim[sim.Choice == 2]"
   ]
  },
  {
   "cell_type": "code",
   "execution_count": 19,
   "id": "17bf960f",
   "metadata": {},
   "outputs": [
    {
     "data": {
      "text/html": [
       "<div>\n",
       "<style scoped>\n",
       "    .dataframe tbody tr th:only-of-type {\n",
       "        vertical-align: middle;\n",
       "    }\n",
       "\n",
       "    .dataframe tbody tr th {\n",
       "        vertical-align: top;\n",
       "    }\n",
       "\n",
       "    .dataframe thead th {\n",
       "        text-align: right;\n",
       "    }\n",
       "</style>\n",
       "<table border=\"1\" class=\"dataframe\">\n",
       "  <thead>\n",
       "    <tr style=\"text-align: right;\">\n",
       "      <th></th>\n",
       "      <th>Numerator</th>\n",
       "      <th>Denominator</th>\n",
       "      <th>Choice</th>\n",
       "      <th>Individual-level parameters</th>\n",
       "    </tr>\n",
       "  </thead>\n",
       "  <tbody>\n",
       "    <tr>\n",
       "      <th>count</th>\n",
       "      <td>908.000000</td>\n",
       "      <td>908.000000</td>\n",
       "      <td>908.0</td>\n",
       "      <td>908.000000</td>\n",
       "    </tr>\n",
       "    <tr>\n",
       "      <th>mean</th>\n",
       "      <td>-0.017807</td>\n",
       "      <td>0.132536</td>\n",
       "      <td>1.0</td>\n",
       "      <td>-0.134145</td>\n",
       "    </tr>\n",
       "    <tr>\n",
       "      <th>std</th>\n",
       "      <td>0.002232</td>\n",
       "      <td>0.014235</td>\n",
       "      <td>0.0</td>\n",
       "      <td>0.004773</td>\n",
       "    </tr>\n",
       "    <tr>\n",
       "      <th>min</th>\n",
       "      <td>-0.025097</td>\n",
       "      <td>0.046714</td>\n",
       "      <td>1.0</td>\n",
       "      <td>-0.148828</td>\n",
       "    </tr>\n",
       "    <tr>\n",
       "      <th>25%</th>\n",
       "      <td>-0.019352</td>\n",
       "      <td>0.125475</td>\n",
       "      <td>1.0</td>\n",
       "      <td>-0.137269</td>\n",
       "    </tr>\n",
       "    <tr>\n",
       "      <th>50%</th>\n",
       "      <td>-0.017814</td>\n",
       "      <td>0.131473</td>\n",
       "      <td>1.0</td>\n",
       "      <td>-0.134462</td>\n",
       "    </tr>\n",
       "    <tr>\n",
       "      <th>75%</th>\n",
       "      <td>-0.016672</td>\n",
       "      <td>0.142036</td>\n",
       "      <td>1.0</td>\n",
       "      <td>-0.131147</td>\n",
       "    </tr>\n",
       "    <tr>\n",
       "      <th>max</th>\n",
       "      <td>-0.006145</td>\n",
       "      <td>0.175025</td>\n",
       "      <td>1.0</td>\n",
       "      <td>-0.115738</td>\n",
       "    </tr>\n",
       "  </tbody>\n",
       "</table>\n",
       "</div>"
      ],
      "text/plain": [
       "        Numerator  Denominator  Choice  Individual-level parameters\n",
       "count  908.000000   908.000000   908.0                   908.000000\n",
       "mean    -0.017807     0.132536     1.0                    -0.134145\n",
       "std      0.002232     0.014235     0.0                     0.004773\n",
       "min     -0.025097     0.046714     1.0                    -0.148828\n",
       "25%     -0.019352     0.125475     1.0                    -0.137269\n",
       "50%     -0.017814     0.131473     1.0                    -0.134462\n",
       "75%     -0.016672     0.142036     1.0                    -0.131147\n",
       "max     -0.006145     0.175025     1.0                    -0.115738"
      ]
     },
     "execution_count": 19,
     "metadata": {},
     "output_type": "execute_result"
    }
   ],
   "source": [
    "Train.describe()"
   ]
  },
  {
   "cell_type": "code",
   "execution_count": 20,
   "id": "9844a70e",
   "metadata": {},
   "outputs": [
    {
     "data": {
      "text/html": [
       "<div>\n",
       "<style scoped>\n",
       "    .dataframe tbody tr th:only-of-type {\n",
       "        vertical-align: middle;\n",
       "    }\n",
       "\n",
       "    .dataframe tbody tr th {\n",
       "        vertical-align: top;\n",
       "    }\n",
       "\n",
       "    .dataframe thead th {\n",
       "        text-align: right;\n",
       "    }\n",
       "</style>\n",
       "<table border=\"1\" class=\"dataframe\">\n",
       "  <thead>\n",
       "    <tr style=\"text-align: right;\">\n",
       "      <th></th>\n",
       "      <th>Numerator</th>\n",
       "      <th>Denominator</th>\n",
       "      <th>Choice</th>\n",
       "      <th>Individual-level parameters</th>\n",
       "    </tr>\n",
       "  </thead>\n",
       "  <tbody>\n",
       "    <tr>\n",
       "      <th>count</th>\n",
       "      <td>1770.000000</td>\n",
       "      <td>1770.000000</td>\n",
       "      <td>1770.0</td>\n",
       "      <td>1770.000000</td>\n",
       "    </tr>\n",
       "    <tr>\n",
       "      <th>mean</th>\n",
       "      <td>-0.040665</td>\n",
       "      <td>0.293049</td>\n",
       "      <td>3.0</td>\n",
       "      <td>-0.138555</td>\n",
       "    </tr>\n",
       "    <tr>\n",
       "      <th>std</th>\n",
       "      <td>0.012074</td>\n",
       "      <td>0.085561</td>\n",
       "      <td>0.0</td>\n",
       "      <td>0.005607</td>\n",
       "    </tr>\n",
       "    <tr>\n",
       "      <th>min</th>\n",
       "      <td>-0.096587</td>\n",
       "      <td>0.018754</td>\n",
       "      <td>3.0</td>\n",
       "      <td>-0.159145</td>\n",
       "    </tr>\n",
       "    <tr>\n",
       "      <th>25%</th>\n",
       "      <td>-0.048873</td>\n",
       "      <td>0.235202</td>\n",
       "      <td>3.0</td>\n",
       "      <td>-0.141636</td>\n",
       "    </tr>\n",
       "    <tr>\n",
       "      <th>50%</th>\n",
       "      <td>-0.038380</td>\n",
       "      <td>0.275488</td>\n",
       "      <td>3.0</td>\n",
       "      <td>-0.138696</td>\n",
       "    </tr>\n",
       "    <tr>\n",
       "      <th>75%</th>\n",
       "      <td>-0.032757</td>\n",
       "      <td>0.351189</td>\n",
       "      <td>3.0</td>\n",
       "      <td>-0.135944</td>\n",
       "    </tr>\n",
       "    <tr>\n",
       "      <th>max</th>\n",
       "      <td>-0.002455</td>\n",
       "      <td>0.692048</td>\n",
       "      <td>3.0</td>\n",
       "      <td>-0.037797</td>\n",
       "    </tr>\n",
       "  </tbody>\n",
       "</table>\n",
       "</div>"
      ],
      "text/plain": [
       "         Numerator  Denominator  Choice  Individual-level parameters\n",
       "count  1770.000000  1770.000000  1770.0                  1770.000000\n",
       "mean     -0.040665     0.293049     3.0                    -0.138555\n",
       "std       0.012074     0.085561     0.0                     0.005607\n",
       "min      -0.096587     0.018754     3.0                    -0.159145\n",
       "25%      -0.048873     0.235202     3.0                    -0.141636\n",
       "50%      -0.038380     0.275488     3.0                    -0.138696\n",
       "75%      -0.032757     0.351189     3.0                    -0.135944\n",
       "max      -0.002455     0.692048     3.0                    -0.037797"
      ]
     },
     "execution_count": 20,
     "metadata": {},
     "output_type": "execute_result"
    }
   ],
   "source": [
    "Car.describe()"
   ]
  },
  {
   "cell_type": "code",
   "execution_count": 21,
   "id": "43dd988f",
   "metadata": {},
   "outputs": [
    {
     "data": {
      "text/html": [
       "<div>\n",
       "<style scoped>\n",
       "    .dataframe tbody tr th:only-of-type {\n",
       "        vertical-align: middle;\n",
       "    }\n",
       "\n",
       "    .dataframe tbody tr th {\n",
       "        vertical-align: top;\n",
       "    }\n",
       "\n",
       "    .dataframe thead th {\n",
       "        text-align: right;\n",
       "    }\n",
       "</style>\n",
       "<table border=\"1\" class=\"dataframe\">\n",
       "  <thead>\n",
       "    <tr style=\"text-align: right;\">\n",
       "      <th></th>\n",
       "      <th>Numerator</th>\n",
       "      <th>Denominator</th>\n",
       "      <th>Choice</th>\n",
       "      <th>Individual-level parameters</th>\n",
       "    </tr>\n",
       "  </thead>\n",
       "  <tbody>\n",
       "    <tr>\n",
       "      <th>count</th>\n",
       "      <td>4090.000000</td>\n",
       "      <td>4090.000000</td>\n",
       "      <td>4090.0</td>\n",
       "      <td>4090.000000</td>\n",
       "    </tr>\n",
       "    <tr>\n",
       "      <th>mean</th>\n",
       "      <td>-0.087714</td>\n",
       "      <td>0.616484</td>\n",
       "      <td>2.0</td>\n",
       "      <td>-0.142210</td>\n",
       "    </tr>\n",
       "    <tr>\n",
       "      <th>std</th>\n",
       "      <td>0.011589</td>\n",
       "      <td>0.077827</td>\n",
       "      <td>0.0</td>\n",
       "      <td>0.004067</td>\n",
       "    </tr>\n",
       "    <tr>\n",
       "      <th>min</th>\n",
       "      <td>-0.115502</td>\n",
       "      <td>0.040664</td>\n",
       "      <td>2.0</td>\n",
       "      <td>-0.156067</td>\n",
       "    </tr>\n",
       "    <tr>\n",
       "      <th>25%</th>\n",
       "      <td>-0.094710</td>\n",
       "      <td>0.591179</td>\n",
       "      <td>2.0</td>\n",
       "      <td>-0.144834</td>\n",
       "    </tr>\n",
       "    <tr>\n",
       "      <th>50%</th>\n",
       "      <td>-0.089320</td>\n",
       "      <td>0.627758</td>\n",
       "      <td>2.0</td>\n",
       "      <td>-0.142336</td>\n",
       "    </tr>\n",
       "    <tr>\n",
       "      <th>75%</th>\n",
       "      <td>-0.083261</td>\n",
       "      <td>0.662580</td>\n",
       "      <td>2.0</td>\n",
       "      <td>-0.139596</td>\n",
       "    </tr>\n",
       "    <tr>\n",
       "      <th>max</th>\n",
       "      <td>-0.006090</td>\n",
       "      <td>0.819083</td>\n",
       "      <td>2.0</td>\n",
       "      <td>-0.113914</td>\n",
       "    </tr>\n",
       "  </tbody>\n",
       "</table>\n",
       "</div>"
      ],
      "text/plain": [
       "         Numerator  Denominator  Choice  Individual-level parameters\n",
       "count  4090.000000  4090.000000  4090.0                  4090.000000\n",
       "mean     -0.087714     0.616484     2.0                    -0.142210\n",
       "std       0.011589     0.077827     0.0                     0.004067\n",
       "min      -0.115502     0.040664     2.0                    -0.156067\n",
       "25%      -0.094710     0.591179     2.0                    -0.144834\n",
       "50%      -0.089320     0.627758     2.0                    -0.142336\n",
       "75%      -0.083261     0.662580     2.0                    -0.139596\n",
       "max      -0.006090     0.819083     2.0                    -0.113914"
      ]
     },
     "execution_count": 21,
     "metadata": {},
     "output_type": "execute_result"
    }
   ],
   "source": [
    "SM.describe()"
   ]
  },
  {
   "cell_type": "code",
   "execution_count": 22,
   "id": "5a203f6f",
   "metadata": {},
   "outputs": [
    {
     "data": {
      "image/png": "[encoded data removed]",
      "text/plain": [
       "<Figure size 432x288 with 1 Axes>"
      ]
     },
     "metadata": {
      "needs_background": "light"
     },
     "output_type": "display_data"
    }
   ],
   "source": [
    "Car['Individual-level parameters'].hist(\n",
    "    ax=plt.gca(), label='Car', grid=False\n",
    ")\n",
    "SM['Individual-level parameters'].hist(\n",
    "    ax=plt.gca(), label='Swissmetro', grid=False\n",
    ")\n",
    "Train['Individual-level parameters'].hist(\n",
    "    ax=plt.gca(), label='Train', grid=False\n",
    ")\n",
    "plt.legend()\n",
    "plt.show()"
   ]
  },
  {
   "cell_type": "markdown",
   "id": "42d181d7",
   "metadata": {},
   "source": [
    "## Zoom"
   ]
  },
  {
   "cell_type": "code",
   "execution_count": 23,
   "id": "88f6f662",
   "metadata": {},
   "outputs": [
    {
     "data": {
      "image/png": "[encoded data removed]",
      "text/plain": [
       "<Figure size 432x288 with 1 Axes>"
      ]
     },
     "metadata": {
      "needs_background": "light"
     },
     "output_type": "display_data"
    }
   ],
   "source": [
    "Car['Individual-level parameters'].hist(\n",
    "    ax=plt.gca(), label='Car', grid=False\n",
    ")\n",
    "SM['Individual-level parameters'].hist(\n",
    "    ax=plt.gca(), label='Swissmetro', grid=False\n",
    ")\n",
    "Train['Individual-level parameters'].hist(\n",
    "    ax=plt.gca(), label='Train', grid=False\n",
    ")\n",
    "plt.legend()\n",
    "plt.xlim([-0.16, -0.11])\n",
    "plt.show()"
   ]
  },
  {
   "cell_type": "markdown",
   "id": "5214bb65",
   "metadata": {},
   "source": [
    "It seems that individuals who selected Swissmetro have a more negative travel time coefficient."
   ]
  }
 ],
 "metadata": {
  "kernelspec": {
   "display_name": "Python 3 (ipykernel)",
   "language": "python",
   "name": "python3"
  },
  "language_info": {
   "codemirror_mode": {
    "name": "ipython",
    "version": 3
   },
   "file_extension": ".py",
   "mimetype": "text/x-python",
   "name": "python",
   "nbconvert_exporter": "python",
   "pygments_lexer": "ipython3",
   "version": "3.9.6"
  }
 },
 "nbformat": 4,
 "nbformat_minor": 5
}
