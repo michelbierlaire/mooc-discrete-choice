{
 "cells": [
  {
   "cell_type": "code",
   "execution_count": 1,
   "id": "e8d04dab",
   "metadata": {},
   "outputs": [],
   "source": [
    "import pandas as pd\n",
    "import pickle\n",
    "from urllib.request import urlopen\n",
    "import matplotlib.pyplot as plt\n",
    "import biogeme.database as db\n",
    "import biogeme.biogeme as bio\n",
    "import biogeme.models as models\n",
    "import biogeme.results as res\n",
    "from biogeme.expressions import Beta, bioDraws, MonteCarlo"
   ]
  },
  {
   "cell_type": "markdown",
   "id": "16cd7190",
   "metadata": {},
   "source": [
    "The following function obtains the data from the file available online."
   ]
  },
  {
   "cell_type": "code",
   "execution_count": 2,
   "id": "cf5f0e81",
   "metadata": {},
   "outputs": [],
   "source": [
    "url_root = (\n",
    "    'https://courses.edx.org/'\n",
    "    'asset-v1:EPFLx+ChoiceModels2x+3T2021+type@asset+block@'\n",
    ")"
   ]
  },
  {
   "cell_type": "code",
   "execution_count": 3,
   "id": "276c2cf4",
   "metadata": {},
   "outputs": [],
   "source": [
    "def get_results_from_url(file):\n",
    "    pickle_file = f'{url_root}{file}'\n",
    "\n",
    "    with urlopen(pickle_file) as p:\n",
    "        data = pickle.load(p)\n",
    "    return res.bioResults(data)"
   ]
  },
  {
   "cell_type": "markdown",
   "id": "bccfd4e4",
   "metadata": {},
   "source": [
    "# Read the data"
   ]
  },
  {
   "cell_type": "code",
   "execution_count": 4,
   "id": "d9986df2",
   "metadata": {},
   "outputs": [],
   "source": [
    "df = pd.read_table(f'{url_root}swissmetro.dat')\n",
    "database = db.Database('swissmetro', df)\n",
    "globals().update(database.variables)\n",
    "exclude = ((PURPOSE != 1) * (PURPOSE != 3) + (CHOICE == 0)) > 0\n",
    "database.remove(exclude)"
   ]
  },
  {
   "cell_type": "markdown",
   "id": "3d525436",
   "metadata": {},
   "source": [
    "# List of parameters to be estimated"
   ]
  },
  {
   "cell_type": "code",
   "execution_count": 5,
   "id": "4bc72052",
   "metadata": {},
   "outputs": [],
   "source": [
    "ASC_CAR = Beta('ASC_CAR', 0, None, None, 0)\n",
    "ASC_TRAIN = Beta('ASC_TRAIN', 0, None, None, 0)\n",
    "ASC_SM = Beta('ASC_SM', 0, None, None, 1)\n",
    "B_COST = Beta('B_COST', 0, None, None, 0)\n",
    "B_TIME = Beta('B_TIME', 0, None, None, 0)\n",
    "B_TIME_S = Beta('B_TIME_S', 1, None, None, 0)\n",
    "B_TIME_RND = B_TIME + B_TIME_S * bioDraws('B_TIME_RND', 'NORMAL')"
   ]
  },
  {
   "cell_type": "markdown",
   "id": "fafb842a",
   "metadata": {},
   "source": [
    "# Definition of variables"
   ]
  },
  {
   "cell_type": "code",
   "execution_count": 6,
   "id": "0be69202",
   "metadata": {},
   "outputs": [],
   "source": [
    "SM_COST = SM_CO * (GA == 0)\n",
    "TRAIN_COST = TRAIN_CO * (GA == 0)\n",
    "CAR_AV_SP = CAR_AV * (SP != 0)\n",
    "TRAIN_AV_SP = TRAIN_AV * (SP != 0)\n",
    "TRAIN_TT_SCALED = TRAIN_TT / 100\n",
    "TRAIN_COST_SCALED = TRAIN_COST / 100\n",
    "SM_TT_SCALED = SM_TT / 100\n",
    "SM_COST_SCALED = SM_COST / 100\n",
    "CAR_TT_SCALED = CAR_TT / 100\n",
    "CAR_CO_SCALED = CAR_CO / 100\n",
    "TRAIN_HE_SCALED = TRAIN_HE / 1000\n",
    "SM_HE_SCALED = SM_HE / 1000\n",
    "LOW_INC = INCOME <= 1\n",
    "BUSINESS = (PURPOSE == 3)"
   ]
  },
  {
   "cell_type": "markdown",
   "id": "4cde8f30",
   "metadata": {},
   "source": [
    "# Utility functions and availability condition"
   ]
  },
  {
   "cell_type": "code",
   "execution_count": 7,
   "id": "32510adb",
   "metadata": {},
   "outputs": [],
   "source": [
    "V1 = (ASC_TRAIN +\n",
    "      B_TIME_RND * TRAIN_TT_SCALED +\n",
    "      B_COST * TRAIN_COST_SCALED)\n",
    "V2 = (B_TIME_RND * SM_TT_SCALED +\n",
    "      B_COST * SM_COST_SCALED)\n",
    "V3 = (ASC_CAR +\n",
    "      B_TIME_RND * CAR_TT_SCALED +\n",
    "      B_COST * CAR_CO_SCALED)\n",
    "\n",
    "V = {1: V1,\n",
    "     2: V2,\n",
    "     3: V3}\n",
    "\n",
    "av = {1: TRAIN_AV_SP,\n",
    "      2: SM_AV,\n",
    "      3: CAR_AV_SP}"
   ]
  },
  {
   "cell_type": "markdown",
   "id": "9afaecdc",
   "metadata": {},
   "source": [
    "# Results of the estimation"
   ]
  },
  {
   "cell_type": "markdown",
   "id": "42942126",
   "metadata": {},
   "source": [
    "If the estimation has already been made, the results are read from the file. If not, estimation is performed. It may take a while. "
   ]
  },
  {
   "cell_type": "code",
   "execution_count": 8,
   "id": "22e717d7",
   "metadata": {},
   "outputs": [],
   "source": [
    "results = get_results_from_url(f'swissmetroRandomCoefficients.pickle')"
   ]
  },
  {
   "cell_type": "code",
   "execution_count": 9,
   "id": "5ebe69d2",
   "metadata": {},
   "outputs": [
    {
     "data": {
      "text/html": [
       "<div>\n",
       "<style scoped>\n",
       "    .dataframe tbody tr th:only-of-type {\n",
       "        vertical-align: middle;\n",
       "    }\n",
       "\n",
       "    .dataframe tbody tr th {\n",
       "        vertical-align: top;\n",
       "    }\n",
       "\n",
       "    .dataframe thead th {\n",
       "        text-align: right;\n",
       "    }\n",
       "</style>\n",
       "<table border=\"1\" class=\"dataframe\">\n",
       "  <thead>\n",
       "    <tr style=\"text-align: right;\">\n",
       "      <th></th>\n",
       "      <th>Value</th>\n",
       "      <th>Std err</th>\n",
       "      <th>t-test</th>\n",
       "      <th>p-value</th>\n",
       "      <th>Rob. Std err</th>\n",
       "      <th>Rob. t-test</th>\n",
       "      <th>Rob. p-value</th>\n",
       "    </tr>\n",
       "  </thead>\n",
       "  <tbody>\n",
       "    <tr>\n",
       "      <th>ASC_CAR</th>\n",
       "      <td>-0.984734</td>\n",
       "      <td>0.034848</td>\n",
       "      <td>-28.258202</td>\n",
       "      <td>0.000000</td>\n",
       "      <td>0.033608</td>\n",
       "      <td>-29.300813</td>\n",
       "      <td>0.000000</td>\n",
       "    </tr>\n",
       "    <tr>\n",
       "      <th>ASC_TRAIN</th>\n",
       "      <td>-1.505986</td>\n",
       "      <td>0.046929</td>\n",
       "      <td>-32.090459</td>\n",
       "      <td>0.000000</td>\n",
       "      <td>0.046043</td>\n",
       "      <td>-32.708387</td>\n",
       "      <td>0.000000</td>\n",
       "    </tr>\n",
       "    <tr>\n",
       "      <th>B_COST</th>\n",
       "      <td>-0.662681</td>\n",
       "      <td>0.042402</td>\n",
       "      <td>-15.628515</td>\n",
       "      <td>0.000000</td>\n",
       "      <td>0.048266</td>\n",
       "      <td>-13.729648</td>\n",
       "      <td>0.000000</td>\n",
       "    </tr>\n",
       "    <tr>\n",
       "      <th>B_TIME</th>\n",
       "      <td>-0.140265</td>\n",
       "      <td>0.035929</td>\n",
       "      <td>-3.903931</td>\n",
       "      <td>0.000095</td>\n",
       "      <td>0.032522</td>\n",
       "      <td>-4.312954</td>\n",
       "      <td>0.000016</td>\n",
       "    </tr>\n",
       "    <tr>\n",
       "      <th>B_TIME_S</th>\n",
       "      <td>0.099318</td>\n",
       "      <td>0.077782</td>\n",
       "      <td>1.276874</td>\n",
       "      <td>0.201647</td>\n",
       "      <td>0.063169</td>\n",
       "      <td>1.572266</td>\n",
       "      <td>0.115889</td>\n",
       "    </tr>\n",
       "  </tbody>\n",
       "</table>\n",
       "</div>"
      ],
      "text/plain": [
       "              Value   Std err     t-test   p-value  Rob. Std err  Rob. t-test  \\\n",
       "ASC_CAR   -0.984734  0.034848 -28.258202  0.000000      0.033608   -29.300813   \n",
       "ASC_TRAIN -1.505986  0.046929 -32.090459  0.000000      0.046043   -32.708387   \n",
       "B_COST    -0.662681  0.042402 -15.628515  0.000000      0.048266   -13.729648   \n",
       "B_TIME    -0.140265  0.035929  -3.903931  0.000095      0.032522    -4.312954   \n",
       "B_TIME_S   0.099318  0.077782   1.276874  0.201647      0.063169     1.572266   \n",
       "\n",
       "           Rob. p-value  \n",
       "ASC_CAR        0.000000  \n",
       "ASC_TRAIN      0.000000  \n",
       "B_COST         0.000000  \n",
       "B_TIME         0.000016  \n",
       "B_TIME_S       0.115889  "
      ]
     },
     "execution_count": 9,
     "metadata": {},
     "output_type": "execute_result"
    }
   ],
   "source": [
    "results.getEstimatedParameters()"
   ]
  },
  {
   "cell_type": "markdown",
   "id": "5f73e1a6",
   "metadata": {},
   "source": [
    "# Simulation"
   ]
  },
  {
   "cell_type": "markdown",
   "id": "c633baa0",
   "metadata": {},
   "source": [
    "The distribution of the random parameter $\\beta$ for individuals with configuration $(i, x)$ is given by \n",
    "$$\n",
    "h(\\beta|i,x,\\theta) = \\frac{P(i|x,\\beta) f(\\beta|\\theta)}{\n",
    "  P(i|x,\\theta)} = \\frac{P(i|x,\\beta) f(\\beta|\\theta)}{\n",
    "  \\int P(i|x,\\beta) f(\\beta|\\theta) d\\beta}.\n",
    "$$\n",
    "The expected value of the parameter is given by\n",
    "$$\n",
    "\\bar{\\beta} = \\int \\beta \\,h(\\beta|i,x,\\theta) d\\beta= \\frac{\\int \\beta\\, P(i|x,\\beta) f(\\beta|\\theta) d\\beta}{\n",
    "  \\int P(i|x,\\beta) f(\\beta|\\theta) d\\beta}.\n",
    "$$\n"
   ]
  },
  {
   "cell_type": "markdown",
   "id": "bd6ea968",
   "metadata": {},
   "source": [
    "The choice probability $P(i|x,\\beta)$, conditional on $\\beta$, is calculated as follows."
   ]
  },
  {
   "cell_type": "code",
   "execution_count": 10,
   "id": "8cc3d595",
   "metadata": {},
   "outputs": [],
   "source": [
    "prob_chosen = models.logit(V, None, CHOICE)"
   ]
  },
  {
   "cell_type": "markdown",
   "id": "3be1d990",
   "metadata": {},
   "source": [
    "The numerator $$\\int \\beta\\, P(i|x,\\beta) f(\\beta|\\theta) d\\beta$$ is calculated as follows."
   ]
  },
  {
   "cell_type": "code",
   "execution_count": 11,
   "id": "170c5871",
   "metadata": {},
   "outputs": [],
   "source": [
    "numerator = MonteCarlo(B_TIME_RND * prob_chosen)"
   ]
  },
  {
   "cell_type": "markdown",
   "id": "4cacad8c",
   "metadata": {},
   "source": [
    "The denominator $$\\int P(i|x,\\beta) f(\\beta|\\theta) d\\beta$$ is calculated as follows."
   ]
  },
  {
   "cell_type": "code",
   "execution_count": 12,
   "id": "31b50bfe",
   "metadata": {},
   "outputs": [],
   "source": [
    "denominator = MonteCarlo(prob_chosen)"
   ]
  },
  {
   "cell_type": "markdown",
   "id": "e3b511bc",
   "metadata": {},
   "source": [
    "These quantities are calculated for each indivual in the sample using Biogeme in simulation mode."
   ]
  },
  {
   "cell_type": "code",
   "execution_count": 13,
   "id": "21c771f2",
   "metadata": {},
   "outputs": [],
   "source": [
    "simulate = {'Numerator': numerator,\n",
    "            'Denominator': denominator,\n",
    "            'Choice': CHOICE}"
   ]
  },
  {
   "cell_type": "code",
   "execution_count": 14,
   "id": "74657a2a",
   "metadata": {},
   "outputs": [],
   "source": [
    "biosim = bio.BIOGEME(database, simulate, numberOfDraws=1000)"
   ]
  },
  {
   "cell_type": "code",
   "execution_count": 15,
   "id": "166be9c3",
   "metadata": {},
   "outputs": [],
   "source": [
    "sim = biosim.simulate(results.getBetaValues())"
   ]
  },
  {
   "cell_type": "markdown",
   "id": "3d294d26",
   "metadata": {},
   "source": [
    "Finally, the value itself is calculated by dividing the numerator by the denominator."
   ]
  },
  {
   "cell_type": "code",
   "execution_count": 16,
   "id": "76a94fbe",
   "metadata": {},
   "outputs": [],
   "source": [
    "sim['Individual-level parameters'] = sim['Numerator'] / sim['Denominator']"
   ]
  },
  {
   "cell_type": "markdown",
   "id": "f5e6f530",
   "metadata": {},
   "source": [
    "We investigate these quantities for each market segment."
   ]
  },
  {
   "cell_type": "code",
   "execution_count": 17,
   "id": "3be05183",
   "metadata": {},
   "outputs": [],
   "source": [
    "Train = sim[sim.Choice == 1]\n",
    "Car = sim[sim.Choice == 3]\n",
    "SM = sim[sim.Choice == 2]"
   ]
  },
  {
   "cell_type": "code",
   "execution_count": 18,
   "id": "17bf960f",
   "metadata": {},
   "outputs": [
    {
     "data": {
      "text/html": [
       "<div>\n",
       "<style scoped>\n",
       "    .dataframe tbody tr th:only-of-type {\n",
       "        vertical-align: middle;\n",
       "    }\n",
       "\n",
       "    .dataframe tbody tr th {\n",
       "        vertical-align: top;\n",
       "    }\n",
       "\n",
       "    .dataframe thead th {\n",
       "        text-align: right;\n",
       "    }\n",
       "</style>\n",
       "<table border=\"1\" class=\"dataframe\">\n",
       "  <thead>\n",
       "    <tr style=\"text-align: right;\">\n",
       "      <th></th>\n",
       "      <th>Numerator</th>\n",
       "      <th>Denominator</th>\n",
       "      <th>Choice</th>\n",
       "      <th>Individual-level parameters</th>\n",
       "    </tr>\n",
       "  </thead>\n",
       "  <tbody>\n",
       "    <tr>\n",
       "      <th>count</th>\n",
       "      <td>908.000000</td>\n",
       "      <td>908.000000</td>\n",
       "      <td>908.0</td>\n",
       "      <td>908.000000</td>\n",
       "    </tr>\n",
       "    <tr>\n",
       "      <th>mean</th>\n",
       "      <td>-0.017800</td>\n",
       "      <td>0.132548</td>\n",
       "      <td>1.0</td>\n",
       "      <td>-0.134071</td>\n",
       "    </tr>\n",
       "    <tr>\n",
       "      <th>std</th>\n",
       "      <td>0.002232</td>\n",
       "      <td>0.014219</td>\n",
       "      <td>0.0</td>\n",
       "      <td>0.004729</td>\n",
       "    </tr>\n",
       "    <tr>\n",
       "      <th>min</th>\n",
       "      <td>-0.024688</td>\n",
       "      <td>0.046552</td>\n",
       "      <td>1.0</td>\n",
       "      <td>-0.150151</td>\n",
       "    </tr>\n",
       "    <tr>\n",
       "      <th>25%</th>\n",
       "      <td>-0.019380</td>\n",
       "      <td>0.125416</td>\n",
       "      <td>1.0</td>\n",
       "      <td>-0.137274</td>\n",
       "    </tr>\n",
       "    <tr>\n",
       "      <th>50%</th>\n",
       "      <td>-0.017852</td>\n",
       "      <td>0.131762</td>\n",
       "      <td>1.0</td>\n",
       "      <td>-0.134478</td>\n",
       "    </tr>\n",
       "    <tr>\n",
       "      <th>75%</th>\n",
       "      <td>-0.016655</td>\n",
       "      <td>0.142059</td>\n",
       "      <td>1.0</td>\n",
       "      <td>-0.131379</td>\n",
       "    </tr>\n",
       "    <tr>\n",
       "      <th>max</th>\n",
       "      <td>-0.006426</td>\n",
       "      <td>0.175070</td>\n",
       "      <td>1.0</td>\n",
       "      <td>-0.115098</td>\n",
       "    </tr>\n",
       "  </tbody>\n",
       "</table>\n",
       "</div>"
      ],
      "text/plain": [
       "        Numerator  Denominator  Choice  Individual-level parameters\n",
       "count  908.000000   908.000000   908.0                   908.000000\n",
       "mean    -0.017800     0.132548     1.0                    -0.134071\n",
       "std      0.002232     0.014219     0.0                     0.004729\n",
       "min     -0.024688     0.046552     1.0                    -0.150151\n",
       "25%     -0.019380     0.125416     1.0                    -0.137274\n",
       "50%     -0.017852     0.131762     1.0                    -0.134478\n",
       "75%     -0.016655     0.142059     1.0                    -0.131379\n",
       "max     -0.006426     0.175070     1.0                    -0.115098"
      ]
     },
     "execution_count": 18,
     "metadata": {},
     "output_type": "execute_result"
    }
   ],
   "source": [
    "Train.describe()"
   ]
  },
  {
   "cell_type": "code",
   "execution_count": 19,
   "id": "9844a70e",
   "metadata": {},
   "outputs": [
    {
     "data": {
      "text/html": [
       "<div>\n",
       "<style scoped>\n",
       "    .dataframe tbody tr th:only-of-type {\n",
       "        vertical-align: middle;\n",
       "    }\n",
       "\n",
       "    .dataframe tbody tr th {\n",
       "        vertical-align: top;\n",
       "    }\n",
       "\n",
       "    .dataframe thead th {\n",
       "        text-align: right;\n",
       "    }\n",
       "</style>\n",
       "<table border=\"1\" class=\"dataframe\">\n",
       "  <thead>\n",
       "    <tr style=\"text-align: right;\">\n",
       "      <th></th>\n",
       "      <th>Numerator</th>\n",
       "      <th>Denominator</th>\n",
       "      <th>Choice</th>\n",
       "      <th>Individual-level parameters</th>\n",
       "    </tr>\n",
       "  </thead>\n",
       "  <tbody>\n",
       "    <tr>\n",
       "      <th>count</th>\n",
       "      <td>1770.000000</td>\n",
       "      <td>1770.000000</td>\n",
       "      <td>1770.0</td>\n",
       "      <td>1770.000000</td>\n",
       "    </tr>\n",
       "    <tr>\n",
       "      <th>mean</th>\n",
       "      <td>-0.040691</td>\n",
       "      <td>0.293061</td>\n",
       "      <td>3.0</td>\n",
       "      <td>-0.138621</td>\n",
       "    </tr>\n",
       "    <tr>\n",
       "      <th>std</th>\n",
       "      <td>0.012098</td>\n",
       "      <td>0.085550</td>\n",
       "      <td>0.0</td>\n",
       "      <td>0.005815</td>\n",
       "    </tr>\n",
       "    <tr>\n",
       "      <th>min</th>\n",
       "      <td>-0.098226</td>\n",
       "      <td>0.018683</td>\n",
       "      <td>3.0</td>\n",
       "      <td>-0.157842</td>\n",
       "    </tr>\n",
       "    <tr>\n",
       "      <th>25%</th>\n",
       "      <td>-0.048626</td>\n",
       "      <td>0.235375</td>\n",
       "      <td>3.0</td>\n",
       "      <td>-0.141875</td>\n",
       "    </tr>\n",
       "    <tr>\n",
       "      <th>50%</th>\n",
       "      <td>-0.038352</td>\n",
       "      <td>0.275630</td>\n",
       "      <td>3.0</td>\n",
       "      <td>-0.138900</td>\n",
       "    </tr>\n",
       "    <tr>\n",
       "      <th>75%</th>\n",
       "      <td>-0.032585</td>\n",
       "      <td>0.350952</td>\n",
       "      <td>3.0</td>\n",
       "      <td>-0.135791</td>\n",
       "    </tr>\n",
       "    <tr>\n",
       "      <th>max</th>\n",
       "      <td>-0.002379</td>\n",
       "      <td>0.692281</td>\n",
       "      <td>3.0</td>\n",
       "      <td>-0.027610</td>\n",
       "    </tr>\n",
       "  </tbody>\n",
       "</table>\n",
       "</div>"
      ],
      "text/plain": [
       "         Numerator  Denominator  Choice  Individual-level parameters\n",
       "count  1770.000000  1770.000000  1770.0                  1770.000000\n",
       "mean     -0.040691     0.293061     3.0                    -0.138621\n",
       "std       0.012098     0.085550     0.0                     0.005815\n",
       "min      -0.098226     0.018683     3.0                    -0.157842\n",
       "25%      -0.048626     0.235375     3.0                    -0.141875\n",
       "50%      -0.038352     0.275630     3.0                    -0.138900\n",
       "75%      -0.032585     0.350952     3.0                    -0.135791\n",
       "max      -0.002379     0.692281     3.0                    -0.027610"
      ]
     },
     "execution_count": 19,
     "metadata": {},
     "output_type": "execute_result"
    }
   ],
   "source": [
    "Car.describe()"
   ]
  },
  {
   "cell_type": "code",
   "execution_count": 20,
   "id": "43dd988f",
   "metadata": {},
   "outputs": [
    {
     "data": {
      "text/html": [
       "<div>\n",
       "<style scoped>\n",
       "    .dataframe tbody tr th:only-of-type {\n",
       "        vertical-align: middle;\n",
       "    }\n",
       "\n",
       "    .dataframe tbody tr th {\n",
       "        vertical-align: top;\n",
       "    }\n",
       "\n",
       "    .dataframe thead th {\n",
       "        text-align: right;\n",
       "    }\n",
       "</style>\n",
       "<table border=\"1\" class=\"dataframe\">\n",
       "  <thead>\n",
       "    <tr style=\"text-align: right;\">\n",
       "      <th></th>\n",
       "      <th>Numerator</th>\n",
       "      <th>Denominator</th>\n",
       "      <th>Choice</th>\n",
       "      <th>Individual-level parameters</th>\n",
       "    </tr>\n",
       "  </thead>\n",
       "  <tbody>\n",
       "    <tr>\n",
       "      <th>count</th>\n",
       "      <td>4090.000000</td>\n",
       "      <td>4090.000000</td>\n",
       "      <td>4090.0</td>\n",
       "      <td>4090.000000</td>\n",
       "    </tr>\n",
       "    <tr>\n",
       "      <th>mean</th>\n",
       "      <td>-0.087765</td>\n",
       "      <td>0.616480</td>\n",
       "      <td>2.0</td>\n",
       "      <td>-0.142279</td>\n",
       "    </tr>\n",
       "    <tr>\n",
       "      <th>std</th>\n",
       "      <td>0.011656</td>\n",
       "      <td>0.077849</td>\n",
       "      <td>0.0</td>\n",
       "      <td>0.004019</td>\n",
       "    </tr>\n",
       "    <tr>\n",
       "      <th>min</th>\n",
       "      <td>-0.115892</td>\n",
       "      <td>0.040640</td>\n",
       "      <td>2.0</td>\n",
       "      <td>-0.155298</td>\n",
       "    </tr>\n",
       "    <tr>\n",
       "      <th>25%</th>\n",
       "      <td>-0.094935</td>\n",
       "      <td>0.591093</td>\n",
       "      <td>2.0</td>\n",
       "      <td>-0.144953</td>\n",
       "    </tr>\n",
       "    <tr>\n",
       "      <th>50%</th>\n",
       "      <td>-0.089468</td>\n",
       "      <td>0.627920</td>\n",
       "      <td>2.0</td>\n",
       "      <td>-0.142242</td>\n",
       "    </tr>\n",
       "    <tr>\n",
       "      <th>75%</th>\n",
       "      <td>-0.083216</td>\n",
       "      <td>0.662582</td>\n",
       "      <td>2.0</td>\n",
       "      <td>-0.139745</td>\n",
       "    </tr>\n",
       "    <tr>\n",
       "      <th>max</th>\n",
       "      <td>-0.006090</td>\n",
       "      <td>0.818925</td>\n",
       "      <td>2.0</td>\n",
       "      <td>-0.112667</td>\n",
       "    </tr>\n",
       "  </tbody>\n",
       "</table>\n",
       "</div>"
      ],
      "text/plain": [
       "         Numerator  Denominator  Choice  Individual-level parameters\n",
       "count  4090.000000  4090.000000  4090.0                  4090.000000\n",
       "mean     -0.087765     0.616480     2.0                    -0.142279\n",
       "std       0.011656     0.077849     0.0                     0.004019\n",
       "min      -0.115892     0.040640     2.0                    -0.155298\n",
       "25%      -0.094935     0.591093     2.0                    -0.144953\n",
       "50%      -0.089468     0.627920     2.0                    -0.142242\n",
       "75%      -0.083216     0.662582     2.0                    -0.139745\n",
       "max      -0.006090     0.818925     2.0                    -0.112667"
      ]
     },
     "execution_count": 20,
     "metadata": {},
     "output_type": "execute_result"
    }
   ],
   "source": [
    "SM.describe()"
   ]
  },
  {
   "cell_type": "code",
   "execution_count": 21,
   "id": "5a203f6f",
   "metadata": {},
   "outputs": [
    {
     "data": {
      "image/png": "[encoded data removed]",
      "text/plain": [
       "<Figure size 432x288 with 1 Axes>"
      ]
     },
     "metadata": {
      "needs_background": "light"
     },
     "output_type": "display_data"
    }
   ],
   "source": [
    "Car['Individual-level parameters'].hist(ax=plt.gca(), label='Car', grid=False)\n",
    "SM['Individual-level parameters'].hist(ax=plt.gca(), label='Swissmetro', grid=False)\n",
    "Train['Individual-level parameters'].hist(ax=plt.gca(), label='Train', grid=False)\n",
    "plt.legend()\n",
    "plt.show()"
   ]
  },
  {
   "cell_type": "markdown",
   "id": "42d181d7",
   "metadata": {},
   "source": [
    "## Zoom"
   ]
  },
  {
   "cell_type": "code",
   "execution_count": 22,
   "id": "88f6f662",
   "metadata": {},
   "outputs": [
    {
     "data": {
      "image/png": "[encoded data removed]",
      "text/plain": [
       "<Figure size 432x288 with 1 Axes>"
      ]
     },
     "metadata": {
      "needs_background": "light"
     },
     "output_type": "display_data"
    }
   ],
   "source": [
    "Car['Individual-level parameters'].hist(ax=plt.gca(), label='Car', grid=False)\n",
    "SM['Individual-level parameters'].hist(ax=plt.gca(), label='Swissmetro', grid=False)\n",
    "Train['Individual-level parameters'].hist(ax=plt.gca(), label='Train', grid=False)\n",
    "plt.legend()\n",
    "plt.xlim([-0.16, -0.11])\n",
    "plt.show()"
   ]
  },
  {
   "cell_type": "markdown",
   "id": "5214bb65",
   "metadata": {},
   "source": [
    "It seems that individuals who selected Swissmetro have a more negative travel time coefficient."
   ]
  }
 ],
 "metadata": {
  "kernelspec": {
   "display_name": "Python 3",
   "language": "python",
   "name": "python3"
  },
  "language_info": {
   "codemirror_mode": {
    "name": "ipython",
    "version": 3
   },
   "file_extension": ".py",
   "mimetype": "text/x-python",
   "name": "python",
   "nbconvert_exporter": "python",
   "pygments_lexer": "ipython3",
   "version": "3.9.5"
  }
 },
 "nbformat": 4,
 "nbformat_minor": 5
}
