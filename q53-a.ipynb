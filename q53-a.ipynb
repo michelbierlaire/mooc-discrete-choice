{
 "cells": [
  {
   "cell_type": "code",
   "execution_count": 1,
   "metadata": {},
   "outputs": [],
   "source": [
    "import pandas as pd\n",
    "import pickle\n",
    "from urllib.request import urlopen\n",
    "import biogeme.database as db\n",
    "import biogeme.biogeme as bio\n",
    "from biogeme import models\n",
    "import biogeme.results as res\n",
    "import biogeme.optimization as opt\n",
    "import biogeme.messaging as msg\n",
    "from biogeme.expressions import (\n",
    "    Beta,\n",
    "    bioDraws,\n",
    "    PanelLikelihoodTrajectory,\n",
    "    MonteCarlo,\n",
    "    log,\n",
    ")\n"
   ]
  },
  {
   "cell_type": "markdown",
   "metadata": {},
   "source": [
    "The estimation of these models may take a while. It you want to run the notebook using pre-estimated results saved on file, set the number of draws below to `None`"
   ]
  },
  {
   "cell_type": "code",
   "execution_count": 2,
   "metadata": {},
   "outputs": [],
   "source": [
    "#numberOfDraws = 10000\n",
    "numberOfDraws = None"
   ]
  },
  {
   "cell_type": "code",
   "execution_count": 3,
   "metadata": {},
   "outputs": [],
   "source": [
    "def get_results_from_url(file):\n",
    "    pickle_file = f'{url_root}{file}'\n",
    "\n",
    "    with urlopen(pickle_file) as p:\n",
    "        data = pickle.load(p)\n",
    "    return res.bioResults(data)"
   ]
  },
  {
   "cell_type": "code",
   "execution_count": 4,
   "metadata": {},
   "outputs": [],
   "source": [
    "url_root = (\n",
    "    'https://courses.edx.org/'\n",
    "    'asset-v1:EPFLx+ChoiceModels2x+3T2021+type@asset+block@'\n",
    ")"
   ]
  },
  {
   "cell_type": "markdown",
   "metadata": {},
   "source": [
    "# Dynamic Choice Models"
   ]
  },
  {
   "cell_type": "markdown",
   "metadata": {},
   "source": [
    "We analyze the smoking behavior of individuals, as a function of their age and the price of tobacco using synthetic data. We develop a model that predicts, for every year, the probability to smoke or not. "
   ]
  },
  {
   "cell_type": "markdown",
   "metadata": {},
   "source": [
    "## Data"
   ]
  },
  {
   "cell_type": "markdown",
   "metadata": {},
   "source": [
    "We use synthetic data that has been generated as follows. We postulate a true model for the data generation process. It is a mixture of logit models  with\n",
    "two alternatives: ``smoking`` or ``not smoking``\n",
    ". The utility for individual $n$ associated with \"not smoking\" in year $t$ is  \n",
    "\\begin{equation}\n",
    "U_{0nt}= \\varepsilon_{0nt}\n",
    "\\end{equation}\n",
    " and the utility associated with \"smoking\" is \n",
    "\\begin{equation}\n",
    "U_{1nt}= \\beta_{nt} y_{n,t-1} + \\beta^p_{nt} P_{t} + c_n + \\varepsilon_{1nt},\n",
    "\\end{equation}\n",
    "where \n",
    "\n",
    "- $\\beta_{nt} = 10$,\n",
    "\n",
    "- $y_{n,t-1}=1$ if $n$ is smoking at time $t-1$, $0$ otherwise,\n",
    "\n",
    "- $\\beta^p_{nt} = -0.1$,\n",
    "\n",
    "- $P_t$ is the price of cigarets at time $t$,\n",
    "\n",
    "- $c_n$ is an individual specific constant that captures the a priori, intrinsic attraction of each individual towards smoking. It is assumed to be normally distributed in the population, with zero mean and standard deviation 50: $N(0, 50^2)$, and constant over $t$.\n",
    "\n",
    "We generate a sample of 1000 individuals, and we simulate their smoking behavior between the age of 16 until the age of 100.\n",
    "\n",
    "The date of birth of each individual is uniformaly distributed between 2000 and 2020.\n",
    "The price of cigarets in 2000 is supposed to be 10. The price of cigarets in year $t$ is $$P_t = 10 \\cdot 1.02^{t-2000},$$\n",
    "which represents a price increase of 2% per year.\n",
    "\n"
   ]
  },
  {
   "cell_type": "code",
   "execution_count": 5,
   "metadata": {},
   "outputs": [],
   "source": [
    "logger = msg.bioMessage()\n",
    "logger.setGeneral()"
   ]
  },
  {
   "cell_type": "markdown",
   "metadata": {},
   "source": [
    "## True value of the parameters"
   ]
  },
  {
   "cell_type": "markdown",
   "metadata": {},
   "source": [
    "We store the true value of the parameters for future comparison"
   ]
  },
  {
   "cell_type": "code",
   "execution_count": 6,
   "metadata": {},
   "outputs": [],
   "source": [
    "trueParameters = pd.DataFrame(\n",
    "    {'Value': [\n",
    "        -0.1, \n",
    "        10,\n",
    "        0,\n",
    "        50\n",
    "    ]\n",
    "    }, \n",
    "    index=[\n",
    "        'coef_price', \n",
    "        'beta_last_year',\n",
    "        'cte_mean',\n",
    "        'cte_std'\n",
    "    ]\n",
    ")"
   ]
  },
  {
   "cell_type": "markdown",
   "metadata": {},
   "source": [
    "## Data"
   ]
  },
  {
   "cell_type": "markdown",
   "metadata": {},
   "source": [
    "The observations are available in the following data file."
   ]
  },
  {
   "cell_type": "code",
   "execution_count": 7,
   "metadata": {},
   "outputs": [
    {
     "data": {
      "text/html": [
       "<div>\n",
       "<style scoped>\n",
       "    .dataframe tbody tr th:only-of-type {\n",
       "        vertical-align: middle;\n",
       "    }\n",
       "\n",
       "    .dataframe tbody tr th {\n",
       "        vertical-align: top;\n",
       "    }\n",
       "\n",
       "    .dataframe thead th {\n",
       "        text-align: right;\n",
       "    }\n",
       "</style>\n",
       "<table border=\"1\" class=\"dataframe\">\n",
       "  <thead>\n",
       "    <tr style=\"text-align: right;\">\n",
       "      <th></th>\n",
       "      <th>Age</th>\n",
       "      <th>Price</th>\n",
       "      <th>Smoking</th>\n",
       "      <th>LastYear</th>\n",
       "      <th>Id</th>\n",
       "      <th>Smoking45</th>\n",
       "    </tr>\n",
       "  </thead>\n",
       "  <tbody>\n",
       "    <tr>\n",
       "      <th>0</th>\n",
       "      <td>17</td>\n",
       "      <td>14.859474</td>\n",
       "      <td>1</td>\n",
       "      <td>0</td>\n",
       "      <td>0</td>\n",
       "      <td>1</td>\n",
       "    </tr>\n",
       "    <tr>\n",
       "      <th>1</th>\n",
       "      <td>18</td>\n",
       "      <td>15.156663</td>\n",
       "      <td>1</td>\n",
       "      <td>1</td>\n",
       "      <td>0</td>\n",
       "      <td>1</td>\n",
       "    </tr>\n",
       "    <tr>\n",
       "      <th>2</th>\n",
       "      <td>19</td>\n",
       "      <td>15.459797</td>\n",
       "      <td>1</td>\n",
       "      <td>1</td>\n",
       "      <td>0</td>\n",
       "      <td>1</td>\n",
       "    </tr>\n",
       "    <tr>\n",
       "      <th>3</th>\n",
       "      <td>20</td>\n",
       "      <td>15.768993</td>\n",
       "      <td>1</td>\n",
       "      <td>1</td>\n",
       "      <td>0</td>\n",
       "      <td>1</td>\n",
       "    </tr>\n",
       "    <tr>\n",
       "      <th>4</th>\n",
       "      <td>21</td>\n",
       "      <td>16.084372</td>\n",
       "      <td>1</td>\n",
       "      <td>1</td>\n",
       "      <td>0</td>\n",
       "      <td>1</td>\n",
       "    </tr>\n",
       "    <tr>\n",
       "      <th>...</th>\n",
       "      <td>...</td>\n",
       "      <td>...</td>\n",
       "      <td>...</td>\n",
       "      <td>...</td>\n",
       "      <td>...</td>\n",
       "      <td>...</td>\n",
       "    </tr>\n",
       "    <tr>\n",
       "      <th>82995</th>\n",
       "      <td>95</td>\n",
       "      <td>69.633277</td>\n",
       "      <td>1</td>\n",
       "      <td>1</td>\n",
       "      <td>999</td>\n",
       "      <td>1</td>\n",
       "    </tr>\n",
       "    <tr>\n",
       "      <th>82996</th>\n",
       "      <td>96</td>\n",
       "      <td>71.025942</td>\n",
       "      <td>1</td>\n",
       "      <td>1</td>\n",
       "      <td>999</td>\n",
       "      <td>1</td>\n",
       "    </tr>\n",
       "    <tr>\n",
       "      <th>82997</th>\n",
       "      <td>97</td>\n",
       "      <td>72.446461</td>\n",
       "      <td>1</td>\n",
       "      <td>1</td>\n",
       "      <td>999</td>\n",
       "      <td>1</td>\n",
       "    </tr>\n",
       "    <tr>\n",
       "      <th>82998</th>\n",
       "      <td>98</td>\n",
       "      <td>73.895390</td>\n",
       "      <td>1</td>\n",
       "      <td>1</td>\n",
       "      <td>999</td>\n",
       "      <td>1</td>\n",
       "    </tr>\n",
       "    <tr>\n",
       "      <th>82999</th>\n",
       "      <td>99</td>\n",
       "      <td>75.373298</td>\n",
       "      <td>1</td>\n",
       "      <td>1</td>\n",
       "      <td>999</td>\n",
       "      <td>1</td>\n",
       "    </tr>\n",
       "  </tbody>\n",
       "</table>\n",
       "<p>83000 rows × 6 columns</p>\n",
       "</div>"
      ],
      "text/plain": [
       "       Age      Price  Smoking  LastYear   Id  Smoking45\n",
       "0       17  14.859474        1         0    0          1\n",
       "1       18  15.156663        1         1    0          1\n",
       "2       19  15.459797        1         1    0          1\n",
       "3       20  15.768993        1         1    0          1\n",
       "4       21  16.084372        1         1    0          1\n",
       "...    ...        ...      ...       ...  ...        ...\n",
       "82995   95  69.633277        1         1  999          1\n",
       "82996   96  71.025942        1         1  999          1\n",
       "82997   97  72.446461        1         1  999          1\n",
       "82998   98  73.895390        1         1  999          1\n",
       "82999   99  75.373298        1         1  999          1\n",
       "\n",
       "[83000 rows x 6 columns]"
      ]
     },
     "execution_count": 7,
     "metadata": {},
     "output_type": "execute_result"
    }
   ],
   "source": [
    "df = pd.read_table(f'{url_root}smoking.dat', sep=',')\n",
    "df"
   ]
  },
  {
   "cell_type": "markdown",
   "metadata": {},
   "source": [
    "The data contains the following columns:\n",
    "\n",
    "- the age of the individual,\n",
    "- the price of the cigarets,\n",
    "- a variable that is 1 if the individual is smoking, 0 otherwise,\n",
    "- a variable that is 1 if the individual was smoking last year, 0 otherwise,\n",
    "- a unique id for each individual,\n",
    "- a variable that is 1 if the individual was smoking at the age of 45, in the beginning of the observation period."
   ]
  },
  {
   "cell_type": "code",
   "execution_count": 8,
   "metadata": {},
   "outputs": [],
   "source": [
    "database = db.Database('smoking', df)\n",
    "globals().update(database.variables)"
   ]
  },
  {
   "cell_type": "markdown",
   "metadata": {},
   "source": [
    "## Estimation procedure"
   ]
  },
  {
   "cell_type": "markdown",
   "metadata": {},
   "source": [
    "The following procedure estimates the choice model (or read the estimation reszults from file), and returns the estimated parameters in a Pandas format. "
   ]
  },
  {
   "cell_type": "code",
   "execution_count": 9,
   "metadata": {},
   "outputs": [],
   "source": [
    "def estimate(the_logprob, the_name, the_database):\n",
    "    if numberOfDraws is None:\n",
    "        pickle_file = f'{the_name}.pickle'\n",
    "        results = get_results_from_url(pickle_file)\n",
    "    else:\n",
    "        biogeme = bio.BIOGEME(\n",
    "            the_database,\n",
    "            the_logprob,\n",
    "            numberOfDraws=numberOfDraws,\n",
    "            removeUnusedVariables=False,\n",
    "        )\n",
    "        biogeme.modelName = the_name\n",
    "        results = biogeme.estimate(algorithm=opt.bioBfgs)\n",
    "    print(results.printGeneralStatistics())\n",
    "    pandas_results = results.getEstimatedParameters()\n",
    "    return pandas_results\n"
   ]
  },
  {
   "cell_type": "markdown",
   "metadata": {},
   "source": [
    "## Static model"
   ]
  },
  {
   "cell_type": "markdown",
   "metadata": {},
   "source": [
    "The static model considers the data as cross-sectional. No state dependance, and no serial correlation is captured."
   ]
  },
  {
   "cell_type": "code",
   "execution_count": 10,
   "metadata": {},
   "outputs": [],
   "source": [
    "cte_mean = Beta('cte_mean', 0, None, None, 0)\n",
    "coef_price = Beta('coef_price', 0, None, None, 0)"
   ]
  },
  {
   "cell_type": "code",
   "execution_count": 11,
   "metadata": {},
   "outputs": [],
   "source": [
    "V_s = coef_price * Price + cte_mean\n",
    "V_ns = 0\n",
    "V = {0: V_ns, 1: V_s}\n",
    "logprob = models.loglogit(V, None, Smoking)"
   ]
  },
  {
   "cell_type": "code",
   "execution_count": 12,
   "metadata": {},
   "outputs": [
    {
     "name": "stdout",
     "output_type": "stream",
     "text": [
      "Number of estimated parameters:\t2\n",
      "Sample size:\t83000\n",
      "Excluded observations:\t0\n",
      "Init log likelihood:\t-57531.22\n",
      "Final log likelihood:\t-57529.39\n",
      "Likelihood ratio test for the init. model:\t3.653632\n",
      "Rho-square for the init. model:\t3.18e-05\n",
      "Rho-square-bar for the init. model:\t-3.01e-06\n",
      "Akaike Information Criterion:\t115062.8\n",
      "Bayesian Information Criterion:\t115081.4\n",
      "Final gradient norm:\t2.1735E-01\n",
      "Nbr of threads:\t36\n",
      "\n",
      "CPU times: user 16.9 ms, sys: 2.39 ms, total: 19.3 ms\n",
      "Wall time: 505 ms\n"
     ]
    },
    {
     "data": {
      "text/html": [
       "<div>\n",
       "<style scoped>\n",
       "    .dataframe tbody tr th:only-of-type {\n",
       "        vertical-align: middle;\n",
       "    }\n",
       "\n",
       "    .dataframe tbody tr th {\n",
       "        vertical-align: top;\n",
       "    }\n",
       "\n",
       "    .dataframe thead th {\n",
       "        text-align: right;\n",
       "    }\n",
       "</style>\n",
       "<table border=\"1\" class=\"dataframe\">\n",
       "  <thead>\n",
       "    <tr style=\"text-align: right;\">\n",
       "      <th></th>\n",
       "      <th>Value</th>\n",
       "      <th>Std err</th>\n",
       "      <th>t-test</th>\n",
       "      <th>p-value</th>\n",
       "      <th>Rob. Std err</th>\n",
       "      <th>Rob. t-test</th>\n",
       "      <th>Rob. p-value</th>\n",
       "    </tr>\n",
       "  </thead>\n",
       "  <tbody>\n",
       "    <tr>\n",
       "      <th>coef_price</th>\n",
       "      <td>-0.000101</td>\n",
       "      <td>0.000337</td>\n",
       "      <td>-0.299416</td>\n",
       "      <td>0.764623</td>\n",
       "      <td>0.000337</td>\n",
       "      <td>-0.299398</td>\n",
       "      <td>0.764636</td>\n",
       "    </tr>\n",
       "    <tr>\n",
       "      <th>cte_mean</th>\n",
       "      <td>0.017433</td>\n",
       "      <td>0.015998</td>\n",
       "      <td>1.089679</td>\n",
       "      <td>0.275855</td>\n",
       "      <td>0.015999</td>\n",
       "      <td>1.089618</td>\n",
       "      <td>0.275881</td>\n",
       "    </tr>\n",
       "  </tbody>\n",
       "</table>\n",
       "</div>"
      ],
      "text/plain": [
       "               Value   Std err    t-test   p-value  Rob. Std err  Rob. t-test  \\\n",
       "coef_price -0.000101  0.000337 -0.299416  0.764623      0.000337    -0.299398   \n",
       "cte_mean    0.017433  0.015998  1.089679  0.275855      0.015999     1.089618   \n",
       "\n",
       "            Rob. p-value  \n",
       "coef_price      0.764636  \n",
       "cte_mean        0.275881  "
      ]
     },
     "execution_count": 12,
     "metadata": {},
     "output_type": "execute_result"
    }
   ],
   "source": [
    "%%time\n",
    "r_static = estimate(logprob, \n",
    "                    'static_model',\n",
    "                    database)\n",
    "r_static"
   ]
  },
  {
   "cell_type": "markdown",
   "metadata": {},
   "source": [
    "## Comparison of the estimates"
   ]
  },
  {
   "cell_type": "code",
   "execution_count": 13,
   "metadata": {},
   "outputs": [
    {
     "data": {
      "text/html": [
       "<div>\n",
       "<style scoped>\n",
       "    .dataframe tbody tr th:only-of-type {\n",
       "        vertical-align: middle;\n",
       "    }\n",
       "\n",
       "    .dataframe tbody tr th {\n",
       "        vertical-align: top;\n",
       "    }\n",
       "\n",
       "    .dataframe thead th {\n",
       "        text-align: right;\n",
       "    }\n",
       "</style>\n",
       "<table border=\"1\" class=\"dataframe\">\n",
       "  <thead>\n",
       "    <tr style=\"text-align: right;\">\n",
       "      <th></th>\n",
       "      <th>True</th>\n",
       "      <th>Static</th>\n",
       "    </tr>\n",
       "  </thead>\n",
       "  <tbody>\n",
       "    <tr>\n",
       "      <th>coef_price</th>\n",
       "      <td>-0.1</td>\n",
       "      <td>-0.000101</td>\n",
       "    </tr>\n",
       "    <tr>\n",
       "      <th>beta_last_year</th>\n",
       "      <td>10.0</td>\n",
       "      <td></td>\n",
       "    </tr>\n",
       "    <tr>\n",
       "      <th>cte_mean</th>\n",
       "      <td>0.0</td>\n",
       "      <td>0.017433</td>\n",
       "    </tr>\n",
       "    <tr>\n",
       "      <th>cte_std</th>\n",
       "      <td>50.0</td>\n",
       "      <td></td>\n",
       "    </tr>\n",
       "  </tbody>\n",
       "</table>\n",
       "</div>"
      ],
      "text/plain": [
       "                True    Static\n",
       "coef_price      -0.1 -0.000101\n",
       "beta_last_year  10.0          \n",
       "cte_mean         0.0  0.017433\n",
       "cte_std         50.0          "
      ]
     },
     "execution_count": 13,
     "metadata": {},
     "output_type": "execute_result"
    }
   ],
   "source": [
    "summary = pd.concat(\n",
    "    [trueParameters['Value'], \n",
    "     r_static['Value']], \n",
    "    axis='columns')\n",
    "summary.columns = ['True', 'Static']\n",
    "summary.fillna('')"
   ]
  },
  {
   "cell_type": "markdown",
   "metadata": {},
   "source": [
    "The estimated price coefficient is not significant. Indeed, price is the only variable that the model considers. Ignoring state dependence generates endogeneity. The model \"thinks\" that individuals are insensitive to price, as they choose an alternative that is expensive.  "
   ]
  },
  {
   "cell_type": "markdown",
   "metadata": {},
   "source": [
    "## Dynamic model"
   ]
  },
  {
   "cell_type": "markdown",
   "metadata": {},
   "source": [
    "The dynamic model adds the choice of last year as an explanatory variable"
   ]
  },
  {
   "cell_type": "code",
   "execution_count": 14,
   "metadata": {},
   "outputs": [],
   "source": [
    "beta_last_year = Beta('beta_last_year', 0, None, None, 0)"
   ]
  },
  {
   "cell_type": "code",
   "execution_count": 15,
   "metadata": {},
   "outputs": [],
   "source": [
    "V_s = beta_last_year * LastYear + coef_price * Price + cte_mean\n",
    "V_ns = 0\n",
    "V = {0: V_ns, 1: V_s}\n",
    "logprob = models.loglogit(V, None, Smoking)"
   ]
  },
  {
   "cell_type": "code",
   "execution_count": 16,
   "metadata": {},
   "outputs": [
    {
     "name": "stdout",
     "output_type": "stream",
     "text": [
      "Number of estimated parameters:\t3\n",
      "Sample size:\t83000\n",
      "Excluded observations:\t0\n",
      "Init log likelihood:\t-57531.22\n",
      "Final log likelihood:\t-2226.1\n",
      "Likelihood ratio test for the init. model:\t110610.2\n",
      "Rho-square for the init. model:\t0.961\n",
      "Rho-square-bar for the init. model:\t0.961\n",
      "Akaike Information Criterion:\t4458.201\n",
      "Bayesian Information Criterion:\t4486.181\n",
      "Final gradient norm:\t2.5151E-01\n",
      "Nbr of threads:\t36\n",
      "\n",
      "CPU times: user 17.8 ms, sys: 2.21 ms, total: 20 ms\n",
      "Wall time: 504 ms\n"
     ]
    },
    {
     "data": {
      "text/html": [
       "<div>\n",
       "<style scoped>\n",
       "    .dataframe tbody tr th:only-of-type {\n",
       "        vertical-align: middle;\n",
       "    }\n",
       "\n",
       "    .dataframe tbody tr th {\n",
       "        vertical-align: top;\n",
       "    }\n",
       "\n",
       "    .dataframe thead th {\n",
       "        text-align: right;\n",
       "    }\n",
       "</style>\n",
       "<table border=\"1\" class=\"dataframe\">\n",
       "  <thead>\n",
       "    <tr style=\"text-align: right;\">\n",
       "      <th></th>\n",
       "      <th>Value</th>\n",
       "      <th>Std err</th>\n",
       "      <th>t-test</th>\n",
       "      <th>p-value</th>\n",
       "      <th>Rob. Std err</th>\n",
       "      <th>Rob. t-test</th>\n",
       "      <th>Rob. p-value</th>\n",
       "    </tr>\n",
       "  </thead>\n",
       "  <tbody>\n",
       "    <tr>\n",
       "      <th>beta_last_year</th>\n",
       "      <td>24.985031</td>\n",
       "      <td>0.831062</td>\n",
       "      <td>30.063965</td>\n",
       "      <td>0.000000e+00</td>\n",
       "      <td>1.863970</td>\n",
       "      <td>13.404199</td>\n",
       "      <td>0.000000</td>\n",
       "    </tr>\n",
       "    <tr>\n",
       "      <th>coef_price</th>\n",
       "      <td>-0.238493</td>\n",
       "      <td>0.010535</td>\n",
       "      <td>-22.637177</td>\n",
       "      <td>0.000000e+00</td>\n",
       "      <td>0.022272</td>\n",
       "      <td>-10.708417</td>\n",
       "      <td>0.000000</td>\n",
       "    </tr>\n",
       "    <tr>\n",
       "      <th>cte_mean</th>\n",
       "      <td>1.509947</td>\n",
       "      <td>0.208223</td>\n",
       "      <td>7.251594</td>\n",
       "      <td>4.118927e-13</td>\n",
       "      <td>0.440293</td>\n",
       "      <td>3.429415</td>\n",
       "      <td>0.000605</td>\n",
       "    </tr>\n",
       "  </tbody>\n",
       "</table>\n",
       "</div>"
      ],
      "text/plain": [
       "                    Value   Std err     t-test       p-value  Rob. Std err  \\\n",
       "beta_last_year  24.985031  0.831062  30.063965  0.000000e+00      1.863970   \n",
       "coef_price      -0.238493  0.010535 -22.637177  0.000000e+00      0.022272   \n",
       "cte_mean         1.509947  0.208223   7.251594  4.118927e-13      0.440293   \n",
       "\n",
       "                Rob. t-test  Rob. p-value  \n",
       "beta_last_year    13.404199      0.000000  \n",
       "coef_price       -10.708417      0.000000  \n",
       "cte_mean           3.429415      0.000605  "
      ]
     },
     "execution_count": 16,
     "metadata": {},
     "output_type": "execute_result"
    }
   ],
   "source": [
    "%%time\n",
    "r_dynamic = estimate(logprob, \n",
    "                     'dynamic_model',\n",
    "                     database)\n",
    "r_dynamic"
   ]
  },
  {
   "cell_type": "markdown",
   "metadata": {},
   "source": [
    "### Comparison of the estimates"
   ]
  },
  {
   "cell_type": "code",
   "execution_count": 17,
   "metadata": {},
   "outputs": [
    {
     "data": {
      "text/html": [
       "<div>\n",
       "<style scoped>\n",
       "    .dataframe tbody tr th:only-of-type {\n",
       "        vertical-align: middle;\n",
       "    }\n",
       "\n",
       "    .dataframe tbody tr th {\n",
       "        vertical-align: top;\n",
       "    }\n",
       "\n",
       "    .dataframe thead th {\n",
       "        text-align: right;\n",
       "    }\n",
       "</style>\n",
       "<table border=\"1\" class=\"dataframe\">\n",
       "  <thead>\n",
       "    <tr style=\"text-align: right;\">\n",
       "      <th></th>\n",
       "      <th>True</th>\n",
       "      <th>Static</th>\n",
       "      <th>Dynamic</th>\n",
       "    </tr>\n",
       "  </thead>\n",
       "  <tbody>\n",
       "    <tr>\n",
       "      <th>coef_price</th>\n",
       "      <td>-0.1</td>\n",
       "      <td>-0.000101</td>\n",
       "      <td>-0.238493</td>\n",
       "    </tr>\n",
       "    <tr>\n",
       "      <th>beta_last_year</th>\n",
       "      <td>10.0</td>\n",
       "      <td></td>\n",
       "      <td>24.985031</td>\n",
       "    </tr>\n",
       "    <tr>\n",
       "      <th>cte_mean</th>\n",
       "      <td>0.0</td>\n",
       "      <td>0.017433</td>\n",
       "      <td>1.509947</td>\n",
       "    </tr>\n",
       "    <tr>\n",
       "      <th>cte_std</th>\n",
       "      <td>50.0</td>\n",
       "      <td></td>\n",
       "      <td></td>\n",
       "    </tr>\n",
       "  </tbody>\n",
       "</table>\n",
       "</div>"
      ],
      "text/plain": [
       "                True    Static    Dynamic\n",
       "coef_price      -0.1 -0.000101  -0.238493\n",
       "beta_last_year  10.0            24.985031\n",
       "cte_mean         0.0  0.017433   1.509947\n",
       "cte_std         50.0                     "
      ]
     },
     "execution_count": 17,
     "metadata": {},
     "output_type": "execute_result"
    }
   ],
   "source": [
    "summary = pd.concat(\n",
    "    [\n",
    "        trueParameters['Value'], \n",
    "        r_static['Value'], \n",
    "        r_dynamic['Value']\n",
    "    ], \n",
    "    axis='columns'\n",
    ")\n",
    "summary.columns = [\n",
    "    'True', \n",
    "    'Static', \n",
    "    'Dynamic'\n",
    "]\n",
    "summary.fillna('')"
   ]
  },
  {
   "cell_type": "markdown",
   "metadata": {},
   "source": [
    "The introduction of the lag variable has increased a lot the final log likelihood from `-57529.39` to `-57529.39`. Note that the error term in the model is not the same as in the true model. Indeed, serial correlation has been ignored. Therefore, the coefficients cannot be directly compared. But they ratio can be compared, as it cancels the scale. And it can be seen that the ratios are almost the same. "
   ]
  },
  {
   "cell_type": "code",
   "execution_count": 18,
   "metadata": {},
   "outputs": [
    {
     "data": {
      "text/plain": [
       "-0.01"
      ]
     },
     "execution_count": 18,
     "metadata": {},
     "output_type": "execute_result"
    }
   ],
   "source": [
    "(\n",
    "    summary.loc['coef_price', 'True'] / \n",
    "    summary.loc['beta_last_year', 'True']\n",
    ") "
   ]
  },
  {
   "cell_type": "code",
   "execution_count": 19,
   "metadata": {},
   "outputs": [
    {
     "data": {
      "text/plain": [
       "-0.00954543005555873"
      ]
     },
     "execution_count": 19,
     "metadata": {},
     "output_type": "execute_result"
    }
   ],
   "source": [
    "(\n",
    "    summary.loc['coef_price', 'Dynamic'] / \n",
    "    summary.loc['beta_last_year', 'Dynamic'] \n",
    ")"
   ]
  },
  {
   "cell_type": "markdown",
   "metadata": {},
   "source": [
    "## Static model with serial correlation"
   ]
  },
  {
   "cell_type": "markdown",
   "metadata": {},
   "source": [
    "We now introduce the agent effect to capture serial correlation. First, we tell Biogeme that the data is organized as a panel, meaning that there are several observations corresponding to the same individuals.\n",
    "Therefore, instead of considering that there is a sample of 11000 independent observations, Biogeme knows that there is actually a sample of 1000 individuals, for which a trajectory is observed."
   ]
  },
  {
   "cell_type": "markdown",
   "metadata": {},
   "source": [
    "Samle size ignoring the panal nature of the data"
   ]
  },
  {
   "cell_type": "code",
   "execution_count": 20,
   "metadata": {},
   "outputs": [
    {
     "data": {
      "text/plain": [
       "83000"
      ]
     },
     "execution_count": 20,
     "metadata": {},
     "output_type": "execute_result"
    }
   ],
   "source": [
    "database.getSampleSize()"
   ]
  },
  {
   "cell_type": "markdown",
   "metadata": {},
   "source": [
    "Declaring the panel nature of the data"
   ]
  },
  {
   "cell_type": "code",
   "execution_count": 21,
   "metadata": {},
   "outputs": [
    {
     "data": {
      "text/plain": [
       "1000"
      ]
     },
     "execution_count": 21,
     "metadata": {},
     "output_type": "execute_result"
    }
   ],
   "source": [
    "database.panel('Id')\n",
    "database.getSampleSize()"
   ]
  },
  {
   "cell_type": "code",
   "execution_count": 22,
   "metadata": {},
   "outputs": [],
   "source": [
    "cte_std = Beta('cte_std', 1, None, None, 0)\n",
    "cte = cte_mean + cte_std * bioDraws('agent', 'NORMAL_ANTI')"
   ]
  },
  {
   "cell_type": "code",
   "execution_count": 23,
   "metadata": {},
   "outputs": [],
   "source": [
    "V_s = coef_price * Price + cte\n",
    "V_ns = 0\n",
    "V = {0: V_ns, 1: V_s}\n",
    "obsprob = models.logit(V, None, Smoking)\n",
    "condprobIndiv = PanelLikelihoodTrajectory(obsprob)\n",
    "logprob = log(MonteCarlo(condprobIndiv))"
   ]
  },
  {
   "cell_type": "code",
   "execution_count": 24,
   "metadata": {},
   "outputs": [
    {
     "name": "stdout",
     "output_type": "stream",
     "text": [
      "Number of estimated parameters:\t3\n",
      "Sample size:\t1000\n",
      "Observations:\t83000\n",
      "Excluded observations:\t0\n",
      "Init log likelihood:\t-2138.128\n",
      "Final log likelihood:\t-2011\n",
      "Likelihood ratio test for the init. model:\t254.2556\n",
      "Rho-square for the init. model:\t0.0595\n",
      "Rho-square-bar for the init. model:\t0.0581\n",
      "Akaike Information Criterion:\t4028\n",
      "Bayesian Information Criterion:\t4042.723\n",
      "Final gradient norm:\t5.6591E-01\n",
      "Number of draws:\t10000\n",
      "Draws generation time:\t0:00:12.859917\n",
      "Types of draws:\t['agent: NORMAL_ANTI']\n",
      "Nbr of threads:\t36\n",
      "\n",
      "CPU times: user 19.7 ms, sys: 2.22 ms, total: 21.9 ms\n",
      "Wall time: 514 ms\n"
     ]
    },
    {
     "data": {
      "text/html": [
       "<div>\n",
       "<style scoped>\n",
       "    .dataframe tbody tr th:only-of-type {\n",
       "        vertical-align: middle;\n",
       "    }\n",
       "\n",
       "    .dataframe tbody tr th {\n",
       "        vertical-align: top;\n",
       "    }\n",
       "\n",
       "    .dataframe thead th {\n",
       "        text-align: right;\n",
       "    }\n",
       "</style>\n",
       "<table border=\"1\" class=\"dataframe\">\n",
       "  <thead>\n",
       "    <tr style=\"text-align: right;\">\n",
       "      <th></th>\n",
       "      <th>Value</th>\n",
       "      <th>Std err</th>\n",
       "      <th>t-test</th>\n",
       "      <th>p-value</th>\n",
       "      <th>Rob. Std err</th>\n",
       "      <th>Rob. t-test</th>\n",
       "      <th>Rob. p-value</th>\n",
       "    </tr>\n",
       "  </thead>\n",
       "  <tbody>\n",
       "    <tr>\n",
       "      <th>coef_price</th>\n",
       "      <td>-0.042236</td>\n",
       "      <td>-0.0</td>\n",
       "      <td>1.797693e+308</td>\n",
       "      <td>0.0</td>\n",
       "      <td>0.0</td>\n",
       "      <td>1.797693e+308</td>\n",
       "      <td>0.0</td>\n",
       "    </tr>\n",
       "    <tr>\n",
       "      <th>cte_mean</th>\n",
       "      <td>0.383475</td>\n",
       "      <td>-0.0</td>\n",
       "      <td>1.797693e+308</td>\n",
       "      <td>0.0</td>\n",
       "      <td>0.0</td>\n",
       "      <td>1.797693e+308</td>\n",
       "      <td>0.0</td>\n",
       "    </tr>\n",
       "    <tr>\n",
       "      <th>cte_std</th>\n",
       "      <td>100.016857</td>\n",
       "      <td>-0.0</td>\n",
       "      <td>1.797693e+308</td>\n",
       "      <td>0.0</td>\n",
       "      <td>0.0</td>\n",
       "      <td>1.797693e+308</td>\n",
       "      <td>0.0</td>\n",
       "    </tr>\n",
       "  </tbody>\n",
       "</table>\n",
       "</div>"
      ],
      "text/plain": [
       "                 Value  Std err         t-test  p-value  Rob. Std err  \\\n",
       "coef_price   -0.042236     -0.0  1.797693e+308      0.0           0.0   \n",
       "cte_mean      0.383475     -0.0  1.797693e+308      0.0           0.0   \n",
       "cte_std     100.016857     -0.0  1.797693e+308      0.0           0.0   \n",
       "\n",
       "              Rob. t-test  Rob. p-value  \n",
       "coef_price  1.797693e+308           0.0  \n",
       "cte_mean    1.797693e+308           0.0  \n",
       "cte_std     1.797693e+308           0.0  "
      ]
     },
     "execution_count": 24,
     "metadata": {},
     "output_type": "execute_result"
    }
   ],
   "source": [
    "%%time\n",
    "r_serial_static = estimate(logprob, \n",
    "                           'static_model_serial',\n",
    "                           database)\n",
    "r_serial_static"
   ]
  },
  {
   "cell_type": "markdown",
   "metadata": {},
   "source": [
    "It appears that there were some numerical issues during the estimation of the parameter. It is certainly due to the high value of the `cte_std` parameter. The values of the standard errors and the $t$-test are not valid."
   ]
  },
  {
   "cell_type": "markdown",
   "metadata": {},
   "source": [
    "## Dynamic model with serial correlation"
   ]
  },
  {
   "cell_type": "markdown",
   "metadata": {},
   "source": [
    "We now introduce the state dependence in the model, to make it dynamic."
   ]
  },
  {
   "cell_type": "code",
   "execution_count": 25,
   "metadata": {},
   "outputs": [],
   "source": [
    "V_s = beta_last_year * LastYear + coef_price * Price + cte\n",
    "V_ns = 0\n",
    "V = {0: V_ns, 1: V_s}\n",
    "obsprob = models.logit(V, None, Smoking)\n",
    "condprobIndiv = PanelLikelihoodTrajectory(obsprob)\n",
    "logprob = log(MonteCarlo(condprobIndiv))"
   ]
  },
  {
   "cell_type": "code",
   "execution_count": 26,
   "metadata": {},
   "outputs": [
    {
     "name": "stdout",
     "output_type": "stream",
     "text": [
      "Number of estimated parameters:\t4\n",
      "Sample size:\t1000\n",
      "Observations:\t83000\n",
      "Excluded observations:\t0\n",
      "Init log likelihood:\t-2137.947\n",
      "Final log likelihood:\t-1057.267\n",
      "Likelihood ratio test for the init. model:\t2161.36\n",
      "Rho-square for the init. model:\t0.505\n",
      "Rho-square-bar for the init. model:\t0.504\n",
      "Akaike Information Criterion:\t2122.534\n",
      "Bayesian Information Criterion:\t2142.165\n",
      "Final gradient norm:\t6.2756E-03\n",
      "Number of draws:\t10000\n",
      "Draws generation time:\t0:00:13.051239\n",
      "Types of draws:\t['agent: NORMAL_ANTI']\n",
      "Nbr of threads:\t36\n",
      "\n",
      "CPU times: user 19.9 ms, sys: 2.1 ms, total: 22 ms\n",
      "Wall time: 525 ms\n"
     ]
    },
    {
     "data": {
      "text/html": [
       "<div>\n",
       "<style scoped>\n",
       "    .dataframe tbody tr th:only-of-type {\n",
       "        vertical-align: middle;\n",
       "    }\n",
       "\n",
       "    .dataframe tbody tr th {\n",
       "        vertical-align: top;\n",
       "    }\n",
       "\n",
       "    .dataframe thead th {\n",
       "        text-align: right;\n",
       "    }\n",
       "</style>\n",
       "<table border=\"1\" class=\"dataframe\">\n",
       "  <thead>\n",
       "    <tr style=\"text-align: right;\">\n",
       "      <th></th>\n",
       "      <th>Value</th>\n",
       "      <th>Std err</th>\n",
       "      <th>t-test</th>\n",
       "      <th>p-value</th>\n",
       "      <th>Rob. Std err</th>\n",
       "      <th>Rob. t-test</th>\n",
       "      <th>Rob. p-value</th>\n",
       "    </tr>\n",
       "  </thead>\n",
       "  <tbody>\n",
       "    <tr>\n",
       "      <th>beta_last_year</th>\n",
       "      <td>10.221223</td>\n",
       "      <td>0.659238</td>\n",
       "      <td>15.504603</td>\n",
       "      <td>0.000000e+00</td>\n",
       "      <td>0.527755</td>\n",
       "      <td>19.367360</td>\n",
       "      <td>0.000000e+00</td>\n",
       "    </tr>\n",
       "    <tr>\n",
       "      <th>coef_price</th>\n",
       "      <td>-0.108952</td>\n",
       "      <td>0.013032</td>\n",
       "      <td>-8.360177</td>\n",
       "      <td>0.000000e+00</td>\n",
       "      <td>0.012339</td>\n",
       "      <td>-8.829663</td>\n",
       "      <td>0.000000e+00</td>\n",
       "    </tr>\n",
       "    <tr>\n",
       "      <th>cte_mean</th>\n",
       "      <td>-1.807713</td>\n",
       "      <td>5.152594</td>\n",
       "      <td>-0.350836</td>\n",
       "      <td>7.257117e-01</td>\n",
       "      <td>15.873518</td>\n",
       "      <td>-0.113882</td>\n",
       "      <td>9.093311e-01</td>\n",
       "    </tr>\n",
       "    <tr>\n",
       "      <th>cte_std</th>\n",
       "      <td>48.021917</td>\n",
       "      <td>7.788851</td>\n",
       "      <td>6.165469</td>\n",
       "      <td>7.027474e-10</td>\n",
       "      <td>8.263847</td>\n",
       "      <td>5.811085</td>\n",
       "      <td>6.206917e-09</td>\n",
       "    </tr>\n",
       "  </tbody>\n",
       "</table>\n",
       "</div>"
      ],
      "text/plain": [
       "                    Value   Std err     t-test       p-value  Rob. Std err  \\\n",
       "beta_last_year  10.221223  0.659238  15.504603  0.000000e+00      0.527755   \n",
       "coef_price      -0.108952  0.013032  -8.360177  0.000000e+00      0.012339   \n",
       "cte_mean        -1.807713  5.152594  -0.350836  7.257117e-01     15.873518   \n",
       "cte_std         48.021917  7.788851   6.165469  7.027474e-10      8.263847   \n",
       "\n",
       "                Rob. t-test  Rob. p-value  \n",
       "beta_last_year    19.367360  0.000000e+00  \n",
       "coef_price        -8.829663  0.000000e+00  \n",
       "cte_mean          -0.113882  9.093311e-01  \n",
       "cte_std            5.811085  6.206917e-09  "
      ]
     },
     "execution_count": 26,
     "metadata": {},
     "output_type": "execute_result"
    }
   ],
   "source": [
    "%%time\n",
    "r_serial_dynamic = estimate(logprob, \n",
    "                            'dynamic_model_serial',\n",
    "                            database)\n",
    "r_serial_dynamic"
   ]
  },
  {
   "cell_type": "markdown",
   "metadata": {},
   "source": [
    "### Comparison of the estimates"
   ]
  },
  {
   "cell_type": "code",
   "execution_count": 27,
   "metadata": {},
   "outputs": [
    {
     "data": {
      "text/html": [
       "<div>\n",
       "<style scoped>\n",
       "    .dataframe tbody tr th:only-of-type {\n",
       "        vertical-align: middle;\n",
       "    }\n",
       "\n",
       "    .dataframe tbody tr th {\n",
       "        vertical-align: top;\n",
       "    }\n",
       "\n",
       "    .dataframe thead th {\n",
       "        text-align: right;\n",
       "    }\n",
       "</style>\n",
       "<table border=\"1\" class=\"dataframe\">\n",
       "  <thead>\n",
       "    <tr style=\"text-align: right;\">\n",
       "      <th></th>\n",
       "      <th>True</th>\n",
       "      <th>Static</th>\n",
       "      <th>Dynamic</th>\n",
       "      <th>Static + serial</th>\n",
       "      <th>Dynamic + serial</th>\n",
       "    </tr>\n",
       "  </thead>\n",
       "  <tbody>\n",
       "    <tr>\n",
       "      <th>coef_price</th>\n",
       "      <td>-0.1</td>\n",
       "      <td>-0.000101</td>\n",
       "      <td>-0.238493</td>\n",
       "      <td>-0.042236</td>\n",
       "      <td>-0.108952</td>\n",
       "    </tr>\n",
       "    <tr>\n",
       "      <th>beta_last_year</th>\n",
       "      <td>10.0</td>\n",
       "      <td></td>\n",
       "      <td>24.985031</td>\n",
       "      <td></td>\n",
       "      <td>10.221223</td>\n",
       "    </tr>\n",
       "    <tr>\n",
       "      <th>cte_mean</th>\n",
       "      <td>0.0</td>\n",
       "      <td>0.017433</td>\n",
       "      <td>1.509947</td>\n",
       "      <td>0.383475</td>\n",
       "      <td>-1.807713</td>\n",
       "    </tr>\n",
       "    <tr>\n",
       "      <th>cte_std</th>\n",
       "      <td>50.0</td>\n",
       "      <td></td>\n",
       "      <td></td>\n",
       "      <td>100.016857</td>\n",
       "      <td>48.021917</td>\n",
       "    </tr>\n",
       "  </tbody>\n",
       "</table>\n",
       "</div>"
      ],
      "text/plain": [
       "                True    Static    Dynamic Static + serial  Dynamic + serial\n",
       "coef_price      -0.1 -0.000101  -0.238493       -0.042236         -0.108952\n",
       "beta_last_year  10.0            24.985031                         10.221223\n",
       "cte_mean         0.0  0.017433   1.509947        0.383475         -1.807713\n",
       "cte_std         50.0                           100.016857         48.021917"
      ]
     },
     "execution_count": 27,
     "metadata": {},
     "output_type": "execute_result"
    }
   ],
   "source": [
    "summary = pd.concat(\n",
    "    [\n",
    "        trueParameters['Value'], \n",
    "        r_static['Value'], \n",
    "        r_dynamic['Value'], \n",
    "        r_serial_static['Value'],\n",
    "        r_serial_dynamic['Value'], \n",
    "\n",
    "    ], \n",
    "    axis='columns'\n",
    ")\n",
    "summary.columns = [\n",
    "    'True', \n",
    "    'Static', \n",
    "    'Dynamic', \n",
    "    'Static + serial', \n",
    "    'Dynamic + serial'\n",
    "]\n",
    "summary.fillna('')"
   ]
  },
  {
   "cell_type": "markdown",
   "metadata": {},
   "source": [
    "If the number of draws is sufficiently high, we observe that the parameters are quite well recovered. We can actually test the hypothesis that they are equal to they true value, using a $t$-test."
   ]
  },
  {
   "cell_type": "code",
   "execution_count": 28,
   "metadata": {},
   "outputs": [],
   "source": [
    "def t_test(param, true_value):\n",
    "    return (\n",
    "        (r_serial_dynamic.loc[param, 'Value'] - true_value) /\n",
    "        r_serial_dynamic.loc[param, 'Rob. Std err']\n",
    "    )    "
   ]
  },
  {
   "cell_type": "code",
   "execution_count": 29,
   "metadata": {},
   "outputs": [
    {
     "data": {
      "text/plain": [
       "-0.7255004069003811"
      ]
     },
     "execution_count": 29,
     "metadata": {},
     "output_type": "execute_result"
    }
   ],
   "source": [
    "t_test('coef_price', -0.1)"
   ]
  },
  {
   "cell_type": "code",
   "execution_count": 30,
   "metadata": {},
   "outputs": [
    {
     "data": {
      "text/plain": [
       "0.4191771984284349"
      ]
     },
     "execution_count": 30,
     "metadata": {},
     "output_type": "execute_result"
    }
   ],
   "source": [
    "t_test('beta_last_year', 10)"
   ]
  },
  {
   "cell_type": "code",
   "execution_count": 31,
   "metadata": {},
   "outputs": [
    {
     "data": {
      "text/plain": [
       "-0.11388231472320963"
      ]
     },
     "execution_count": 31,
     "metadata": {},
     "output_type": "execute_result"
    }
   ],
   "source": [
    "t_test('cte_mean', 0)"
   ]
  },
  {
   "cell_type": "code",
   "execution_count": 32,
   "metadata": {},
   "outputs": [
    {
     "data": {
      "text/plain": [
       "-0.23936594294180186"
      ]
     },
     "execution_count": 32,
     "metadata": {},
     "output_type": "execute_result"
    }
   ],
   "source": [
    "t_test('cte_std', 50)"
   ]
  },
  {
   "cell_type": "markdown",
   "metadata": {},
   "source": [
    "Each of this $t$-test is sufficiently low so that the hypothesis cannot be rejected."
   ]
  }
 ],
 "metadata": {
  "kernelspec": {
   "display_name": "Python 3",
   "language": "python",
   "name": "python3"
  },
  "language_info": {
   "codemirror_mode": {
    "name": "ipython",
    "version": 3
   },
   "file_extension": ".py",
   "mimetype": "text/x-python",
   "name": "python",
   "nbconvert_exporter": "python",
   "pygments_lexer": "ipython3",
   "version": "3.9.5"
  }
 },
 "nbformat": 4,
 "nbformat_minor": 4
}
