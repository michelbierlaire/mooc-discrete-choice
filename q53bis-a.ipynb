{
 "cells": [
  {
   "cell_type": "code",
   "execution_count": 1,
   "metadata": {},
   "outputs": [],
   "source": [
    "import pandas as pd\n",
    "import pickle\n",
    "from urllib.request import urlopen\n",
    "import biogeme.database as db\n",
    "import biogeme.biogeme as bio\n",
    "from biogeme import models\n",
    "import biogeme.results as res\n",
    "import biogeme.optimization as opt\n",
    "import biogeme.messaging as msg\n",
    "from biogeme.expressions import (\n",
    "    Beta,\n",
    "    bioDraws,\n",
    "    PanelLikelihoodTrajectory,\n",
    "    MonteCarlo,\n",
    "    log,\n",
    ")"
   ]
  },
  {
   "cell_type": "markdown",
   "metadata": {},
   "source": [
    "The estimation of these models may take a while. It you want to run the notebook using pre-estimated results saved on file, set the number of draws below to `None`"
   ]
  },
  {
   "cell_type": "code",
   "execution_count": 2,
   "metadata": {},
   "outputs": [],
   "source": [
    "#numberOfDraws = 10000\n",
    "numberOfDraws = None"
   ]
  },
  {
   "cell_type": "code",
   "execution_count": 3,
   "metadata": {},
   "outputs": [],
   "source": [
    "def get_results_from_url(file):\n",
    "    pickle_file = f'{url_root}{file}'\n",
    "\n",
    "    with urlopen(pickle_file) as p:\n",
    "        data = pickle.load(p)\n",
    "    return res.bioResults(data)"
   ]
  },
  {
   "cell_type": "code",
   "execution_count": 4,
   "metadata": {},
   "outputs": [],
   "source": [
    "url_root = (\n",
    "    'https://courses.edx.org/'\n",
    "    'asset-v1:EPFLx+ChoiceModels2x+3T2021+type@asset+block@'\n",
    ")"
   ]
  },
  {
   "cell_type": "markdown",
   "metadata": {},
   "source": [
    "# Dynamic Choice Models"
   ]
  },
  {
   "cell_type": "markdown",
   "metadata": {},
   "source": [
    "We analyze the smoking behavior of individuals, as a function of their age and the price of tobacco using synthetic data. We develop a model that predicts, for every year, the probability to smoke or not. "
   ]
  },
  {
   "cell_type": "markdown",
   "metadata": {},
   "source": [
    "## Data"
   ]
  },
  {
   "cell_type": "markdown",
   "metadata": {},
   "source": [
    "We use synthetic data that has been generated as follows. We postulate a true model for the data generation process. It is a mixture of logit models  with\n",
    "two alternatives: ``smoking`` or ``not smoking``\n",
    ". The utility for individual $n$ associated with \"not smoking\" in year $t$ is  \n",
    "\\begin{equation}\n",
    "U_{0nt}= \\varepsilon_{0nt}\n",
    "\\end{equation}\n",
    " and the utility associated with \"smoking\" is \n",
    "\\begin{equation}\n",
    "U_{1nt}= \\beta_{nt} y_{n,t-1} + \\beta^p_{nt} P_{t} + c_n + \\varepsilon_{1nt},\n",
    "\\end{equation}\n",
    "where \n",
    "\n",
    "- $\\beta_{nt} = 10$,\n",
    "\n",
    "- $y_{n,t-1}=1$ if $n$ is smoking at time $t-1$, $0$ otherwise,\n",
    "\n",
    "- $\\beta^p_{nt} = -0.1$,\n",
    "\n",
    "- $P_t$ is the price of cigarets at time $t$,\n",
    "\n",
    "- $c_n$ is an individual specific constant that captures the a priori, intrinsic attraction of each individual towards smoking. It is assumed to be normally distributed in the population, with zero mean and standard deviation 50: $N(0, 50^2)$, and constant over $t$.\n",
    "\n",
    "We generate a sample of 1000 individuals, and we simulate their smoking behavior between the age of 16 until the age of 100. **But we observe them only between the age of 45 and the age of 55**. \n",
    "\n",
    "The date of birth of each individual is uniformaly distributed between 2000 and 2020.\n",
    "The price of cigarets in 2000 is supposed to be 10. The price of cigarets in year $t$ is $$P_t = 10 \\cdot 1.02^{t-2000},$$\n",
    "which represents a price increase of 2% per year.\n",
    "\n"
   ]
  },
  {
   "cell_type": "code",
   "execution_count": 5,
   "metadata": {},
   "outputs": [],
   "source": [
    "logger = msg.bioMessage()\n",
    "logger.setGeneral()"
   ]
  },
  {
   "cell_type": "markdown",
   "metadata": {},
   "source": [
    "## True value of the parameters"
   ]
  },
  {
   "cell_type": "markdown",
   "metadata": {},
   "source": [
    "We store the true value of the parameters for future comparison"
   ]
  },
  {
   "cell_type": "code",
   "execution_count": 6,
   "metadata": {},
   "outputs": [],
   "source": [
    "trueParameters = pd.DataFrame(\n",
    "    {'Value': [\n",
    "        -0.1, \n",
    "        10,\n",
    "        0,\n",
    "        50\n",
    "    ]\n",
    "    }, \n",
    "    index=[\n",
    "        'coef_price', \n",
    "        'beta_last_year',\n",
    "        'cte_mean',\n",
    "        'cte_std'\n",
    "    ]\n",
    ")"
   ]
  },
  {
   "cell_type": "markdown",
   "metadata": {},
   "source": [
    "## Data"
   ]
  },
  {
   "cell_type": "markdown",
   "metadata": {},
   "source": [
    "The observations are available in the following data file."
   ]
  },
  {
   "cell_type": "code",
   "execution_count": 7,
   "metadata": {},
   "outputs": [
    {
     "data": {
      "text/html": [
       "<div>\n",
       "<style scoped>\n",
       "    .dataframe tbody tr th:only-of-type {\n",
       "        vertical-align: middle;\n",
       "    }\n",
       "\n",
       "    .dataframe tbody tr th {\n",
       "        vertical-align: top;\n",
       "    }\n",
       "\n",
       "    .dataframe thead th {\n",
       "        text-align: right;\n",
       "    }\n",
       "</style>\n",
       "<table border=\"1\" class=\"dataframe\">\n",
       "  <thead>\n",
       "    <tr style=\"text-align: right;\">\n",
       "      <th></th>\n",
       "      <th>Age</th>\n",
       "      <th>Price</th>\n",
       "      <th>Smoking</th>\n",
       "      <th>LastYear</th>\n",
       "      <th>Id</th>\n",
       "      <th>Smoking45</th>\n",
       "    </tr>\n",
       "  </thead>\n",
       "  <tbody>\n",
       "    <tr>\n",
       "      <th>0</th>\n",
       "      <td>45</td>\n",
       "      <td>25.870704</td>\n",
       "      <td>1</td>\n",
       "      <td>1</td>\n",
       "      <td>0</td>\n",
       "      <td>1</td>\n",
       "    </tr>\n",
       "    <tr>\n",
       "      <th>1</th>\n",
       "      <td>46</td>\n",
       "      <td>26.388118</td>\n",
       "      <td>1</td>\n",
       "      <td>1</td>\n",
       "      <td>0</td>\n",
       "      <td>1</td>\n",
       "    </tr>\n",
       "    <tr>\n",
       "      <th>2</th>\n",
       "      <td>47</td>\n",
       "      <td>26.915880</td>\n",
       "      <td>1</td>\n",
       "      <td>1</td>\n",
       "      <td>0</td>\n",
       "      <td>1</td>\n",
       "    </tr>\n",
       "    <tr>\n",
       "      <th>3</th>\n",
       "      <td>48</td>\n",
       "      <td>27.454198</td>\n",
       "      <td>1</td>\n",
       "      <td>1</td>\n",
       "      <td>0</td>\n",
       "      <td>1</td>\n",
       "    </tr>\n",
       "    <tr>\n",
       "      <th>4</th>\n",
       "      <td>49</td>\n",
       "      <td>28.003282</td>\n",
       "      <td>1</td>\n",
       "      <td>1</td>\n",
       "      <td>0</td>\n",
       "      <td>1</td>\n",
       "    </tr>\n",
       "    <tr>\n",
       "      <th>...</th>\n",
       "      <td>...</td>\n",
       "      <td>...</td>\n",
       "      <td>...</td>\n",
       "      <td>...</td>\n",
       "      <td>...</td>\n",
       "      <td>...</td>\n",
       "    </tr>\n",
       "    <tr>\n",
       "      <th>10995</th>\n",
       "      <td>51</td>\n",
       "      <td>29.134614</td>\n",
       "      <td>1</td>\n",
       "      <td>1</td>\n",
       "      <td>999</td>\n",
       "      <td>1</td>\n",
       "    </tr>\n",
       "    <tr>\n",
       "      <th>10996</th>\n",
       "      <td>52</td>\n",
       "      <td>29.717307</td>\n",
       "      <td>1</td>\n",
       "      <td>1</td>\n",
       "      <td>999</td>\n",
       "      <td>1</td>\n",
       "    </tr>\n",
       "    <tr>\n",
       "      <th>10997</th>\n",
       "      <td>53</td>\n",
       "      <td>30.311653</td>\n",
       "      <td>1</td>\n",
       "      <td>1</td>\n",
       "      <td>999</td>\n",
       "      <td>1</td>\n",
       "    </tr>\n",
       "    <tr>\n",
       "      <th>10998</th>\n",
       "      <td>54</td>\n",
       "      <td>30.917886</td>\n",
       "      <td>1</td>\n",
       "      <td>1</td>\n",
       "      <td>999</td>\n",
       "      <td>1</td>\n",
       "    </tr>\n",
       "    <tr>\n",
       "      <th>10999</th>\n",
       "      <td>55</td>\n",
       "      <td>31.536244</td>\n",
       "      <td>1</td>\n",
       "      <td>1</td>\n",
       "      <td>999</td>\n",
       "      <td>1</td>\n",
       "    </tr>\n",
       "  </tbody>\n",
       "</table>\n",
       "<p>11000 rows × 6 columns</p>\n",
       "</div>"
      ],
      "text/plain": [
       "       Age      Price  Smoking  LastYear   Id  Smoking45\n",
       "0       45  25.870704        1         1    0          1\n",
       "1       46  26.388118        1         1    0          1\n",
       "2       47  26.915880        1         1    0          1\n",
       "3       48  27.454198        1         1    0          1\n",
       "4       49  28.003282        1         1    0          1\n",
       "...    ...        ...      ...       ...  ...        ...\n",
       "10995   51  29.134614        1         1  999          1\n",
       "10996   52  29.717307        1         1  999          1\n",
       "10997   53  30.311653        1         1  999          1\n",
       "10998   54  30.917886        1         1  999          1\n",
       "10999   55  31.536244        1         1  999          1\n",
       "\n",
       "[11000 rows x 6 columns]"
      ]
     },
     "execution_count": 7,
     "metadata": {},
     "output_type": "execute_result"
    }
   ],
   "source": [
    "df = pd.read_table(f'{url_root}smoking55.dat', sep=',')\n",
    "df"
   ]
  },
  {
   "cell_type": "markdown",
   "metadata": {},
   "source": [
    "The data contains the following columns:\n",
    "\n",
    "- the age of the individual,\n",
    "- the price of the cigarets,\n",
    "- a variable that is 1 if the individual is smoking, 0 otherwise,\n",
    "- a variable that is 1 if the individual was smoking last year, 0 otherwise,\n",
    "- a unique id for each individual,\n",
    "- a variable that is 1 if the individual was smoking at the age of 45, in the beginning of the observation period."
   ]
  },
  {
   "cell_type": "code",
   "execution_count": 8,
   "metadata": {},
   "outputs": [],
   "source": [
    "database = db.Database('smoking', df)\n",
    "globals().update(database.variables)"
   ]
  },
  {
   "cell_type": "markdown",
   "metadata": {},
   "source": [
    "## Estimation procedure"
   ]
  },
  {
   "cell_type": "markdown",
   "metadata": {},
   "source": [
    "The following procedure estimates the choice model (or read the estimation reszults from file), and returns the estimated parameters in a Pandas format. "
   ]
  },
  {
   "cell_type": "code",
   "execution_count": 9,
   "metadata": {},
   "outputs": [],
   "source": [
    "def estimate(the_logprob, the_name, the_database):\n",
    "    if numberOfDraws is None:\n",
    "        pickle_file = f'{the_name}.pickle'\n",
    "        results = get_results_from_url(pickle_file)\n",
    "    else:\n",
    "        biogeme = bio.BIOGEME(\n",
    "            the_database,\n",
    "            the_logprob,\n",
    "            numberOfDraws=numberOfDraws,\n",
    "            removeUnusedVariables=False,\n",
    "        )\n",
    "        biogeme.modelName = the_name\n",
    "        results = biogeme.estimate(algorithm=opt.bioBfgs)\n",
    "    print(results.printGeneralStatistics())\n",
    "    pandas_results = results.getEstimatedParameters()\n",
    "    return pandas_results\n"
   ]
  },
  {
   "cell_type": "markdown",
   "metadata": {},
   "source": [
    "## Static model"
   ]
  },
  {
   "cell_type": "markdown",
   "metadata": {},
   "source": [
    "The static model considers the data as cross-sectional. No state dependance, and no serial correlation is captured."
   ]
  },
  {
   "cell_type": "code",
   "execution_count": 10,
   "metadata": {},
   "outputs": [],
   "source": [
    "cte_mean = Beta('cte_mean', 0, None, None, 0)\n",
    "coef_price = Beta('coef_price', 0, None, None, 0)"
   ]
  },
  {
   "cell_type": "code",
   "execution_count": 11,
   "metadata": {},
   "outputs": [],
   "source": [
    "V_s = coef_price * Price + cte_mean\n",
    "V_ns = 0\n",
    "V = {0: V_ns, 1: V_s}\n",
    "logprob = models.loglogit(V, None, Smoking)"
   ]
  },
  {
   "cell_type": "code",
   "execution_count": 12,
   "metadata": {},
   "outputs": [
    {
     "name": "stdout",
     "output_type": "stream",
     "text": [
      "Number of estimated parameters:\t2\n",
      "Sample size:\t11000\n",
      "Excluded observations:\t0\n",
      "Init log likelihood:\t-7624.619\n",
      "Final log likelihood:\t-7620.313\n",
      "Likelihood ratio test for the init. model:\t8.611645\n",
      "Rho-square for the init. model:\t0.000565\n",
      "Rho-square-bar for the init. model:\t0.000302\n",
      "Akaike Information Criterion:\t15244.63\n",
      "Bayesian Information Criterion:\t15259.24\n",
      "Final gradient norm:\t1.7858E-01\n",
      "Nbr of threads:\t36\n",
      "\n",
      "CPU times: user 19 ms, sys: 2.79 ms, total: 21.8 ms\n",
      "Wall time: 521 ms\n"
     ]
    },
    {
     "data": {
      "text/html": [
       "<div>\n",
       "<style scoped>\n",
       "    .dataframe tbody tr th:only-of-type {\n",
       "        vertical-align: middle;\n",
       "    }\n",
       "\n",
       "    .dataframe tbody tr th {\n",
       "        vertical-align: top;\n",
       "    }\n",
       "\n",
       "    .dataframe thead th {\n",
       "        text-align: right;\n",
       "    }\n",
       "</style>\n",
       "<table border=\"1\" class=\"dataframe\">\n",
       "  <thead>\n",
       "    <tr style=\"text-align: right;\">\n",
       "      <th></th>\n",
       "      <th>Value</th>\n",
       "      <th>Std err</th>\n",
       "      <th>t-test</th>\n",
       "      <th>p-value</th>\n",
       "      <th>Rob. Std err</th>\n",
       "      <th>Rob. t-test</th>\n",
       "      <th>Rob. p-value</th>\n",
       "    </tr>\n",
       "  </thead>\n",
       "  <tbody>\n",
       "    <tr>\n",
       "      <th>coef_price</th>\n",
       "      <td>0.009229</td>\n",
       "      <td>0.004399</td>\n",
       "      <td>2.098019</td>\n",
       "      <td>0.035903</td>\n",
       "      <td>0.004401</td>\n",
       "      <td>2.097032</td>\n",
       "      <td>0.035991</td>\n",
       "    </tr>\n",
       "    <tr>\n",
       "      <th>cte_mean</th>\n",
       "      <td>-0.263393</td>\n",
       "      <td>0.145504</td>\n",
       "      <td>-1.810216</td>\n",
       "      <td>0.070262</td>\n",
       "      <td>0.145561</td>\n",
       "      <td>-1.809503</td>\n",
       "      <td>0.070373</td>\n",
       "    </tr>\n",
       "  </tbody>\n",
       "</table>\n",
       "</div>"
      ],
      "text/plain": [
       "               Value   Std err    t-test   p-value  Rob. Std err  Rob. t-test  \\\n",
       "coef_price  0.009229  0.004399  2.098019  0.035903      0.004401     2.097032   \n",
       "cte_mean   -0.263393  0.145504 -1.810216  0.070262      0.145561    -1.809503   \n",
       "\n",
       "            Rob. p-value  \n",
       "coef_price      0.035991  \n",
       "cte_mean        0.070373  "
      ]
     },
     "execution_count": 12,
     "metadata": {},
     "output_type": "execute_result"
    }
   ],
   "source": [
    "%%time\n",
    "r_static = estimate(logprob, \n",
    "                    'static_model_truncated_t_55',\n",
    "                    database)\n",
    "r_static"
   ]
  },
  {
   "cell_type": "markdown",
   "metadata": {},
   "source": [
    "## Comparison of the estimates"
   ]
  },
  {
   "cell_type": "code",
   "execution_count": 13,
   "metadata": {},
   "outputs": [
    {
     "data": {
      "text/html": [
       "<div>\n",
       "<style scoped>\n",
       "    .dataframe tbody tr th:only-of-type {\n",
       "        vertical-align: middle;\n",
       "    }\n",
       "\n",
       "    .dataframe tbody tr th {\n",
       "        vertical-align: top;\n",
       "    }\n",
       "\n",
       "    .dataframe thead th {\n",
       "        text-align: right;\n",
       "    }\n",
       "</style>\n",
       "<table border=\"1\" class=\"dataframe\">\n",
       "  <thead>\n",
       "    <tr style=\"text-align: right;\">\n",
       "      <th></th>\n",
       "      <th>True</th>\n",
       "      <th>Static</th>\n",
       "    </tr>\n",
       "  </thead>\n",
       "  <tbody>\n",
       "    <tr>\n",
       "      <th>coef_price</th>\n",
       "      <td>-0.1</td>\n",
       "      <td>0.009229</td>\n",
       "    </tr>\n",
       "    <tr>\n",
       "      <th>beta_last_year</th>\n",
       "      <td>10.0</td>\n",
       "      <td></td>\n",
       "    </tr>\n",
       "    <tr>\n",
       "      <th>cte_mean</th>\n",
       "      <td>0.0</td>\n",
       "      <td>-0.263393</td>\n",
       "    </tr>\n",
       "    <tr>\n",
       "      <th>cte_std</th>\n",
       "      <td>50.0</td>\n",
       "      <td></td>\n",
       "    </tr>\n",
       "  </tbody>\n",
       "</table>\n",
       "</div>"
      ],
      "text/plain": [
       "                True    Static\n",
       "coef_price      -0.1  0.009229\n",
       "beta_last_year  10.0          \n",
       "cte_mean         0.0 -0.263393\n",
       "cte_std         50.0          "
      ]
     },
     "execution_count": 13,
     "metadata": {},
     "output_type": "execute_result"
    }
   ],
   "source": [
    "summary = pd.concat(\n",
    "    [trueParameters['Value'], \n",
    "     r_static['Value']], \n",
    "    axis='columns')\n",
    "summary.columns = ['True', 'Static']\n",
    "summary.fillna('')"
   ]
  },
  {
   "cell_type": "markdown",
   "metadata": {},
   "source": [
    "The estimated price coefficient is positive and not significant. Indeed, price is the only variable that the model considers. Ignoring state dependence generates endogeneity. The model \"thinks\" that individuals are insensitive to price, as they choose an alternative that is expensive.  "
   ]
  },
  {
   "cell_type": "markdown",
   "metadata": {},
   "source": [
    "## Dynamic model"
   ]
  },
  {
   "cell_type": "markdown",
   "metadata": {},
   "source": [
    "The dynamic model adds the choice of last year as an explanatory variable"
   ]
  },
  {
   "cell_type": "code",
   "execution_count": 14,
   "metadata": {},
   "outputs": [],
   "source": [
    "beta_last_year = Beta('beta_last_year', 0, None, None, 0)"
   ]
  },
  {
   "cell_type": "code",
   "execution_count": 15,
   "metadata": {},
   "outputs": [],
   "source": [
    "V_s = beta_last_year * LastYear + coef_price * Price + cte_mean\n",
    "V_ns = 0\n",
    "V = {0: V_ns, 1: V_s}\n",
    "logprob = models.loglogit(V, None, Smoking)"
   ]
  },
  {
   "cell_type": "code",
   "execution_count": 16,
   "metadata": {},
   "outputs": [
    {
     "name": "stdout",
     "output_type": "stream",
     "text": [
      "Number of estimated parameters:\t3\n",
      "Sample size:\t11000\n",
      "Excluded observations:\t0\n",
      "Init log likelihood:\t-7624.619\n",
      "Final log likelihood:\t-27.43176\n",
      "Likelihood ratio test for the init. model:\t15194.37\n",
      "Rho-square for the init. model:\t0.996\n",
      "Rho-square-bar for the init. model:\t0.996\n",
      "Akaike Information Criterion:\t60.86351\n",
      "Bayesian Information Criterion:\t82.78047\n",
      "Final gradient norm:\t1.0510E-02\n",
      "Nbr of threads:\t36\n",
      "\n",
      "CPU times: user 17.8 ms, sys: 2.34 ms, total: 20.1 ms\n",
      "Wall time: 528 ms\n"
     ]
    },
    {
     "data": {
      "text/html": [
       "<div>\n",
       "<style scoped>\n",
       "    .dataframe tbody tr th:only-of-type {\n",
       "        vertical-align: middle;\n",
       "    }\n",
       "\n",
       "    .dataframe tbody tr th {\n",
       "        vertical-align: top;\n",
       "    }\n",
       "\n",
       "    .dataframe thead th {\n",
       "        text-align: right;\n",
       "    }\n",
       "</style>\n",
       "<table border=\"1\" class=\"dataframe\">\n",
       "  <thead>\n",
       "    <tr style=\"text-align: right;\">\n",
       "      <th></th>\n",
       "      <th>Value</th>\n",
       "      <th>Std err</th>\n",
       "      <th>t-test</th>\n",
       "      <th>p-value</th>\n",
       "      <th>Rob. Std err</th>\n",
       "      <th>Rob. t-test</th>\n",
       "      <th>Rob. p-value</th>\n",
       "    </tr>\n",
       "  </thead>\n",
       "  <tbody>\n",
       "    <tr>\n",
       "      <th>beta_last_year</th>\n",
       "      <td>16.526850</td>\n",
       "      <td>1.224703</td>\n",
       "      <td>13.494582</td>\n",
       "      <td>0.000000</td>\n",
       "      <td>1.209799</td>\n",
       "      <td>13.660828</td>\n",
       "      <td>0.000000</td>\n",
       "    </tr>\n",
       "    <tr>\n",
       "      <th>coef_price</th>\n",
       "      <td>-0.005069</td>\n",
       "      <td>0.132839</td>\n",
       "      <td>-0.038159</td>\n",
       "      <td>0.969561</td>\n",
       "      <td>0.120666</td>\n",
       "      <td>-0.042008</td>\n",
       "      <td>0.966492</td>\n",
       "    </tr>\n",
       "    <tr>\n",
       "      <th>cte_mean</th>\n",
       "      <td>-7.728526</td>\n",
       "      <td>4.389045</td>\n",
       "      <td>-1.760867</td>\n",
       "      <td>0.078261</td>\n",
       "      <td>3.557519</td>\n",
       "      <td>-2.172448</td>\n",
       "      <td>0.029822</td>\n",
       "    </tr>\n",
       "  </tbody>\n",
       "</table>\n",
       "</div>"
      ],
      "text/plain": [
       "                    Value   Std err     t-test   p-value  Rob. Std err  \\\n",
       "beta_last_year  16.526850  1.224703  13.494582  0.000000      1.209799   \n",
       "coef_price      -0.005069  0.132839  -0.038159  0.969561      0.120666   \n",
       "cte_mean        -7.728526  4.389045  -1.760867  0.078261      3.557519   \n",
       "\n",
       "                Rob. t-test  Rob. p-value  \n",
       "beta_last_year    13.660828      0.000000  \n",
       "coef_price        -0.042008      0.966492  \n",
       "cte_mean          -2.172448      0.029822  "
      ]
     },
     "execution_count": 16,
     "metadata": {},
     "output_type": "execute_result"
    }
   ],
   "source": [
    "%%time\n",
    "r_dynamic = estimate(logprob, \n",
    "                     'dynamic_model_truncated_t_55',\n",
    "                     database)\n",
    "r_dynamic"
   ]
  },
  {
   "cell_type": "markdown",
   "metadata": {},
   "source": [
    "### Comparison of the estimates"
   ]
  },
  {
   "cell_type": "code",
   "execution_count": 17,
   "metadata": {},
   "outputs": [
    {
     "data": {
      "text/html": [
       "<div>\n",
       "<style scoped>\n",
       "    .dataframe tbody tr th:only-of-type {\n",
       "        vertical-align: middle;\n",
       "    }\n",
       "\n",
       "    .dataframe tbody tr th {\n",
       "        vertical-align: top;\n",
       "    }\n",
       "\n",
       "    .dataframe thead th {\n",
       "        text-align: right;\n",
       "    }\n",
       "</style>\n",
       "<table border=\"1\" class=\"dataframe\">\n",
       "  <thead>\n",
       "    <tr style=\"text-align: right;\">\n",
       "      <th></th>\n",
       "      <th>True</th>\n",
       "      <th>Static</th>\n",
       "      <th>Dynamic</th>\n",
       "    </tr>\n",
       "  </thead>\n",
       "  <tbody>\n",
       "    <tr>\n",
       "      <th>coef_price</th>\n",
       "      <td>-0.1</td>\n",
       "      <td>0.009229</td>\n",
       "      <td>-0.005069</td>\n",
       "    </tr>\n",
       "    <tr>\n",
       "      <th>beta_last_year</th>\n",
       "      <td>10.0</td>\n",
       "      <td></td>\n",
       "      <td>16.52685</td>\n",
       "    </tr>\n",
       "    <tr>\n",
       "      <th>cte_mean</th>\n",
       "      <td>0.0</td>\n",
       "      <td>-0.263393</td>\n",
       "      <td>-7.728526</td>\n",
       "    </tr>\n",
       "    <tr>\n",
       "      <th>cte_std</th>\n",
       "      <td>50.0</td>\n",
       "      <td></td>\n",
       "      <td></td>\n",
       "    </tr>\n",
       "  </tbody>\n",
       "</table>\n",
       "</div>"
      ],
      "text/plain": [
       "                True    Static   Dynamic\n",
       "coef_price      -0.1  0.009229 -0.005069\n",
       "beta_last_year  10.0            16.52685\n",
       "cte_mean         0.0 -0.263393 -7.728526\n",
       "cte_std         50.0                    "
      ]
     },
     "execution_count": 17,
     "metadata": {},
     "output_type": "execute_result"
    }
   ],
   "source": [
    "summary = pd.concat(\n",
    "    [\n",
    "        trueParameters['Value'], \n",
    "        r_static['Value'], \n",
    "        r_dynamic['Value']\n",
    "    ], \n",
    "    axis='columns'\n",
    ")\n",
    "summary.columns = [\n",
    "    'True', \n",
    "    'Static', \n",
    "    'Dynamic'\n",
    "]\n",
    "summary.fillna('')"
   ]
  },
  {
   "cell_type": "markdown",
   "metadata": {},
   "source": [
    "The introduction of the lag variable has increased a lot the final log likelihood from `-7620.313` to `-27.43176`. Note that the error term in the model is not the same as in the true model. Indeed, serial correlation has been ignored. Therefore, the coefficients cannot be directly compared. But their ratio can be compared, as it cancels the scale. Contrarily to what we obtained with the full set of data, we are not able to recover the true ratio of coefficients. Actually, the price coefficient is not significantly different from zero."
   ]
  },
  {
   "cell_type": "code",
   "execution_count": 18,
   "metadata": {},
   "outputs": [
    {
     "data": {
      "text/plain": [
       "-0.01"
      ]
     },
     "execution_count": 18,
     "metadata": {},
     "output_type": "execute_result"
    }
   ],
   "source": [
    "(\n",
    "    summary.loc['coef_price', 'True'] / \n",
    "    summary.loc['beta_last_year', 'True'] \n",
    ")"
   ]
  },
  {
   "cell_type": "code",
   "execution_count": 19,
   "metadata": {},
   "outputs": [
    {
     "data": {
      "text/plain": [
       "-0.00030671186372841234"
      ]
     },
     "execution_count": 19,
     "metadata": {},
     "output_type": "execute_result"
    }
   ],
   "source": [
    "(\n",
    "    summary.loc['coef_price', 'Dynamic'] / \n",
    "    summary.loc['beta_last_year', 'Dynamic'] \n",
    ")"
   ]
  },
  {
   "cell_type": "markdown",
   "metadata": {},
   "source": [
    "## Static model with serial correlation"
   ]
  },
  {
   "cell_type": "markdown",
   "metadata": {},
   "source": [
    "We now introduce the agent effect to capture serial correlation. First, we tell Biogeme that the data is organized as a panel, meaning that there are several observations corresponding to the same individuals.\n",
    "Therefore, instead of considering that there is a sample of 11000 independent observations, Biogeme knows that there is actually a sample of 1000 individuals, for which a trajectory is observed."
   ]
  },
  {
   "cell_type": "markdown",
   "metadata": {},
   "source": [
    "Sample size ignoring the panel nature of the data"
   ]
  },
  {
   "cell_type": "code",
   "execution_count": 20,
   "metadata": {},
   "outputs": [
    {
     "data": {
      "text/plain": [
       "11000"
      ]
     },
     "execution_count": 20,
     "metadata": {},
     "output_type": "execute_result"
    }
   ],
   "source": [
    "database.getSampleSize()"
   ]
  },
  {
   "cell_type": "markdown",
   "metadata": {},
   "source": [
    "Declaring the panel nature of the data"
   ]
  },
  {
   "cell_type": "code",
   "execution_count": 21,
   "metadata": {},
   "outputs": [
    {
     "data": {
      "text/plain": [
       "1000"
      ]
     },
     "execution_count": 21,
     "metadata": {},
     "output_type": "execute_result"
    }
   ],
   "source": [
    "database.panel('Id')\n",
    "database.getSampleSize()"
   ]
  },
  {
   "cell_type": "code",
   "execution_count": 22,
   "metadata": {},
   "outputs": [],
   "source": [
    "cte_std = Beta('cte_std', 1, None, None, 0)\n",
    "cte = cte_mean + cte_std * bioDraws('agent', 'NORMAL_ANTI')"
   ]
  },
  {
   "cell_type": "code",
   "execution_count": 23,
   "metadata": {},
   "outputs": [],
   "source": [
    "V_s = coef_price * Price + cte\n",
    "V_ns = 0\n",
    "V = {0: V_ns, 1: V_s}\n",
    "obsprob = models.logit(V, None, Smoking)\n",
    "condprobIndiv = PanelLikelihoodTrajectory(obsprob)\n",
    "logprob = log(MonteCarlo(condprobIndiv))"
   ]
  },
  {
   "cell_type": "code",
   "execution_count": 24,
   "metadata": {},
   "outputs": [
    {
     "name": "stdout",
     "output_type": "stream",
     "text": [
      "Number of estimated parameters:\t3\n",
      "Sample size:\t1000\n",
      "Observations:\t11000\n",
      "Excluded observations:\t0\n",
      "Init log likelihood:\t-740.0878\n",
      "Final log likelihood:\t-723.8315\n",
      "Likelihood ratio test for the init. model:\t32.5127\n",
      "Rho-square for the init. model:\t0.022\n",
      "Rho-square-bar for the init. model:\t0.0179\n",
      "Akaike Information Criterion:\t1453.663\n",
      "Bayesian Information Criterion:\t1468.386\n",
      "Final gradient norm:\t2.6308E-03\n",
      "Number of draws:\t10000\n",
      "Draws generation time:\t0:00:12.931562\n",
      "Types of draws:\t['agent: NORMAL_ANTI']\n",
      "Nbr of threads:\t36\n",
      "\n",
      "CPU times: user 19.8 ms, sys: 2.59 ms, total: 22.4 ms\n",
      "Wall time: 526 ms\n"
     ]
    },
    {
     "data": {
      "text/html": [
       "<div>\n",
       "<style scoped>\n",
       "    .dataframe tbody tr th:only-of-type {\n",
       "        vertical-align: middle;\n",
       "    }\n",
       "\n",
       "    .dataframe tbody tr th {\n",
       "        vertical-align: top;\n",
       "    }\n",
       "\n",
       "    .dataframe thead th {\n",
       "        text-align: right;\n",
       "    }\n",
       "</style>\n",
       "<table border=\"1\" class=\"dataframe\">\n",
       "  <thead>\n",
       "    <tr style=\"text-align: right;\">\n",
       "      <th></th>\n",
       "      <th>Value</th>\n",
       "      <th>Std err</th>\n",
       "      <th>t-test</th>\n",
       "      <th>p-value</th>\n",
       "      <th>Rob. Std err</th>\n",
       "      <th>Rob. t-test</th>\n",
       "      <th>Rob. p-value</th>\n",
       "    </tr>\n",
       "  </thead>\n",
       "  <tbody>\n",
       "    <tr>\n",
       "      <th>coef_price</th>\n",
       "      <td>0.048515</td>\n",
       "      <td>-0.0</td>\n",
       "      <td>1.797693e+308</td>\n",
       "      <td>0.0</td>\n",
       "      <td>0.0</td>\n",
       "      <td>1.797693e+308</td>\n",
       "      <td>0.0</td>\n",
       "    </tr>\n",
       "    <tr>\n",
       "      <th>cte_mean</th>\n",
       "      <td>53.425753</td>\n",
       "      <td>-0.0</td>\n",
       "      <td>1.797693e+308</td>\n",
       "      <td>0.0</td>\n",
       "      <td>0.0</td>\n",
       "      <td>1.797693e+308</td>\n",
       "      <td>0.0</td>\n",
       "    </tr>\n",
       "    <tr>\n",
       "      <th>cte_std</th>\n",
       "      <td>705.533831</td>\n",
       "      <td>-0.0</td>\n",
       "      <td>1.797693e+308</td>\n",
       "      <td>0.0</td>\n",
       "      <td>0.0</td>\n",
       "      <td>1.797693e+308</td>\n",
       "      <td>0.0</td>\n",
       "    </tr>\n",
       "  </tbody>\n",
       "</table>\n",
       "</div>"
      ],
      "text/plain": [
       "                 Value  Std err         t-test  p-value  Rob. Std err  \\\n",
       "coef_price    0.048515     -0.0  1.797693e+308      0.0           0.0   \n",
       "cte_mean     53.425753     -0.0  1.797693e+308      0.0           0.0   \n",
       "cte_std     705.533831     -0.0  1.797693e+308      0.0           0.0   \n",
       "\n",
       "              Rob. t-test  Rob. p-value  \n",
       "coef_price  1.797693e+308           0.0  \n",
       "cte_mean    1.797693e+308           0.0  \n",
       "cte_std     1.797693e+308           0.0  "
      ]
     },
     "execution_count": 24,
     "metadata": {},
     "output_type": "execute_result"
    }
   ],
   "source": [
    "%%time\n",
    "r_serial_static = estimate(logprob, \n",
    "                           'static_model_serial_truncated_t_55',\n",
    "                           database)\n",
    "r_serial_static"
   ]
  },
  {
   "cell_type": "markdown",
   "metadata": {},
   "source": [
    "It appears that there were some numerical issues during the estimation of the parameter. It is certainly due to the high value of the `cte_std` parameter. The values of the standard errors and the $t$-test are not valid."
   ]
  },
  {
   "cell_type": "markdown",
   "metadata": {},
   "source": [
    "## Dynamic model with serial correlation"
   ]
  },
  {
   "cell_type": "markdown",
   "metadata": {},
   "source": [
    "We now introduce the state dependence in the model, to make it dynamic."
   ]
  },
  {
   "cell_type": "code",
   "execution_count": 25,
   "metadata": {},
   "outputs": [],
   "source": [
    "V_s = beta_last_year * LastYear + coef_price * Price + cte\n",
    "V_ns = 0\n",
    "V = {0: V_ns, 1: V_s}\n",
    "obsprob = models.logit(V, None, Smoking)\n",
    "condprobIndiv = PanelLikelihoodTrajectory(obsprob)\n",
    "logprob = log(MonteCarlo(condprobIndiv))"
   ]
  },
  {
   "cell_type": "code",
   "execution_count": 26,
   "metadata": {},
   "outputs": [
    {
     "name": "stdout",
     "output_type": "stream",
     "text": [
      "Number of estimated parameters:\t4\n",
      "Sample size:\t1000\n",
      "Observations:\t11000\n",
      "Excluded observations:\t0\n",
      "Init log likelihood:\t-740.373\n",
      "Final log likelihood:\t-27.43082\n",
      "Likelihood ratio test for the init. model:\t1425.884\n",
      "Rho-square for the init. model:\t0.963\n",
      "Rho-square-bar for the init. model:\t0.958\n",
      "Akaike Information Criterion:\t62.86164\n",
      "Bayesian Information Criterion:\t82.49266\n",
      "Final gradient norm:\t3.6782E-03\n",
      "Number of draws:\t10000\n",
      "Draws generation time:\t0:00:12.691483\n",
      "Types of draws:\t['agent: NORMAL_ANTI']\n",
      "Nbr of threads:\t36\n",
      "\n",
      "CPU times: user 23.3 ms, sys: 2.51 ms, total: 25.8 ms\n",
      "Wall time: 553 ms\n"
     ]
    },
    {
     "data": {
      "text/html": [
       "<div>\n",
       "<style scoped>\n",
       "    .dataframe tbody tr th:only-of-type {\n",
       "        vertical-align: middle;\n",
       "    }\n",
       "\n",
       "    .dataframe tbody tr th {\n",
       "        vertical-align: top;\n",
       "    }\n",
       "\n",
       "    .dataframe thead th {\n",
       "        text-align: right;\n",
       "    }\n",
       "</style>\n",
       "<table border=\"1\" class=\"dataframe\">\n",
       "  <thead>\n",
       "    <tr style=\"text-align: right;\">\n",
       "      <th></th>\n",
       "      <th>Value</th>\n",
       "      <th>Std err</th>\n",
       "      <th>t-test</th>\n",
       "      <th>p-value</th>\n",
       "      <th>Rob. Std err</th>\n",
       "      <th>Rob. t-test</th>\n",
       "      <th>Rob. p-value</th>\n",
       "    </tr>\n",
       "  </thead>\n",
       "  <tbody>\n",
       "    <tr>\n",
       "      <th>beta_last_year</th>\n",
       "      <td>16.528013</td>\n",
       "      <td>1.224384</td>\n",
       "      <td>13.499048</td>\n",
       "      <td>0.000000</td>\n",
       "      <td>1.571728</td>\n",
       "      <td>10.515820</td>\n",
       "      <td>0.000000</td>\n",
       "    </tr>\n",
       "    <tr>\n",
       "      <th>coef_price</th>\n",
       "      <td>-0.001006</td>\n",
       "      <td>0.132840</td>\n",
       "      <td>-0.007574</td>\n",
       "      <td>0.993957</td>\n",
       "      <td>0.069741</td>\n",
       "      <td>-0.014427</td>\n",
       "      <td>0.988489</td>\n",
       "    </tr>\n",
       "    <tr>\n",
       "      <th>cte_mean</th>\n",
       "      <td>-7.864287</td>\n",
       "      <td>4.399341</td>\n",
       "      <td>-1.787606</td>\n",
       "      <td>0.073840</td>\n",
       "      <td>2.374923</td>\n",
       "      <td>-3.311386</td>\n",
       "      <td>0.000928</td>\n",
       "    </tr>\n",
       "    <tr>\n",
       "      <th>cte_std</th>\n",
       "      <td>0.000092</td>\n",
       "      <td>0.703775</td>\n",
       "      <td>0.000131</td>\n",
       "      <td>0.999896</td>\n",
       "      <td>0.000090</td>\n",
       "      <td>1.018902</td>\n",
       "      <td>0.308250</td>\n",
       "    </tr>\n",
       "  </tbody>\n",
       "</table>\n",
       "</div>"
      ],
      "text/plain": [
       "                    Value   Std err     t-test   p-value  Rob. Std err  \\\n",
       "beta_last_year  16.528013  1.224384  13.499048  0.000000      1.571728   \n",
       "coef_price      -0.001006  0.132840  -0.007574  0.993957      0.069741   \n",
       "cte_mean        -7.864287  4.399341  -1.787606  0.073840      2.374923   \n",
       "cte_std          0.000092  0.703775   0.000131  0.999896      0.000090   \n",
       "\n",
       "                Rob. t-test  Rob. p-value  \n",
       "beta_last_year    10.515820      0.000000  \n",
       "coef_price        -0.014427      0.988489  \n",
       "cte_mean          -3.311386      0.000928  \n",
       "cte_std            1.018902      0.308250  "
      ]
     },
     "execution_count": 26,
     "metadata": {},
     "output_type": "execute_result"
    }
   ],
   "source": [
    "%%time\n",
    "r_serial_dynamic = estimate(logprob, \n",
    "                            'dynamic_model_serial_truncated_t_55',\n",
    "                            database)\n",
    "r_serial_dynamic"
   ]
  },
  {
   "cell_type": "markdown",
   "metadata": {},
   "source": [
    "### Comparison of the estimates"
   ]
  },
  {
   "cell_type": "code",
   "execution_count": 27,
   "metadata": {},
   "outputs": [
    {
     "data": {
      "text/html": [
       "<div>\n",
       "<style scoped>\n",
       "    .dataframe tbody tr th:only-of-type {\n",
       "        vertical-align: middle;\n",
       "    }\n",
       "\n",
       "    .dataframe tbody tr th {\n",
       "        vertical-align: top;\n",
       "    }\n",
       "\n",
       "    .dataframe thead th {\n",
       "        text-align: right;\n",
       "    }\n",
       "</style>\n",
       "<table border=\"1\" class=\"dataframe\">\n",
       "  <thead>\n",
       "    <tr style=\"text-align: right;\">\n",
       "      <th></th>\n",
       "      <th>True</th>\n",
       "      <th>Static</th>\n",
       "      <th>Dynamic</th>\n",
       "      <th>Static + serial</th>\n",
       "      <th>Dynamic + serial</th>\n",
       "    </tr>\n",
       "  </thead>\n",
       "  <tbody>\n",
       "    <tr>\n",
       "      <th>coef_price</th>\n",
       "      <td>-0.1</td>\n",
       "      <td>0.009229</td>\n",
       "      <td>-0.005069</td>\n",
       "      <td>0.048515</td>\n",
       "      <td>-0.001006</td>\n",
       "    </tr>\n",
       "    <tr>\n",
       "      <th>beta_last_year</th>\n",
       "      <td>10.0</td>\n",
       "      <td></td>\n",
       "      <td>16.52685</td>\n",
       "      <td></td>\n",
       "      <td>16.528013</td>\n",
       "    </tr>\n",
       "    <tr>\n",
       "      <th>cte_mean</th>\n",
       "      <td>0.0</td>\n",
       "      <td>-0.263393</td>\n",
       "      <td>-7.728526</td>\n",
       "      <td>53.425753</td>\n",
       "      <td>-7.864287</td>\n",
       "    </tr>\n",
       "    <tr>\n",
       "      <th>cte_std</th>\n",
       "      <td>50.0</td>\n",
       "      <td></td>\n",
       "      <td></td>\n",
       "      <td>705.533831</td>\n",
       "      <td>0.000092</td>\n",
       "    </tr>\n",
       "  </tbody>\n",
       "</table>\n",
       "</div>"
      ],
      "text/plain": [
       "                True    Static   Dynamic Static + serial  Dynamic + serial\n",
       "coef_price      -0.1  0.009229 -0.005069        0.048515         -0.001006\n",
       "beta_last_year  10.0            16.52685                         16.528013\n",
       "cte_mean         0.0 -0.263393 -7.728526       53.425753         -7.864287\n",
       "cte_std         50.0                          705.533831          0.000092"
      ]
     },
     "execution_count": 27,
     "metadata": {},
     "output_type": "execute_result"
    }
   ],
   "source": [
    "summary = pd.concat(\n",
    "    [\n",
    "        trueParameters['Value'], \n",
    "        r_static['Value'], \n",
    "        r_dynamic['Value'], \n",
    "        r_serial_static['Value'],\n",
    "        r_serial_dynamic['Value'], \n",
    "\n",
    "    ], \n",
    "    axis='columns'\n",
    ")\n",
    "summary.columns = [\n",
    "    'True', \n",
    "    'Static', \n",
    "    'Dynamic', \n",
    "    'Static + serial', \n",
    "    'Dynamic + serial'\n",
    "]\n",
    "summary.fillna('')"
   ]
  },
  {
   "cell_type": "markdown",
   "metadata": {},
   "source": [
    "Contrarily to what we observed with the full set of data, the parameters are not recovered, although the model specification is correct. This can be seen with the $t$-test against the true values."
   ]
  },
  {
   "cell_type": "code",
   "execution_count": 28,
   "metadata": {},
   "outputs": [],
   "source": [
    "def t_test(param, true_value):\n",
    "    return (\n",
    "        (r_serial_dynamic.loc[param, 'Value'] - true_value) /\n",
    "        r_serial_dynamic.loc[param, 'Rob. Std err']\n",
    "    ) "
   ]
  },
  {
   "cell_type": "code",
   "execution_count": 29,
   "metadata": {},
   "outputs": [
    {
     "data": {
      "text/plain": [
       "1.4194549192752515"
      ]
     },
     "execution_count": 29,
     "metadata": {},
     "output_type": "execute_result"
    }
   ],
   "source": [
    "t_test('coef_price', -0.1)"
   ]
  },
  {
   "cell_type": "code",
   "execution_count": 30,
   "metadata": {},
   "outputs": [
    {
     "data": {
      "text/plain": [
       "4.153397375340828"
      ]
     },
     "execution_count": 30,
     "metadata": {},
     "output_type": "execute_result"
    }
   ],
   "source": [
    "t_test('beta_last_year', 10)"
   ]
  },
  {
   "cell_type": "code",
   "execution_count": 31,
   "metadata": {},
   "outputs": [
    {
     "data": {
      "text/plain": [
       "-3.3113863810680075"
      ]
     },
     "execution_count": 31,
     "metadata": {},
     "output_type": "execute_result"
    }
   ],
   "source": [
    "t_test('cte_mean', 0)"
   ]
  },
  {
   "cell_type": "code",
   "execution_count": 32,
   "metadata": {},
   "outputs": [
    {
     "data": {
      "text/plain": [
       "-553776.7990644233"
      ]
     },
     "execution_count": 32,
     "metadata": {},
     "output_type": "execute_result"
    }
   ],
   "source": [
    "t_test('cte_std', 50)"
   ]
  },
  {
   "cell_type": "markdown",
   "metadata": {},
   "source": [
    "This is due to an issue called the \"initial condition problem\", that is discussed in the next video. "
   ]
  }
 ],
 "metadata": {
  "kernelspec": {
   "display_name": "Python 3",
   "language": "python",
   "name": "python3"
  },
  "language_info": {
   "codemirror_mode": {
    "name": "ipython",
    "version": 3
   },
   "file_extension": ".py",
   "mimetype": "text/x-python",
   "name": "python",
   "nbconvert_exporter": "python",
   "pygments_lexer": "ipython3",
   "version": "3.9.5"
  }
 },
 "nbformat": 4,
 "nbformat_minor": 4
}
