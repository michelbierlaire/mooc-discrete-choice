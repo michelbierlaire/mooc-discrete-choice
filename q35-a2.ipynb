{
 "cells": [
  {
   "cell_type": "code",
   "execution_count": 1,
   "id": "b8193646",
   "metadata": {},
   "outputs": [],
   "source": [
    "import pandas as pd\n",
    "import pickle\n",
    "from urllib.request import urlopen\n",
    "import biogeme.database as db\n",
    "import biogeme.biogeme as bio\n",
    "import biogeme.models as models\n",
    "import biogeme.results as res\n",
    "import biogeme.version as ver\n",
    "from biogeme.expressions import Beta, log, exp, bioDraws, MonteCarlo"
   ]
  },
  {
   "cell_type": "markdown",
   "id": "882d5b86",
   "metadata": {},
   "source": [
    "Version of Biogeme"
   ]
  },
  {
   "cell_type": "code",
   "execution_count": 2,
   "id": "dcc71d14",
   "metadata": {},
   "outputs": [
    {
     "name": "stdout",
     "output_type": "stream",
     "text": [
      "biogeme 3.2.8 [2021-09-02]\n",
      "Version entirely written in Python\n",
      "Home page: http://biogeme.epfl.ch\n",
      "Submit questions to https://groups.google.com/d/forum/biogeme\n",
      "Michel Bierlaire, Transport and Mobility Laboratory, Ecole Polytechnique Fédérale de Lausanne (EPFL)\n",
      "\n"
     ]
    }
   ],
   "source": [
    "print(ver.getText())"
   ]
  },
  {
   "cell_type": "markdown",
   "id": "f274face",
   "metadata": {},
   "source": [
    "The estimation may take a significant amount of time. Therefore, this notebook can be executed using models that have been estimated. The results are read from file if the variable `numberOfDraws` below is set to `None`."
   ]
  },
  {
   "cell_type": "code",
   "execution_count": 3,
   "id": "f7f42720",
   "metadata": {},
   "outputs": [],
   "source": [
    "#numberOfDraws=10000\n",
    "numberOfDraws = None"
   ]
  },
  {
   "cell_type": "markdown",
   "id": "ffe55231",
   "metadata": {},
   "source": [
    "The following function obtains the data from the file available online."
   ]
  },
  {
   "cell_type": "code",
   "execution_count": 4,
   "id": "a228bd88",
   "metadata": {},
   "outputs": [],
   "source": [
    "url_root = (\n",
    "    'https://courses.edx.org/'\n",
    "    'asset-v1:EPFLx+ChoiceModels2x+3T2021+type@asset+block@'\n",
    ")"
   ]
  },
  {
   "cell_type": "code",
   "execution_count": 5,
   "id": "30b05bd7",
   "metadata": {},
   "outputs": [],
   "source": [
    "def get_results_from_url(file):\n",
    "    pickle_file = f'{url_root}{file}'\n",
    "\n",
    "    with urlopen(pickle_file) as p:\n",
    "        data = pickle.load(p)\n",
    "    return res.bioResults(data)"
   ]
  },
  {
   "cell_type": "markdown",
   "id": "1f3fdb99",
   "metadata": {},
   "source": [
    "# Data"
   ]
  },
  {
   "cell_type": "code",
   "execution_count": 6,
   "id": "326daa19",
   "metadata": {},
   "outputs": [],
   "source": [
    "pandas = pd.read_table(f'{url_root}swissmetro.dat')\n",
    "database = db.Database('swissmetro', pandas)"
   ]
  },
  {
   "cell_type": "markdown",
   "id": "5ac05284",
   "metadata": {},
   "source": [
    "The following statement allows you to use the names of the variables as Python variable."
   ]
  },
  {
   "cell_type": "code",
   "execution_count": 7,
   "id": "23e7a5f1",
   "metadata": {},
   "outputs": [],
   "source": [
    "globals().update(database.variables)"
   ]
  },
  {
   "cell_type": "markdown",
   "id": "af81babf",
   "metadata": {},
   "source": [
    "We exclude some observations"
   ]
  },
  {
   "cell_type": "code",
   "execution_count": 8,
   "id": "0d2ef25a",
   "metadata": {},
   "outputs": [],
   "source": [
    "exclude = ((PURPOSE != 1) * (PURPOSE != 3) + (CHOICE == 0)) > 0\n",
    "database.remove(exclude)"
   ]
  },
  {
   "cell_type": "markdown",
   "id": "1d0535fa",
   "metadata": {},
   "source": [
    "# Parameters"
   ]
  },
  {
   "cell_type": "code",
   "execution_count": 9,
   "id": "63b7aca7",
   "metadata": {},
   "outputs": [],
   "source": [
    "ASC_CAR = Beta('ASC_CAR', 0, None, None, 0)\n",
    "ASC_TRAIN = Beta('ASC_TRAIN', 0, None, None, 0)\n",
    "B_TIME = Beta('B_TIME', 0, None, None, 0)\n",
    "B_COST = Beta('B_COST', 0, None, None, 0)\n",
    "B_FR = Beta('B_FR', 0, None, None, 0)"
   ]
  },
  {
   "cell_type": "markdown",
   "id": "5a619115",
   "metadata": {},
   "source": [
    "# Variables"
   ]
  },
  {
   "cell_type": "code",
   "execution_count": 10,
   "id": "d8e957ef",
   "metadata": {},
   "outputs": [],
   "source": [
    "SM_COST = SM_CO * (GA == 0)\n",
    "TRAIN_COST = TRAIN_CO * (GA == 0)\n",
    "CAR_AV_SP = CAR_AV * (SP != 0)\n",
    "TRAIN_AV_SP = TRAIN_AV * (SP != 0)\n",
    "TRAIN_TT_SCALED = TRAIN_TT / 100\n",
    "TRAIN_COST_SCALED = TRAIN_COST / 100\n",
    "SM_TT_SCALED = SM_TT / 100\n",
    "SM_COST_SCALED = SM_COST / 100\n",
    "CAR_TT_SCALED = CAR_TT / 100\n",
    "CAR_CO_SCALED = CAR_CO / 100\n",
    "TRAIN_HE_SCALED = TRAIN_HE / 1000\n",
    "SM_HE_SCALED = SM_HE / 1000\n",
    "LOW_INC = INCOME <= 1"
   ]
  },
  {
   "cell_type": "markdown",
   "id": "727b087b",
   "metadata": {},
   "source": [
    "# Availability conditions"
   ]
  },
  {
   "cell_type": "code",
   "execution_count": 11,
   "id": "3f8b3367",
   "metadata": {},
   "outputs": [],
   "source": [
    "av = {1: TRAIN_AV_SP,\n",
    "      2: SM_AV,\n",
    "      3: CAR_AV_SP}"
   ]
  },
  {
   "cell_type": "markdown",
   "id": "8c921693",
   "metadata": {},
   "source": [
    "# Logit model"
   ]
  },
  {
   "cell_type": "markdown",
   "id": "462744f0",
   "metadata": {},
   "source": [
    "## Utility functions"
   ]
  },
  {
   "cell_type": "code",
   "execution_count": 12,
   "id": "8f483bc1",
   "metadata": {},
   "outputs": [],
   "source": [
    "V1 = (ASC_TRAIN +\n",
    "      B_TIME * TRAIN_TT_SCALED +\n",
    "      B_COST * TRAIN_COST_SCALED +\n",
    "      B_FR * TRAIN_HE_SCALED)\n",
    "V2 = (B_TIME * SM_TT_SCALED +\n",
    "      B_COST * SM_COST_SCALED +\n",
    "      B_FR * SM_HE_SCALED)\n",
    "V3 = (ASC_CAR +\n",
    "      B_TIME * CAR_TT_SCALED +\n",
    "      B_COST * CAR_CO_SCALED)\n",
    "V = {1: V1,\n",
    "     2: V2,\n",
    "     3: V3}"
   ]
  },
  {
   "cell_type": "markdown",
   "id": "e3270a30",
   "metadata": {},
   "source": [
    "## Model"
   ]
  },
  {
   "cell_type": "code",
   "execution_count": 13,
   "id": "e377bc80",
   "metadata": {},
   "outputs": [],
   "source": [
    "logprob = models.loglogit(V, av, CHOICE)"
   ]
  },
  {
   "cell_type": "markdown",
   "id": "d8e5d7eb",
   "metadata": {},
   "source": [
    "## Estimation"
   ]
  },
  {
   "cell_type": "code",
   "execution_count": 14,
   "id": "f47d164b",
   "metadata": {},
   "outputs": [],
   "source": [
    "biogeme = bio.BIOGEME(database, logprob)\n",
    "biogeme.modelName = '01logit'\n",
    "results_logit = biogeme.estimate()"
   ]
  },
  {
   "cell_type": "markdown",
   "id": "2284cdd1",
   "metadata": {},
   "source": [
    "## Results"
   ]
  },
  {
   "cell_type": "code",
   "execution_count": 15,
   "id": "2b491d61",
   "metadata": {},
   "outputs": [
    {
     "name": "stdout",
     "output_type": "stream",
     "text": [
      "Number of estimated parameters:\t5\n",
      "Sample size:\t6768\n",
      "Excluded observations:\t3960\n",
      "Init log likelihood:\t-5315.386\n",
      "Final log likelihood:\t-5315.386\n",
      "Likelihood ratio test for the init. model:\t-0\n",
      "Rho-square for the init. model:\t0\n",
      "Rho-square-bar for the init. model:\t-0.000941\n",
      "Akaike Information Criterion:\t10640.77\n",
      "Bayesian Information Criterion:\t10674.87\n",
      "Final gradient norm:\t8.1247E-03\n",
      "Nbr of threads:\t16\n",
      "\n"
     ]
    }
   ],
   "source": [
    "stats_logit = results_logit.getGeneralStatistics()\n",
    "print(results_logit.printGeneralStatistics())"
   ]
  },
  {
   "cell_type": "code",
   "execution_count": 16,
   "id": "bd0b54ca",
   "metadata": {},
   "outputs": [
    {
     "data": {
      "text/html": [
       "<div>\n",
       "<style scoped>\n",
       "    .dataframe tbody tr th:only-of-type {\n",
       "        vertical-align: middle;\n",
       "    }\n",
       "\n",
       "    .dataframe tbody tr th {\n",
       "        vertical-align: top;\n",
       "    }\n",
       "\n",
       "    .dataframe thead th {\n",
       "        text-align: right;\n",
       "    }\n",
       "</style>\n",
       "<table border=\"1\" class=\"dataframe\">\n",
       "  <thead>\n",
       "    <tr style=\"text-align: right;\">\n",
       "      <th></th>\n",
       "      <th>Value</th>\n",
       "      <th>Std err</th>\n",
       "      <th>t-test</th>\n",
       "      <th>p-value</th>\n",
       "      <th>Rob. Std err</th>\n",
       "      <th>Rob. t-test</th>\n",
       "      <th>Rob. p-value</th>\n",
       "    </tr>\n",
       "  </thead>\n",
       "  <tbody>\n",
       "    <tr>\n",
       "      <th>ASC_CAR</th>\n",
       "      <td>-0.261838</td>\n",
       "      <td>0.047307</td>\n",
       "      <td>-5.534875</td>\n",
       "      <td>3.114498e-08</td>\n",
       "      <td>0.061496</td>\n",
       "      <td>-4.257798</td>\n",
       "      <td>2.064506e-05</td>\n",
       "    </tr>\n",
       "    <tr>\n",
       "      <th>ASC_TRAIN</th>\n",
       "      <td>-0.451015</td>\n",
       "      <td>0.069678</td>\n",
       "      <td>-6.472835</td>\n",
       "      <td>9.618062e-11</td>\n",
       "      <td>0.093240</td>\n",
       "      <td>-4.837114</td>\n",
       "      <td>1.317380e-06</td>\n",
       "    </tr>\n",
       "    <tr>\n",
       "      <th>B_COST</th>\n",
       "      <td>-1.084663</td>\n",
       "      <td>0.051826</td>\n",
       "      <td>-20.929115</td>\n",
       "      <td>0.000000e+00</td>\n",
       "      <td>0.068235</td>\n",
       "      <td>-15.895902</td>\n",
       "      <td>0.000000e+00</td>\n",
       "    </tr>\n",
       "    <tr>\n",
       "      <th>B_FR</th>\n",
       "      <td>-5.353240</td>\n",
       "      <td>0.963865</td>\n",
       "      <td>-5.553932</td>\n",
       "      <td>2.793141e-08</td>\n",
       "      <td>0.983023</td>\n",
       "      <td>-5.445690</td>\n",
       "      <td>5.160495e-08</td>\n",
       "    </tr>\n",
       "    <tr>\n",
       "      <th>B_TIME</th>\n",
       "      <td>-1.276782</td>\n",
       "      <td>0.056938</td>\n",
       "      <td>-22.424014</td>\n",
       "      <td>0.000000e+00</td>\n",
       "      <td>0.104436</td>\n",
       "      <td>-12.225485</td>\n",
       "      <td>0.000000e+00</td>\n",
       "    </tr>\n",
       "  </tbody>\n",
       "</table>\n",
       "</div>"
      ],
      "text/plain": [
       "              Value   Std err     t-test       p-value  Rob. Std err  \\\n",
       "ASC_CAR   -0.261838  0.047307  -5.534875  3.114498e-08      0.061496   \n",
       "ASC_TRAIN -0.451015  0.069678  -6.472835  9.618062e-11      0.093240   \n",
       "B_COST    -1.084663  0.051826 -20.929115  0.000000e+00      0.068235   \n",
       "B_FR      -5.353240  0.963865  -5.553932  2.793141e-08      0.983023   \n",
       "B_TIME    -1.276782  0.056938 -22.424014  0.000000e+00      0.104436   \n",
       "\n",
       "           Rob. t-test  Rob. p-value  \n",
       "ASC_CAR      -4.257798  2.064506e-05  \n",
       "ASC_TRAIN    -4.837114  1.317380e-06  \n",
       "B_COST      -15.895902  0.000000e+00  \n",
       "B_FR         -5.445690  5.160495e-08  \n",
       "B_TIME      -12.225485  0.000000e+00  "
      ]
     },
     "execution_count": 16,
     "metadata": {},
     "output_type": "execute_result"
    }
   ],
   "source": [
    "param_logit = results_logit.getEstimatedParameters()\n",
    "param_logit"
   ]
  },
  {
   "cell_type": "markdown",
   "id": "aaec4c45",
   "metadata": {},
   "source": [
    "# Random parameter: normal distribution"
   ]
  },
  {
   "cell_type": "markdown",
   "id": "7df20d89",
   "metadata": {},
   "source": [
    "Read the results from file"
   ]
  },
  {
   "cell_type": "code",
   "execution_count": 17,
   "id": "c499fbba",
   "metadata": {},
   "outputs": [],
   "source": [
    "results_normal = get_results_from_url('rc-02normal.pickle')\n",
    "param_normal = results_normal.getEstimatedParameters()\n",
    "stats_normal = results_normal.getGeneralStatistics()"
   ]
  },
  {
   "cell_type": "markdown",
   "id": "f34c64eb",
   "metadata": {},
   "source": [
    "# Random parameter: lognormal distribution\n"
   ]
  },
  {
   "cell_type": "code",
   "execution_count": 18,
   "id": "ecc049bb",
   "metadata": {},
   "outputs": [],
   "source": [
    "B_TIME_S = Beta('B_TIME_S', 1, None, None, 0)\n",
    "B_TIME_RND = -exp(B_TIME + B_TIME_S * bioDraws('B_TIME_RND', 'NORMAL'))"
   ]
  },
  {
   "cell_type": "markdown",
   "id": "bdf8e91d",
   "metadata": {},
   "source": [
    "## Utility functions"
   ]
  },
  {
   "cell_type": "code",
   "execution_count": 19,
   "id": "feb91e0d",
   "metadata": {},
   "outputs": [],
   "source": [
    "V1 = (ASC_TRAIN +\n",
    "      B_TIME_RND * TRAIN_TT_SCALED +\n",
    "      B_COST * TRAIN_COST_SCALED +\n",
    "      B_FR * TRAIN_HE_SCALED)\n",
    "V2 = (B_TIME_RND * SM_TT_SCALED +\n",
    "      B_COST * SM_COST_SCALED +\n",
    "      B_FR * SM_HE_SCALED)\n",
    "V3 = (ASC_CAR +\n",
    "      B_TIME_RND * CAR_TT_SCALED +\n",
    "      B_COST * CAR_CO_SCALED)\n",
    "V = {1: V1,\n",
    "     2: V2,\n",
    "     3: V3}"
   ]
  },
  {
   "cell_type": "markdown",
   "id": "863d762c",
   "metadata": {},
   "source": [
    "## Model"
   ]
  },
  {
   "cell_type": "code",
   "execution_count": 20,
   "id": "96c858bd",
   "metadata": {},
   "outputs": [],
   "source": [
    "prob = models.logit(V, av, CHOICE)\n",
    "logprob = log(MonteCarlo(prob))"
   ]
  },
  {
   "cell_type": "markdown",
   "id": "e893084e",
   "metadata": {},
   "source": [
    "## Estimation"
   ]
  },
  {
   "cell_type": "code",
   "execution_count": 21,
   "id": "69320e19",
   "metadata": {},
   "outputs": [],
   "source": [
    "if numberOfDraws is None:\n",
    "    results_lognormal = get_results_from_url('rc-03lognormal.pickle')\n",
    "else:\n",
    "    biogeme = bio.BIOGEME(database, logprob, numberOfDraws=numberOfDraws)\n",
    "    biogeme.modelName = '03lognormal'\n",
    "    results_lognormal = biogeme.estimate()\n",
    "    print(f'Results saved in file {results_lognormal.data.pickleFileName}')"
   ]
  },
  {
   "cell_type": "markdown",
   "id": "27a517fa",
   "metadata": {},
   "source": [
    "## Results"
   ]
  },
  {
   "cell_type": "code",
   "execution_count": 22,
   "id": "1e58cbe8",
   "metadata": {},
   "outputs": [
    {
     "name": "stdout",
     "output_type": "stream",
     "text": [
      "Number of estimated parameters:\t6\n",
      "Sample size:\t6768\n",
      "Excluded observations:\t3960\n",
      "Init log likelihood:\t-5701.952\n",
      "Final log likelihood:\t-5215.046\n",
      "Likelihood ratio test for the init. model:\t973.8122\n",
      "Rho-square for the init. model:\t0.0854\n",
      "Rho-square-bar for the init. model:\t0.0843\n",
      "Akaike Information Criterion:\t10442.09\n",
      "Bayesian Information Criterion:\t10483.01\n",
      "Final gradient norm:\t1.2361E-02\n",
      "Number of draws:\t10000\n",
      "Draws generation time:\t0:01:43.083423\n",
      "Types of draws:\t['B_TIME_RND: NORMAL']\n",
      "Nbr of threads:\t16\n",
      "\n"
     ]
    }
   ],
   "source": [
    "stats_lognormal = results_lognormal.getGeneralStatistics()\n",
    "print(results_lognormal.printGeneralStatistics())"
   ]
  },
  {
   "cell_type": "code",
   "execution_count": 23,
   "id": "4ce3dcb6",
   "metadata": {},
   "outputs": [
    {
     "data": {
      "text/html": [
       "<div>\n",
       "<style scoped>\n",
       "    .dataframe tbody tr th:only-of-type {\n",
       "        vertical-align: middle;\n",
       "    }\n",
       "\n",
       "    .dataframe tbody tr th {\n",
       "        vertical-align: top;\n",
       "    }\n",
       "\n",
       "    .dataframe thead th {\n",
       "        text-align: right;\n",
       "    }\n",
       "</style>\n",
       "<table border=\"1\" class=\"dataframe\">\n",
       "  <thead>\n",
       "    <tr style=\"text-align: right;\">\n",
       "      <th></th>\n",
       "      <th>Value</th>\n",
       "      <th>Std err</th>\n",
       "      <th>t-test</th>\n",
       "      <th>p-value</th>\n",
       "      <th>Rob. Std err</th>\n",
       "      <th>Rob. t-test</th>\n",
       "      <th>Rob. p-value</th>\n",
       "    </tr>\n",
       "  </thead>\n",
       "  <tbody>\n",
       "    <tr>\n",
       "      <th>ASC_CAR</th>\n",
       "      <td>0.054452</td>\n",
       "      <td>0.061301</td>\n",
       "      <td>0.888268</td>\n",
       "      <td>3.743967e-01</td>\n",
       "      <td>0.066259</td>\n",
       "      <td>0.821803</td>\n",
       "      <td>4.111890e-01</td>\n",
       "    </tr>\n",
       "    <tr>\n",
       "      <th>ASC_TRAIN</th>\n",
       "      <td>-0.067536</td>\n",
       "      <td>0.083656</td>\n",
       "      <td>-0.807315</td>\n",
       "      <td>4.194850e-01</td>\n",
       "      <td>0.087253</td>\n",
       "      <td>-0.774030</td>\n",
       "      <td>4.389133e-01</td>\n",
       "    </tr>\n",
       "    <tr>\n",
       "      <th>B_COST</th>\n",
       "      <td>-1.385676</td>\n",
       "      <td>0.074961</td>\n",
       "      <td>-18.485260</td>\n",
       "      <td>0.000000e+00</td>\n",
       "      <td>0.098536</td>\n",
       "      <td>-14.062635</td>\n",
       "      <td>0.000000e+00</td>\n",
       "    </tr>\n",
       "    <tr>\n",
       "      <th>B_FR</th>\n",
       "      <td>-5.969799</td>\n",
       "      <td>1.052202</td>\n",
       "      <td>-5.673624</td>\n",
       "      <td>1.398080e-08</td>\n",
       "      <td>1.054736</td>\n",
       "      <td>-5.659992</td>\n",
       "      <td>1.513804e-08</td>\n",
       "    </tr>\n",
       "    <tr>\n",
       "      <th>B_TIME</th>\n",
       "      <td>0.572966</td>\n",
       "      <td>0.065452</td>\n",
       "      <td>8.753921</td>\n",
       "      <td>0.000000e+00</td>\n",
       "      <td>0.071400</td>\n",
       "      <td>8.024700</td>\n",
       "      <td>1.110223e-15</td>\n",
       "    </tr>\n",
       "    <tr>\n",
       "      <th>B_TIME_S</th>\n",
       "      <td>1.245342</td>\n",
       "      <td>0.104267</td>\n",
       "      <td>11.943724</td>\n",
       "      <td>0.000000e+00</td>\n",
       "      <td>0.136345</td>\n",
       "      <td>9.133740</td>\n",
       "      <td>0.000000e+00</td>\n",
       "    </tr>\n",
       "  </tbody>\n",
       "</table>\n",
       "</div>"
      ],
      "text/plain": [
       "              Value   Std err     t-test       p-value  Rob. Std err  \\\n",
       "ASC_CAR    0.054452  0.061301   0.888268  3.743967e-01      0.066259   \n",
       "ASC_TRAIN -0.067536  0.083656  -0.807315  4.194850e-01      0.087253   \n",
       "B_COST    -1.385676  0.074961 -18.485260  0.000000e+00      0.098536   \n",
       "B_FR      -5.969799  1.052202  -5.673624  1.398080e-08      1.054736   \n",
       "B_TIME     0.572966  0.065452   8.753921  0.000000e+00      0.071400   \n",
       "B_TIME_S   1.245342  0.104267  11.943724  0.000000e+00      0.136345   \n",
       "\n",
       "           Rob. t-test  Rob. p-value  \n",
       "ASC_CAR       0.821803  4.111890e-01  \n",
       "ASC_TRAIN    -0.774030  4.389133e-01  \n",
       "B_COST      -14.062635  0.000000e+00  \n",
       "B_FR         -5.659992  1.513804e-08  \n",
       "B_TIME        8.024700  1.110223e-15  \n",
       "B_TIME_S      9.133740  0.000000e+00  "
      ]
     },
     "execution_count": 23,
     "metadata": {},
     "output_type": "execute_result"
    }
   ],
   "source": [
    "param_lognormal = results_lognormal.getEstimatedParameters()\n",
    "param_lognormal"
   ]
  },
  {
   "cell_type": "markdown",
   "id": "03063109",
   "metadata": {},
   "source": [
    "# Comparison"
   ]
  },
  {
   "cell_type": "markdown",
   "id": "d69110f0",
   "metadata": {},
   "source": [
    "We build a summary data frame. We first gather the parameter estimates for the three models."
   ]
  },
  {
   "cell_type": "code",
   "execution_count": 24,
   "id": "31ba91e3",
   "metadata": {},
   "outputs": [],
   "source": [
    "parameters = [\n",
    "    param_logit, \n",
    "    param_normal, \n",
    "    param_lognormal, \n",
    "]\n",
    "parameters_values = [\n",
    "    pd.DataFrame(df['Value']) \n",
    "    for df in parameters\n",
    "]\n",
    "summary = pd.concat(parameters_values, \n",
    "                    axis='columns')\n",
    "summary.columns = ['Logit', \n",
    "                   'Normal', \n",
    "                   'Lognormal']"
   ]
  },
  {
   "cell_type": "markdown",
   "id": "bdbcb362",
   "metadata": {},
   "source": [
    "Then we gather the value of the final log likelihood for each model."
   ]
  },
  {
   "cell_type": "code",
   "execution_count": 25,
   "id": "a3edb13c",
   "metadata": {},
   "outputs": [],
   "source": [
    "stats = {\n",
    "    'Logit': stats_logit, \n",
    "    'Normal': stats_normal, \n",
    "    'Lognormal': stats_lognormal\n",
    "}"
   ]
  },
  {
   "cell_type": "code",
   "execution_count": 26,
   "id": "4dd3760a",
   "metadata": {},
   "outputs": [
    {
     "data": {
      "text/html": [
       "<div>\n",
       "<style scoped>\n",
       "    .dataframe tbody tr th:only-of-type {\n",
       "        vertical-align: middle;\n",
       "    }\n",
       "\n",
       "    .dataframe tbody tr th {\n",
       "        vertical-align: top;\n",
       "    }\n",
       "\n",
       "    .dataframe thead th {\n",
       "        text-align: right;\n",
       "    }\n",
       "</style>\n",
       "<table border=\"1\" class=\"dataframe\">\n",
       "  <thead>\n",
       "    <tr style=\"text-align: right;\">\n",
       "      <th></th>\n",
       "      <th>Logit</th>\n",
       "      <th>Normal</th>\n",
       "      <th>Lognormal</th>\n",
       "    </tr>\n",
       "  </thead>\n",
       "  <tbody>\n",
       "    <tr>\n",
       "      <th>ASC_CAR</th>\n",
       "      <td>-0.261838</td>\n",
       "      <td>0.011932</td>\n",
       "      <td>0.054452</td>\n",
       "    </tr>\n",
       "    <tr>\n",
       "      <th>ASC_TRAIN</th>\n",
       "      <td>-0.451015</td>\n",
       "      <td>-0.103973</td>\n",
       "      <td>-0.067536</td>\n",
       "    </tr>\n",
       "    <tr>\n",
       "      <th>B_COST</th>\n",
       "      <td>-1.084663</td>\n",
       "      <td>-1.294047</td>\n",
       "      <td>-1.385676</td>\n",
       "    </tr>\n",
       "    <tr>\n",
       "      <th>B_FR</th>\n",
       "      <td>-5.35324</td>\n",
       "      <td>-6.371798</td>\n",
       "      <td>-5.969799</td>\n",
       "    </tr>\n",
       "    <tr>\n",
       "      <th>B_TIME</th>\n",
       "      <td>-1.276782</td>\n",
       "      <td>-2.273390</td>\n",
       "      <td>0.572966</td>\n",
       "    </tr>\n",
       "    <tr>\n",
       "      <th>B_TIME_S</th>\n",
       "      <td></td>\n",
       "      <td>1.683225</td>\n",
       "      <td>1.245342</td>\n",
       "    </tr>\n",
       "    <tr>\n",
       "      <th>Log likelihood</th>\n",
       "      <td>-5315.386329</td>\n",
       "      <td>-5197.436873</td>\n",
       "      <td>-5215.046312</td>\n",
       "    </tr>\n",
       "  </tbody>\n",
       "</table>\n",
       "</div>"
      ],
      "text/plain": [
       "                      Logit       Normal    Lognormal\n",
       "ASC_CAR           -0.261838     0.011932     0.054452\n",
       "ASC_TRAIN         -0.451015    -0.103973    -0.067536\n",
       "B_COST            -1.084663    -1.294047    -1.385676\n",
       "B_FR               -5.35324    -6.371798    -5.969799\n",
       "B_TIME            -1.276782    -2.273390     0.572966\n",
       "B_TIME_S                        1.683225     1.245342\n",
       "Log likelihood -5315.386329 -5197.436873 -5215.046312"
      ]
     },
     "execution_count": 26,
     "metadata": {},
     "output_type": "execute_result"
    }
   ],
   "source": [
    "loglike = {\n",
    "    k: v['Final log likelihood'][0] \n",
    "    for k, v in stats.items()\n",
    "}\n",
    "loglike_row = pd.Series(data=loglike, \n",
    "                        name='Log likelihood')\n",
    "summary = summary.append(loglike_row)\n",
    "summary.fillna('')"
   ]
  }
 ],
 "metadata": {
  "kernelspec": {
   "display_name": "Python 3 (ipykernel)",
   "language": "python",
   "name": "python3"
  },
  "language_info": {
   "codemirror_mode": {
    "name": "ipython",
    "version": 3
   },
   "file_extension": ".py",
   "mimetype": "text/x-python",
   "name": "python",
   "nbconvert_exporter": "python",
   "pygments_lexer": "ipython3",
   "version": "3.9.6"
  }
 },
 "nbformat": 4,
 "nbformat_minor": 5
}
