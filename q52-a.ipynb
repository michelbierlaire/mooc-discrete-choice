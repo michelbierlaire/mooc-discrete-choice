{
 "cells": [
  {
   "cell_type": "code",
   "execution_count": 1,
   "id": "9007aaba",
   "metadata": {},
   "outputs": [],
   "source": [
    "import pandas as pd\n",
    "import pickle\n",
    "from urllib.request import urlopen\n",
    "import biogeme.database as db\n",
    "import biogeme.biogeme as bio\n",
    "import biogeme.results as res\n",
    "from biogeme.expressions import (\n",
    "    Beta,\n",
    "    bioDraws,\n",
    "    MonteCarlo,\n",
    "    log,\n",
    "    PanelLikelihoodTrajectory,\n",
    "    DefineVariable,\n",
    ")\n",
    "import biogeme.messaging as msg\n",
    "from biogeme import models"
   ]
  },
  {
   "cell_type": "markdown",
   "id": "e167a4e7",
   "metadata": {},
   "source": [
    "The estimation of these models may take a while. It you want to run the notebook using pre-estimated results saved on file, set the number of draws below to `None`"
   ]
  },
  {
   "cell_type": "code",
   "execution_count": 2,
   "id": "4b829469",
   "metadata": {},
   "outputs": [],
   "source": [
    "#numberOfDraws = 50000\n",
    "numberOfDraws = None"
   ]
  },
  {
   "cell_type": "code",
   "execution_count": 3,
   "id": "21a1aae3",
   "metadata": {},
   "outputs": [],
   "source": [
    "def get_results_from_url(file):\n",
    "    pickle_file = f'{url_root}{file}'\n",
    "\n",
    "    with urlopen(pickle_file) as p:\n",
    "        data = pickle.load(p)\n",
    "    return res.bioResults(data)"
   ]
  },
  {
   "cell_type": "code",
   "execution_count": 4,
   "id": "ab62b0ac",
   "metadata": {},
   "outputs": [],
   "source": [
    "url_root = (\n",
    "    'https://courses.edx.org/'\n",
    "    'asset-v1:EPFLx+ChoiceModels2x+3T2021+type@asset+block@'\n",
    ")"
   ]
  },
  {
   "cell_type": "markdown",
   "id": "ca1f51b6",
   "metadata": {},
   "source": [
    "# Read the data"
   ]
  },
  {
   "cell_type": "code",
   "execution_count": 5,
   "id": "fba63c03",
   "metadata": {},
   "outputs": [],
   "source": [
    "theData = pd.read_table(f'{url_root}swissmetro.dat')\n",
    "database = db.Database('swissmetro', theData)\n",
    "globals().update(database.variables)\n"
   ]
  },
  {
   "cell_type": "markdown",
   "id": "acf26fce",
   "metadata": {},
   "source": [
    "Exclude several observations"
   ]
  },
  {
   "cell_type": "code",
   "execution_count": 6,
   "id": "381b0f83",
   "metadata": {},
   "outputs": [],
   "source": [
    "exclude = ((PURPOSE != 1) * (PURPOSE != 3) + (CHOICE == 0)) > 0\n",
    "database.remove(exclude)"
   ]
  },
  {
   "cell_type": "markdown",
   "id": "357ab5d1",
   "metadata": {},
   "source": [
    "Declare that the data is organized as panel data. It means that the observations for each individual spans several rows. The identifier for each individual is found in column ``ID``. "
   ]
  },
  {
   "cell_type": "code",
   "execution_count": 7,
   "id": "c2125cf6",
   "metadata": {},
   "outputs": [],
   "source": [
    "database.panel('ID')"
   ]
  },
  {
   "cell_type": "markdown",
   "id": "67efebde",
   "metadata": {},
   "source": [
    "# Model specification"
   ]
  },
  {
   "cell_type": "markdown",
   "id": "e4ba0cdc",
   "metadata": {},
   "source": [
    "Parameters to be estimated."
   ]
  },
  {
   "cell_type": "code",
   "execution_count": 8,
   "id": "2946ac9a",
   "metadata": {},
   "outputs": [],
   "source": [
    "ASC_CAR = Beta('ASC_CAR', 0.0, None, None, 0)\n",
    "ASC_SM = Beta('ASC_SM', 0.0, None, None, 0)\n",
    "BETA_CAR_COST = Beta('BETA_CAR_COST', 0.0, None, None, 0)\n",
    "BETA_HE = Beta('BETA_HE', 0.0, None, None, 0)\n",
    "BETA_SM_COST = Beta('BETA_SM_COST', 0.0, None, None, 0)\n",
    "BETA_TIME = Beta('BETA_TIME', 0.0, None, None, 0)\n",
    "BETA_TRAIN_COST = Beta('BETA_TRAIN_COST', 0.0, None, None, 0)"
   ]
  },
  {
   "cell_type": "markdown",
   "id": "048b435f",
   "metadata": {},
   "source": [
    "The next set of parameters are the scale parameters of the agent (or panel) effect."
   ]
  },
  {
   "cell_type": "code",
   "execution_count": 9,
   "id": "296f7b5b",
   "metadata": {},
   "outputs": [],
   "source": [
    "SIGMA_PANEL_CAR = Beta('SIGMA_PANEL_CAR', 1.0, None, None, 0)\n",
    "SIGMA_PANEL_TRAIN = Beta('SIGMA_PANEL_TRAIN', 1.0, None, None, 0)\n",
    "SIGMA_PANEL_SM = Beta('SIGMA_PANEL_SM', 1.0, None, None, 0)"
   ]
  },
  {
   "cell_type": "markdown",
   "id": "ac00d636",
   "metadata": {},
   "source": [
    "Define the random parameters for the egent effect. "
   ]
  },
  {
   "cell_type": "code",
   "execution_count": 10,
   "id": "210de40f",
   "metadata": {},
   "outputs": [],
   "source": [
    "ZERO_SIGMA_PANEL_CAR = SIGMA_PANEL_CAR * bioDraws(\n",
    "    'ZERO_SIGMA_PANEL_CAR', 'NORMAL'\n",
    ")\n",
    "ZERO_SIGMA_PANEL_TRAIN = SIGMA_PANEL_TRAIN * bioDraws(\n",
    "    'ZERO_SIGMA_PANEL_TRAIN', 'NORMAL'\n",
    ")\n",
    "ZERO_SIGMA_PANEL_SM = SIGMA_PANEL_SM * bioDraws(\n",
    "    'ZERO_SIGMA_PANEL_SM', 'NORMAL'\n",
    ")\n"
   ]
  },
  {
   "cell_type": "markdown",
   "id": "52623926",
   "metadata": {},
   "source": [
    "Define new variables. In order to speed up the estimation process, the new variables are stored in new columns of the database, using the expression ``DefineVariable``. It avoids to recalculate them at each iteration of the algorithm. "
   ]
  },
  {
   "cell_type": "code",
   "execution_count": 11,
   "id": "25e87e02",
   "metadata": {},
   "outputs": [],
   "source": [
    "CAR_AV_SP = DefineVariable(\n",
    "    'CAR_AV_SP',\n",
    "    CAR_AV * (SP != 0),\n",
    "    database,\n",
    ")\n",
    "SM_COST = DefineVariable(\n",
    "    'SM_COST',\n",
    "    SM_CO * (GA == 0),\n",
    "    database,\n",
    ")\n",
    "TRAIN_AV_SP = DefineVariable(\n",
    "    'TRAIN_AV_SP',\n",
    "    TRAIN_AV * (SP != 0),\n",
    "    database,\n",
    ")\n",
    "TRAIN_COST = DefineVariable(\n",
    "    'TRAIN_COST',\n",
    "    TRAIN_CO * (GA == 0),\n",
    "    database,\n",
    ")\n",
    "\n",
    "TRAIN_TT_SCALED = DefineVariable(\n",
    "    'TRAIN_TT_SCALED',\n",
    "    TRAIN_TT / 100.0,\n",
    "    database,\n",
    ")\n",
    "TRAIN_COST_SCALED = DefineVariable(\n",
    "    'TRAIN_COST_SCALED', TRAIN_COST / 100, database\n",
    ")\n",
    "SM_TT_SCALED = DefineVariable(\n",
    "    'SM_TT_SCALED',\n",
    "    SM_TT / 100.0,\n",
    "    database,\n",
    ")\n",
    "SM_COST_SCALED = DefineVariable(\n",
    "    'SM_COST_SCALED',\n",
    "    SM_COST / 100,\n",
    "    database,\n",
    ")\n",
    "CAR_TT_SCALED = DefineVariable(\n",
    "    'CAR_TT_SCALED',\n",
    "    CAR_TT / 100,\n",
    "    database,\n",
    ")\n",
    "CAR_CO_SCALED = DefineVariable(\n",
    "    'CAR_CO_SCALED',\n",
    "    CAR_CO / 100,\n",
    "    database,\n",
    ")\n",
    "TRAIN_HE_SCALED = DefineVariable(\n",
    "    'TRAIN_HE_SCALED',\n",
    "    TRAIN_HE / 100,\n",
    "    database,\n",
    ")\n",
    "SM_HE_SCALED = DefineVariable(\n",
    "    'SM_HE_SCALED',\n",
    "    SM_HE / 100,\n",
    "    database,\n",
    ")\n"
   ]
  },
  {
   "cell_type": "markdown",
   "id": "b39f83df",
   "metadata": {},
   "source": [
    "Utility functions"
   ]
  },
  {
   "cell_type": "code",
   "execution_count": 12,
   "id": "0ae2a8ed",
   "metadata": {},
   "outputs": [],
   "source": [
    "V_Car_SP = (\n",
    "    ASC_CAR\n",
    "    + BETA_TIME * CAR_TT_SCALED\n",
    "    + BETA_CAR_COST * CAR_CO_SCALED\n",
    "    + ZERO_SIGMA_PANEL_CAR\n",
    ")\n",
    "V_SBB_SP = (\n",
    "    BETA_TIME * TRAIN_TT_SCALED\n",
    "    + BETA_TRAIN_COST * TRAIN_COST_SCALED\n",
    "    + BETA_HE * TRAIN_HE_SCALED\n",
    "    + ZERO_SIGMA_PANEL_TRAIN\n",
    ")\n",
    "V_SM_SP = (\n",
    "    ASC_SM\n",
    "    + BETA_TIME * SM_TT_SCALED\n",
    "    + BETA_SM_COST * SM_COST_SCALED\n",
    "    + BETA_HE * SM_HE_SCALED\n",
    "    + ZERO_SIGMA_PANEL_SM\n",
    ")\n",
    "#\n",
    "V = {3: V_Car_SP, 1: V_SBB_SP, 2: V_SM_SP}\n",
    "av = {3: CAR_AV_SP, 1: TRAIN_AV_SP, 2: SM_AV}\n"
   ]
  },
  {
   "cell_type": "markdown",
   "id": "02c369b8",
   "metadata": {},
   "source": [
    "The choice probability for each observation is given by a logit model, conditional on the agent effect."
   ]
  },
  {
   "cell_type": "code",
   "execution_count": 13,
   "id": "6c61e22c",
   "metadata": {},
   "outputs": [],
   "source": [
    "obsprob = models.logit(V, av, CHOICE)"
   ]
  },
  {
   "cell_type": "markdown",
   "id": "43251943",
   "metadata": {},
   "source": [
    "The probability for the sequence of choices (aka trajectory) of an individual, conditional on the agent effect. "
   ]
  },
  {
   "cell_type": "code",
   "execution_count": 14,
   "id": "5834f913",
   "metadata": {},
   "outputs": [],
   "source": [
    "condprobIndiv = PanelLikelihoodTrajectory(obsprob)\n"
   ]
  },
  {
   "cell_type": "markdown",
   "id": "736efcc7",
   "metadata": {},
   "source": [
    "We integrate using Monte-Carlo simulation, and take the log, to obtain the contribution of each individual to the likelihood function. "
   ]
  },
  {
   "cell_type": "code",
   "execution_count": 15,
   "id": "24d75e79",
   "metadata": {},
   "outputs": [],
   "source": [
    "logprob = log(MonteCarlo(condprobIndiv))"
   ]
  },
  {
   "cell_type": "markdown",
   "id": "7fc2029d",
   "metadata": {},
   "source": [
    "Activate messages to see the progress of the algorithm"
   ]
  },
  {
   "cell_type": "code",
   "execution_count": 16,
   "id": "540310e5",
   "metadata": {},
   "outputs": [],
   "source": [
    "logger = msg.bioMessage()\n",
    "logger.setGeneral()"
   ]
  },
  {
   "cell_type": "code",
   "execution_count": 17,
   "id": "b9268f78",
   "metadata": {},
   "outputs": [
    {
     "name": "stdout",
     "output_type": "stream",
     "text": [
      "CPU times: user 41.5 ms, sys: 8.55 ms, total: 50 ms\n",
      "Wall time: 312 ms\n"
     ]
    }
   ],
   "source": [
    "%%time\n",
    "if numberOfDraws is None:\n",
    "    results = get_results_from_url('Mixture_SM_panel.pickle')\n",
    "else:\n",
    "    biogeme = bio.BIOGEME(database, logprob, numberOfDraws=numberOfDraws)\n",
    "    biogeme.modelName = 'Mixture_SM_panel'\n",
    "    results = biogeme.estimate()\n"
   ]
  },
  {
   "cell_type": "code",
   "execution_count": 18,
   "id": "a4a76af9",
   "metadata": {
    "scrolled": true
   },
   "outputs": [
    {
     "name": "stdout",
     "output_type": "stream",
     "text": [
      "Number of estimated parameters:\t10\n",
      "Sample size:\t752\n",
      "Observations:\t6768\n",
      "Excluded observations:\t3960\n",
      "Init log likelihood:\t-3736.254\n",
      "Final log likelihood:\t-3713.511\n",
      "Likelihood ratio test for the init. model:\t45.48769\n",
      "Rho-square for the init. model:\t0.00609\n",
      "Rho-square-bar for the init. model:\t0.00341\n",
      "Akaike Information Criterion:\t7447.021\n",
      "Bayesian Information Criterion:\t7493.249\n",
      "Final gradient norm:\t3.6287E-03\n",
      "Number of draws:\t50000\n",
      "Draws generation time:\t0:01:29.418267\n",
      "Types of draws:\t['ZERO_SIGMA_PANEL_CAR: NORMAL_MLHS_ANTI', 'ZERO_SIGMA_PANEL_SM: NORMAL_MLHS_ANTI', 'ZERO_SIGMA_PANEL_TRAIN: NORMAL_MLHS_ANTI']\n",
      "Nbr of threads:\t28\n",
      "\n"
     ]
    }
   ],
   "source": [
    "print(results.printGeneralStatistics())"
   ]
  },
  {
   "cell_type": "markdown",
   "id": "dcd7e105",
   "metadata": {},
   "source": [
    "We observe that, compare to logit, the final log likelihood has increased from $-5068.559$ to $-3713.511$."
   ]
  },
  {
   "cell_type": "code",
   "execution_count": 19,
   "id": "004cc7ef",
   "metadata": {},
   "outputs": [
    {
     "data": {
      "text/html": [
       "<div>\n",
       "<style scoped>\n",
       "    .dataframe tbody tr th:only-of-type {\n",
       "        vertical-align: middle;\n",
       "    }\n",
       "\n",
       "    .dataframe tbody tr th {\n",
       "        vertical-align: top;\n",
       "    }\n",
       "\n",
       "    .dataframe thead th {\n",
       "        text-align: right;\n",
       "    }\n",
       "</style>\n",
       "<table border=\"1\" class=\"dataframe\">\n",
       "  <thead>\n",
       "    <tr style=\"text-align: right;\">\n",
       "      <th></th>\n",
       "      <th>Value</th>\n",
       "      <th>Std err</th>\n",
       "      <th>t-test</th>\n",
       "      <th>p-value</th>\n",
       "      <th>Rob. Std err</th>\n",
       "      <th>Rob. t-test</th>\n",
       "      <th>Rob. p-value</th>\n",
       "    </tr>\n",
       "  </thead>\n",
       "  <tbody>\n",
       "    <tr>\n",
       "      <th>ASC_CAR</th>\n",
       "      <td>-1.294416</td>\n",
       "      <td>0.413941</td>\n",
       "      <td>-3.127051</td>\n",
       "      <td>1.765691e-03</td>\n",
       "      <td>0.828677</td>\n",
       "      <td>-1.562028</td>\n",
       "      <td>1.182814e-01</td>\n",
       "    </tr>\n",
       "    <tr>\n",
       "      <th>ASC_SM</th>\n",
       "      <td>-0.095552</td>\n",
       "      <td>0.275704</td>\n",
       "      <td>-0.346576</td>\n",
       "      <td>7.289097e-01</td>\n",
       "      <td>0.529687</td>\n",
       "      <td>-0.180394</td>\n",
       "      <td>8.568434e-01</td>\n",
       "    </tr>\n",
       "    <tr>\n",
       "      <th>BETA_CAR_COST</th>\n",
       "      <td>-2.841743</td>\n",
       "      <td>0.227724</td>\n",
       "      <td>-12.478889</td>\n",
       "      <td>0.000000e+00</td>\n",
       "      <td>0.285195</td>\n",
       "      <td>-9.964201</td>\n",
       "      <td>0.000000e+00</td>\n",
       "    </tr>\n",
       "    <tr>\n",
       "      <th>BETA_HE</th>\n",
       "      <td>-0.989065</td>\n",
       "      <td>0.152939</td>\n",
       "      <td>-6.467064</td>\n",
       "      <td>9.992518e-11</td>\n",
       "      <td>0.162208</td>\n",
       "      <td>-6.097524</td>\n",
       "      <td>1.077238e-09</td>\n",
       "    </tr>\n",
       "    <tr>\n",
       "      <th>BETA_SM_COST</th>\n",
       "      <td>-3.203048</td>\n",
       "      <td>0.182669</td>\n",
       "      <td>-17.534725</td>\n",
       "      <td>0.000000e+00</td>\n",
       "      <td>0.353632</td>\n",
       "      <td>-9.057570</td>\n",
       "      <td>0.000000e+00</td>\n",
       "    </tr>\n",
       "    <tr>\n",
       "      <th>BETA_TIME</th>\n",
       "      <td>-3.413484</td>\n",
       "      <td>0.154682</td>\n",
       "      <td>-22.067690</td>\n",
       "      <td>0.000000e+00</td>\n",
       "      <td>0.545880</td>\n",
       "      <td>-6.253176</td>\n",
       "      <td>4.021896e-10</td>\n",
       "    </tr>\n",
       "    <tr>\n",
       "      <th>BETA_TRAIN_COST</th>\n",
       "      <td>-5.210875</td>\n",
       "      <td>0.311331</td>\n",
       "      <td>-16.737397</td>\n",
       "      <td>0.000000e+00</td>\n",
       "      <td>0.933147</td>\n",
       "      <td>-5.584196</td>\n",
       "      <td>2.347836e-08</td>\n",
       "    </tr>\n",
       "    <tr>\n",
       "      <th>SIGMA_PANEL_CAR</th>\n",
       "      <td>3.998267</td>\n",
       "      <td>0.222662</td>\n",
       "      <td>17.956648</td>\n",
       "      <td>0.000000e+00</td>\n",
       "      <td>0.500403</td>\n",
       "      <td>7.990097</td>\n",
       "      <td>1.332268e-15</td>\n",
       "    </tr>\n",
       "    <tr>\n",
       "      <th>SIGMA_PANEL_SM</th>\n",
       "      <td>0.774382</td>\n",
       "      <td>0.244444</td>\n",
       "      <td>3.167924</td>\n",
       "      <td>1.535316e-03</td>\n",
       "      <td>0.211910</td>\n",
       "      <td>3.654296</td>\n",
       "      <td>2.578888e-04</td>\n",
       "    </tr>\n",
       "    <tr>\n",
       "      <th>SIGMA_PANEL_TRAIN</th>\n",
       "      <td>3.164597</td>\n",
       "      <td>0.208740</td>\n",
       "      <td>15.160508</td>\n",
       "      <td>0.000000e+00</td>\n",
       "      <td>0.300256</td>\n",
       "      <td>10.539652</td>\n",
       "      <td>0.000000e+00</td>\n",
       "    </tr>\n",
       "  </tbody>\n",
       "</table>\n",
       "</div>"
      ],
      "text/plain": [
       "                      Value   Std err     t-test       p-value  Rob. Std err  \\\n",
       "ASC_CAR           -1.294416  0.413941  -3.127051  1.765691e-03      0.828677   \n",
       "ASC_SM            -0.095552  0.275704  -0.346576  7.289097e-01      0.529687   \n",
       "BETA_CAR_COST     -2.841743  0.227724 -12.478889  0.000000e+00      0.285195   \n",
       "BETA_HE           -0.989065  0.152939  -6.467064  9.992518e-11      0.162208   \n",
       "BETA_SM_COST      -3.203048  0.182669 -17.534725  0.000000e+00      0.353632   \n",
       "BETA_TIME         -3.413484  0.154682 -22.067690  0.000000e+00      0.545880   \n",
       "BETA_TRAIN_COST   -5.210875  0.311331 -16.737397  0.000000e+00      0.933147   \n",
       "SIGMA_PANEL_CAR    3.998267  0.222662  17.956648  0.000000e+00      0.500403   \n",
       "SIGMA_PANEL_SM     0.774382  0.244444   3.167924  1.535316e-03      0.211910   \n",
       "SIGMA_PANEL_TRAIN  3.164597  0.208740  15.160508  0.000000e+00      0.300256   \n",
       "\n",
       "                   Rob. t-test  Rob. p-value  \n",
       "ASC_CAR              -1.562028  1.182814e-01  \n",
       "ASC_SM               -0.180394  8.568434e-01  \n",
       "BETA_CAR_COST        -9.964201  0.000000e+00  \n",
       "BETA_HE              -6.097524  1.077238e-09  \n",
       "BETA_SM_COST         -9.057570  0.000000e+00  \n",
       "BETA_TIME            -6.253176  4.021896e-10  \n",
       "BETA_TRAIN_COST      -5.584196  2.347836e-08  \n",
       "SIGMA_PANEL_CAR       7.990097  1.332268e-15  \n",
       "SIGMA_PANEL_SM        3.654296  2.578888e-04  \n",
       "SIGMA_PANEL_TRAIN    10.539652  0.000000e+00  "
      ]
     },
     "execution_count": 19,
     "metadata": {},
     "output_type": "execute_result"
    }
   ],
   "source": [
    "results.getEstimatedParameters()"
   ]
  },
  {
   "cell_type": "markdown",
   "id": "ae30057a",
   "metadata": {},
   "source": [
    "We observe that the three parameters associated with the agent effects are significantly different from zero. Note the sign of these parameters is irrelevant. "
   ]
  },
  {
   "cell_type": "code",
   "execution_count": null,
   "id": "3defca2e",
   "metadata": {},
   "outputs": [],
   "source": []
  }
 ],
 "metadata": {
  "kernelspec": {
   "display_name": "Python 3",
   "language": "python",
   "name": "python3"
  },
  "language_info": {
   "codemirror_mode": {
    "name": "ipython",
    "version": 3
   },
   "file_extension": ".py",
   "mimetype": "text/x-python",
   "name": "python",
   "nbconvert_exporter": "python",
   "pygments_lexer": "ipython3",
   "version": "3.9.5"
  }
 },
 "nbformat": 4,
 "nbformat_minor": 5
}
