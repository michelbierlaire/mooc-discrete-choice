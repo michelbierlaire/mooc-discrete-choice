{
 "cells": [
  {
   "cell_type": "code",
   "execution_count": 1,
   "id": "e8d04dab",
   "metadata": {},
   "outputs": [],
   "source": [
    "import pandas as pd\n",
    "import pickle\n",
    "from urllib.request import urlopen\n",
    "import biogeme.database as db\n",
    "import biogeme.biogeme as bio\n",
    "import biogeme.models as models\n",
    "import biogeme.results as res\n",
    "from biogeme.expressions import Beta, log, bioDraws, MonteCarlo"
   ]
  },
  {
   "cell_type": "markdown",
   "id": "68d7b54f",
   "metadata": {},
   "source": [
    "The objective of this exercise is to calculate individual level parameters of a mixture model. Consider the model presented below, where the coefficient of travel time is distributed. \n",
    "\n",
    "1. Calculate the expected value of the distributed coefficient for each observation in the sample.\n",
    "2. For each alternative $i$, plot the distribution of the expected value for all observations where $i$ is chosen."
   ]
  },
  {
   "cell_type": "markdown",
   "id": "6b9b5294",
   "metadata": {},
   "source": [
    "The estimation of the model may take a significant amount of time. Therefore, this notebook can be executed using models that have been estimated. The results are read from file if the variable `numberOfDraws` below is set to `None`."
   ]
  },
  {
   "cell_type": "code",
   "execution_count": 2,
   "id": "2613313d",
   "metadata": {},
   "outputs": [],
   "source": [
    "#numberOfDraws=10000\n",
    "numberOfDraws = None"
   ]
  },
  {
   "cell_type": "markdown",
   "id": "e383660f",
   "metadata": {},
   "source": [
    "The following function obtains the data from the file available online."
   ]
  },
  {
   "cell_type": "code",
   "execution_count": 3,
   "id": "3c872a75",
   "metadata": {},
   "outputs": [],
   "source": [
    "url_root = (\n",
    "    'https://courses.edx.org/'\n",
    "    'asset-v1:EPFLx+ChoiceModels2x+3T2021+type@asset+block@'\n",
    ")"
   ]
  },
  {
   "cell_type": "code",
   "execution_count": 4,
   "id": "5ca65822",
   "metadata": {},
   "outputs": [],
   "source": [
    "def get_results_from_url(file):\n",
    "    pickle_file = f'{url_root}{file}'\n",
    "\n",
    "    with urlopen(pickle_file) as p:\n",
    "        data = pickle.load(p)\n",
    "    return res.bioResults(data)"
   ]
  },
  {
   "cell_type": "markdown",
   "id": "bccfd4e4",
   "metadata": {},
   "source": [
    "# Read the data"
   ]
  },
  {
   "cell_type": "code",
   "execution_count": 5,
   "id": "d9986df2",
   "metadata": {},
   "outputs": [],
   "source": [
    "df = pd.read_table(f'{url_root}swissmetro.dat')\n",
    "database = db.Database('swissmetro', df)\n",
    "globals().update(database.variables)\n",
    "exclude = ((PURPOSE != 1) * (PURPOSE != 3) + (CHOICE == 0)) > 0\n",
    "database.remove(exclude)"
   ]
  },
  {
   "cell_type": "markdown",
   "id": "3d525436",
   "metadata": {},
   "source": [
    "# List of parameters to be estimated"
   ]
  },
  {
   "cell_type": "code",
   "execution_count": 6,
   "id": "4bc72052",
   "metadata": {},
   "outputs": [],
   "source": [
    "ASC_CAR = Beta('ASC_CAR', 0, None, None, 0)\n",
    "ASC_TRAIN = Beta('ASC_TRAIN', 0, None, None, 0)\n",
    "ASC_SM = Beta('ASC_SM', 0, None, None, 1)\n",
    "B_COST = Beta('B_COST', 0, None, None, 0)\n",
    "B_TIME = Beta('B_TIME', 0, None, None, 0)\n",
    "B_TIME_S = Beta('B_TIME_S', 1, None, None, 0)\n",
    "B_TIME_RND = B_TIME + B_TIME_S * bioDraws('B_TIME_RND', 'NORMAL')"
   ]
  },
  {
   "cell_type": "markdown",
   "id": "fafb842a",
   "metadata": {},
   "source": [
    "# Definition of variables"
   ]
  },
  {
   "cell_type": "code",
   "execution_count": 7,
   "id": "0be69202",
   "metadata": {},
   "outputs": [],
   "source": [
    "SM_COST = SM_CO * (GA == 0)\n",
    "TRAIN_COST = TRAIN_CO * (GA == 0)\n",
    "CAR_AV_SP = CAR_AV * (SP != 0)\n",
    "TRAIN_AV_SP = TRAIN_AV * (SP != 0)\n",
    "TRAIN_TT_SCALED = TRAIN_TT / 100\n",
    "TRAIN_COST_SCALED = TRAIN_COST / 100\n",
    "SM_TT_SCALED = SM_TT / 100\n",
    "SM_COST_SCALED = SM_COST / 100\n",
    "CAR_TT_SCALED = CAR_TT / 100\n",
    "CAR_CO_SCALED = CAR_CO / 100\n",
    "TRAIN_HE_SCALED = TRAIN_HE / 1000\n",
    "SM_HE_SCALED = SM_HE / 1000\n",
    "LOW_INC = INCOME <= 1\n",
    "BUSINESS = (PURPOSE == 3)"
   ]
  },
  {
   "cell_type": "markdown",
   "id": "4cde8f30",
   "metadata": {},
   "source": [
    "# Utility functions and availability condition"
   ]
  },
  {
   "cell_type": "code",
   "execution_count": 8,
   "id": "32510adb",
   "metadata": {},
   "outputs": [],
   "source": [
    "V1 = (ASC_TRAIN +\n",
    "      B_TIME_RND * TRAIN_TT_SCALED +\n",
    "      B_COST * TRAIN_COST_SCALED)\n",
    "V2 = (B_TIME_RND * SM_TT_SCALED +\n",
    "      B_COST * SM_COST_SCALED)\n",
    "V3 = (ASC_CAR +\n",
    "      B_TIME_RND * CAR_TT_SCALED +\n",
    "      B_COST * CAR_CO_SCALED)\n",
    "\n",
    "V = {1: V1,\n",
    "     2: V2,\n",
    "     3: V3}\n",
    "\n",
    "av = {1: TRAIN_AV_SP,\n",
    "      2: SM_AV,\n",
    "      3: CAR_AV_SP}"
   ]
  },
  {
   "cell_type": "markdown",
   "id": "9afaecdc",
   "metadata": {},
   "source": [
    "# Estimation"
   ]
  },
  {
   "cell_type": "markdown",
   "id": "42942126",
   "metadata": {},
   "source": [
    "If the variable `numberOfDraws` is `None`, the results are read from the file. If not, estimation is performed. It may take a while. "
   ]
  },
  {
   "cell_type": "code",
   "execution_count": 9,
   "id": "22e717d7",
   "metadata": {},
   "outputs": [],
   "source": [
    "name = 'swissmetroRandomCoefficients' \n",
    "if numberOfDraws is None:\n",
    "    results = get_results_from_url(f'{name}.pickle')\n",
    "else:\n",
    "    prob = models.logit(V, None, CHOICE)\n",
    "    logprob = log(MonteCarlo(prob))\n",
    "    biogeme = bio.BIOGEME(database, logprob, numberOfDraws=numberOfDraws)\n",
    "    biogeme.modelName = name\n",
    "    results = biogeme.estimate()\n",
    "    print(f'Results saved in file {results.data.pickleFileName}')"
   ]
  },
  {
   "cell_type": "code",
   "execution_count": 10,
   "id": "5ebe69d2",
   "metadata": {},
   "outputs": [
    {
     "data": {
      "text/html": [
       "<div>\n",
       "<style scoped>\n",
       "    .dataframe tbody tr th:only-of-type {\n",
       "        vertical-align: middle;\n",
       "    }\n",
       "\n",
       "    .dataframe tbody tr th {\n",
       "        vertical-align: top;\n",
       "    }\n",
       "\n",
       "    .dataframe thead th {\n",
       "        text-align: right;\n",
       "    }\n",
       "</style>\n",
       "<table border=\"1\" class=\"dataframe\">\n",
       "  <thead>\n",
       "    <tr style=\"text-align: right;\">\n",
       "      <th></th>\n",
       "      <th>Value</th>\n",
       "      <th>Std err</th>\n",
       "      <th>t-test</th>\n",
       "      <th>p-value</th>\n",
       "      <th>Rob. Std err</th>\n",
       "      <th>Rob. t-test</th>\n",
       "      <th>Rob. p-value</th>\n",
       "    </tr>\n",
       "  </thead>\n",
       "  <tbody>\n",
       "    <tr>\n",
       "      <th>ASC_CAR</th>\n",
       "      <td>-0.984734</td>\n",
       "      <td>0.034848</td>\n",
       "      <td>-28.258202</td>\n",
       "      <td>0.000000</td>\n",
       "      <td>0.033608</td>\n",
       "      <td>-29.300813</td>\n",
       "      <td>0.000000</td>\n",
       "    </tr>\n",
       "    <tr>\n",
       "      <th>ASC_TRAIN</th>\n",
       "      <td>-1.505986</td>\n",
       "      <td>0.046929</td>\n",
       "      <td>-32.090459</td>\n",
       "      <td>0.000000</td>\n",
       "      <td>0.046043</td>\n",
       "      <td>-32.708387</td>\n",
       "      <td>0.000000</td>\n",
       "    </tr>\n",
       "    <tr>\n",
       "      <th>B_COST</th>\n",
       "      <td>-0.662681</td>\n",
       "      <td>0.042402</td>\n",
       "      <td>-15.628515</td>\n",
       "      <td>0.000000</td>\n",
       "      <td>0.048266</td>\n",
       "      <td>-13.729648</td>\n",
       "      <td>0.000000</td>\n",
       "    </tr>\n",
       "    <tr>\n",
       "      <th>B_TIME</th>\n",
       "      <td>-0.140265</td>\n",
       "      <td>0.035929</td>\n",
       "      <td>-3.903931</td>\n",
       "      <td>0.000095</td>\n",
       "      <td>0.032522</td>\n",
       "      <td>-4.312954</td>\n",
       "      <td>0.000016</td>\n",
       "    </tr>\n",
       "    <tr>\n",
       "      <th>B_TIME_S</th>\n",
       "      <td>0.099318</td>\n",
       "      <td>0.077782</td>\n",
       "      <td>1.276874</td>\n",
       "      <td>0.201647</td>\n",
       "      <td>0.063169</td>\n",
       "      <td>1.572266</td>\n",
       "      <td>0.115889</td>\n",
       "    </tr>\n",
       "  </tbody>\n",
       "</table>\n",
       "</div>"
      ],
      "text/plain": [
       "              Value   Std err     t-test   p-value  Rob. Std err  Rob. t-test  \\\n",
       "ASC_CAR   -0.984734  0.034848 -28.258202  0.000000      0.033608   -29.300813   \n",
       "ASC_TRAIN -1.505986  0.046929 -32.090459  0.000000      0.046043   -32.708387   \n",
       "B_COST    -0.662681  0.042402 -15.628515  0.000000      0.048266   -13.729648   \n",
       "B_TIME    -0.140265  0.035929  -3.903931  0.000095      0.032522    -4.312954   \n",
       "B_TIME_S   0.099318  0.077782   1.276874  0.201647      0.063169     1.572266   \n",
       "\n",
       "           Rob. p-value  \n",
       "ASC_CAR        0.000000  \n",
       "ASC_TRAIN      0.000000  \n",
       "B_COST         0.000000  \n",
       "B_TIME         0.000016  \n",
       "B_TIME_S       0.115889  "
      ]
     },
     "execution_count": 10,
     "metadata": {},
     "output_type": "execute_result"
    }
   ],
   "source": [
    "results.getEstimatedParameters()"
   ]
  }
 ],
 "metadata": {
  "kernelspec": {
   "display_name": "Python 3",
   "language": "python",
   "name": "python3"
  },
  "language_info": {
   "codemirror_mode": {
    "name": "ipython",
    "version": 3
   },
   "file_extension": ".py",
   "mimetype": "text/x-python",
   "name": "python",
   "nbconvert_exporter": "python",
   "pygments_lexer": "ipython3",
   "version": "3.9.5"
  }
 },
 "nbformat": 4,
 "nbformat_minor": 5
}
