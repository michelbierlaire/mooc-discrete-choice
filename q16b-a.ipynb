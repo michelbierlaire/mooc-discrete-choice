{
 "cells": [
  {
   "cell_type": "markdown",
   "metadata": {},
   "source": [
    "# The cross-nested logit model"
   ]
  },
  {
   "cell_type": "markdown",
   "metadata": {},
   "source": [
    "## Specification of the utility functions"
   ]
  },
  {
   "cell_type": "code",
   "execution_count": 1,
   "metadata": {},
   "outputs": [],
   "source": [
    "import pandas as pd\n",
    "import biogeme.biogeme as bio\n",
    "import biogeme.database as db\n",
    "import biogeme.models as models\n",
    "import biogeme.optimization as opt\n",
    "from biogeme.expressions import Beta, log, DefineVariable\n",
    "from scipy.stats import chi2"
   ]
  },
  {
   "cell_type": "code",
   "execution_count": 2,
   "metadata": {},
   "outputs": [],
   "source": [
    "url = (\n",
    "    'https://courses.edx.org/asset-v1:EPFLx+ChoiceModels2x+3T2021+type@asset+block@'\n",
    "    'airline.dat'\n",
    ")\n",
    "df = pd.read_csv(url, sep='\\t')\n",
    "database = db.Database('airline', df)\n",
    "\n",
    "# The following statement allows you to use the names of the\n",
    "# variable as Python variable.\n",
    "globals().update(database.variables)\n",
    "\n",
    "# Removing some observations\n",
    "exclude = (ArrivalTimeHours_1 == -1)\n",
    "database.remove(exclude)\n",
    "\n",
    "# Definition of new variables\n",
    "\n",
    "chosenAlternative = ((BestAlternative_1 * 1) +\n",
    "                     (BestAlternative_2 * 2) +\n",
    "                     (BestAlternative_3 * 3))\n",
    "\n",
    "DepartureTimeSensitive = DefineVariable('DepartureTimeSensitive',\n",
    "                                        q11_DepartureOrArrivalIsImportant == 1,\n",
    "                                        database)\n",
    "ArrivalTimeSensitive = DefineVariable('ArrivalTimeSensitive',\n",
    "                                      q11_DepartureOrArrivalIsImportant == 2,\n",
    "                                      database)\n",
    "Missing = DefineVariable('Missing',\n",
    "                         (q11_DepartureOrArrivalIsImportant != 1) *\n",
    "                         (q11_DepartureOrArrivalIsImportant != 2),\n",
    "                         database)\n",
    "\n",
    "DesiredDepartureTime = DefineVariable('DesiredDepartureTime',\n",
    "                                       q12_IdealDepTime,\n",
    "                                       database)\n",
    "DesiredArrivalTime = DefineVariable('DesiredArrivalTime',\n",
    "                                    q13_IdealArrTime,\n",
    "                                    database)\n",
    "ScheduledDelay_1 = DefineVariable('ScheduledDelay_1',\n",
    "                                  (DepartureTimeSensitive *\n",
    "                                   (DepartureTimeMins_1 - DesiredDepartureTime)) +\n",
    "                                  (ArrivalTimeSensitive *\n",
    "                                   (ArrivalTimeMins_1 - DesiredArrivalTime)),\n",
    "                                  database)\n",
    "\n",
    "ScheduledDelay_2 = DefineVariable('ScheduledDelay_2',\n",
    "                                  (DepartureTimeSensitive *\n",
    "                                   (DepartureTimeMins_2 - DesiredDepartureTime)) +\n",
    "                                  (ArrivalTimeSensitive *\n",
    "                                   (ArrivalTimeMins_2 - DesiredArrivalTime)),\n",
    "                                  database)\n",
    "\n",
    "ScheduledDelay_3 = DefineVariable('ScheduledDelay_3',\n",
    "                                  (DepartureTimeSensitive *\n",
    "                                   (DepartureTimeMins_3 - DesiredDepartureTime)) +\n",
    "                                  (ArrivalTimeSensitive *\n",
    "                                   (ArrivalTimeMins_3 - DesiredArrivalTime)),\n",
    "                                  database)\n",
    "\n",
    "Opt1_SchedDelayEarly = DefineVariable('Opt1_SchedDelayEarly',\n",
    "                                      (-(ScheduledDelay_1) * (ScheduledDelay_1 < 0)) / 60,\n",
    "                                      database)\n",
    "Opt2_SchedDelayEarly = DefineVariable('Opt2_SchedDelayEarly',\n",
    "                                      (-(ScheduledDelay_2) * (ScheduledDelay_2 < 0)) / 60,\n",
    "                                      database)\n",
    "Opt3_SchedDelayEarly = DefineVariable('Opt3_SchedDelayEarly',\n",
    "                                      (-(ScheduledDelay_3) * (ScheduledDelay_3 < 0))/ 60,\n",
    "                                      database)\n",
    "\n",
    "Opt1_SchedDelayLate = DefineVariable('Opt1_SchedDelayLate',\n",
    "                                     (ScheduledDelay_1 * (ScheduledDelay_1 > 0)) / 60,\n",
    "                                     database)\n",
    "Opt2_SchedDelayLate = DefineVariable('Opt2_SchedDelayLate',\n",
    "                                     (ScheduledDelay_2 * (ScheduledDelay_2 > 0)) / 60,\n",
    "                                     database)\n",
    "Opt3_SchedDelayLate = DefineVariable('Opt3_SchedDelayLate',\n",
    "                                     (ScheduledDelay_3 * (ScheduledDelay_3 > 0)) / 60 ,\n",
    "                                     database)\n",
    "\n",
    "purpose_business = DefineVariable('purpose_business',\n",
    "                                  q02_TripPurpose == 1,\n",
    "                                  database)\n",
    "\n",
    "purpose_leisure = DefineVariable('purpose_leisure',\n",
    "                                  q02_TripPurpose == 2,\n",
    "                                  database)\n",
    "\n",
    "purpose_conf = DefineVariable('purpose_conf',\n",
    "                              q02_TripPurpose == 3,\n",
    "                              database)\n",
    "\n",
    "purpose_business_leisure = DefineVariable('purpose_business_leisure',\n",
    "                                          q02_TripPurpose == 4,\n",
    "                                          database)\n",
    "\n",
    "purpose_unknown = DefineVariable('purpose_unknown',\n",
    "                                 q02_TripPurpose == 0,\n",
    "                                 database)\n",
    "\n",
    "# Parameters to be estimated\n",
    "\n",
    "ASC_SAME = Beta('ASC_SAME', 0, None, None, 0)\n",
    "ASC_MULTIPLE = Beta('ASC_MULTIPLE', 0, None, None, 0)\n",
    "\n",
    "FARE_business = Beta('FARE_business', 0, None, None, 0)\n",
    "FARE_leisure = Beta('FARE_leisure', 0, None, None, 0)\n",
    "FARE_conf = Beta('FARE_conf', 0, None, None, 0)\n",
    "FARE_business_leisure = Beta('FARE_business_leisure', 0, None, None, 0)\n",
    "FARE_unknown = Beta('FARE_unknown', 0, None, None, 0)\n",
    "\n",
    "FARE = (FARE_business * purpose_business +\n",
    "        FARE_leisure * purpose_leisure +\n",
    "        FARE_conf * purpose_conf +\n",
    "        FARE_business_leisure * purpose_business_leisure +\n",
    "        FARE_unknown * purpose_unknown)\n",
    "\n",
    "LEGROOM = Beta('LEGROOM', 0, None, None, 0)\n",
    "EARLY = Beta('EARLY', 0, None, None, 0)\n",
    "LATE = Beta('LATE', 0, None, None, 0)\n",
    "TIME = Beta('TIME', 0, None, None, 0)\n",
    "\n",
    "\n",
    "# Definition of the utility functions\n",
    "V1 = (FARE * Fare_1**0.5 +\n",
    "       LEGROOM * log(Legroom_1) +\n",
    "       EARLY * Opt1_SchedDelayEarly +\n",
    "       LATE * Opt1_SchedDelayLate +\n",
    "       TIME * TripTimeHours_1**0.5)\n",
    "\n",
    "V2 = (ASC_SAME +\n",
    "       FARE * Fare_2**0.5 +\n",
    "       LEGROOM * log(Legroom_2) +\n",
    "       EARLY * Opt2_SchedDelayEarly +\n",
    "       LATE * Opt2_SchedDelayLate +\n",
    "       TIME * TripTimeHours_2**0.5)\n",
    "\n",
    "V3 = (ASC_MULTIPLE +\n",
    "       FARE * Fare_3**0.5 +\n",
    "       LEGROOM * log(Legroom_3) +\n",
    "       EARLY * Opt3_SchedDelayEarly +\n",
    "       LATE * Opt3_SchedDelayLate +\n",
    "       TIME * TripTimeHours_3**0.5)\n",
    "\n",
    "\n",
    "# Associate utility functions with the numbering of alternatives\n",
    "V = {1: V1,\n",
    "     2: V2,\n",
    "     3: V3}\n",
    "\n"
   ]
  },
  {
   "cell_type": "markdown",
   "metadata": {},
   "source": [
    "## Logit model"
   ]
  },
  {
   "cell_type": "code",
   "execution_count": 3,
   "metadata": {},
   "outputs": [],
   "source": [
    "logprob = models.loglogit(V, None, chosenAlternative)\n",
    "biogeme = bio.BIOGEME(database, logprob)\n",
    "biogeme.modelName = 'logit'\n",
    "logit_results = biogeme.estimate(algorithm=opt.bioNewton)"
   ]
  },
  {
   "cell_type": "code",
   "execution_count": 4,
   "metadata": {},
   "outputs": [
    {
     "name": "stdout",
     "output_type": "stream",
     "text": [
      "Results for model logit\n",
      "Nbr of parameters:\t\t11\n",
      "Sample size:\t\t\t3609\n",
      "Excluded data:\t\t\t0\n",
      "Final log likelihood:\t\t-2240.898\n",
      "Akaike Information Criterion:\t4503.795\n",
      "Bayesian Information Criterion:\t4571.898\n",
      "\n"
     ]
    }
   ],
   "source": [
    "print(logit_results.shortSummary())"
   ]
  },
  {
   "cell_type": "code",
   "execution_count": 5,
   "metadata": {},
   "outputs": [
    {
     "data": {
      "text/html": [
       "<div>\n",
       "<style scoped>\n",
       "    .dataframe tbody tr th:only-of-type {\n",
       "        vertical-align: middle;\n",
       "    }\n",
       "\n",
       "    .dataframe tbody tr th {\n",
       "        vertical-align: top;\n",
       "    }\n",
       "\n",
       "    .dataframe thead th {\n",
       "        text-align: right;\n",
       "    }\n",
       "</style>\n",
       "<table border=\"1\" class=\"dataframe\">\n",
       "  <thead>\n",
       "    <tr style=\"text-align: right;\">\n",
       "      <th></th>\n",
       "      <th>Value</th>\n",
       "      <th>Std err</th>\n",
       "      <th>t-test</th>\n",
       "      <th>p-value</th>\n",
       "      <th>Rob. Std err</th>\n",
       "      <th>Rob. t-test</th>\n",
       "      <th>Rob. p-value</th>\n",
       "    </tr>\n",
       "  </thead>\n",
       "  <tbody>\n",
       "    <tr>\n",
       "      <th>ASC_MULTIPLE</th>\n",
       "      <td>-1.501675</td>\n",
       "      <td>0.124900</td>\n",
       "      <td>-12.022971</td>\n",
       "      <td>0.000000e+00</td>\n",
       "      <td>0.123471</td>\n",
       "      <td>-12.162153</td>\n",
       "      <td>0.000000e+00</td>\n",
       "    </tr>\n",
       "    <tr>\n",
       "      <th>ASC_SAME</th>\n",
       "      <td>-1.290909</td>\n",
       "      <td>0.124351</td>\n",
       "      <td>-10.381160</td>\n",
       "      <td>0.000000e+00</td>\n",
       "      <td>0.124518</td>\n",
       "      <td>-10.367286</td>\n",
       "      <td>0.000000e+00</td>\n",
       "    </tr>\n",
       "    <tr>\n",
       "      <th>EARLY</th>\n",
       "      <td>-0.145136</td>\n",
       "      <td>0.016000</td>\n",
       "      <td>-9.071224</td>\n",
       "      <td>0.000000e+00</td>\n",
       "      <td>0.017022</td>\n",
       "      <td>-8.526447</td>\n",
       "      <td>0.000000e+00</td>\n",
       "    </tr>\n",
       "    <tr>\n",
       "      <th>FARE_business</th>\n",
       "      <td>-0.500072</td>\n",
       "      <td>0.057478</td>\n",
       "      <td>-8.700167</td>\n",
       "      <td>0.000000e+00</td>\n",
       "      <td>0.057607</td>\n",
       "      <td>-8.680717</td>\n",
       "      <td>0.000000e+00</td>\n",
       "    </tr>\n",
       "    <tr>\n",
       "      <th>FARE_business_leisure</th>\n",
       "      <td>-0.768413</td>\n",
       "      <td>0.081292</td>\n",
       "      <td>-9.452525</td>\n",
       "      <td>0.000000e+00</td>\n",
       "      <td>0.083804</td>\n",
       "      <td>-9.169114</td>\n",
       "      <td>0.000000e+00</td>\n",
       "    </tr>\n",
       "    <tr>\n",
       "      <th>FARE_conf</th>\n",
       "      <td>-1.061178</td>\n",
       "      <td>0.181203</td>\n",
       "      <td>-5.856280</td>\n",
       "      <td>4.733500e-09</td>\n",
       "      <td>0.190717</td>\n",
       "      <td>-5.564154</td>\n",
       "      <td>2.634273e-08</td>\n",
       "    </tr>\n",
       "    <tr>\n",
       "      <th>FARE_leisure</th>\n",
       "      <td>-0.991822</td>\n",
       "      <td>0.035474</td>\n",
       "      <td>-27.959228</td>\n",
       "      <td>0.000000e+00</td>\n",
       "      <td>0.039596</td>\n",
       "      <td>-25.048570</td>\n",
       "      <td>0.000000e+00</td>\n",
       "    </tr>\n",
       "    <tr>\n",
       "      <th>FARE_unknown</th>\n",
       "      <td>-1.742987</td>\n",
       "      <td>0.973286</td>\n",
       "      <td>-1.790828</td>\n",
       "      <td>7.332091e-02</td>\n",
       "      <td>0.800198</td>\n",
       "      <td>-2.178196</td>\n",
       "      <td>2.939147e-02</td>\n",
       "    </tr>\n",
       "    <tr>\n",
       "      <th>LATE</th>\n",
       "      <td>-0.107473</td>\n",
       "      <td>0.013010</td>\n",
       "      <td>-8.261048</td>\n",
       "      <td>2.220446e-16</td>\n",
       "      <td>0.014046</td>\n",
       "      <td>-7.651616</td>\n",
       "      <td>1.976197e-14</td>\n",
       "    </tr>\n",
       "    <tr>\n",
       "      <th>LEGROOM</th>\n",
       "      <td>0.495089</td>\n",
       "      <td>0.054564</td>\n",
       "      <td>9.073475</td>\n",
       "      <td>0.000000e+00</td>\n",
       "      <td>0.058027</td>\n",
       "      <td>8.532109</td>\n",
       "      <td>0.000000e+00</td>\n",
       "    </tr>\n",
       "    <tr>\n",
       "      <th>TIME</th>\n",
       "      <td>-1.461260</td>\n",
       "      <td>0.261296</td>\n",
       "      <td>-5.592354</td>\n",
       "      <td>2.240114e-08</td>\n",
       "      <td>0.263711</td>\n",
       "      <td>-5.541142</td>\n",
       "      <td>3.005056e-08</td>\n",
       "    </tr>\n",
       "  </tbody>\n",
       "</table>\n",
       "</div>"
      ],
      "text/plain": [
       "                          Value   Std err     t-test       p-value  \\\n",
       "ASC_MULTIPLE          -1.501675  0.124900 -12.022971  0.000000e+00   \n",
       "ASC_SAME              -1.290909  0.124351 -10.381160  0.000000e+00   \n",
       "EARLY                 -0.145136  0.016000  -9.071224  0.000000e+00   \n",
       "FARE_business         -0.500072  0.057478  -8.700167  0.000000e+00   \n",
       "FARE_business_leisure -0.768413  0.081292  -9.452525  0.000000e+00   \n",
       "FARE_conf             -1.061178  0.181203  -5.856280  4.733500e-09   \n",
       "FARE_leisure          -0.991822  0.035474 -27.959228  0.000000e+00   \n",
       "FARE_unknown          -1.742987  0.973286  -1.790828  7.332091e-02   \n",
       "LATE                  -0.107473  0.013010  -8.261048  2.220446e-16   \n",
       "LEGROOM                0.495089  0.054564   9.073475  0.000000e+00   \n",
       "TIME                  -1.461260  0.261296  -5.592354  2.240114e-08   \n",
       "\n",
       "                       Rob. Std err  Rob. t-test  Rob. p-value  \n",
       "ASC_MULTIPLE               0.123471   -12.162153  0.000000e+00  \n",
       "ASC_SAME                   0.124518   -10.367286  0.000000e+00  \n",
       "EARLY                      0.017022    -8.526447  0.000000e+00  \n",
       "FARE_business              0.057607    -8.680717  0.000000e+00  \n",
       "FARE_business_leisure      0.083804    -9.169114  0.000000e+00  \n",
       "FARE_conf                  0.190717    -5.564154  2.634273e-08  \n",
       "FARE_leisure               0.039596   -25.048570  0.000000e+00  \n",
       "FARE_unknown               0.800198    -2.178196  2.939147e-02  \n",
       "LATE                       0.014046    -7.651616  1.976197e-14  \n",
       "LEGROOM                    0.058027     8.532109  0.000000e+00  \n",
       "TIME                       0.263711    -5.541142  3.005056e-08  "
      ]
     },
     "execution_count": 5,
     "metadata": {},
     "output_type": "execute_result"
    }
   ],
   "source": [
    "logit_table = logit_results.getEstimatedParameters()\n",
    "logit_table"
   ]
  },
  {
   "cell_type": "markdown",
   "metadata": {},
   "source": [
    "## Nested logit"
   ]
  },
  {
   "cell_type": "markdown",
   "metadata": {},
   "source": [
    "There are three possibilities to partition the choice set:\n",
    "\n",
    "- [Non stop, One stop-same airline] and [One stop-multiple airlines],\n",
    "- [Non stop] and [One stop-same airline, One stop-multiple airlines],\n",
    "- [Non stop, One stop-multiple airlines] and [One stop-same airline].\n",
    "\n",
    "The first groups the alternatives corresponding to the same airline. The second groups the alternatives with one stop. The third one being less intuitive, we select the two first specifications. \n",
    " "
   ]
  },
  {
   "cell_type": "markdown",
   "metadata": {},
   "source": [
    "### Nested logit: one stop"
   ]
  },
  {
   "cell_type": "markdown",
   "metadata": {},
   "source": [
    "We specify a nested logit model where the two alternatives corresponding to \"one stop\" are in the same nest"
   ]
  },
  {
   "cell_type": "code",
   "execution_count": 6,
   "metadata": {},
   "outputs": [],
   "source": [
    "MU = Beta('MU', 1, None, None, 0)\n",
    "onestop = MU, [2, 3]\n",
    "nonstop = 1.0, [1]\n",
    "nests = nonstop, onestop\n",
    "logprob = models.lognested(V, None, nests, chosenAlternative)\n",
    "biogeme = bio.BIOGEME(database, logprob)\n",
    "biogeme.modelName = 'nested_onestop'\n",
    "nested_onestop_results = biogeme.estimate(algorithm=opt.bioNewton)"
   ]
  },
  {
   "cell_type": "code",
   "execution_count": 7,
   "metadata": {},
   "outputs": [
    {
     "name": "stdout",
     "output_type": "stream",
     "text": [
      "Results for model nested_onestop\n",
      "Nbr of parameters:\t\t12\n",
      "Sample size:\t\t\t3609\n",
      "Excluded data:\t\t\t0\n",
      "Final log likelihood:\t\t-2221.146\n",
      "Akaike Information Criterion:\t4466.293\n",
      "Bayesian Information Criterion:\t4540.587\n",
      "\n"
     ]
    }
   ],
   "source": [
    "print(nested_onestop_results.shortSummary())"
   ]
  },
  {
   "cell_type": "code",
   "execution_count": 8,
   "metadata": {},
   "outputs": [
    {
     "data": {
      "text/html": [
       "<div>\n",
       "<style scoped>\n",
       "    .dataframe tbody tr th:only-of-type {\n",
       "        vertical-align: middle;\n",
       "    }\n",
       "\n",
       "    .dataframe tbody tr th {\n",
       "        vertical-align: top;\n",
       "    }\n",
       "\n",
       "    .dataframe thead th {\n",
       "        text-align: right;\n",
       "    }\n",
       "</style>\n",
       "<table border=\"1\" class=\"dataframe\">\n",
       "  <thead>\n",
       "    <tr style=\"text-align: right;\">\n",
       "      <th></th>\n",
       "      <th>Value</th>\n",
       "      <th>Std err</th>\n",
       "      <th>t-test</th>\n",
       "      <th>p-value</th>\n",
       "      <th>Rob. Std err</th>\n",
       "      <th>Rob. t-test</th>\n",
       "      <th>Rob. p-value</th>\n",
       "    </tr>\n",
       "  </thead>\n",
       "  <tbody>\n",
       "    <tr>\n",
       "      <th>ASC_MULTIPLE</th>\n",
       "      <td>-1.257888</td>\n",
       "      <td>0.109933</td>\n",
       "      <td>-11.442325</td>\n",
       "      <td>0.000000e+00</td>\n",
       "      <td>0.107684</td>\n",
       "      <td>-11.681344</td>\n",
       "      <td>0.000000e+00</td>\n",
       "    </tr>\n",
       "    <tr>\n",
       "      <th>ASC_SAME</th>\n",
       "      <td>-1.087574</td>\n",
       "      <td>0.108056</td>\n",
       "      <td>-10.064936</td>\n",
       "      <td>0.000000e+00</td>\n",
       "      <td>0.107120</td>\n",
       "      <td>-10.152897</td>\n",
       "      <td>0.000000e+00</td>\n",
       "    </tr>\n",
       "    <tr>\n",
       "      <th>EARLY</th>\n",
       "      <td>-0.129336</td>\n",
       "      <td>0.014151</td>\n",
       "      <td>-9.139677</td>\n",
       "      <td>0.000000e+00</td>\n",
       "      <td>0.014885</td>\n",
       "      <td>-8.689168</td>\n",
       "      <td>0.000000e+00</td>\n",
       "    </tr>\n",
       "    <tr>\n",
       "      <th>FARE_business</th>\n",
       "      <td>-0.441798</td>\n",
       "      <td>0.050980</td>\n",
       "      <td>-8.666121</td>\n",
       "      <td>0.000000e+00</td>\n",
       "      <td>0.049646</td>\n",
       "      <td>-8.898983</td>\n",
       "      <td>0.000000e+00</td>\n",
       "    </tr>\n",
       "    <tr>\n",
       "      <th>FARE_business_leisure</th>\n",
       "      <td>-0.691903</td>\n",
       "      <td>0.075362</td>\n",
       "      <td>-9.181093</td>\n",
       "      <td>0.000000e+00</td>\n",
       "      <td>0.076961</td>\n",
       "      <td>-8.990270</td>\n",
       "      <td>0.000000e+00</td>\n",
       "    </tr>\n",
       "    <tr>\n",
       "      <th>FARE_conf</th>\n",
       "      <td>-0.964760</td>\n",
       "      <td>0.170490</td>\n",
       "      <td>-5.658742</td>\n",
       "      <td>1.524867e-08</td>\n",
       "      <td>0.169072</td>\n",
       "      <td>-5.706210</td>\n",
       "      <td>1.155193e-08</td>\n",
       "    </tr>\n",
       "    <tr>\n",
       "      <th>FARE_leisure</th>\n",
       "      <td>-0.870038</td>\n",
       "      <td>0.038328</td>\n",
       "      <td>-22.699596</td>\n",
       "      <td>0.000000e+00</td>\n",
       "      <td>0.041581</td>\n",
       "      <td>-20.924117</td>\n",
       "      <td>0.000000e+00</td>\n",
       "    </tr>\n",
       "    <tr>\n",
       "      <th>FARE_unknown</th>\n",
       "      <td>-1.525166</td>\n",
       "      <td>0.920850</td>\n",
       "      <td>-1.656259</td>\n",
       "      <td>9.766941e-02</td>\n",
       "      <td>0.736409</td>\n",
       "      <td>-2.071087</td>\n",
       "      <td>3.835070e-02</td>\n",
       "    </tr>\n",
       "    <tr>\n",
       "      <th>LATE</th>\n",
       "      <td>-0.088153</td>\n",
       "      <td>0.011492</td>\n",
       "      <td>-7.670926</td>\n",
       "      <td>1.709743e-14</td>\n",
       "      <td>0.012388</td>\n",
       "      <td>-7.115916</td>\n",
       "      <td>1.111777e-12</td>\n",
       "    </tr>\n",
       "    <tr>\n",
       "      <th>LEGROOM</th>\n",
       "      <td>0.419980</td>\n",
       "      <td>0.048890</td>\n",
       "      <td>8.590295</td>\n",
       "      <td>0.000000e+00</td>\n",
       "      <td>0.052119</td>\n",
       "      <td>8.058023</td>\n",
       "      <td>6.661338e-16</td>\n",
       "    </tr>\n",
       "    <tr>\n",
       "      <th>MU</th>\n",
       "      <td>1.600225</td>\n",
       "      <td>0.116784</td>\n",
       "      <td>13.702431</td>\n",
       "      <td>0.000000e+00</td>\n",
       "      <td>0.129757</td>\n",
       "      <td>12.332435</td>\n",
       "      <td>0.000000e+00</td>\n",
       "    </tr>\n",
       "    <tr>\n",
       "      <th>TIME</th>\n",
       "      <td>-1.321270</td>\n",
       "      <td>0.220676</td>\n",
       "      <td>-5.987385</td>\n",
       "      <td>2.132418e-09</td>\n",
       "      <td>0.221988</td>\n",
       "      <td>-5.951981</td>\n",
       "      <td>2.649158e-09</td>\n",
       "    </tr>\n",
       "  </tbody>\n",
       "</table>\n",
       "</div>"
      ],
      "text/plain": [
       "                          Value   Std err     t-test       p-value  \\\n",
       "ASC_MULTIPLE          -1.257888  0.109933 -11.442325  0.000000e+00   \n",
       "ASC_SAME              -1.087574  0.108056 -10.064936  0.000000e+00   \n",
       "EARLY                 -0.129336  0.014151  -9.139677  0.000000e+00   \n",
       "FARE_business         -0.441798  0.050980  -8.666121  0.000000e+00   \n",
       "FARE_business_leisure -0.691903  0.075362  -9.181093  0.000000e+00   \n",
       "FARE_conf             -0.964760  0.170490  -5.658742  1.524867e-08   \n",
       "FARE_leisure          -0.870038  0.038328 -22.699596  0.000000e+00   \n",
       "FARE_unknown          -1.525166  0.920850  -1.656259  9.766941e-02   \n",
       "LATE                  -0.088153  0.011492  -7.670926  1.709743e-14   \n",
       "LEGROOM                0.419980  0.048890   8.590295  0.000000e+00   \n",
       "MU                     1.600225  0.116784  13.702431  0.000000e+00   \n",
       "TIME                  -1.321270  0.220676  -5.987385  2.132418e-09   \n",
       "\n",
       "                       Rob. Std err  Rob. t-test  Rob. p-value  \n",
       "ASC_MULTIPLE               0.107684   -11.681344  0.000000e+00  \n",
       "ASC_SAME                   0.107120   -10.152897  0.000000e+00  \n",
       "EARLY                      0.014885    -8.689168  0.000000e+00  \n",
       "FARE_business              0.049646    -8.898983  0.000000e+00  \n",
       "FARE_business_leisure      0.076961    -8.990270  0.000000e+00  \n",
       "FARE_conf                  0.169072    -5.706210  1.155193e-08  \n",
       "FARE_leisure               0.041581   -20.924117  0.000000e+00  \n",
       "FARE_unknown               0.736409    -2.071087  3.835070e-02  \n",
       "LATE                       0.012388    -7.115916  1.111777e-12  \n",
       "LEGROOM                    0.052119     8.058023  6.661338e-16  \n",
       "MU                         0.129757    12.332435  0.000000e+00  \n",
       "TIME                       0.221988    -5.951981  2.649158e-09  "
      ]
     },
     "execution_count": 8,
     "metadata": {},
     "output_type": "execute_result"
    }
   ],
   "source": [
    "nested_onestop_table = nested_onestop_results.getEstimatedParameters()\n",
    "nested_onestop_table"
   ]
  },
  {
   "cell_type": "markdown",
   "metadata": {},
   "source": [
    "The nest parameter is larger than one, consistently with the theory. "
   ]
  },
  {
   "cell_type": "code",
   "execution_count": 9,
   "metadata": {},
   "outputs": [
    {
     "data": {
      "text/plain": [
       "1.6002251614912375"
      ]
     },
     "execution_count": 9,
     "metadata": {},
     "output_type": "execute_result"
    }
   ],
   "source": [
    "mu = nested_onestop_table.loc['MU', 'Value']\n",
    "mu"
   ]
  },
  {
   "cell_type": "markdown",
   "metadata": {},
   "source": [
    "If we test the null hypothesis that the true value of MU is 1, we use a $t$-test:"
   ]
  },
  {
   "cell_type": "code",
   "execution_count": 10,
   "metadata": {},
   "outputs": [
    {
     "data": {
      "text/plain": [
       "-4.625747500955246"
      ]
     },
     "execution_count": 10,
     "metadata": {},
     "output_type": "execute_result"
    }
   ],
   "source": [
    "mu_stderr = nested_onestop_table.loc['MU', 'Rob. Std err']\n",
    "tested_value = 1\n",
    "ttest = (tested_value - mu) / mu_stderr\n",
    "ttest"
   ]
  },
  {
   "cell_type": "markdown",
   "metadata": {},
   "source": [
    "Therefore, we can reject the null hypothesis at the 5% level. It means that we reject logit."
   ]
  },
  {
   "cell_type": "markdown",
   "metadata": {},
   "source": [
    "We can also test the null hypothesis that the two models are equivalent using a likelihood ratio test: "
   ]
  },
  {
   "cell_type": "code",
   "execution_count": 11,
   "metadata": {},
   "outputs": [
    {
     "data": {
      "text/plain": [
       "39.5027841566216"
      ]
     },
     "execution_count": 11,
     "metadata": {},
     "output_type": "execute_result"
    }
   ],
   "source": [
    "LL_logit = logit_results.data.logLike\n",
    "LL_nested_onestop = nested_onestop_results.data.logLike\n",
    "LR = -2 * (LL_logit - LL_nested_onestop)\n",
    "LR"
   ]
  },
  {
   "cell_type": "markdown",
   "metadata": {},
   "source": [
    "Number of degrees of freedom:"
   ]
  },
  {
   "cell_type": "code",
   "execution_count": 12,
   "metadata": {},
   "outputs": [
    {
     "data": {
      "text/plain": [
       "1"
      ]
     },
     "execution_count": 12,
     "metadata": {},
     "output_type": "execute_result"
    }
   ],
   "source": [
    "dof = nested_onestop_results.data.nparam - logit_results.data.nparam\n",
    "dof"
   ]
  },
  {
   "cell_type": "markdown",
   "metadata": {},
   "source": [
    "The threshold value of the $\\chi$-square test at 5% level is:"
   ]
  },
  {
   "cell_type": "code",
   "execution_count": 13,
   "metadata": {},
   "outputs": [
    {
     "data": {
      "text/plain": [
       "3.8414588206941285"
      ]
     },
     "execution_count": 13,
     "metadata": {},
     "output_type": "execute_result"
    }
   ],
   "source": [
    "chi2.isf(0.05, dof)"
   ]
  },
  {
   "cell_type": "markdown",
   "metadata": {},
   "source": [
    "Therefore, the null hypothesis can be rejected, and the nested logit model is preferred. "
   ]
  },
  {
   "cell_type": "markdown",
   "metadata": {},
   "source": [
    "### Nested logit: same airline"
   ]
  },
  {
   "cell_type": "markdown",
   "metadata": {},
   "source": [
    "We specify a nested logit model where the two alternatives corresponding to \"same alternative\" are in the same nest"
   ]
  },
  {
   "cell_type": "code",
   "execution_count": 14,
   "metadata": {},
   "outputs": [],
   "source": [
    "MU = Beta('MU', 1, None, None, 0)\n",
    "same = MU, [1, 2]\n",
    "multiple = 1.0, [3]\n",
    "nests = same, multiple\n",
    "logprob = models.lognested(V, None, nests, chosenAlternative)\n",
    "biogeme = bio.BIOGEME(database, logprob)\n",
    "biogeme.modelName = 'nested_same'\n",
    "nested_same_results = biogeme.estimate(algorithm=opt.bioNewton)\n"
   ]
  },
  {
   "cell_type": "code",
   "execution_count": 15,
   "metadata": {},
   "outputs": [
    {
     "name": "stdout",
     "output_type": "stream",
     "text": [
      "Results for model nested_same\n",
      "Nbr of parameters:\t\t12\n",
      "Sample size:\t\t\t3609\n",
      "Excluded data:\t\t\t0\n",
      "Final log likelihood:\t\t-2239.591\n",
      "Akaike Information Criterion:\t4503.183\n",
      "Bayesian Information Criterion:\t4577.477\n",
      "\n"
     ]
    }
   ],
   "source": [
    "print(nested_same_results.shortSummary())"
   ]
  },
  {
   "cell_type": "code",
   "execution_count": 16,
   "metadata": {},
   "outputs": [
    {
     "data": {
      "text/html": [
       "<div>\n",
       "<style scoped>\n",
       "    .dataframe tbody tr th:only-of-type {\n",
       "        vertical-align: middle;\n",
       "    }\n",
       "\n",
       "    .dataframe tbody tr th {\n",
       "        vertical-align: top;\n",
       "    }\n",
       "\n",
       "    .dataframe thead th {\n",
       "        text-align: right;\n",
       "    }\n",
       "</style>\n",
       "<table border=\"1\" class=\"dataframe\">\n",
       "  <thead>\n",
       "    <tr style=\"text-align: right;\">\n",
       "      <th></th>\n",
       "      <th>Value</th>\n",
       "      <th>Std err</th>\n",
       "      <th>t-test</th>\n",
       "      <th>p-value</th>\n",
       "      <th>Rob. Std err</th>\n",
       "      <th>Rob. t-test</th>\n",
       "      <th>Rob. p-value</th>\n",
       "    </tr>\n",
       "  </thead>\n",
       "  <tbody>\n",
       "    <tr>\n",
       "      <th>ASC_MULTIPLE</th>\n",
       "      <td>-1.494931</td>\n",
       "      <td>0.130743</td>\n",
       "      <td>-11.434153</td>\n",
       "      <td>0.000000e+00</td>\n",
       "      <td>0.129780</td>\n",
       "      <td>-11.518927</td>\n",
       "      <td>0.000000e+00</td>\n",
       "    </tr>\n",
       "    <tr>\n",
       "      <th>ASC_SAME</th>\n",
       "      <td>-1.405625</td>\n",
       "      <td>0.151060</td>\n",
       "      <td>-9.305079</td>\n",
       "      <td>0.000000e+00</td>\n",
       "      <td>0.151512</td>\n",
       "      <td>-9.277309</td>\n",
       "      <td>0.000000e+00</td>\n",
       "    </tr>\n",
       "    <tr>\n",
       "      <th>EARLY</th>\n",
       "      <td>-0.154015</td>\n",
       "      <td>0.017739</td>\n",
       "      <td>-8.682418</td>\n",
       "      <td>0.000000e+00</td>\n",
       "      <td>0.018907</td>\n",
       "      <td>-8.145877</td>\n",
       "      <td>4.440892e-16</td>\n",
       "    </tr>\n",
       "    <tr>\n",
       "      <th>FARE_business</th>\n",
       "      <td>-0.528442</td>\n",
       "      <td>0.062934</td>\n",
       "      <td>-8.396797</td>\n",
       "      <td>0.000000e+00</td>\n",
       "      <td>0.062968</td>\n",
       "      <td>-8.392248</td>\n",
       "      <td>0.000000e+00</td>\n",
       "    </tr>\n",
       "    <tr>\n",
       "      <th>FARE_business_leisure</th>\n",
       "      <td>-0.814890</td>\n",
       "      <td>0.090209</td>\n",
       "      <td>-9.033311</td>\n",
       "      <td>0.000000e+00</td>\n",
       "      <td>0.093356</td>\n",
       "      <td>-8.728858</td>\n",
       "      <td>0.000000e+00</td>\n",
       "    </tr>\n",
       "    <tr>\n",
       "      <th>FARE_conf</th>\n",
       "      <td>-1.123253</td>\n",
       "      <td>0.194778</td>\n",
       "      <td>-5.766838</td>\n",
       "      <td>8.077261e-09</td>\n",
       "      <td>0.197850</td>\n",
       "      <td>-5.677293</td>\n",
       "      <td>1.368430e-08</td>\n",
       "    </tr>\n",
       "    <tr>\n",
       "      <th>FARE_leisure</th>\n",
       "      <td>-1.046398</td>\n",
       "      <td>0.049973</td>\n",
       "      <td>-20.939274</td>\n",
       "      <td>0.000000e+00</td>\n",
       "      <td>0.052825</td>\n",
       "      <td>-19.808740</td>\n",
       "      <td>0.000000e+00</td>\n",
       "    </tr>\n",
       "    <tr>\n",
       "      <th>FARE_unknown</th>\n",
       "      <td>-1.788409</td>\n",
       "      <td>1.034386</td>\n",
       "      <td>-1.728957</td>\n",
       "      <td>8.381672e-02</td>\n",
       "      <td>0.897125</td>\n",
       "      <td>-1.993489</td>\n",
       "      <td>4.620794e-02</td>\n",
       "    </tr>\n",
       "    <tr>\n",
       "      <th>LATE</th>\n",
       "      <td>-0.112870</td>\n",
       "      <td>0.014089</td>\n",
       "      <td>-8.011422</td>\n",
       "      <td>1.110223e-15</td>\n",
       "      <td>0.015030</td>\n",
       "      <td>-7.509832</td>\n",
       "      <td>5.928591e-14</td>\n",
       "    </tr>\n",
       "    <tr>\n",
       "      <th>LEGROOM</th>\n",
       "      <td>0.524989</td>\n",
       "      <td>0.060546</td>\n",
       "      <td>8.670972</td>\n",
       "      <td>0.000000e+00</td>\n",
       "      <td>0.063975</td>\n",
       "      <td>8.206165</td>\n",
       "      <td>2.220446e-16</td>\n",
       "    </tr>\n",
       "    <tr>\n",
       "      <th>MU</th>\n",
       "      <td>0.903167</td>\n",
       "      <td>0.056825</td>\n",
       "      <td>15.893940</td>\n",
       "      <td>0.000000e+00</td>\n",
       "      <td>0.059373</td>\n",
       "      <td>15.211746</td>\n",
       "      <td>0.000000e+00</td>\n",
       "    </tr>\n",
       "    <tr>\n",
       "      <th>TIME</th>\n",
       "      <td>-1.556242</td>\n",
       "      <td>0.281370</td>\n",
       "      <td>-5.530944</td>\n",
       "      <td>3.185118e-08</td>\n",
       "      <td>0.284882</td>\n",
       "      <td>-5.462765</td>\n",
       "      <td>4.687757e-08</td>\n",
       "    </tr>\n",
       "  </tbody>\n",
       "</table>\n",
       "</div>"
      ],
      "text/plain": [
       "                          Value   Std err     t-test       p-value  \\\n",
       "ASC_MULTIPLE          -1.494931  0.130743 -11.434153  0.000000e+00   \n",
       "ASC_SAME              -1.405625  0.151060  -9.305079  0.000000e+00   \n",
       "EARLY                 -0.154015  0.017739  -8.682418  0.000000e+00   \n",
       "FARE_business         -0.528442  0.062934  -8.396797  0.000000e+00   \n",
       "FARE_business_leisure -0.814890  0.090209  -9.033311  0.000000e+00   \n",
       "FARE_conf             -1.123253  0.194778  -5.766838  8.077261e-09   \n",
       "FARE_leisure          -1.046398  0.049973 -20.939274  0.000000e+00   \n",
       "FARE_unknown          -1.788409  1.034386  -1.728957  8.381672e-02   \n",
       "LATE                  -0.112870  0.014089  -8.011422  1.110223e-15   \n",
       "LEGROOM                0.524989  0.060546   8.670972  0.000000e+00   \n",
       "MU                     0.903167  0.056825  15.893940  0.000000e+00   \n",
       "TIME                  -1.556242  0.281370  -5.530944  3.185118e-08   \n",
       "\n",
       "                       Rob. Std err  Rob. t-test  Rob. p-value  \n",
       "ASC_MULTIPLE               0.129780   -11.518927  0.000000e+00  \n",
       "ASC_SAME                   0.151512    -9.277309  0.000000e+00  \n",
       "EARLY                      0.018907    -8.145877  4.440892e-16  \n",
       "FARE_business              0.062968    -8.392248  0.000000e+00  \n",
       "FARE_business_leisure      0.093356    -8.728858  0.000000e+00  \n",
       "FARE_conf                  0.197850    -5.677293  1.368430e-08  \n",
       "FARE_leisure               0.052825   -19.808740  0.000000e+00  \n",
       "FARE_unknown               0.897125    -1.993489  4.620794e-02  \n",
       "LATE                       0.015030    -7.509832  5.928591e-14  \n",
       "LEGROOM                    0.063975     8.206165  2.220446e-16  \n",
       "MU                         0.059373    15.211746  0.000000e+00  \n",
       "TIME                       0.284882    -5.462765  4.687757e-08  "
      ]
     },
     "execution_count": 16,
     "metadata": {},
     "output_type": "execute_result"
    }
   ],
   "source": [
    "nested_same_table = nested_same_results.getEstimatedParameters()\n",
    "nested_same_table"
   ]
  },
  {
   "cell_type": "markdown",
   "metadata": {},
   "source": [
    "The nest parameter is less than one, and the model is invalid."
   ]
  },
  {
   "cell_type": "code",
   "execution_count": 17,
   "metadata": {},
   "outputs": [
    {
     "data": {
      "text/plain": [
       "0.9031669052663268"
      ]
     },
     "execution_count": 17,
     "metadata": {},
     "output_type": "execute_result"
    }
   ],
   "source": [
    "mu = nested_same_table.loc['MU', 'Value']\n",
    "mu"
   ]
  },
  {
   "cell_type": "markdown",
   "metadata": {},
   "source": [
    "We re-estimate the model while imposing the nest parameter to take valid values. "
   ]
  },
  {
   "cell_type": "code",
   "execution_count": 18,
   "metadata": {},
   "outputs": [],
   "source": [
    "MU = Beta('MU', 1, 1, None, 0)\n",
    "same = MU, [1, 2]\n",
    "multiple = 1.0, [3]\n",
    "nests = same, multiple\n",
    "logprob = models.lognested(V, None, nests, chosenAlternative)\n",
    "biogeme = bio.BIOGEME(database, logprob)\n",
    "biogeme.modelName = 'nested_same'\n",
    "nested_same_results = biogeme.estimate(algorithm=opt.bioNewton)\n"
   ]
  },
  {
   "cell_type": "code",
   "execution_count": 19,
   "metadata": {},
   "outputs": [
    {
     "name": "stdout",
     "output_type": "stream",
     "text": [
      "Results for model nested_same\n",
      "Nbr of parameters:\t\t12\n",
      "Sample size:\t\t\t3609\n",
      "Excluded data:\t\t\t0\n",
      "Final log likelihood:\t\t-2240.898\n",
      "Akaike Information Criterion:\t4505.795\n",
      "Bayesian Information Criterion:\t4580.09\n",
      "\n"
     ]
    }
   ],
   "source": [
    "print(nested_same_results.shortSummary())"
   ]
  },
  {
   "cell_type": "code",
   "execution_count": 20,
   "metadata": {},
   "outputs": [
    {
     "data": {
      "text/html": [
       "<div>\n",
       "<style scoped>\n",
       "    .dataframe tbody tr th:only-of-type {\n",
       "        vertical-align: middle;\n",
       "    }\n",
       "\n",
       "    .dataframe tbody tr th {\n",
       "        vertical-align: top;\n",
       "    }\n",
       "\n",
       "    .dataframe thead th {\n",
       "        text-align: right;\n",
       "    }\n",
       "</style>\n",
       "<table border=\"1\" class=\"dataframe\">\n",
       "  <thead>\n",
       "    <tr style=\"text-align: right;\">\n",
       "      <th></th>\n",
       "      <th>Value</th>\n",
       "      <th>Active bound</th>\n",
       "      <th>Std err</th>\n",
       "      <th>t-test</th>\n",
       "      <th>p-value</th>\n",
       "      <th>Rob. Std err</th>\n",
       "      <th>Rob. t-test</th>\n",
       "      <th>Rob. p-value</th>\n",
       "    </tr>\n",
       "  </thead>\n",
       "  <tbody>\n",
       "    <tr>\n",
       "      <th>ASC_MULTIPLE</th>\n",
       "      <td>-1.501890</td>\n",
       "      <td>0.0</td>\n",
       "      <td>0.124962</td>\n",
       "      <td>-12.018795</td>\n",
       "      <td>0.000000e+00</td>\n",
       "      <td>0.123765</td>\n",
       "      <td>-12.134997</td>\n",
       "      <td>0.000000e+00</td>\n",
       "    </tr>\n",
       "    <tr>\n",
       "      <th>ASC_SAME</th>\n",
       "      <td>-1.291115</td>\n",
       "      <td>0.0</td>\n",
       "      <td>0.143750</td>\n",
       "      <td>-8.981684</td>\n",
       "      <td>0.000000e+00</td>\n",
       "      <td>0.146210</td>\n",
       "      <td>-8.830523</td>\n",
       "      <td>0.000000e+00</td>\n",
       "    </tr>\n",
       "    <tr>\n",
       "      <th>EARLY</th>\n",
       "      <td>-0.145135</td>\n",
       "      <td>0.0</td>\n",
       "      <td>0.017035</td>\n",
       "      <td>-8.519872</td>\n",
       "      <td>0.000000e+00</td>\n",
       "      <td>0.018211</td>\n",
       "      <td>-7.969659</td>\n",
       "      <td>1.554312e-15</td>\n",
       "    </tr>\n",
       "    <tr>\n",
       "      <th>FARE_business</th>\n",
       "      <td>-0.500040</td>\n",
       "      <td>0.0</td>\n",
       "      <td>0.060478</td>\n",
       "      <td>-8.268086</td>\n",
       "      <td>2.220446e-16</td>\n",
       "      <td>0.060807</td>\n",
       "      <td>-8.223429</td>\n",
       "      <td>2.220446e-16</td>\n",
       "    </tr>\n",
       "    <tr>\n",
       "      <th>FARE_business_leisure</th>\n",
       "      <td>-0.768367</td>\n",
       "      <td>0.0</td>\n",
       "      <td>0.086935</td>\n",
       "      <td>-8.838373</td>\n",
       "      <td>0.000000e+00</td>\n",
       "      <td>0.090856</td>\n",
       "      <td>-8.456976</td>\n",
       "      <td>0.000000e+00</td>\n",
       "    </tr>\n",
       "    <tr>\n",
       "      <th>FARE_conf</th>\n",
       "      <td>-1.061465</td>\n",
       "      <td>0.0</td>\n",
       "      <td>0.185878</td>\n",
       "      <td>-5.710556</td>\n",
       "      <td>1.126074e-08</td>\n",
       "      <td>0.193493</td>\n",
       "      <td>-5.485818</td>\n",
       "      <td>4.115594e-08</td>\n",
       "    </tr>\n",
       "    <tr>\n",
       "      <th>FARE_leisure</th>\n",
       "      <td>-0.991812</td>\n",
       "      <td>0.0</td>\n",
       "      <td>0.050790</td>\n",
       "      <td>-19.527829</td>\n",
       "      <td>0.000000e+00</td>\n",
       "      <td>0.054624</td>\n",
       "      <td>-18.157057</td>\n",
       "      <td>0.000000e+00</td>\n",
       "    </tr>\n",
       "    <tr>\n",
       "      <th>FARE_unknown</th>\n",
       "      <td>-1.744377</td>\n",
       "      <td>0.0</td>\n",
       "      <td>0.974032</td>\n",
       "      <td>-1.790884</td>\n",
       "      <td>7.331195e-02</td>\n",
       "      <td>0.800291</td>\n",
       "      <td>-2.179680</td>\n",
       "      <td>2.928122e-02</td>\n",
       "    </tr>\n",
       "    <tr>\n",
       "      <th>LATE</th>\n",
       "      <td>-0.107472</td>\n",
       "      <td>0.0</td>\n",
       "      <td>0.013503</td>\n",
       "      <td>-7.958958</td>\n",
       "      <td>1.776357e-15</td>\n",
       "      <td>0.014439</td>\n",
       "      <td>-7.443045</td>\n",
       "      <td>9.836576e-14</td>\n",
       "    </tr>\n",
       "    <tr>\n",
       "      <th>LEGROOM</th>\n",
       "      <td>0.495042</td>\n",
       "      <td>0.0</td>\n",
       "      <td>0.058055</td>\n",
       "      <td>8.527141</td>\n",
       "      <td>0.000000e+00</td>\n",
       "      <td>0.061701</td>\n",
       "      <td>8.023220</td>\n",
       "      <td>1.110223e-15</td>\n",
       "    </tr>\n",
       "    <tr>\n",
       "      <th>MU</th>\n",
       "      <td>1.000000</td>\n",
       "      <td>1.0</td>\n",
       "      <td>0.066945</td>\n",
       "      <td>14.937544</td>\n",
       "      <td>0.000000e+00</td>\n",
       "      <td>0.073874</td>\n",
       "      <td>13.536489</td>\n",
       "      <td>0.000000e+00</td>\n",
       "    </tr>\n",
       "    <tr>\n",
       "      <th>TIME</th>\n",
       "      <td>-1.460732</td>\n",
       "      <td>0.0</td>\n",
       "      <td>0.268703</td>\n",
       "      <td>-5.436224</td>\n",
       "      <td>5.442141e-08</td>\n",
       "      <td>0.272482</td>\n",
       "      <td>-5.360838</td>\n",
       "      <td>8.283661e-08</td>\n",
       "    </tr>\n",
       "  </tbody>\n",
       "</table>\n",
       "</div>"
      ],
      "text/plain": [
       "                          Value  Active bound   Std err     t-test  \\\n",
       "ASC_MULTIPLE          -1.501890           0.0  0.124962 -12.018795   \n",
       "ASC_SAME              -1.291115           0.0  0.143750  -8.981684   \n",
       "EARLY                 -0.145135           0.0  0.017035  -8.519872   \n",
       "FARE_business         -0.500040           0.0  0.060478  -8.268086   \n",
       "FARE_business_leisure -0.768367           0.0  0.086935  -8.838373   \n",
       "FARE_conf             -1.061465           0.0  0.185878  -5.710556   \n",
       "FARE_leisure          -0.991812           0.0  0.050790 -19.527829   \n",
       "FARE_unknown          -1.744377           0.0  0.974032  -1.790884   \n",
       "LATE                  -0.107472           0.0  0.013503  -7.958958   \n",
       "LEGROOM                0.495042           0.0  0.058055   8.527141   \n",
       "MU                     1.000000           1.0  0.066945  14.937544   \n",
       "TIME                  -1.460732           0.0  0.268703  -5.436224   \n",
       "\n",
       "                            p-value  Rob. Std err  Rob. t-test  Rob. p-value  \n",
       "ASC_MULTIPLE           0.000000e+00      0.123765   -12.134997  0.000000e+00  \n",
       "ASC_SAME               0.000000e+00      0.146210    -8.830523  0.000000e+00  \n",
       "EARLY                  0.000000e+00      0.018211    -7.969659  1.554312e-15  \n",
       "FARE_business          2.220446e-16      0.060807    -8.223429  2.220446e-16  \n",
       "FARE_business_leisure  0.000000e+00      0.090856    -8.456976  0.000000e+00  \n",
       "FARE_conf              1.126074e-08      0.193493    -5.485818  4.115594e-08  \n",
       "FARE_leisure           0.000000e+00      0.054624   -18.157057  0.000000e+00  \n",
       "FARE_unknown           7.331195e-02      0.800291    -2.179680  2.928122e-02  \n",
       "LATE                   1.776357e-15      0.014439    -7.443045  9.836576e-14  \n",
       "LEGROOM                0.000000e+00      0.061701     8.023220  1.110223e-15  \n",
       "MU                     0.000000e+00      0.073874    13.536489  0.000000e+00  \n",
       "TIME                   5.442141e-08      0.272482    -5.360838  8.283661e-08  "
      ]
     },
     "execution_count": 20,
     "metadata": {},
     "output_type": "execute_result"
    }
   ],
   "source": [
    "nested_same_table = nested_same_results.getEstimatedParameters()\n",
    "nested_same_table"
   ]
  },
  {
   "cell_type": "markdown",
   "metadata": {},
   "source": [
    "The nest parameter is exactly one, and the model is equivalent to the logit model."
   ]
  },
  {
   "cell_type": "code",
   "execution_count": 21,
   "metadata": {},
   "outputs": [
    {
     "data": {
      "text/plain": [
       "1.0"
      ]
     },
     "execution_count": 21,
     "metadata": {},
     "output_type": "execute_result"
    }
   ],
   "source": [
    "mu = nested_same_table.loc['MU', 'Value']\n",
    "mu"
   ]
  },
  {
   "cell_type": "markdown",
   "metadata": {},
   "source": [
    "## Cross-nested logit"
   ]
  },
  {
   "cell_type": "markdown",
   "metadata": {},
   "source": [
    "We estimate a cross-nested logit model with two nests. One with the alternatives corresponding to \"one stop\", and one with the alternatives corresponding to \"same airline\". Note that alternative 2 belong to both. We constraint the nest parameters to take only valid values. "
   ]
  },
  {
   "cell_type": "code",
   "execution_count": 22,
   "metadata": {},
   "outputs": [],
   "source": [
    "MU_SAME = Beta('MU_SAME', 1, 1, None, 0)\n",
    "MU_ONESTOP = Beta('MU_ONESTOP', 1, 1, None, 0)\n",
    "ALPHA_ONESTOP = Beta('ALPHA_ONESTOP', 0.5, 0, 1, 0)\n",
    "ALPHA_SAME = 1 - ALPHA_ONESTOP\n",
    "\n",
    "alpha_onestop = {1: 0.0,\n",
    "                 2: ALPHA_ONESTOP,\n",
    "                 3: 1.0}\n",
    "\n",
    "alpha_same = {1: 1.0,\n",
    "              2: ALPHA_SAME,\n",
    "              3: 0.0}\n",
    "\n",
    "nest_same = MU_SAME, alpha_same\n",
    "nest_onestop = MU_ONESTOP, alpha_onestop\n",
    "nests = nest_same, nest_onestop\n",
    "\n",
    "logprob = models.logcnl(V, None, nests, chosenAlternative)\n",
    "\n",
    "biogeme = bio.BIOGEME(database, logprob)\n",
    "biogeme.modelName = 'cnl'\n",
    "\n",
    "cnl_results = biogeme.estimate(algorithm=opt.bioNewton)\n"
   ]
  },
  {
   "cell_type": "code",
   "execution_count": 23,
   "metadata": {},
   "outputs": [
    {
     "name": "stdout",
     "output_type": "stream",
     "text": [
      "Results for model cnl\n",
      "Nbr of parameters:\t\t14\n",
      "Sample size:\t\t\t3609\n",
      "Excluded data:\t\t\t0\n",
      "Final log likelihood:\t\t-2219.47\n",
      "Akaike Information Criterion:\t4466.94\n",
      "Bayesian Information Criterion:\t4553.617\n",
      "\n"
     ]
    }
   ],
   "source": [
    "print(cnl_results.shortSummary())"
   ]
  },
  {
   "cell_type": "code",
   "execution_count": 24,
   "metadata": {},
   "outputs": [
    {
     "data": {
      "text/html": [
       "<div>\n",
       "<style scoped>\n",
       "    .dataframe tbody tr th:only-of-type {\n",
       "        vertical-align: middle;\n",
       "    }\n",
       "\n",
       "    .dataframe tbody tr th {\n",
       "        vertical-align: top;\n",
       "    }\n",
       "\n",
       "    .dataframe thead th {\n",
       "        text-align: right;\n",
       "    }\n",
       "</style>\n",
       "<table border=\"1\" class=\"dataframe\">\n",
       "  <thead>\n",
       "    <tr style=\"text-align: right;\">\n",
       "      <th></th>\n",
       "      <th>Value</th>\n",
       "      <th>Active bound</th>\n",
       "      <th>Std err</th>\n",
       "      <th>t-test</th>\n",
       "      <th>p-value</th>\n",
       "      <th>Rob. Std err</th>\n",
       "      <th>Rob. t-test</th>\n",
       "      <th>Rob. p-value</th>\n",
       "    </tr>\n",
       "  </thead>\n",
       "  <tbody>\n",
       "    <tr>\n",
       "      <th>ALPHA_ONESTOP</th>\n",
       "      <td>0.753577</td>\n",
       "      <td>0.0</td>\n",
       "      <td>0.148695</td>\n",
       "      <td>5.067924</td>\n",
       "      <td>4.021778e-07</td>\n",
       "      <td>0.129265</td>\n",
       "      <td>5.829707</td>\n",
       "      <td>5.552486e-09</td>\n",
       "    </tr>\n",
       "    <tr>\n",
       "      <th>ASC_MULTIPLE</th>\n",
       "      <td>-1.272336</td>\n",
       "      <td>0.0</td>\n",
       "      <td>0.109736</td>\n",
       "      <td>-11.594546</td>\n",
       "      <td>0.000000e+00</td>\n",
       "      <td>0.106542</td>\n",
       "      <td>-11.942092</td>\n",
       "      <td>0.000000e+00</td>\n",
       "    </tr>\n",
       "    <tr>\n",
       "      <th>ASC_SAME</th>\n",
       "      <td>-1.077620</td>\n",
       "      <td>0.0</td>\n",
       "      <td>0.140835</td>\n",
       "      <td>-7.651674</td>\n",
       "      <td>1.976197e-14</td>\n",
       "      <td>0.147775</td>\n",
       "      <td>-7.292306</td>\n",
       "      <td>3.046452e-13</td>\n",
       "    </tr>\n",
       "    <tr>\n",
       "      <th>EARLY</th>\n",
       "      <td>-0.129154</td>\n",
       "      <td>0.0</td>\n",
       "      <td>0.015115</td>\n",
       "      <td>-8.544757</td>\n",
       "      <td>0.000000e+00</td>\n",
       "      <td>0.016080</td>\n",
       "      <td>-8.031909</td>\n",
       "      <td>8.881784e-16</td>\n",
       "    </tr>\n",
       "    <tr>\n",
       "      <th>FARE_business</th>\n",
       "      <td>-0.436819</td>\n",
       "      <td>0.0</td>\n",
       "      <td>0.053476</td>\n",
       "      <td>-8.168552</td>\n",
       "      <td>2.220446e-16</td>\n",
       "      <td>0.052384</td>\n",
       "      <td>-8.338803</td>\n",
       "      <td>0.000000e+00</td>\n",
       "    </tr>\n",
       "    <tr>\n",
       "      <th>FARE_business_leisure</th>\n",
       "      <td>-0.685026</td>\n",
       "      <td>0.0</td>\n",
       "      <td>0.081275</td>\n",
       "      <td>-8.428517</td>\n",
       "      <td>0.000000e+00</td>\n",
       "      <td>0.085450</td>\n",
       "      <td>-8.016694</td>\n",
       "      <td>1.110223e-15</td>\n",
       "    </tr>\n",
       "    <tr>\n",
       "      <th>FARE_conf</th>\n",
       "      <td>-0.965350</td>\n",
       "      <td>0.0</td>\n",
       "      <td>0.175927</td>\n",
       "      <td>-5.487232</td>\n",
       "      <td>4.082814e-08</td>\n",
       "      <td>0.174678</td>\n",
       "      <td>-5.526469</td>\n",
       "      <td>3.267409e-08</td>\n",
       "    </tr>\n",
       "    <tr>\n",
       "      <th>FARE_leisure</th>\n",
       "      <td>-0.865603</td>\n",
       "      <td>0.0</td>\n",
       "      <td>0.052757</td>\n",
       "      <td>-16.407353</td>\n",
       "      <td>0.000000e+00</td>\n",
       "      <td>0.057356</td>\n",
       "      <td>-15.091695</td>\n",
       "      <td>0.000000e+00</td>\n",
       "    </tr>\n",
       "    <tr>\n",
       "      <th>FARE_unknown</th>\n",
       "      <td>-1.511166</td>\n",
       "      <td>0.0</td>\n",
       "      <td>0.918513</td>\n",
       "      <td>-1.645231</td>\n",
       "      <td>9.992223e-02</td>\n",
       "      <td>0.725978</td>\n",
       "      <td>-2.081560</td>\n",
       "      <td>3.738268e-02</td>\n",
       "    </tr>\n",
       "    <tr>\n",
       "      <th>LATE</th>\n",
       "      <td>-0.086157</td>\n",
       "      <td>0.0</td>\n",
       "      <td>0.011905</td>\n",
       "      <td>-7.237031</td>\n",
       "      <td>4.585221e-13</td>\n",
       "      <td>0.012894</td>\n",
       "      <td>-6.682003</td>\n",
       "      <td>2.356981e-11</td>\n",
       "    </tr>\n",
       "    <tr>\n",
       "      <th>LEGROOM</th>\n",
       "      <td>0.418096</td>\n",
       "      <td>0.0</td>\n",
       "      <td>0.051771</td>\n",
       "      <td>8.075956</td>\n",
       "      <td>6.661338e-16</td>\n",
       "      <td>0.055203</td>\n",
       "      <td>7.573848</td>\n",
       "      <td>3.619327e-14</td>\n",
       "    </tr>\n",
       "    <tr>\n",
       "      <th>MU_ONESTOP</th>\n",
       "      <td>1.858849</td>\n",
       "      <td>0.0</td>\n",
       "      <td>0.214027</td>\n",
       "      <td>8.685114</td>\n",
       "      <td>0.000000e+00</td>\n",
       "      <td>0.222373</td>\n",
       "      <td>8.359135</td>\n",
       "      <td>0.000000e+00</td>\n",
       "    </tr>\n",
       "    <tr>\n",
       "      <th>MU_SAME</th>\n",
       "      <td>1.000000</td>\n",
       "      <td>1.0</td>\n",
       "      <td>0.168146</td>\n",
       "      <td>5.947206</td>\n",
       "      <td>2.727584e-09</td>\n",
       "      <td>0.195171</td>\n",
       "      <td>5.123700</td>\n",
       "      <td>2.995971e-07</td>\n",
       "    </tr>\n",
       "    <tr>\n",
       "      <th>TIME</th>\n",
       "      <td>-1.300948</td>\n",
       "      <td>0.0</td>\n",
       "      <td>0.227060</td>\n",
       "      <td>-5.729544</td>\n",
       "      <td>1.007007e-08</td>\n",
       "      <td>0.230122</td>\n",
       "      <td>-5.653295</td>\n",
       "      <td>1.574006e-08</td>\n",
       "    </tr>\n",
       "  </tbody>\n",
       "</table>\n",
       "</div>"
      ],
      "text/plain": [
       "                          Value  Active bound   Std err     t-test  \\\n",
       "ALPHA_ONESTOP          0.753577           0.0  0.148695   5.067924   \n",
       "ASC_MULTIPLE          -1.272336           0.0  0.109736 -11.594546   \n",
       "ASC_SAME              -1.077620           0.0  0.140835  -7.651674   \n",
       "EARLY                 -0.129154           0.0  0.015115  -8.544757   \n",
       "FARE_business         -0.436819           0.0  0.053476  -8.168552   \n",
       "FARE_business_leisure -0.685026           0.0  0.081275  -8.428517   \n",
       "FARE_conf             -0.965350           0.0  0.175927  -5.487232   \n",
       "FARE_leisure          -0.865603           0.0  0.052757 -16.407353   \n",
       "FARE_unknown          -1.511166           0.0  0.918513  -1.645231   \n",
       "LATE                  -0.086157           0.0  0.011905  -7.237031   \n",
       "LEGROOM                0.418096           0.0  0.051771   8.075956   \n",
       "MU_ONESTOP             1.858849           0.0  0.214027   8.685114   \n",
       "MU_SAME                1.000000           1.0  0.168146   5.947206   \n",
       "TIME                  -1.300948           0.0  0.227060  -5.729544   \n",
       "\n",
       "                            p-value  Rob. Std err  Rob. t-test  Rob. p-value  \n",
       "ALPHA_ONESTOP          4.021778e-07      0.129265     5.829707  5.552486e-09  \n",
       "ASC_MULTIPLE           0.000000e+00      0.106542   -11.942092  0.000000e+00  \n",
       "ASC_SAME               1.976197e-14      0.147775    -7.292306  3.046452e-13  \n",
       "EARLY                  0.000000e+00      0.016080    -8.031909  8.881784e-16  \n",
       "FARE_business          2.220446e-16      0.052384    -8.338803  0.000000e+00  \n",
       "FARE_business_leisure  0.000000e+00      0.085450    -8.016694  1.110223e-15  \n",
       "FARE_conf              4.082814e-08      0.174678    -5.526469  3.267409e-08  \n",
       "FARE_leisure           0.000000e+00      0.057356   -15.091695  0.000000e+00  \n",
       "FARE_unknown           9.992223e-02      0.725978    -2.081560  3.738268e-02  \n",
       "LATE                   4.585221e-13      0.012894    -6.682003  2.356981e-11  \n",
       "LEGROOM                6.661338e-16      0.055203     7.573848  3.619327e-14  \n",
       "MU_ONESTOP             0.000000e+00      0.222373     8.359135  0.000000e+00  \n",
       "MU_SAME                2.727584e-09      0.195171     5.123700  2.995971e-07  \n",
       "TIME                   1.007007e-08      0.230122    -5.653295  1.574006e-08  "
      ]
     },
     "execution_count": 24,
     "metadata": {},
     "output_type": "execute_result"
    }
   ],
   "source": [
    "cnl_table = cnl_results.getEstimatedParameters()\n",
    "cnl_table"
   ]
  },
  {
   "cell_type": "markdown",
   "metadata": {},
   "source": [
    "The $\\mu$ parameter of each nest is larger or equal to 1, as requested above. "
   ]
  },
  {
   "cell_type": "code",
   "execution_count": 25,
   "metadata": {},
   "outputs": [
    {
     "data": {
      "text/plain": [
       "1.0"
      ]
     },
     "execution_count": 25,
     "metadata": {},
     "output_type": "execute_result"
    }
   ],
   "source": [
    "mu_same = cnl_table.loc['MU_SAME','Value']\n",
    "mu_same"
   ]
  },
  {
   "cell_type": "code",
   "execution_count": 26,
   "metadata": {},
   "outputs": [
    {
     "data": {
      "text/plain": [
       "1.858849439009578"
      ]
     },
     "execution_count": 26,
     "metadata": {},
     "output_type": "execute_result"
    }
   ],
   "source": [
    "mu_onestop = cnl_table.loc['MU_ONESTOP','Value']\n",
    "mu_onestop"
   ]
  },
  {
   "cell_type": "markdown",
   "metadata": {},
   "source": [
    "The $\\alpha$ parameter is different from 0 and 1."
   ]
  },
  {
   "cell_type": "code",
   "execution_count": 27,
   "metadata": {},
   "outputs": [
    {
     "data": {
      "text/plain": [
       "0.7535769070333861"
      ]
     },
     "execution_count": 27,
     "metadata": {},
     "output_type": "execute_result"
    }
   ],
   "source": [
    "alpha = cnl_table.loc['ALPHA_ONESTOP','Value']\n",
    "alpha"
   ]
  },
  {
   "cell_type": "markdown",
   "metadata": {},
   "source": [
    "It is significantly different from 0."
   ]
  },
  {
   "cell_type": "code",
   "execution_count": 28,
   "metadata": {},
   "outputs": [
    {
     "data": {
      "text/plain": [
       "5.829706748990171"
      ]
     },
     "execution_count": 28,
     "metadata": {},
     "output_type": "execute_result"
    }
   ],
   "source": [
    "cnl_table.loc['ALPHA_ONESTOP','Rob. t-test']"
   ]
  },
  {
   "cell_type": "markdown",
   "metadata": {},
   "source": [
    "It is significantly different from 1."
   ]
  },
  {
   "cell_type": "code",
   "execution_count": 29,
   "metadata": {},
   "outputs": [
    {
     "data": {
      "text/plain": [
       "1.9063407527041647"
      ]
     },
     "execution_count": 29,
     "metadata": {},
     "output_type": "execute_result"
    }
   ],
   "source": [
    "alpha_stderr = cnl_table.loc['ALPHA_ONESTOP', 'Rob. Std err']\n",
    "tested_value = 1\n",
    "ttest = (tested_value - alpha) / alpha_stderr\n",
    "ttest"
   ]
  },
  {
   "cell_type": "markdown",
   "metadata": {},
   "source": [
    "We test the null hypothesis that the model is equivalent to the nested logit model estimated before. "
   ]
  },
  {
   "cell_type": "code",
   "execution_count": 30,
   "metadata": {},
   "outputs": [
    {
     "data": {
      "text/plain": [
       "3.3520237347311195"
      ]
     },
     "execution_count": 30,
     "metadata": {},
     "output_type": "execute_result"
    }
   ],
   "source": [
    "LL_nested_onestop = nested_onestop_results.data.logLike\n",
    "LL_cnl = cnl_results.data.logLike\n",
    "LR = -2 * (LL_nested_onestop - LL_cnl)\n",
    "LR"
   ]
  },
  {
   "cell_type": "markdown",
   "metadata": {},
   "source": [
    "Number of degrees of freedom:"
   ]
  },
  {
   "cell_type": "code",
   "execution_count": 31,
   "metadata": {},
   "outputs": [
    {
     "data": {
      "text/plain": [
       "2"
      ]
     },
     "execution_count": 31,
     "metadata": {},
     "output_type": "execute_result"
    }
   ],
   "source": [
    "dof = cnl_results.data.nparam - nested_onestop_results.data.nparam \n",
    "dof"
   ]
  },
  {
   "cell_type": "markdown",
   "metadata": {},
   "source": [
    "The threshold value of the $\\chi$-square test at 5% level is:"
   ]
  },
  {
   "cell_type": "code",
   "execution_count": 32,
   "metadata": {},
   "outputs": [
    {
     "data": {
      "text/plain": [
       "5.991464547107983"
      ]
     },
     "execution_count": 32,
     "metadata": {},
     "output_type": "execute_result"
    }
   ],
   "source": [
    "chi2.isf(0.05, dof)"
   ]
  },
  {
   "cell_type": "markdown",
   "metadata": {},
   "source": [
    "Therefore, the null hypothesis cannot be rejected, and the nested logit model is preferred. "
   ]
  },
  {
   "cell_type": "code",
   "execution_count": null,
   "metadata": {},
   "outputs": [],
   "source": []
  }
 ],
 "metadata": {
  "kernelspec": {
   "display_name": "Python 3",
   "language": "python",
   "name": "python3"
  },
  "language_info": {
   "codemirror_mode": {
    "name": "ipython",
    "version": 3
   },
   "file_extension": ".py",
   "mimetype": "text/x-python",
   "name": "python",
   "nbconvert_exporter": "python",
   "pygments_lexer": "ipython3",
   "version": "3.9.5"
  }
 },
 "nbformat": 4,
 "nbformat_minor": 4
}
