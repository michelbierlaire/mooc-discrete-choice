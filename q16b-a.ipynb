{
 "cells": [
  {
   "cell_type": "markdown",
   "metadata": {},
   "source": [
    "# The cross-nested logit model"
   ]
  },
  {
   "cell_type": "markdown",
   "metadata": {},
   "source": [
    "## Specification of the utility functions"
   ]
  },
  {
   "cell_type": "code",
   "execution_count": 1,
   "metadata": {},
   "outputs": [],
   "source": [
    "import pandas as pd\n",
    "import pickle\n",
    "from urllib.request import urlopen\n",
    "import biogeme.biogeme as bio\n",
    "import biogeme.database as db\n",
    "import biogeme.models as models\n",
    "import biogeme.optimization as opt\n",
    "import biogeme.version as ver\n",
    "import biogeme.results as res\n",
    "from biogeme.expressions import Beta, log, DefineVariable\n",
    "from scipy.stats import chi2"
   ]
  },
  {
   "cell_type": "markdown",
   "metadata": {},
   "source": [
    "Version of Biogeme"
   ]
  },
  {
   "cell_type": "code",
   "execution_count": 2,
   "metadata": {},
   "outputs": [
    {
     "name": "stdout",
     "output_type": "stream",
     "text": [
      "biogeme 3.2.8 [2021-09-01]\n",
      "Version entirely written in Python\n",
      "Home page: http://biogeme.epfl.ch\n",
      "Submit questions to https://groups.google.com/d/forum/biogeme\n",
      "Michel Bierlaire, Transport and Mobility Laboratory, Ecole Polytechnique Fédérale de Lausanne (EPFL)\n",
      "\n"
     ]
    }
   ],
   "source": [
    "print(ver.getText())"
   ]
  },
  {
   "cell_type": "markdown",
   "metadata": {},
   "source": [
    "The estimation of the models may take some time. If you prefer to read the estimation results from a file, set the following variable to `True`"
   ]
  },
  {
   "cell_type": "code",
   "execution_count": 3,
   "metadata": {},
   "outputs": [],
   "source": [
    "read_results_from_file = True"
   ]
  },
  {
   "cell_type": "code",
   "execution_count": 4,
   "metadata": {},
   "outputs": [],
   "source": [
    "url_root = (\n",
    "    'https://courses.edx.org/asset-v1:EPFLx+ChoiceModels2x+3T2021+type@asset+block@'\n",
    ")"
   ]
  },
  {
   "cell_type": "code",
   "execution_count": 5,
   "metadata": {},
   "outputs": [],
   "source": [
    "df = pd.read_csv(f'{url_root}airline.dat', sep='\\t')\n",
    "database = db.Database('airline', df)\n",
    "\n",
    "# The following statement allows you to use the names of the\n",
    "# variable as Python variable.\n",
    "globals().update(database.variables)\n",
    "\n",
    "# Removing some observations\n",
    "exclude = ArrivalTimeHours_1 == -1\n",
    "database.remove(exclude)\n",
    "\n",
    "# Definition of new variables\n",
    "\n",
    "chosenAlternative = (\n",
    "    (BestAlternative_1 * 1) +\n",
    "    (BestAlternative_2 * 2) +\n",
    "    (BestAlternative_3 * 3)\n",
    ")\n",
    "\n",
    "DepartureTimeSensitive = DefineVariable(\n",
    "    'DepartureTimeSensitive',\n",
    "    q11_DepartureOrArrivalIsImportant == 1,\n",
    "    database\n",
    ")\n",
    "ArrivalTimeSensitive = DefineVariable(\n",
    "    'ArrivalTimeSensitive',\n",
    "    q11_DepartureOrArrivalIsImportant == 2,\n",
    "    database\n",
    ")\n",
    "Missing = DefineVariable(\n",
    "    'Missing',\n",
    "    (q11_DepartureOrArrivalIsImportant != 1)\n",
    "    * (q11_DepartureOrArrivalIsImportant != 2),\n",
    "    database,\n",
    ")\n",
    "\n",
    "DesiredDepartureTime = DefineVariable(\n",
    "    'DesiredDepartureTime',\n",
    "    q12_IdealDepTime,\n",
    "    database\n",
    ")\n",
    "DesiredArrivalTime = DefineVariable(\n",
    "    'DesiredArrivalTime',\n",
    "    q13_IdealArrTime,\n",
    "    database\n",
    ")\n",
    "ScheduledDelay_1 = DefineVariable(\n",
    "    'ScheduledDelay_1',\n",
    "    (DepartureTimeSensitive * (DepartureTimeMins_1 - DesiredDepartureTime))\n",
    "    + (ArrivalTimeSensitive * (ArrivalTimeMins_1 - DesiredArrivalTime)),\n",
    "    database,\n",
    ")\n",
    "\n",
    "ScheduledDelay_2 = DefineVariable(\n",
    "    'ScheduledDelay_2',\n",
    "    (DepartureTimeSensitive * (DepartureTimeMins_2 - DesiredDepartureTime))\n",
    "    + (ArrivalTimeSensitive * (ArrivalTimeMins_2 - DesiredArrivalTime)),\n",
    "    database,\n",
    ")\n",
    "\n",
    "ScheduledDelay_3 = DefineVariable(\n",
    "    'ScheduledDelay_3',\n",
    "    (DepartureTimeSensitive * (DepartureTimeMins_3 - DesiredDepartureTime))\n",
    "    + (ArrivalTimeSensitive * (ArrivalTimeMins_3 - DesiredArrivalTime)),\n",
    "    database,\n",
    ")\n",
    "\n",
    "Opt1_SchedDelayEarly = DefineVariable(\n",
    "    'Opt1_SchedDelayEarly',\n",
    "    (-(ScheduledDelay_1) * (ScheduledDelay_1 < 0)) / 60,\n",
    "    database,\n",
    ")\n",
    "Opt2_SchedDelayEarly = DefineVariable(\n",
    "    'Opt2_SchedDelayEarly',\n",
    "    (-(ScheduledDelay_2) * (ScheduledDelay_2 < 0)) / 60,\n",
    "    database,\n",
    ")\n",
    "Opt3_SchedDelayEarly = DefineVariable(\n",
    "    'Opt3_SchedDelayEarly',\n",
    "    (-(ScheduledDelay_3) * (ScheduledDelay_3 < 0)) / 60,\n",
    "    database,\n",
    ")\n",
    "\n",
    "Opt1_SchedDelayLate = DefineVariable(\n",
    "    'Opt1_SchedDelayLate',\n",
    "    (ScheduledDelay_1 * (ScheduledDelay_1 > 0)) / 60,\n",
    "    database,\n",
    ")\n",
    "Opt2_SchedDelayLate = DefineVariable(\n",
    "    'Opt2_SchedDelayLate',\n",
    "    (ScheduledDelay_2 * (ScheduledDelay_2 > 0)) / 60,\n",
    "    database,\n",
    ")\n",
    "Opt3_SchedDelayLate = DefineVariable(\n",
    "    'Opt3_SchedDelayLate',\n",
    "    (ScheduledDelay_3 * (ScheduledDelay_3 > 0)) / 60,\n",
    "    database,\n",
    ")\n",
    "\n",
    "purpose_business = DefineVariable(\n",
    "    'purpose_business', q02_TripPurpose == 1, database\n",
    ")\n",
    "\n",
    "purpose_leisure = DefineVariable(\n",
    "    'purpose_leisure', q02_TripPurpose == 2, database\n",
    ")\n",
    "\n",
    "purpose_conf = DefineVariable('purpose_conf', q02_TripPurpose == 3, database)\n",
    "\n",
    "purpose_business_leisure = DefineVariable(\n",
    "    'purpose_business_leisure', q02_TripPurpose == 4, database\n",
    ")\n",
    "\n",
    "purpose_unknown = DefineVariable(\n",
    "    'purpose_unknown', q02_TripPurpose == 0, database\n",
    ")\n",
    "\n",
    "# Parameters to be estimated\n",
    "\n",
    "ASC_SAME = Beta('ASC_SAME', 0, None, None, 0)\n",
    "ASC_MULTIPLE = Beta('ASC_MULTIPLE', 0, None, None, 0)\n",
    "\n",
    "FARE_business = Beta('FARE_business', 0, None, None, 0)\n",
    "FARE_leisure = Beta('FARE_leisure', 0, None, None, 0)\n",
    "FARE_conf = Beta('FARE_conf', 0, None, None, 0)\n",
    "FARE_business_leisure = Beta('FARE_business_leisure', 0, None, None, 0)\n",
    "FARE_unknown = Beta('FARE_unknown', 0, None, None, 0)\n",
    "\n",
    "FARE = (\n",
    "    FARE_business * purpose_business\n",
    "    + FARE_leisure * purpose_leisure\n",
    "    + FARE_conf * purpose_conf\n",
    "    + FARE_business_leisure * purpose_business_leisure\n",
    "    + FARE_unknown * purpose_unknown\n",
    ")\n",
    "\n",
    "LEGROOM = Beta('LEGROOM', 0, None, None, 0)\n",
    "EARLY = Beta('EARLY', 0, None, None, 0)\n",
    "LATE = Beta('LATE', 0, None, None, 0)\n",
    "TIME = Beta('TIME', 0, None, None, 0)\n",
    "\n",
    "\n",
    "# Definition of the utility functions\n",
    "V1 = (\n",
    "    FARE * Fare_1 ** 0.5\n",
    "    + LEGROOM * log(Legroom_1)\n",
    "    + EARLY * Opt1_SchedDelayEarly\n",
    "    + LATE * Opt1_SchedDelayLate\n",
    "    + TIME * TripTimeHours_1 ** 0.5\n",
    ")\n",
    "\n",
    "V2 = (\n",
    "    ASC_SAME\n",
    "    + FARE * Fare_2 ** 0.5\n",
    "    + LEGROOM * log(Legroom_2)\n",
    "    + EARLY * Opt2_SchedDelayEarly\n",
    "    + LATE * Opt2_SchedDelayLate\n",
    "    + TIME * TripTimeHours_2 ** 0.5\n",
    ")\n",
    "\n",
    "V3 = (\n",
    "    ASC_MULTIPLE\n",
    "    + FARE * Fare_3 ** 0.5\n",
    "    + LEGROOM * log(Legroom_3)\n",
    "    + EARLY * Opt3_SchedDelayEarly\n",
    "    + LATE * Opt3_SchedDelayLate\n",
    "    + TIME * TripTimeHours_3 ** 0.5\n",
    ")\n",
    "\n",
    "\n",
    "# Associate utility functions with the numbering of alternatives\n",
    "V = {1: V1, 2: V2, 3: V3}\n"
   ]
  },
  {
   "cell_type": "markdown",
   "metadata": {},
   "source": [
    "## Logit model"
   ]
  },
  {
   "cell_type": "code",
   "execution_count": 6,
   "metadata": {},
   "outputs": [],
   "source": [
    "logprob = models.loglogit(V, None, chosenAlternative)\n",
    "biogeme = bio.BIOGEME(database, logprob)\n",
    "biogeme.modelName = 'logit'\n",
    "if read_results_from_file:\n",
    "    pickle_file = f'{url_root}logit16b.pickle'\n",
    "    with urlopen(pickle_file) as p:\n",
    "        data = pickle.load(p)\n",
    "    logit_results = res.bioResults(data)\n",
    "else:\n",
    "    logit_results = biogeme.estimate(algorithm=opt.bioNewton)"
   ]
  },
  {
   "cell_type": "code",
   "execution_count": 7,
   "metadata": {},
   "outputs": [
    {
     "name": "stdout",
     "output_type": "stream",
     "text": [
      "Results for model logit\n",
      "Nbr of parameters:\t\t11\n",
      "Sample size:\t\t\t3609\n",
      "Excluded data:\t\t\t0\n",
      "Final log likelihood:\t\t-2240.898\n",
      "Akaike Information Criterion:\t4503.795\n",
      "Bayesian Information Criterion:\t4571.898\n",
      "\n"
     ]
    }
   ],
   "source": [
    "print(logit_results.shortSummary())"
   ]
  },
  {
   "cell_type": "code",
   "execution_count": 8,
   "metadata": {},
   "outputs": [
    {
     "data": {
      "text/html": [
       "<div>\n",
       "<style scoped>\n",
       "    .dataframe tbody tr th:only-of-type {\n",
       "        vertical-align: middle;\n",
       "    }\n",
       "\n",
       "    .dataframe tbody tr th {\n",
       "        vertical-align: top;\n",
       "    }\n",
       "\n",
       "    .dataframe thead th {\n",
       "        text-align: right;\n",
       "    }\n",
       "</style>\n",
       "<table border=\"1\" class=\"dataframe\">\n",
       "  <thead>\n",
       "    <tr style=\"text-align: right;\">\n",
       "      <th></th>\n",
       "      <th>Value</th>\n",
       "      <th>Std err</th>\n",
       "      <th>t-test</th>\n",
       "      <th>p-value</th>\n",
       "      <th>Rob. Std err</th>\n",
       "      <th>Rob. t-test</th>\n",
       "      <th>Rob. p-value</th>\n",
       "    </tr>\n",
       "  </thead>\n",
       "  <tbody>\n",
       "    <tr>\n",
       "      <th>ASC_MULTIPLE</th>\n",
       "      <td>-1.501675</td>\n",
       "      <td>0.124900</td>\n",
       "      <td>-12.022971</td>\n",
       "      <td>0.000000e+00</td>\n",
       "      <td>0.123471</td>\n",
       "      <td>-12.162153</td>\n",
       "      <td>0.000000e+00</td>\n",
       "    </tr>\n",
       "    <tr>\n",
       "      <th>ASC_SAME</th>\n",
       "      <td>-1.290909</td>\n",
       "      <td>0.124351</td>\n",
       "      <td>-10.381160</td>\n",
       "      <td>0.000000e+00</td>\n",
       "      <td>0.124518</td>\n",
       "      <td>-10.367286</td>\n",
       "      <td>0.000000e+00</td>\n",
       "    </tr>\n",
       "    <tr>\n",
       "      <th>EARLY</th>\n",
       "      <td>-0.145136</td>\n",
       "      <td>0.016000</td>\n",
       "      <td>-9.071224</td>\n",
       "      <td>0.000000e+00</td>\n",
       "      <td>0.017022</td>\n",
       "      <td>-8.526447</td>\n",
       "      <td>0.000000e+00</td>\n",
       "    </tr>\n",
       "    <tr>\n",
       "      <th>FARE_business</th>\n",
       "      <td>-0.500072</td>\n",
       "      <td>0.057478</td>\n",
       "      <td>-8.700167</td>\n",
       "      <td>0.000000e+00</td>\n",
       "      <td>0.057607</td>\n",
       "      <td>-8.680717</td>\n",
       "      <td>0.000000e+00</td>\n",
       "    </tr>\n",
       "    <tr>\n",
       "      <th>FARE_business_leisure</th>\n",
       "      <td>-0.768413</td>\n",
       "      <td>0.081292</td>\n",
       "      <td>-9.452525</td>\n",
       "      <td>0.000000e+00</td>\n",
       "      <td>0.083804</td>\n",
       "      <td>-9.169114</td>\n",
       "      <td>0.000000e+00</td>\n",
       "    </tr>\n",
       "    <tr>\n",
       "      <th>FARE_conf</th>\n",
       "      <td>-1.061178</td>\n",
       "      <td>0.181203</td>\n",
       "      <td>-5.856280</td>\n",
       "      <td>4.733500e-09</td>\n",
       "      <td>0.190717</td>\n",
       "      <td>-5.564154</td>\n",
       "      <td>2.634273e-08</td>\n",
       "    </tr>\n",
       "    <tr>\n",
       "      <th>FARE_leisure</th>\n",
       "      <td>-0.991822</td>\n",
       "      <td>0.035474</td>\n",
       "      <td>-27.959228</td>\n",
       "      <td>0.000000e+00</td>\n",
       "      <td>0.039596</td>\n",
       "      <td>-25.048570</td>\n",
       "      <td>0.000000e+00</td>\n",
       "    </tr>\n",
       "    <tr>\n",
       "      <th>FARE_unknown</th>\n",
       "      <td>-1.742987</td>\n",
       "      <td>0.973286</td>\n",
       "      <td>-1.790828</td>\n",
       "      <td>7.332091e-02</td>\n",
       "      <td>0.800198</td>\n",
       "      <td>-2.178196</td>\n",
       "      <td>2.939147e-02</td>\n",
       "    </tr>\n",
       "    <tr>\n",
       "      <th>LATE</th>\n",
       "      <td>-0.107473</td>\n",
       "      <td>0.013010</td>\n",
       "      <td>-8.261048</td>\n",
       "      <td>2.220446e-16</td>\n",
       "      <td>0.014046</td>\n",
       "      <td>-7.651616</td>\n",
       "      <td>1.976197e-14</td>\n",
       "    </tr>\n",
       "    <tr>\n",
       "      <th>LEGROOM</th>\n",
       "      <td>0.495089</td>\n",
       "      <td>0.054564</td>\n",
       "      <td>9.073475</td>\n",
       "      <td>0.000000e+00</td>\n",
       "      <td>0.058027</td>\n",
       "      <td>8.532109</td>\n",
       "      <td>0.000000e+00</td>\n",
       "    </tr>\n",
       "    <tr>\n",
       "      <th>TIME</th>\n",
       "      <td>-1.461260</td>\n",
       "      <td>0.261296</td>\n",
       "      <td>-5.592354</td>\n",
       "      <td>2.240114e-08</td>\n",
       "      <td>0.263711</td>\n",
       "      <td>-5.541142</td>\n",
       "      <td>3.005056e-08</td>\n",
       "    </tr>\n",
       "  </tbody>\n",
       "</table>\n",
       "</div>"
      ],
      "text/plain": [
       "                          Value   Std err     t-test       p-value  \\\n",
       "ASC_MULTIPLE          -1.501675  0.124900 -12.022971  0.000000e+00   \n",
       "ASC_SAME              -1.290909  0.124351 -10.381160  0.000000e+00   \n",
       "EARLY                 -0.145136  0.016000  -9.071224  0.000000e+00   \n",
       "FARE_business         -0.500072  0.057478  -8.700167  0.000000e+00   \n",
       "FARE_business_leisure -0.768413  0.081292  -9.452525  0.000000e+00   \n",
       "FARE_conf             -1.061178  0.181203  -5.856280  4.733500e-09   \n",
       "FARE_leisure          -0.991822  0.035474 -27.959228  0.000000e+00   \n",
       "FARE_unknown          -1.742987  0.973286  -1.790828  7.332091e-02   \n",
       "LATE                  -0.107473  0.013010  -8.261048  2.220446e-16   \n",
       "LEGROOM                0.495089  0.054564   9.073475  0.000000e+00   \n",
       "TIME                  -1.461260  0.261296  -5.592354  2.240114e-08   \n",
       "\n",
       "                       Rob. Std err  Rob. t-test  Rob. p-value  \n",
       "ASC_MULTIPLE               0.123471   -12.162153  0.000000e+00  \n",
       "ASC_SAME                   0.124518   -10.367286  0.000000e+00  \n",
       "EARLY                      0.017022    -8.526447  0.000000e+00  \n",
       "FARE_business              0.057607    -8.680717  0.000000e+00  \n",
       "FARE_business_leisure      0.083804    -9.169114  0.000000e+00  \n",
       "FARE_conf                  0.190717    -5.564154  2.634273e-08  \n",
       "FARE_leisure               0.039596   -25.048570  0.000000e+00  \n",
       "FARE_unknown               0.800198    -2.178196  2.939147e-02  \n",
       "LATE                       0.014046    -7.651616  1.976197e-14  \n",
       "LEGROOM                    0.058027     8.532109  0.000000e+00  \n",
       "TIME                       0.263711    -5.541142  3.005056e-08  "
      ]
     },
     "execution_count": 8,
     "metadata": {},
     "output_type": "execute_result"
    }
   ],
   "source": [
    "logit_table = logit_results.getEstimatedParameters()\n",
    "logit_table"
   ]
  },
  {
   "cell_type": "markdown",
   "metadata": {},
   "source": [
    "## Nested logit"
   ]
  },
  {
   "cell_type": "markdown",
   "metadata": {},
   "source": [
    "There are three possibilities to partition the choice set:\n",
    "\n",
    "- [Non stop, One stop-same airline] and [One stop-multiple airlines],\n",
    "- [Non stop] and [One stop-same airline, One stop-multiple airlines],\n",
    "- [Non stop, One stop-multiple airlines] and [One stop-same airline].\n",
    "\n",
    "The first groups the alternatives corresponding to the same airline. The second groups the alternatives with one stop. The third one being less intuitive, we select the two first specifications. \n",
    " "
   ]
  },
  {
   "cell_type": "markdown",
   "metadata": {},
   "source": [
    "### Nested logit: one stop"
   ]
  },
  {
   "cell_type": "markdown",
   "metadata": {},
   "source": [
    "We specify a nested logit model where the two alternatives corresponding to \"one stop\" are in the same nest"
   ]
  },
  {
   "cell_type": "code",
   "execution_count": 9,
   "metadata": {},
   "outputs": [],
   "source": [
    "MU = Beta('MU', 1, None, None, 0)\n",
    "onestop = MU, [2, 3]\n",
    "nonstop = 1.0, [1]\n",
    "nests = nonstop, onestop\n",
    "logprob = models.lognested(V, None, nests, chosenAlternative)\n",
    "if read_results_from_file:\n",
    "    pickle_file = f'{url_root}nested_onestop16b.pickle'\n",
    "    with urlopen(pickle_file) as p:\n",
    "        data = pickle.load(p)\n",
    "    nested_onestop_results = res.bioResults(data)\n",
    "else:\n",
    "    biogeme = bio.BIOGEME(database, logprob)\n",
    "    biogeme.modelName = 'nested_onestop'\n",
    "    nested_onestop_results = biogeme.estimate(algorithm=opt.bioNewton)"
   ]
  },
  {
   "cell_type": "code",
   "execution_count": 10,
   "metadata": {},
   "outputs": [
    {
     "name": "stdout",
     "output_type": "stream",
     "text": [
      "Results for model nested_onestop\n",
      "Nbr of parameters:\t\t12\n",
      "Sample size:\t\t\t3609\n",
      "Excluded data:\t\t\t0\n",
      "Final log likelihood:\t\t-2221.146\n",
      "Akaike Information Criterion:\t4466.293\n",
      "Bayesian Information Criterion:\t4540.587\n",
      "\n"
     ]
    }
   ],
   "source": [
    "print(nested_onestop_results.shortSummary())"
   ]
  },
  {
   "cell_type": "code",
   "execution_count": 11,
   "metadata": {},
   "outputs": [
    {
     "data": {
      "text/html": [
       "<div>\n",
       "<style scoped>\n",
       "    .dataframe tbody tr th:only-of-type {\n",
       "        vertical-align: middle;\n",
       "    }\n",
       "\n",
       "    .dataframe tbody tr th {\n",
       "        vertical-align: top;\n",
       "    }\n",
       "\n",
       "    .dataframe thead th {\n",
       "        text-align: right;\n",
       "    }\n",
       "</style>\n",
       "<table border=\"1\" class=\"dataframe\">\n",
       "  <thead>\n",
       "    <tr style=\"text-align: right;\">\n",
       "      <th></th>\n",
       "      <th>Value</th>\n",
       "      <th>Std err</th>\n",
       "      <th>t-test</th>\n",
       "      <th>p-value</th>\n",
       "      <th>Rob. Std err</th>\n",
       "      <th>Rob. t-test</th>\n",
       "      <th>Rob. p-value</th>\n",
       "    </tr>\n",
       "  </thead>\n",
       "  <tbody>\n",
       "    <tr>\n",
       "      <th>ASC_MULTIPLE</th>\n",
       "      <td>-1.257888</td>\n",
       "      <td>0.109933</td>\n",
       "      <td>-11.442325</td>\n",
       "      <td>0.000000e+00</td>\n",
       "      <td>0.107684</td>\n",
       "      <td>-11.681344</td>\n",
       "      <td>0.000000e+00</td>\n",
       "    </tr>\n",
       "    <tr>\n",
       "      <th>ASC_SAME</th>\n",
       "      <td>-1.087574</td>\n",
       "      <td>0.108056</td>\n",
       "      <td>-10.064936</td>\n",
       "      <td>0.000000e+00</td>\n",
       "      <td>0.107120</td>\n",
       "      <td>-10.152897</td>\n",
       "      <td>0.000000e+00</td>\n",
       "    </tr>\n",
       "    <tr>\n",
       "      <th>EARLY</th>\n",
       "      <td>-0.129336</td>\n",
       "      <td>0.014151</td>\n",
       "      <td>-9.139677</td>\n",
       "      <td>0.000000e+00</td>\n",
       "      <td>0.014885</td>\n",
       "      <td>-8.689168</td>\n",
       "      <td>0.000000e+00</td>\n",
       "    </tr>\n",
       "    <tr>\n",
       "      <th>FARE_business</th>\n",
       "      <td>-0.441798</td>\n",
       "      <td>0.050980</td>\n",
       "      <td>-8.666121</td>\n",
       "      <td>0.000000e+00</td>\n",
       "      <td>0.049646</td>\n",
       "      <td>-8.898983</td>\n",
       "      <td>0.000000e+00</td>\n",
       "    </tr>\n",
       "    <tr>\n",
       "      <th>FARE_business_leisure</th>\n",
       "      <td>-0.691903</td>\n",
       "      <td>0.075362</td>\n",
       "      <td>-9.181093</td>\n",
       "      <td>0.000000e+00</td>\n",
       "      <td>0.076961</td>\n",
       "      <td>-8.990270</td>\n",
       "      <td>0.000000e+00</td>\n",
       "    </tr>\n",
       "    <tr>\n",
       "      <th>FARE_conf</th>\n",
       "      <td>-0.964760</td>\n",
       "      <td>0.170490</td>\n",
       "      <td>-5.658742</td>\n",
       "      <td>1.524867e-08</td>\n",
       "      <td>0.169072</td>\n",
       "      <td>-5.706210</td>\n",
       "      <td>1.155193e-08</td>\n",
       "    </tr>\n",
       "    <tr>\n",
       "      <th>FARE_leisure</th>\n",
       "      <td>-0.870038</td>\n",
       "      <td>0.038328</td>\n",
       "      <td>-22.699596</td>\n",
       "      <td>0.000000e+00</td>\n",
       "      <td>0.041581</td>\n",
       "      <td>-20.924117</td>\n",
       "      <td>0.000000e+00</td>\n",
       "    </tr>\n",
       "    <tr>\n",
       "      <th>FARE_unknown</th>\n",
       "      <td>-1.525166</td>\n",
       "      <td>0.920850</td>\n",
       "      <td>-1.656259</td>\n",
       "      <td>9.766941e-02</td>\n",
       "      <td>0.736409</td>\n",
       "      <td>-2.071087</td>\n",
       "      <td>3.835070e-02</td>\n",
       "    </tr>\n",
       "    <tr>\n",
       "      <th>LATE</th>\n",
       "      <td>-0.088153</td>\n",
       "      <td>0.011492</td>\n",
       "      <td>-7.670926</td>\n",
       "      <td>1.709743e-14</td>\n",
       "      <td>0.012388</td>\n",
       "      <td>-7.115916</td>\n",
       "      <td>1.111777e-12</td>\n",
       "    </tr>\n",
       "    <tr>\n",
       "      <th>LEGROOM</th>\n",
       "      <td>0.419980</td>\n",
       "      <td>0.048890</td>\n",
       "      <td>8.590295</td>\n",
       "      <td>0.000000e+00</td>\n",
       "      <td>0.052119</td>\n",
       "      <td>8.058023</td>\n",
       "      <td>6.661338e-16</td>\n",
       "    </tr>\n",
       "    <tr>\n",
       "      <th>MU</th>\n",
       "      <td>1.600225</td>\n",
       "      <td>0.116784</td>\n",
       "      <td>13.702431</td>\n",
       "      <td>0.000000e+00</td>\n",
       "      <td>0.129757</td>\n",
       "      <td>12.332435</td>\n",
       "      <td>0.000000e+00</td>\n",
       "    </tr>\n",
       "    <tr>\n",
       "      <th>TIME</th>\n",
       "      <td>-1.321270</td>\n",
       "      <td>0.220676</td>\n",
       "      <td>-5.987385</td>\n",
       "      <td>2.132418e-09</td>\n",
       "      <td>0.221988</td>\n",
       "      <td>-5.951981</td>\n",
       "      <td>2.649158e-09</td>\n",
       "    </tr>\n",
       "  </tbody>\n",
       "</table>\n",
       "</div>"
      ],
      "text/plain": [
       "                          Value   Std err     t-test       p-value  \\\n",
       "ASC_MULTIPLE          -1.257888  0.109933 -11.442325  0.000000e+00   \n",
       "ASC_SAME              -1.087574  0.108056 -10.064936  0.000000e+00   \n",
       "EARLY                 -0.129336  0.014151  -9.139677  0.000000e+00   \n",
       "FARE_business         -0.441798  0.050980  -8.666121  0.000000e+00   \n",
       "FARE_business_leisure -0.691903  0.075362  -9.181093  0.000000e+00   \n",
       "FARE_conf             -0.964760  0.170490  -5.658742  1.524867e-08   \n",
       "FARE_leisure          -0.870038  0.038328 -22.699596  0.000000e+00   \n",
       "FARE_unknown          -1.525166  0.920850  -1.656259  9.766941e-02   \n",
       "LATE                  -0.088153  0.011492  -7.670926  1.709743e-14   \n",
       "LEGROOM                0.419980  0.048890   8.590295  0.000000e+00   \n",
       "MU                     1.600225  0.116784  13.702431  0.000000e+00   \n",
       "TIME                  -1.321270  0.220676  -5.987385  2.132418e-09   \n",
       "\n",
       "                       Rob. Std err  Rob. t-test  Rob. p-value  \n",
       "ASC_MULTIPLE               0.107684   -11.681344  0.000000e+00  \n",
       "ASC_SAME                   0.107120   -10.152897  0.000000e+00  \n",
       "EARLY                      0.014885    -8.689168  0.000000e+00  \n",
       "FARE_business              0.049646    -8.898983  0.000000e+00  \n",
       "FARE_business_leisure      0.076961    -8.990270  0.000000e+00  \n",
       "FARE_conf                  0.169072    -5.706210  1.155193e-08  \n",
       "FARE_leisure               0.041581   -20.924117  0.000000e+00  \n",
       "FARE_unknown               0.736409    -2.071087  3.835070e-02  \n",
       "LATE                       0.012388    -7.115916  1.111777e-12  \n",
       "LEGROOM                    0.052119     8.058023  6.661338e-16  \n",
       "MU                         0.129757    12.332435  0.000000e+00  \n",
       "TIME                       0.221988    -5.951981  2.649158e-09  "
      ]
     },
     "execution_count": 11,
     "metadata": {},
     "output_type": "execute_result"
    }
   ],
   "source": [
    "nested_onestop_table = nested_onestop_results.getEstimatedParameters()\n",
    "nested_onestop_table"
   ]
  },
  {
   "cell_type": "markdown",
   "metadata": {},
   "source": [
    "The nest parameter is larger than one, consistently with the theory. "
   ]
  },
  {
   "cell_type": "code",
   "execution_count": 12,
   "metadata": {},
   "outputs": [
    {
     "data": {
      "text/plain": [
       "1.6002251614912375"
      ]
     },
     "execution_count": 12,
     "metadata": {},
     "output_type": "execute_result"
    }
   ],
   "source": [
    "mu = nested_onestop_table.loc['MU', 'Value']\n",
    "mu"
   ]
  },
  {
   "cell_type": "markdown",
   "metadata": {},
   "source": [
    "If we test the null hypothesis that the true value of MU is 1, we use a $t$-test:"
   ]
  },
  {
   "cell_type": "code",
   "execution_count": 13,
   "metadata": {},
   "outputs": [
    {
     "data": {
      "text/plain": [
       "-4.625747500955246"
      ]
     },
     "execution_count": 13,
     "metadata": {},
     "output_type": "execute_result"
    }
   ],
   "source": [
    "mu_stderr = nested_onestop_table.loc['MU', 'Rob. Std err']\n",
    "tested_value = 1\n",
    "ttest = (tested_value - mu) / mu_stderr\n",
    "ttest"
   ]
  },
  {
   "cell_type": "markdown",
   "metadata": {},
   "source": [
    "Therefore, we can reject the null hypothesis at the 5% level. It means that we reject logit."
   ]
  },
  {
   "cell_type": "markdown",
   "metadata": {},
   "source": [
    "We can also test the null hypothesis that the two models are equivalent using a likelihood ratio test: "
   ]
  },
  {
   "cell_type": "code",
   "execution_count": 14,
   "metadata": {},
   "outputs": [
    {
     "data": {
      "text/plain": [
       "39.5027841566216"
      ]
     },
     "execution_count": 14,
     "metadata": {},
     "output_type": "execute_result"
    }
   ],
   "source": [
    "LL_logit = logit_results.data.logLike\n",
    "LL_nested_onestop = nested_onestop_results.data.logLike\n",
    "LR = -2 * (LL_logit - LL_nested_onestop)\n",
    "LR"
   ]
  },
  {
   "cell_type": "markdown",
   "metadata": {},
   "source": [
    "Number of degrees of freedom:"
   ]
  },
  {
   "cell_type": "code",
   "execution_count": 15,
   "metadata": {},
   "outputs": [
    {
     "data": {
      "text/plain": [
       "1"
      ]
     },
     "execution_count": 15,
     "metadata": {},
     "output_type": "execute_result"
    }
   ],
   "source": [
    "dof = nested_onestop_results.data.nparam - logit_results.data.nparam\n",
    "dof"
   ]
  },
  {
   "cell_type": "markdown",
   "metadata": {},
   "source": [
    "The threshold value of the $\\chi$-square test at 5% level is:"
   ]
  },
  {
   "cell_type": "code",
   "execution_count": 16,
   "metadata": {},
   "outputs": [
    {
     "data": {
      "text/plain": [
       "3.8414588206941285"
      ]
     },
     "execution_count": 16,
     "metadata": {},
     "output_type": "execute_result"
    }
   ],
   "source": [
    "chi2.isf(0.05, dof)"
   ]
  },
  {
   "cell_type": "markdown",
   "metadata": {},
   "source": [
    "Therefore, the null hypothesis can be rejected, and the nested logit model is preferred. "
   ]
  },
  {
   "cell_type": "markdown",
   "metadata": {},
   "source": [
    "### Nested logit: same airline"
   ]
  },
  {
   "cell_type": "markdown",
   "metadata": {},
   "source": [
    "We specify a nested logit model where the two alternatives corresponding to \"same alternative\" are in the same nest"
   ]
  },
  {
   "cell_type": "code",
   "execution_count": 17,
   "metadata": {},
   "outputs": [],
   "source": [
    "MU = Beta('MU', 1, None, None, 0)\n",
    "same = MU, [1, 2]\n",
    "multiple = 1.0, [3]\n",
    "nests = same, multiple\n",
    "logprob = models.lognested(V, None, nests, chosenAlternative)\n",
    "if read_results_from_file:\n",
    "    pickle_file = f'{url_root}nested_same16b.pickle'\n",
    "    with urlopen(pickle_file) as p:\n",
    "        data = pickle.load(p)\n",
    "    nested_same_results = res.bioResults(data)\n",
    "else:\n",
    "    biogeme = bio.BIOGEME(database, logprob)\n",
    "    biogeme.modelName = 'nested_same'\n",
    "    nested_same_results = biogeme.estimate(algorithm=opt.bioNewton)"
   ]
  },
  {
   "cell_type": "code",
   "execution_count": 18,
   "metadata": {},
   "outputs": [
    {
     "name": "stdout",
     "output_type": "stream",
     "text": [
      "Results for model nested_same\n",
      "Nbr of parameters:\t\t12\n",
      "Sample size:\t\t\t3609\n",
      "Excluded data:\t\t\t0\n",
      "Final log likelihood:\t\t-2239.591\n",
      "Akaike Information Criterion:\t4503.183\n",
      "Bayesian Information Criterion:\t4577.477\n",
      "\n"
     ]
    }
   ],
   "source": [
    "print(nested_same_results.shortSummary())"
   ]
  },
  {
   "cell_type": "code",
   "execution_count": 19,
   "metadata": {},
   "outputs": [
    {
     "data": {
      "text/html": [
       "<div>\n",
       "<style scoped>\n",
       "    .dataframe tbody tr th:only-of-type {\n",
       "        vertical-align: middle;\n",
       "    }\n",
       "\n",
       "    .dataframe tbody tr th {\n",
       "        vertical-align: top;\n",
       "    }\n",
       "\n",
       "    .dataframe thead th {\n",
       "        text-align: right;\n",
       "    }\n",
       "</style>\n",
       "<table border=\"1\" class=\"dataframe\">\n",
       "  <thead>\n",
       "    <tr style=\"text-align: right;\">\n",
       "      <th></th>\n",
       "      <th>Value</th>\n",
       "      <th>Std err</th>\n",
       "      <th>t-test</th>\n",
       "      <th>p-value</th>\n",
       "      <th>Rob. Std err</th>\n",
       "      <th>Rob. t-test</th>\n",
       "      <th>Rob. p-value</th>\n",
       "    </tr>\n",
       "  </thead>\n",
       "  <tbody>\n",
       "    <tr>\n",
       "      <th>ASC_MULTIPLE</th>\n",
       "      <td>-1.494931</td>\n",
       "      <td>0.130743</td>\n",
       "      <td>-11.434153</td>\n",
       "      <td>0.000000e+00</td>\n",
       "      <td>0.129780</td>\n",
       "      <td>-11.518927</td>\n",
       "      <td>0.000000e+00</td>\n",
       "    </tr>\n",
       "    <tr>\n",
       "      <th>ASC_SAME</th>\n",
       "      <td>-1.405625</td>\n",
       "      <td>0.151060</td>\n",
       "      <td>-9.305079</td>\n",
       "      <td>0.000000e+00</td>\n",
       "      <td>0.151512</td>\n",
       "      <td>-9.277309</td>\n",
       "      <td>0.000000e+00</td>\n",
       "    </tr>\n",
       "    <tr>\n",
       "      <th>EARLY</th>\n",
       "      <td>-0.154015</td>\n",
       "      <td>0.017739</td>\n",
       "      <td>-8.682418</td>\n",
       "      <td>0.000000e+00</td>\n",
       "      <td>0.018907</td>\n",
       "      <td>-8.145877</td>\n",
       "      <td>4.440892e-16</td>\n",
       "    </tr>\n",
       "    <tr>\n",
       "      <th>FARE_business</th>\n",
       "      <td>-0.528442</td>\n",
       "      <td>0.062934</td>\n",
       "      <td>-8.396797</td>\n",
       "      <td>0.000000e+00</td>\n",
       "      <td>0.062968</td>\n",
       "      <td>-8.392248</td>\n",
       "      <td>0.000000e+00</td>\n",
       "    </tr>\n",
       "    <tr>\n",
       "      <th>FARE_business_leisure</th>\n",
       "      <td>-0.814890</td>\n",
       "      <td>0.090209</td>\n",
       "      <td>-9.033311</td>\n",
       "      <td>0.000000e+00</td>\n",
       "      <td>0.093356</td>\n",
       "      <td>-8.728858</td>\n",
       "      <td>0.000000e+00</td>\n",
       "    </tr>\n",
       "    <tr>\n",
       "      <th>FARE_conf</th>\n",
       "      <td>-1.123253</td>\n",
       "      <td>0.194778</td>\n",
       "      <td>-5.766838</td>\n",
       "      <td>8.077261e-09</td>\n",
       "      <td>0.197850</td>\n",
       "      <td>-5.677293</td>\n",
       "      <td>1.368430e-08</td>\n",
       "    </tr>\n",
       "    <tr>\n",
       "      <th>FARE_leisure</th>\n",
       "      <td>-1.046398</td>\n",
       "      <td>0.049973</td>\n",
       "      <td>-20.939274</td>\n",
       "      <td>0.000000e+00</td>\n",
       "      <td>0.052825</td>\n",
       "      <td>-19.808740</td>\n",
       "      <td>0.000000e+00</td>\n",
       "    </tr>\n",
       "    <tr>\n",
       "      <th>FARE_unknown</th>\n",
       "      <td>-1.788409</td>\n",
       "      <td>1.034386</td>\n",
       "      <td>-1.728957</td>\n",
       "      <td>8.381672e-02</td>\n",
       "      <td>0.897125</td>\n",
       "      <td>-1.993489</td>\n",
       "      <td>4.620794e-02</td>\n",
       "    </tr>\n",
       "    <tr>\n",
       "      <th>LATE</th>\n",
       "      <td>-0.112870</td>\n",
       "      <td>0.014089</td>\n",
       "      <td>-8.011422</td>\n",
       "      <td>1.110223e-15</td>\n",
       "      <td>0.015030</td>\n",
       "      <td>-7.509832</td>\n",
       "      <td>5.928591e-14</td>\n",
       "    </tr>\n",
       "    <tr>\n",
       "      <th>LEGROOM</th>\n",
       "      <td>0.524989</td>\n",
       "      <td>0.060546</td>\n",
       "      <td>8.670972</td>\n",
       "      <td>0.000000e+00</td>\n",
       "      <td>0.063975</td>\n",
       "      <td>8.206165</td>\n",
       "      <td>2.220446e-16</td>\n",
       "    </tr>\n",
       "    <tr>\n",
       "      <th>MU</th>\n",
       "      <td>0.903167</td>\n",
       "      <td>0.056825</td>\n",
       "      <td>15.893940</td>\n",
       "      <td>0.000000e+00</td>\n",
       "      <td>0.059373</td>\n",
       "      <td>15.211746</td>\n",
       "      <td>0.000000e+00</td>\n",
       "    </tr>\n",
       "    <tr>\n",
       "      <th>TIME</th>\n",
       "      <td>-1.556242</td>\n",
       "      <td>0.281370</td>\n",
       "      <td>-5.530944</td>\n",
       "      <td>3.185118e-08</td>\n",
       "      <td>0.284882</td>\n",
       "      <td>-5.462765</td>\n",
       "      <td>4.687757e-08</td>\n",
       "    </tr>\n",
       "  </tbody>\n",
       "</table>\n",
       "</div>"
      ],
      "text/plain": [
       "                          Value   Std err     t-test       p-value  \\\n",
       "ASC_MULTIPLE          -1.494931  0.130743 -11.434153  0.000000e+00   \n",
       "ASC_SAME              -1.405625  0.151060  -9.305079  0.000000e+00   \n",
       "EARLY                 -0.154015  0.017739  -8.682418  0.000000e+00   \n",
       "FARE_business         -0.528442  0.062934  -8.396797  0.000000e+00   \n",
       "FARE_business_leisure -0.814890  0.090209  -9.033311  0.000000e+00   \n",
       "FARE_conf             -1.123253  0.194778  -5.766838  8.077261e-09   \n",
       "FARE_leisure          -1.046398  0.049973 -20.939274  0.000000e+00   \n",
       "FARE_unknown          -1.788409  1.034386  -1.728957  8.381672e-02   \n",
       "LATE                  -0.112870  0.014089  -8.011422  1.110223e-15   \n",
       "LEGROOM                0.524989  0.060546   8.670972  0.000000e+00   \n",
       "MU                     0.903167  0.056825  15.893940  0.000000e+00   \n",
       "TIME                  -1.556242  0.281370  -5.530944  3.185118e-08   \n",
       "\n",
       "                       Rob. Std err  Rob. t-test  Rob. p-value  \n",
       "ASC_MULTIPLE               0.129780   -11.518927  0.000000e+00  \n",
       "ASC_SAME                   0.151512    -9.277309  0.000000e+00  \n",
       "EARLY                      0.018907    -8.145877  4.440892e-16  \n",
       "FARE_business              0.062968    -8.392248  0.000000e+00  \n",
       "FARE_business_leisure      0.093356    -8.728858  0.000000e+00  \n",
       "FARE_conf                  0.197850    -5.677293  1.368430e-08  \n",
       "FARE_leisure               0.052825   -19.808740  0.000000e+00  \n",
       "FARE_unknown               0.897125    -1.993489  4.620794e-02  \n",
       "LATE                       0.015030    -7.509832  5.928591e-14  \n",
       "LEGROOM                    0.063975     8.206165  2.220446e-16  \n",
       "MU                         0.059373    15.211746  0.000000e+00  \n",
       "TIME                       0.284882    -5.462765  4.687757e-08  "
      ]
     },
     "execution_count": 19,
     "metadata": {},
     "output_type": "execute_result"
    }
   ],
   "source": [
    "nested_same_table = nested_same_results.getEstimatedParameters()\n",
    "nested_same_table"
   ]
  },
  {
   "cell_type": "markdown",
   "metadata": {},
   "source": [
    "The nest parameter is less than one, and the model is invalid."
   ]
  },
  {
   "cell_type": "code",
   "execution_count": 20,
   "metadata": {},
   "outputs": [
    {
     "data": {
      "text/plain": [
       "0.9031669052663268"
      ]
     },
     "execution_count": 20,
     "metadata": {},
     "output_type": "execute_result"
    }
   ],
   "source": [
    "mu = nested_same_table.loc['MU', 'Value']\n",
    "mu"
   ]
  },
  {
   "cell_type": "markdown",
   "metadata": {},
   "source": [
    "We re-estimate the model while imposing the nest parameter to take valid values. "
   ]
  },
  {
   "cell_type": "code",
   "execution_count": 21,
   "metadata": {},
   "outputs": [],
   "source": [
    "MU = Beta('MU', 1, 1, None, 0)\n",
    "same = MU, [1, 2]\n",
    "multiple = 1.0, [3]\n",
    "nests = same, multiple\n",
    "logprob = models.lognested(V, None, nests, chosenAlternative)\n",
    "if read_results_from_file:\n",
    "    pickle_file = f'{url_root}nested_same_constrained16b.pickle'\n",
    "    with urlopen(pickle_file) as p:\n",
    "        data = pickle.load(p)\n",
    "    nested_same_results = res.bioResults(data)\n",
    "else:\n",
    "    biogeme = bio.BIOGEME(database, logprob)\n",
    "    biogeme.modelName = 'nested_same_constrained'\n",
    "    nested_same_results = biogeme.estimate(algorithm=opt.bioNewton)"
   ]
  },
  {
   "cell_type": "code",
   "execution_count": 22,
   "metadata": {},
   "outputs": [
    {
     "name": "stdout",
     "output_type": "stream",
     "text": [
      "Results for model nested_same_constrained\n",
      "Nbr of parameters:\t\t12\n",
      "Sample size:\t\t\t3609\n",
      "Excluded data:\t\t\t0\n",
      "Final log likelihood:\t\t-2240.898\n",
      "Akaike Information Criterion:\t4505.795\n",
      "Bayesian Information Criterion:\t4580.089\n",
      "\n"
     ]
    }
   ],
   "source": [
    "print(nested_same_results.shortSummary())"
   ]
  },
  {
   "cell_type": "code",
   "execution_count": 23,
   "metadata": {},
   "outputs": [
    {
     "data": {
      "text/html": [
       "<div>\n",
       "<style scoped>\n",
       "    .dataframe tbody tr th:only-of-type {\n",
       "        vertical-align: middle;\n",
       "    }\n",
       "\n",
       "    .dataframe tbody tr th {\n",
       "        vertical-align: top;\n",
       "    }\n",
       "\n",
       "    .dataframe thead th {\n",
       "        text-align: right;\n",
       "    }\n",
       "</style>\n",
       "<table border=\"1\" class=\"dataframe\">\n",
       "  <thead>\n",
       "    <tr style=\"text-align: right;\">\n",
       "      <th></th>\n",
       "      <th>Value</th>\n",
       "      <th>Active bound</th>\n",
       "      <th>Std err</th>\n",
       "      <th>t-test</th>\n",
       "      <th>p-value</th>\n",
       "      <th>Rob. Std err</th>\n",
       "      <th>Rob. t-test</th>\n",
       "      <th>Rob. p-value</th>\n",
       "    </tr>\n",
       "  </thead>\n",
       "  <tbody>\n",
       "    <tr>\n",
       "      <th>ASC_MULTIPLE</th>\n",
       "      <td>-1.501663</td>\n",
       "      <td>0.0</td>\n",
       "      <td>0.124962</td>\n",
       "      <td>-12.016921</td>\n",
       "      <td>0.000000e+00</td>\n",
       "      <td>0.123767</td>\n",
       "      <td>-12.132969</td>\n",
       "      <td>0.000000e+00</td>\n",
       "    </tr>\n",
       "    <tr>\n",
       "      <th>ASC_SAME</th>\n",
       "      <td>-1.290907</td>\n",
       "      <td>0.0</td>\n",
       "      <td>0.143745</td>\n",
       "      <td>-8.980557</td>\n",
       "      <td>0.000000e+00</td>\n",
       "      <td>0.146204</td>\n",
       "      <td>-8.829468</td>\n",
       "      <td>0.000000e+00</td>\n",
       "    </tr>\n",
       "    <tr>\n",
       "      <th>EARLY</th>\n",
       "      <td>-0.145137</td>\n",
       "      <td>0.0</td>\n",
       "      <td>0.017035</td>\n",
       "      <td>-8.519894</td>\n",
       "      <td>0.000000e+00</td>\n",
       "      <td>0.018212</td>\n",
       "      <td>-7.969505</td>\n",
       "      <td>1.554312e-15</td>\n",
       "    </tr>\n",
       "    <tr>\n",
       "      <th>FARE_business</th>\n",
       "      <td>-0.500041</td>\n",
       "      <td>0.0</td>\n",
       "      <td>0.060479</td>\n",
       "      <td>-8.268032</td>\n",
       "      <td>2.220446e-16</td>\n",
       "      <td>0.060808</td>\n",
       "      <td>-8.223247</td>\n",
       "      <td>2.220446e-16</td>\n",
       "    </tr>\n",
       "    <tr>\n",
       "      <th>FARE_business_leisure</th>\n",
       "      <td>-0.768375</td>\n",
       "      <td>0.0</td>\n",
       "      <td>0.086937</td>\n",
       "      <td>-8.838351</td>\n",
       "      <td>0.000000e+00</td>\n",
       "      <td>0.090859</td>\n",
       "      <td>-8.456810</td>\n",
       "      <td>0.000000e+00</td>\n",
       "    </tr>\n",
       "    <tr>\n",
       "      <th>FARE_conf</th>\n",
       "      <td>-1.061405</td>\n",
       "      <td>0.0</td>\n",
       "      <td>0.185874</td>\n",
       "      <td>-5.710357</td>\n",
       "      <td>1.127396e-08</td>\n",
       "      <td>0.193487</td>\n",
       "      <td>-5.485658</td>\n",
       "      <td>4.119337e-08</td>\n",
       "    </tr>\n",
       "    <tr>\n",
       "      <th>FARE_leisure</th>\n",
       "      <td>-0.991824</td>\n",
       "      <td>0.0</td>\n",
       "      <td>0.050792</td>\n",
       "      <td>-19.527322</td>\n",
       "      <td>0.000000e+00</td>\n",
       "      <td>0.054628</td>\n",
       "      <td>-18.155824</td>\n",
       "      <td>0.000000e+00</td>\n",
       "    </tr>\n",
       "    <tr>\n",
       "      <th>FARE_unknown</th>\n",
       "      <td>-1.748582</td>\n",
       "      <td>0.0</td>\n",
       "      <td>0.974559</td>\n",
       "      <td>-1.794229</td>\n",
       "      <td>7.277669e-02</td>\n",
       "      <td>0.800052</td>\n",
       "      <td>-2.185584</td>\n",
       "      <td>2.884605e-02</td>\n",
       "    </tr>\n",
       "    <tr>\n",
       "      <th>LATE</th>\n",
       "      <td>-0.107473</td>\n",
       "      <td>0.0</td>\n",
       "      <td>0.013503</td>\n",
       "      <td>-7.958942</td>\n",
       "      <td>1.776357e-15</td>\n",
       "      <td>0.014440</td>\n",
       "      <td>-7.442942</td>\n",
       "      <td>9.836576e-14</td>\n",
       "    </tr>\n",
       "    <tr>\n",
       "      <th>LEGROOM</th>\n",
       "      <td>0.495055</td>\n",
       "      <td>0.0</td>\n",
       "      <td>0.058056</td>\n",
       "      <td>8.527262</td>\n",
       "      <td>0.000000e+00</td>\n",
       "      <td>0.061703</td>\n",
       "      <td>8.023224</td>\n",
       "      <td>1.110223e-15</td>\n",
       "    </tr>\n",
       "    <tr>\n",
       "      <th>MU</th>\n",
       "      <td>1.000000</td>\n",
       "      <td>1.0</td>\n",
       "      <td>0.066948</td>\n",
       "      <td>14.936862</td>\n",
       "      <td>0.000000e+00</td>\n",
       "      <td>0.073883</td>\n",
       "      <td>13.534952</td>\n",
       "      <td>0.000000e+00</td>\n",
       "    </tr>\n",
       "    <tr>\n",
       "      <th>TIME</th>\n",
       "      <td>-1.461296</td>\n",
       "      <td>0.0</td>\n",
       "      <td>0.268719</td>\n",
       "      <td>-5.438009</td>\n",
       "      <td>5.387934e-08</td>\n",
       "      <td>0.272511</td>\n",
       "      <td>-5.362339</td>\n",
       "      <td>8.215117e-08</td>\n",
       "    </tr>\n",
       "  </tbody>\n",
       "</table>\n",
       "</div>"
      ],
      "text/plain": [
       "                          Value  Active bound   Std err     t-test  \\\n",
       "ASC_MULTIPLE          -1.501663           0.0  0.124962 -12.016921   \n",
       "ASC_SAME              -1.290907           0.0  0.143745  -8.980557   \n",
       "EARLY                 -0.145137           0.0  0.017035  -8.519894   \n",
       "FARE_business         -0.500041           0.0  0.060479  -8.268032   \n",
       "FARE_business_leisure -0.768375           0.0  0.086937  -8.838351   \n",
       "FARE_conf             -1.061405           0.0  0.185874  -5.710357   \n",
       "FARE_leisure          -0.991824           0.0  0.050792 -19.527322   \n",
       "FARE_unknown          -1.748582           0.0  0.974559  -1.794229   \n",
       "LATE                  -0.107473           0.0  0.013503  -7.958942   \n",
       "LEGROOM                0.495055           0.0  0.058056   8.527262   \n",
       "MU                     1.000000           1.0  0.066948  14.936862   \n",
       "TIME                  -1.461296           0.0  0.268719  -5.438009   \n",
       "\n",
       "                            p-value  Rob. Std err  Rob. t-test  Rob. p-value  \n",
       "ASC_MULTIPLE           0.000000e+00      0.123767   -12.132969  0.000000e+00  \n",
       "ASC_SAME               0.000000e+00      0.146204    -8.829468  0.000000e+00  \n",
       "EARLY                  0.000000e+00      0.018212    -7.969505  1.554312e-15  \n",
       "FARE_business          2.220446e-16      0.060808    -8.223247  2.220446e-16  \n",
       "FARE_business_leisure  0.000000e+00      0.090859    -8.456810  0.000000e+00  \n",
       "FARE_conf              1.127396e-08      0.193487    -5.485658  4.119337e-08  \n",
       "FARE_leisure           0.000000e+00      0.054628   -18.155824  0.000000e+00  \n",
       "FARE_unknown           7.277669e-02      0.800052    -2.185584  2.884605e-02  \n",
       "LATE                   1.776357e-15      0.014440    -7.442942  9.836576e-14  \n",
       "LEGROOM                0.000000e+00      0.061703     8.023224  1.110223e-15  \n",
       "MU                     0.000000e+00      0.073883    13.534952  0.000000e+00  \n",
       "TIME                   5.387934e-08      0.272511    -5.362339  8.215117e-08  "
      ]
     },
     "execution_count": 23,
     "metadata": {},
     "output_type": "execute_result"
    }
   ],
   "source": [
    "nested_same_table = nested_same_results.getEstimatedParameters()\n",
    "nested_same_table"
   ]
  },
  {
   "cell_type": "markdown",
   "metadata": {},
   "source": [
    "The nest parameter is exactly one, and the model is equivalent to the logit model."
   ]
  },
  {
   "cell_type": "code",
   "execution_count": 24,
   "metadata": {},
   "outputs": [
    {
     "data": {
      "text/plain": [
       "1.0"
      ]
     },
     "execution_count": 24,
     "metadata": {},
     "output_type": "execute_result"
    }
   ],
   "source": [
    "mu = nested_same_table.loc['MU', 'Value']\n",
    "mu"
   ]
  },
  {
   "cell_type": "markdown",
   "metadata": {},
   "source": [
    "## Cross-nested logit"
   ]
  },
  {
   "cell_type": "markdown",
   "metadata": {},
   "source": [
    "We estimate a cross-nested logit model with two nests. One with the alternatives corresponding to \"one stop\", and one with the alternatives corresponding to \"same airline\". Note that alternative 2 belong to both. We constraint the nest parameters to take only valid values. "
   ]
  },
  {
   "cell_type": "code",
   "execution_count": 25,
   "metadata": {},
   "outputs": [],
   "source": [
    "MU_SAME = Beta('MU_SAME', 1, 1, None, 0)\n",
    "MU_ONESTOP = Beta('MU_ONESTOP', 1, 1, None, 0)\n",
    "ALPHA_ONESTOP = Beta('ALPHA_ONESTOP', 0.5, 0, 1, 0)\n",
    "ALPHA_SAME = 1 - ALPHA_ONESTOP\n",
    "\n",
    "alpha_onestop = {1: 0.0,\n",
    "                 2: ALPHA_ONESTOP,\n",
    "                 3: 1.0}\n",
    "\n",
    "alpha_same = {1: 1.0,\n",
    "              2: ALPHA_SAME,\n",
    "              3: 0.0}\n",
    "\n",
    "nest_same = MU_SAME, alpha_same\n",
    "nest_onestop = MU_ONESTOP, alpha_onestop\n",
    "nests = nest_same, nest_onestop\n",
    "\n",
    "logprob = models.logcnl(V, None, nests, chosenAlternative)\n",
    "\n",
    "if read_results_from_file:\n",
    "    pickle_file = f'{url_root}cnl16b.pickle'\n",
    "    with urlopen(pickle_file) as p:\n",
    "        data = pickle.load(p)\n",
    "    cnl_results = res.bioResults(data)\n",
    "else:\n",
    "    biogeme = bio.BIOGEME(database, logprob)\n",
    "    biogeme.modelName = 'cnl'\n",
    "    cnl_results = biogeme.estimate(algorithm=opt.bioNewton)"
   ]
  },
  {
   "cell_type": "code",
   "execution_count": 26,
   "metadata": {},
   "outputs": [
    {
     "name": "stdout",
     "output_type": "stream",
     "text": [
      "Results for model cnl\n",
      "Nbr of parameters:\t\t14\n",
      "Sample size:\t\t\t3609\n",
      "Excluded data:\t\t\t0\n",
      "Final log likelihood:\t\t-2219.47\n",
      "Akaike Information Criterion:\t4466.941\n",
      "Bayesian Information Criterion:\t4553.617\n",
      "\n"
     ]
    }
   ],
   "source": [
    "print(cnl_results.shortSummary())"
   ]
  },
  {
   "cell_type": "code",
   "execution_count": 27,
   "metadata": {},
   "outputs": [
    {
     "data": {
      "text/html": [
       "<div>\n",
       "<style scoped>\n",
       "    .dataframe tbody tr th:only-of-type {\n",
       "        vertical-align: middle;\n",
       "    }\n",
       "\n",
       "    .dataframe tbody tr th {\n",
       "        vertical-align: top;\n",
       "    }\n",
       "\n",
       "    .dataframe thead th {\n",
       "        text-align: right;\n",
       "    }\n",
       "</style>\n",
       "<table border=\"1\" class=\"dataframe\">\n",
       "  <thead>\n",
       "    <tr style=\"text-align: right;\">\n",
       "      <th></th>\n",
       "      <th>Value</th>\n",
       "      <th>Active bound</th>\n",
       "      <th>Std err</th>\n",
       "      <th>t-test</th>\n",
       "      <th>p-value</th>\n",
       "      <th>Rob. Std err</th>\n",
       "      <th>Rob. t-test</th>\n",
       "      <th>Rob. p-value</th>\n",
       "    </tr>\n",
       "  </thead>\n",
       "  <tbody>\n",
       "    <tr>\n",
       "      <th>ALPHA_ONESTOP</th>\n",
       "      <td>0.753586</td>\n",
       "      <td>0.0</td>\n",
       "      <td>0.148678</td>\n",
       "      <td>5.068571</td>\n",
       "      <td>4.008141e-07</td>\n",
       "      <td>0.129215</td>\n",
       "      <td>5.832020</td>\n",
       "      <td>5.476021e-09</td>\n",
       "    </tr>\n",
       "    <tr>\n",
       "      <th>ASC_MULTIPLE</th>\n",
       "      <td>-1.272131</td>\n",
       "      <td>0.0</td>\n",
       "      <td>0.109733</td>\n",
       "      <td>-11.592914</td>\n",
       "      <td>0.000000e+00</td>\n",
       "      <td>0.106537</td>\n",
       "      <td>-11.940709</td>\n",
       "      <td>0.000000e+00</td>\n",
       "    </tr>\n",
       "    <tr>\n",
       "      <th>ASC_SAME</th>\n",
       "      <td>-1.077414</td>\n",
       "      <td>0.0</td>\n",
       "      <td>0.140819</td>\n",
       "      <td>-7.651036</td>\n",
       "      <td>1.998401e-14</td>\n",
       "      <td>0.147750</td>\n",
       "      <td>-7.292126</td>\n",
       "      <td>3.050893e-13</td>\n",
       "    </tr>\n",
       "    <tr>\n",
       "      <th>EARLY</th>\n",
       "      <td>-0.129156</td>\n",
       "      <td>0.0</td>\n",
       "      <td>0.015115</td>\n",
       "      <td>-8.544744</td>\n",
       "      <td>0.000000e+00</td>\n",
       "      <td>0.016081</td>\n",
       "      <td>-8.031806</td>\n",
       "      <td>8.881784e-16</td>\n",
       "    </tr>\n",
       "    <tr>\n",
       "      <th>FARE_business</th>\n",
       "      <td>-0.436846</td>\n",
       "      <td>0.0</td>\n",
       "      <td>0.053477</td>\n",
       "      <td>-8.168873</td>\n",
       "      <td>2.220446e-16</td>\n",
       "      <td>0.052386</td>\n",
       "      <td>-8.338936</td>\n",
       "      <td>0.000000e+00</td>\n",
       "    </tr>\n",
       "    <tr>\n",
       "      <th>FARE_business_leisure</th>\n",
       "      <td>-0.685015</td>\n",
       "      <td>0.0</td>\n",
       "      <td>0.081274</td>\n",
       "      <td>-8.428497</td>\n",
       "      <td>0.000000e+00</td>\n",
       "      <td>0.085448</td>\n",
       "      <td>-8.016748</td>\n",
       "      <td>1.110223e-15</td>\n",
       "    </tr>\n",
       "    <tr>\n",
       "      <th>FARE_conf</th>\n",
       "      <td>-0.965359</td>\n",
       "      <td>0.0</td>\n",
       "      <td>0.175928</td>\n",
       "      <td>-5.487238</td>\n",
       "      <td>4.082680e-08</td>\n",
       "      <td>0.174680</td>\n",
       "      <td>-5.526432</td>\n",
       "      <td>3.268096e-08</td>\n",
       "    </tr>\n",
       "    <tr>\n",
       "      <th>FARE_leisure</th>\n",
       "      <td>-0.865615</td>\n",
       "      <td>0.0</td>\n",
       "      <td>0.052757</td>\n",
       "      <td>-16.407647</td>\n",
       "      <td>0.000000e+00</td>\n",
       "      <td>0.057357</td>\n",
       "      <td>-15.091675</td>\n",
       "      <td>0.000000e+00</td>\n",
       "    </tr>\n",
       "    <tr>\n",
       "      <th>FARE_unknown</th>\n",
       "      <td>-1.504891</td>\n",
       "      <td>0.0</td>\n",
       "      <td>0.917015</td>\n",
       "      <td>-1.641075</td>\n",
       "      <td>1.007818e-01</td>\n",
       "      <td>0.725470</td>\n",
       "      <td>-2.074366</td>\n",
       "      <td>3.804531e-02</td>\n",
       "    </tr>\n",
       "    <tr>\n",
       "      <th>LATE</th>\n",
       "      <td>-0.086158</td>\n",
       "      <td>0.0</td>\n",
       "      <td>0.011905</td>\n",
       "      <td>-7.237016</td>\n",
       "      <td>4.587442e-13</td>\n",
       "      <td>0.012894</td>\n",
       "      <td>-6.682002</td>\n",
       "      <td>2.357003e-11</td>\n",
       "    </tr>\n",
       "    <tr>\n",
       "      <th>LEGROOM</th>\n",
       "      <td>0.418128</td>\n",
       "      <td>0.0</td>\n",
       "      <td>0.051772</td>\n",
       "      <td>8.076264</td>\n",
       "      <td>6.661338e-16</td>\n",
       "      <td>0.055205</td>\n",
       "      <td>7.574030</td>\n",
       "      <td>3.619327e-14</td>\n",
       "    </tr>\n",
       "    <tr>\n",
       "      <th>MU_ONESTOP</th>\n",
       "      <td>1.858714</td>\n",
       "      <td>0.0</td>\n",
       "      <td>0.213979</td>\n",
       "      <td>8.686415</td>\n",
       "      <td>0.000000e+00</td>\n",
       "      <td>0.222296</td>\n",
       "      <td>8.361422</td>\n",
       "      <td>0.000000e+00</td>\n",
       "    </tr>\n",
       "    <tr>\n",
       "      <th>MU_SAME</th>\n",
       "      <td>1.000000</td>\n",
       "      <td>1.0</td>\n",
       "      <td>0.168144</td>\n",
       "      <td>5.947297</td>\n",
       "      <td>2.726065e-09</td>\n",
       "      <td>0.195174</td>\n",
       "      <td>5.123630</td>\n",
       "      <td>2.997086e-07</td>\n",
       "    </tr>\n",
       "    <tr>\n",
       "      <th>TIME</th>\n",
       "      <td>-1.301459</td>\n",
       "      <td>0.0</td>\n",
       "      <td>0.227081</td>\n",
       "      <td>-5.731262</td>\n",
       "      <td>9.968623e-09</td>\n",
       "      <td>0.230158</td>\n",
       "      <td>-5.654624</td>\n",
       "      <td>1.561878e-08</td>\n",
       "    </tr>\n",
       "  </tbody>\n",
       "</table>\n",
       "</div>"
      ],
      "text/plain": [
       "                          Value  Active bound   Std err     t-test  \\\n",
       "ALPHA_ONESTOP          0.753586           0.0  0.148678   5.068571   \n",
       "ASC_MULTIPLE          -1.272131           0.0  0.109733 -11.592914   \n",
       "ASC_SAME              -1.077414           0.0  0.140819  -7.651036   \n",
       "EARLY                 -0.129156           0.0  0.015115  -8.544744   \n",
       "FARE_business         -0.436846           0.0  0.053477  -8.168873   \n",
       "FARE_business_leisure -0.685015           0.0  0.081274  -8.428497   \n",
       "FARE_conf             -0.965359           0.0  0.175928  -5.487238   \n",
       "FARE_leisure          -0.865615           0.0  0.052757 -16.407647   \n",
       "FARE_unknown          -1.504891           0.0  0.917015  -1.641075   \n",
       "LATE                  -0.086158           0.0  0.011905  -7.237016   \n",
       "LEGROOM                0.418128           0.0  0.051772   8.076264   \n",
       "MU_ONESTOP             1.858714           0.0  0.213979   8.686415   \n",
       "MU_SAME                1.000000           1.0  0.168144   5.947297   \n",
       "TIME                  -1.301459           0.0  0.227081  -5.731262   \n",
       "\n",
       "                            p-value  Rob. Std err  Rob. t-test  Rob. p-value  \n",
       "ALPHA_ONESTOP          4.008141e-07      0.129215     5.832020  5.476021e-09  \n",
       "ASC_MULTIPLE           0.000000e+00      0.106537   -11.940709  0.000000e+00  \n",
       "ASC_SAME               1.998401e-14      0.147750    -7.292126  3.050893e-13  \n",
       "EARLY                  0.000000e+00      0.016081    -8.031806  8.881784e-16  \n",
       "FARE_business          2.220446e-16      0.052386    -8.338936  0.000000e+00  \n",
       "FARE_business_leisure  0.000000e+00      0.085448    -8.016748  1.110223e-15  \n",
       "FARE_conf              4.082680e-08      0.174680    -5.526432  3.268096e-08  \n",
       "FARE_leisure           0.000000e+00      0.057357   -15.091675  0.000000e+00  \n",
       "FARE_unknown           1.007818e-01      0.725470    -2.074366  3.804531e-02  \n",
       "LATE                   4.587442e-13      0.012894    -6.682002  2.357003e-11  \n",
       "LEGROOM                6.661338e-16      0.055205     7.574030  3.619327e-14  \n",
       "MU_ONESTOP             0.000000e+00      0.222296     8.361422  0.000000e+00  \n",
       "MU_SAME                2.726065e-09      0.195174     5.123630  2.997086e-07  \n",
       "TIME                   9.968623e-09      0.230158    -5.654624  1.561878e-08  "
      ]
     },
     "execution_count": 27,
     "metadata": {},
     "output_type": "execute_result"
    }
   ],
   "source": [
    "cnl_table = cnl_results.getEstimatedParameters()\n",
    "cnl_table"
   ]
  },
  {
   "cell_type": "markdown",
   "metadata": {},
   "source": [
    "The $\\mu$ parameter of each nest is larger or equal to 1, as requested above. "
   ]
  },
  {
   "cell_type": "code",
   "execution_count": 28,
   "metadata": {},
   "outputs": [
    {
     "data": {
      "text/plain": [
       "1.0"
      ]
     },
     "execution_count": 28,
     "metadata": {},
     "output_type": "execute_result"
    }
   ],
   "source": [
    "mu_same = cnl_table.loc['MU_SAME', 'Value']\n",
    "mu_same"
   ]
  },
  {
   "cell_type": "code",
   "execution_count": 29,
   "metadata": {},
   "outputs": [
    {
     "data": {
      "text/plain": [
       "1.858714007881218"
      ]
     },
     "execution_count": 29,
     "metadata": {},
     "output_type": "execute_result"
    }
   ],
   "source": [
    "mu_onestop = cnl_table.loc['MU_ONESTOP', 'Value']\n",
    "mu_onestop"
   ]
  },
  {
   "cell_type": "markdown",
   "metadata": {},
   "source": [
    "The $\\alpha$ parameter is different from 0 and 1."
   ]
  },
  {
   "cell_type": "code",
   "execution_count": 30,
   "metadata": {},
   "outputs": [
    {
     "data": {
      "text/plain": [
       "0.7535855174193948"
      ]
     },
     "execution_count": 30,
     "metadata": {},
     "output_type": "execute_result"
    }
   ],
   "source": [
    "alpha = cnl_table.loc['ALPHA_ONESTOP', 'Value']\n",
    "alpha"
   ]
  },
  {
   "cell_type": "markdown",
   "metadata": {},
   "source": [
    "It is significantly different from 0."
   ]
  },
  {
   "cell_type": "code",
   "execution_count": 31,
   "metadata": {},
   "outputs": [
    {
     "data": {
      "text/plain": [
       "5.8320204246609535"
      ]
     },
     "execution_count": 31,
     "metadata": {},
     "output_type": "execute_result"
    }
   ],
   "source": [
    "cnl_table.loc['ALPHA_ONESTOP', 'Rob. t-test']"
   ]
  },
  {
   "cell_type": "markdown",
   "metadata": {},
   "source": [
    "It is significantly different from 1."
   ]
  },
  {
   "cell_type": "code",
   "execution_count": 32,
   "metadata": {},
   "outputs": [
    {
     "data": {
      "text/plain": [
       "1.907008908907362"
      ]
     },
     "execution_count": 32,
     "metadata": {},
     "output_type": "execute_result"
    }
   ],
   "source": [
    "alpha_stderr = cnl_table.loc['ALPHA_ONESTOP', 'Rob. Std err']\n",
    "tested_value = 1\n",
    "ttest = (tested_value - alpha) / alpha_stderr\n",
    "ttest"
   ]
  },
  {
   "cell_type": "markdown",
   "metadata": {},
   "source": [
    "We test the null hypothesis that the model is equivalent to the nested logit model estimated before. "
   ]
  },
  {
   "cell_type": "code",
   "execution_count": 33,
   "metadata": {},
   "outputs": [
    {
     "data": {
      "text/plain": [
       "3.3519699385424246"
      ]
     },
     "execution_count": 33,
     "metadata": {},
     "output_type": "execute_result"
    }
   ],
   "source": [
    "LL_nested_onestop = nested_onestop_results.data.logLike\n",
    "LL_cnl = cnl_results.data.logLike\n",
    "LR = -2 * (LL_nested_onestop - LL_cnl)\n",
    "LR"
   ]
  },
  {
   "cell_type": "markdown",
   "metadata": {},
   "source": [
    "Number of degrees of freedom:"
   ]
  },
  {
   "cell_type": "code",
   "execution_count": 34,
   "metadata": {},
   "outputs": [
    {
     "data": {
      "text/plain": [
       "2"
      ]
     },
     "execution_count": 34,
     "metadata": {},
     "output_type": "execute_result"
    }
   ],
   "source": [
    "dof = cnl_results.data.nparam - nested_onestop_results.data.nparam \n",
    "dof"
   ]
  },
  {
   "cell_type": "markdown",
   "metadata": {},
   "source": [
    "The threshold value of the $\\chi$-square test at 5% level is:"
   ]
  },
  {
   "cell_type": "code",
   "execution_count": 35,
   "metadata": {},
   "outputs": [
    {
     "data": {
      "text/plain": [
       "5.991464547107983"
      ]
     },
     "execution_count": 35,
     "metadata": {},
     "output_type": "execute_result"
    }
   ],
   "source": [
    "chi2.isf(0.05, dof)"
   ]
  },
  {
   "cell_type": "markdown",
   "metadata": {},
   "source": [
    "Therefore, the null hypothesis cannot be rejected, and the nested logit model is preferred. "
   ]
  }
 ],
 "metadata": {
  "kernelspec": {
   "display_name": "Python 3 (ipykernel)",
   "language": "python",
   "name": "python3"
  },
  "language_info": {
   "codemirror_mode": {
    "name": "ipython",
    "version": 3
   },
   "file_extension": ".py",
   "mimetype": "text/x-python",
   "name": "python",
   "nbconvert_exporter": "python",
   "pygments_lexer": "ipython3",
   "version": "3.9.6"
  }
 },
 "nbformat": 4,
 "nbformat_minor": 4
}
