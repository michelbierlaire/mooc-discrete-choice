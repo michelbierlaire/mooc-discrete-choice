{
 "cells": [
  {
   "cell_type": "markdown",
   "metadata": {},
   "source": [
    "Consider the estimation of the dynamic choice model with panel effects that was performed in the previous quiz, and reported below for reference. The objective of this excercise is to address the \"initial condition problem\" using Wooldridge's method."
   ]
  },
  {
   "cell_type": "code",
   "execution_count": 1,
   "metadata": {},
   "outputs": [],
   "source": [
    "import pandas as pd\n",
    "import pickle\n",
    "from urllib.request import urlopen\n",
    "import biogeme.database as db\n",
    "import biogeme.biogeme as bio\n",
    "from biogeme import models\n",
    "import biogeme.results as res\n",
    "import biogeme.optimization as opt\n",
    "import biogeme.messaging as msg\n",
    "import biogeme.version as ver\n",
    "from biogeme.expressions import (\n",
    "    Beta,\n",
    "    bioDraws,\n",
    "    PanelLikelihoodTrajectory,\n",
    "    MonteCarlo,\n",
    "    log,\n",
    ")"
   ]
  },
  {
   "cell_type": "markdown",
   "metadata": {},
   "source": [
    "Version of Biogeme"
   ]
  },
  {
   "cell_type": "code",
   "execution_count": 2,
   "metadata": {},
   "outputs": [
    {
     "name": "stdout",
     "output_type": "stream",
     "text": [
      "biogeme 3.2.8 [2021-09-02]\n",
      "Version entirely written in Python\n",
      "Home page: http://biogeme.epfl.ch\n",
      "Submit questions to https://groups.google.com/d/forum/biogeme\n",
      "Michel Bierlaire, Transport and Mobility Laboratory, Ecole Polytechnique Fédérale de Lausanne (EPFL)\n",
      "\n"
     ]
    }
   ],
   "source": [
    "print(ver.getText())"
   ]
  },
  {
   "cell_type": "markdown",
   "metadata": {},
   "source": [
    "The estimation of these models may take a while. It you want to run the notebook using pre-estimated results saved on file, set the number of draws below to `None`"
   ]
  },
  {
   "cell_type": "code",
   "execution_count": 3,
   "metadata": {},
   "outputs": [],
   "source": [
    "#numberOfDraws = 10000\n",
    "numberOfDraws = None"
   ]
  },
  {
   "cell_type": "code",
   "execution_count": 4,
   "metadata": {},
   "outputs": [],
   "source": [
    "def get_results_from_url(file):\n",
    "    pickle_file = f'{url_root}{file}'\n",
    "\n",
    "    with urlopen(pickle_file) as p:\n",
    "        data = pickle.load(p)\n",
    "    return res.bioResults(data)"
   ]
  },
  {
   "cell_type": "code",
   "execution_count": 5,
   "metadata": {},
   "outputs": [],
   "source": [
    "url_root = (\n",
    "    'https://courses.edx.org/'\n",
    "    'asset-v1:EPFLx+ChoiceModels2x+3T2021+type@asset+block@'\n",
    ")"
   ]
  },
  {
   "cell_type": "markdown",
   "metadata": {},
   "source": [
    "# Dynamic Choice Models with Panel Effects"
   ]
  },
  {
   "cell_type": "markdown",
   "metadata": {},
   "source": [
    "We analyze again the smoking behavior of individuals, as a function of their age and the price of tobacco using synthetic data. We develop a model that predicts, for every year, the probability to smoke or not. "
   ]
  },
  {
   "cell_type": "markdown",
   "metadata": {},
   "source": [
    "## Data"
   ]
  },
  {
   "cell_type": "markdown",
   "metadata": {},
   "source": [
    "We postulate a true model for the data generation process. It is a mixture of logit models where the utility associated with \"not smoking\" is  \n",
    "\\begin{equation}\n",
    "U_{0nt}= \\varepsilon_{0nt}\n",
    "\\end{equation}\n",
    " and the utility associated with \"smoking\" is \n",
    "\\begin{equation}\n",
    "U_{1nt}= \\beta_{nt} y_{n,t-1} + \\beta^p_{nt} P_{t} + c_n + \\varepsilon_{1nt},\n",
    "\\end{equation}\n",
    "where \n",
    "\n",
    "- $\\beta_{nt} = 10$,\n",
    "\n",
    "- $y_{n,t-1}=1$ if $n$ is smoking at time $t-1$, $0$ otherwise,\n",
    "\n",
    "- $\\beta^p_{nt} = -0.1$,\n",
    "\n",
    "- $P_t$ is the price of cigarets at time $t$,\n",
    "\n",
    "- $c_n$ is an individual specific constant that captures the a priori, intrinsic attraction of each individual towards smoking. It is assumed to be normally distributed in the population, with zero mean and standard deviation 50: $N(0, 50^2)$,\n",
    "\n",
    "\n",
    "\n"
   ]
  },
  {
   "cell_type": "code",
   "execution_count": 6,
   "metadata": {},
   "outputs": [],
   "source": [
    "logger = msg.bioMessage()\n",
    "logger.setGeneral()"
   ]
  },
  {
   "cell_type": "markdown",
   "metadata": {},
   "source": [
    "## True value of the parameters"
   ]
  },
  {
   "cell_type": "code",
   "execution_count": 7,
   "metadata": {},
   "outputs": [],
   "source": [
    "trueParameters = pd.DataFrame(\n",
    "    {'Value': [\n",
    "        -0.1, \n",
    "        10,\n",
    "        0,\n",
    "        50\n",
    "    ]\n",
    "    }, \n",
    "    index=[\n",
    "        'coef_price', \n",
    "        'beta_last_year',\n",
    "        'cte_mean',\n",
    "        'cte_std'\n",
    "    ]\n",
    ")"
   ]
  },
  {
   "cell_type": "markdown",
   "metadata": {},
   "source": [
    "## Data"
   ]
  },
  {
   "cell_type": "markdown",
   "metadata": {},
   "source": [
    "We observe every individual only from the age of 45 and the age of 55."
   ]
  },
  {
   "cell_type": "code",
   "execution_count": 8,
   "metadata": {},
   "outputs": [
    {
     "data": {
      "text/html": [
       "<div>\n",
       "<style scoped>\n",
       "    .dataframe tbody tr th:only-of-type {\n",
       "        vertical-align: middle;\n",
       "    }\n",
       "\n",
       "    .dataframe tbody tr th {\n",
       "        vertical-align: top;\n",
       "    }\n",
       "\n",
       "    .dataframe thead th {\n",
       "        text-align: right;\n",
       "    }\n",
       "</style>\n",
       "<table border=\"1\" class=\"dataframe\">\n",
       "  <thead>\n",
       "    <tr style=\"text-align: right;\">\n",
       "      <th></th>\n",
       "      <th>Age</th>\n",
       "      <th>Price</th>\n",
       "      <th>Smoking</th>\n",
       "      <th>LastYear</th>\n",
       "      <th>Id</th>\n",
       "      <th>Smoking45</th>\n",
       "    </tr>\n",
       "  </thead>\n",
       "  <tbody>\n",
       "    <tr>\n",
       "      <th>0</th>\n",
       "      <td>45</td>\n",
       "      <td>25.870704</td>\n",
       "      <td>1</td>\n",
       "      <td>1</td>\n",
       "      <td>0</td>\n",
       "      <td>1</td>\n",
       "    </tr>\n",
       "    <tr>\n",
       "      <th>1</th>\n",
       "      <td>46</td>\n",
       "      <td>26.388118</td>\n",
       "      <td>1</td>\n",
       "      <td>1</td>\n",
       "      <td>0</td>\n",
       "      <td>1</td>\n",
       "    </tr>\n",
       "    <tr>\n",
       "      <th>2</th>\n",
       "      <td>47</td>\n",
       "      <td>26.915880</td>\n",
       "      <td>1</td>\n",
       "      <td>1</td>\n",
       "      <td>0</td>\n",
       "      <td>1</td>\n",
       "    </tr>\n",
       "    <tr>\n",
       "      <th>3</th>\n",
       "      <td>48</td>\n",
       "      <td>27.454198</td>\n",
       "      <td>1</td>\n",
       "      <td>1</td>\n",
       "      <td>0</td>\n",
       "      <td>1</td>\n",
       "    </tr>\n",
       "    <tr>\n",
       "      <th>4</th>\n",
       "      <td>49</td>\n",
       "      <td>28.003282</td>\n",
       "      <td>1</td>\n",
       "      <td>1</td>\n",
       "      <td>0</td>\n",
       "      <td>1</td>\n",
       "    </tr>\n",
       "    <tr>\n",
       "      <th>...</th>\n",
       "      <td>...</td>\n",
       "      <td>...</td>\n",
       "      <td>...</td>\n",
       "      <td>...</td>\n",
       "      <td>...</td>\n",
       "      <td>...</td>\n",
       "    </tr>\n",
       "    <tr>\n",
       "      <th>10995</th>\n",
       "      <td>51</td>\n",
       "      <td>29.134614</td>\n",
       "      <td>1</td>\n",
       "      <td>1</td>\n",
       "      <td>999</td>\n",
       "      <td>1</td>\n",
       "    </tr>\n",
       "    <tr>\n",
       "      <th>10996</th>\n",
       "      <td>52</td>\n",
       "      <td>29.717307</td>\n",
       "      <td>1</td>\n",
       "      <td>1</td>\n",
       "      <td>999</td>\n",
       "      <td>1</td>\n",
       "    </tr>\n",
       "    <tr>\n",
       "      <th>10997</th>\n",
       "      <td>53</td>\n",
       "      <td>30.311653</td>\n",
       "      <td>1</td>\n",
       "      <td>1</td>\n",
       "      <td>999</td>\n",
       "      <td>1</td>\n",
       "    </tr>\n",
       "    <tr>\n",
       "      <th>10998</th>\n",
       "      <td>54</td>\n",
       "      <td>30.917886</td>\n",
       "      <td>1</td>\n",
       "      <td>1</td>\n",
       "      <td>999</td>\n",
       "      <td>1</td>\n",
       "    </tr>\n",
       "    <tr>\n",
       "      <th>10999</th>\n",
       "      <td>55</td>\n",
       "      <td>31.536244</td>\n",
       "      <td>1</td>\n",
       "      <td>1</td>\n",
       "      <td>999</td>\n",
       "      <td>1</td>\n",
       "    </tr>\n",
       "  </tbody>\n",
       "</table>\n",
       "<p>11000 rows × 6 columns</p>\n",
       "</div>"
      ],
      "text/plain": [
       "       Age      Price  Smoking  LastYear   Id  Smoking45\n",
       "0       45  25.870704        1         1    0          1\n",
       "1       46  26.388118        1         1    0          1\n",
       "2       47  26.915880        1         1    0          1\n",
       "3       48  27.454198        1         1    0          1\n",
       "4       49  28.003282        1         1    0          1\n",
       "...    ...        ...      ...       ...  ...        ...\n",
       "10995   51  29.134614        1         1  999          1\n",
       "10996   52  29.717307        1         1  999          1\n",
       "10997   53  30.311653        1         1  999          1\n",
       "10998   54  30.917886        1         1  999          1\n",
       "10999   55  31.536244        1         1  999          1\n",
       "\n",
       "[11000 rows x 6 columns]"
      ]
     },
     "execution_count": 8,
     "metadata": {},
     "output_type": "execute_result"
    }
   ],
   "source": [
    "df = pd.read_table(f'{url_root}smoking55.dat', sep=',')\n",
    "df"
   ]
  },
  {
   "cell_type": "code",
   "execution_count": 9,
   "metadata": {},
   "outputs": [
    {
     "data": {
      "text/plain": [
       "array([45, 46, 47, 48, 49, 50, 51, 52, 53, 54, 55])"
      ]
     },
     "execution_count": 9,
     "metadata": {},
     "output_type": "execute_result"
    }
   ],
   "source": [
    "df['Age'].unique()"
   ]
  },
  {
   "cell_type": "markdown",
   "metadata": {},
   "source": [
    "The data contains the following columns:\n",
    "\n",
    "- the age of the individual,\n",
    "- the price of the cigarets,\n",
    "- a variable that is 1 if the individual is smoking, 0 otherwise,\n",
    "- a variable that is 1 if the individual was smoking last year, 0 otherwise,\n",
    "- a unique id for each individual,\n",
    "- a variable that is 1 if the individual was smoking at the age of 45, in the beginning of the observation period."
   ]
  },
  {
   "cell_type": "code",
   "execution_count": 10,
   "metadata": {},
   "outputs": [],
   "source": [
    "database = db.Database('smoking55', df)\n",
    "globals().update(database.variables)"
   ]
  },
  {
   "cell_type": "markdown",
   "metadata": {},
   "source": [
    "We declare that the data set contains panel data."
   ]
  },
  {
   "cell_type": "code",
   "execution_count": 11,
   "metadata": {},
   "outputs": [],
   "source": [
    "database.panel('Id')"
   ]
  },
  {
   "cell_type": "markdown",
   "metadata": {},
   "source": [
    "## Estimation procedure"
   ]
  },
  {
   "cell_type": "markdown",
   "metadata": {},
   "source": [
    "The following procedure estimates the choice model, and returns the estimated parameters in a Pandas format. If the model happens to have been already estimated, the estimation results are read from the pickle file and reported."
   ]
  },
  {
   "cell_type": "code",
   "execution_count": 12,
   "metadata": {},
   "outputs": [],
   "source": [
    "def estimate(the_logprob, the_name, the_database):\n",
    "    if numberOfDraws is None:\n",
    "        pickle_file = f'{the_name}.pickle'\n",
    "        results = get_results_from_url(pickle_file)\n",
    "    else:\n",
    "        biogeme = bio.BIOGEME(\n",
    "            the_database,\n",
    "            the_logprob,\n",
    "            numberOfDraws=numberOfDraws,\n",
    "            removeUnusedVariables=False,\n",
    "        )\n",
    "        biogeme.modelName = the_name\n",
    "        results = biogeme.estimate(algorithm=opt.bioBfgs)\n",
    "    print(results.printGeneralStatistics())\n",
    "    pandas_results = results.getEstimatedParameters()\n",
    "    return pandas_results\n"
   ]
  },
  {
   "cell_type": "markdown",
   "metadata": {},
   "source": [
    "## Dynamic model with serial correlation"
   ]
  },
  {
   "cell_type": "markdown",
   "metadata": {},
   "source": [
    "In the previous quiz, we have estimated a dynamic model with panel effects to account for serial correlation. "
   ]
  },
  {
   "cell_type": "code",
   "execution_count": 13,
   "metadata": {},
   "outputs": [],
   "source": [
    "cte_mean = Beta('cte_mean', 0, None, None, 0)\n",
    "cte_std = Beta('cte_std', 1, None, None, 0)\n",
    "cte = cte_mean + cte_std * bioDraws('agent', 'NORMAL_ANTI')\n",
    "coef_price = Beta('coef_price', 0, None, None, 0)\n",
    "beta_last_year = Beta('beta_last_year', 0, None, None, 0)"
   ]
  },
  {
   "cell_type": "code",
   "execution_count": 14,
   "metadata": {},
   "outputs": [],
   "source": [
    "V_s = beta_last_year * LastYear + coef_price * Price + cte\n",
    "V_ns = 0\n",
    "V = {0: V_ns, 1: V_s}\n",
    "obsprob = models.logit(V, None, Smoking)\n",
    "condprobIndiv = PanelLikelihoodTrajectory(obsprob)\n",
    "logprob = log(MonteCarlo(condprobIndiv))"
   ]
  },
  {
   "cell_type": "code",
   "execution_count": 15,
   "metadata": {},
   "outputs": [
    {
     "name": "stdout",
     "output_type": "stream",
     "text": [
      "Number of estimated parameters:\t4\n",
      "Sample size:\t1000\n",
      "Observations:\t11000\n",
      "Excluded observations:\t0\n",
      "Init log likelihood:\t-740.373\n",
      "Final log likelihood:\t-27.43082\n",
      "Likelihood ratio test for the init. model:\t1425.884\n",
      "Rho-square for the init. model:\t0.963\n",
      "Rho-square-bar for the init. model:\t0.958\n",
      "Akaike Information Criterion:\t62.86164\n",
      "Bayesian Information Criterion:\t82.49266\n",
      "Final gradient norm:\t3.6782E-03\n",
      "Number of draws:\t10000\n",
      "Draws generation time:\t0:00:12.691483\n",
      "Types of draws:\t['agent: NORMAL_ANTI']\n",
      "Nbr of threads:\t36\n",
      "\n",
      "CPU times: user 23.7 ms, sys: 3.06 ms, total: 26.7 ms\n",
      "Wall time: 230 ms\n"
     ]
    },
    {
     "data": {
      "text/html": [
       "<div>\n",
       "<style scoped>\n",
       "    .dataframe tbody tr th:only-of-type {\n",
       "        vertical-align: middle;\n",
       "    }\n",
       "\n",
       "    .dataframe tbody tr th {\n",
       "        vertical-align: top;\n",
       "    }\n",
       "\n",
       "    .dataframe thead th {\n",
       "        text-align: right;\n",
       "    }\n",
       "</style>\n",
       "<table border=\"1\" class=\"dataframe\">\n",
       "  <thead>\n",
       "    <tr style=\"text-align: right;\">\n",
       "      <th></th>\n",
       "      <th>Value</th>\n",
       "      <th>Std err</th>\n",
       "      <th>t-test</th>\n",
       "      <th>p-value</th>\n",
       "      <th>Rob. Std err</th>\n",
       "      <th>Rob. t-test</th>\n",
       "      <th>Rob. p-value</th>\n",
       "    </tr>\n",
       "  </thead>\n",
       "  <tbody>\n",
       "    <tr>\n",
       "      <th>beta_last_year</th>\n",
       "      <td>16.528013</td>\n",
       "      <td>1.224384</td>\n",
       "      <td>13.499048</td>\n",
       "      <td>0.000000</td>\n",
       "      <td>1.571728</td>\n",
       "      <td>10.515820</td>\n",
       "      <td>0.000000</td>\n",
       "    </tr>\n",
       "    <tr>\n",
       "      <th>coef_price</th>\n",
       "      <td>-0.001006</td>\n",
       "      <td>0.132840</td>\n",
       "      <td>-0.007574</td>\n",
       "      <td>0.993957</td>\n",
       "      <td>0.069741</td>\n",
       "      <td>-0.014427</td>\n",
       "      <td>0.988489</td>\n",
       "    </tr>\n",
       "    <tr>\n",
       "      <th>cte_mean</th>\n",
       "      <td>-7.864287</td>\n",
       "      <td>4.399341</td>\n",
       "      <td>-1.787606</td>\n",
       "      <td>0.073840</td>\n",
       "      <td>2.374923</td>\n",
       "      <td>-3.311386</td>\n",
       "      <td>0.000928</td>\n",
       "    </tr>\n",
       "    <tr>\n",
       "      <th>cte_std</th>\n",
       "      <td>0.000092</td>\n",
       "      <td>0.703775</td>\n",
       "      <td>0.000131</td>\n",
       "      <td>0.999896</td>\n",
       "      <td>0.000090</td>\n",
       "      <td>1.018902</td>\n",
       "      <td>0.308250</td>\n",
       "    </tr>\n",
       "  </tbody>\n",
       "</table>\n",
       "</div>"
      ],
      "text/plain": [
       "                    Value   Std err     t-test   p-value  Rob. Std err  \\\n",
       "beta_last_year  16.528013  1.224384  13.499048  0.000000      1.571728   \n",
       "coef_price      -0.001006  0.132840  -0.007574  0.993957      0.069741   \n",
       "cte_mean        -7.864287  4.399341  -1.787606  0.073840      2.374923   \n",
       "cte_std          0.000092  0.703775   0.000131  0.999896      0.000090   \n",
       "\n",
       "                Rob. t-test  Rob. p-value  \n",
       "beta_last_year    10.515820      0.000000  \n",
       "coef_price        -0.014427      0.988489  \n",
       "cte_mean          -3.311386      0.000928  \n",
       "cte_std            1.018902      0.308250  "
      ]
     },
     "execution_count": 15,
     "metadata": {},
     "output_type": "execute_result"
    }
   ],
   "source": [
    "%%time\n",
    "r_serial_dynamic = estimate(logprob, \n",
    "                            'dynamic_model_serial_truncated_t_55',\n",
    "                            database)\n",
    "r_serial_dynamic"
   ]
  },
  {
   "cell_type": "markdown",
   "metadata": {},
   "source": [
    "### Comparison of the estimates"
   ]
  },
  {
   "cell_type": "code",
   "execution_count": 16,
   "metadata": {},
   "outputs": [
    {
     "data": {
      "text/html": [
       "<div>\n",
       "<style scoped>\n",
       "    .dataframe tbody tr th:only-of-type {\n",
       "        vertical-align: middle;\n",
       "    }\n",
       "\n",
       "    .dataframe tbody tr th {\n",
       "        vertical-align: top;\n",
       "    }\n",
       "\n",
       "    .dataframe thead th {\n",
       "        text-align: right;\n",
       "    }\n",
       "</style>\n",
       "<table border=\"1\" class=\"dataframe\">\n",
       "  <thead>\n",
       "    <tr style=\"text-align: right;\">\n",
       "      <th></th>\n",
       "      <th>True</th>\n",
       "      <th>Dynamic + serial</th>\n",
       "    </tr>\n",
       "  </thead>\n",
       "  <tbody>\n",
       "    <tr>\n",
       "      <th>coef_price</th>\n",
       "      <td>-0.1</td>\n",
       "      <td>-0.001006</td>\n",
       "    </tr>\n",
       "    <tr>\n",
       "      <th>beta_last_year</th>\n",
       "      <td>10.0</td>\n",
       "      <td>16.528013</td>\n",
       "    </tr>\n",
       "    <tr>\n",
       "      <th>cte_mean</th>\n",
       "      <td>0.0</td>\n",
       "      <td>-7.864287</td>\n",
       "    </tr>\n",
       "    <tr>\n",
       "      <th>cte_std</th>\n",
       "      <td>50.0</td>\n",
       "      <td>0.000092</td>\n",
       "    </tr>\n",
       "  </tbody>\n",
       "</table>\n",
       "</div>"
      ],
      "text/plain": [
       "                True  Dynamic + serial\n",
       "coef_price      -0.1         -0.001006\n",
       "beta_last_year  10.0         16.528013\n",
       "cte_mean         0.0         -7.864287\n",
       "cte_std         50.0          0.000092"
      ]
     },
     "execution_count": 16,
     "metadata": {},
     "output_type": "execute_result"
    }
   ],
   "source": [
    "summary = pd.concat(\n",
    "    [\n",
    "        trueParameters['Value'], \n",
    "        r_serial_dynamic['Value'], \n",
    "\n",
    "    ], \n",
    "    axis=1\n",
    ")\n",
    "summary.columns = [\n",
    "    'True', \n",
    "    'Dynamic + serial'\n",
    "]\n",
    "summary.fillna('')"
   ]
  },
  {
   "cell_type": "markdown",
   "metadata": {},
   "source": [
    "We observe here the issue of the \"initial condition problem\". Although the model specification is correct (it is the same model as the data generation process), the values of the parameters are not correctly recovered. It is because the first observed choice, that is, the fact that an individual is smoking at the age of 45, is strongly correlated with the agent effect. This creates endogeneity. One visible consequence is the positive price coefficient. "
   ]
  },
  {
   "cell_type": "markdown",
   "metadata": {},
   "source": [
    "Estimate the parameters using Wooldridge's method to address the endogeneity issue."
   ]
  }
 ],
 "metadata": {
  "kernelspec": {
   "display_name": "Python 3 (ipykernel)",
   "language": "python",
   "name": "python3"
  },
  "language_info": {
   "codemirror_mode": {
    "name": "ipython",
    "version": 3
   },
   "file_extension": ".py",
   "mimetype": "text/x-python",
   "name": "python",
   "nbconvert_exporter": "python",
   "pygments_lexer": "ipython3",
   "version": "3.9.6"
  }
 },
 "nbformat": 4,
 "nbformat_minor": 4
}
