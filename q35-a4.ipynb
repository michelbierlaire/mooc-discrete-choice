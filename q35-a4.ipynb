{
 "cells": [
  {
   "cell_type": "code",
   "execution_count": 1,
   "id": "b8193646",
   "metadata": {},
   "outputs": [],
   "source": [
    "import pandas as pd\n",
    "import itertools\n",
    "import pickle\n",
    "from urllib.request import urlopen\n",
    "import biogeme.database as db\n",
    "import biogeme.biogeme as bio\n",
    "import biogeme.models as models\n",
    "import biogeme.results as res\n",
    "from biogeme.expressions import Beta, log, exp"
   ]
  },
  {
   "cell_type": "markdown",
   "id": "ffe55231",
   "metadata": {},
   "source": [
    "The following function obtains the data from the file available online."
   ]
  },
  {
   "cell_type": "code",
   "execution_count": 2,
   "id": "a228bd88",
   "metadata": {},
   "outputs": [],
   "source": [
    "url_root = (\n",
    "    'https://courses.edx.org/'\n",
    "    'asset-v1:EPFLx+ChoiceModels2x+3T2021+type@asset+block@'\n",
    ")"
   ]
  },
  {
   "cell_type": "code",
   "execution_count": 3,
   "id": "30b05bd7",
   "metadata": {},
   "outputs": [],
   "source": [
    "def get_results_from_url(file):\n",
    "    pickle_file = f'{url_root}{file}'\n",
    "\n",
    "    with urlopen(pickle_file) as p:\n",
    "        data = pickle.load(p)\n",
    "    return res.bioResults(data)"
   ]
  },
  {
   "cell_type": "markdown",
   "id": "1f3fdb99",
   "metadata": {},
   "source": [
    "# Data"
   ]
  },
  {
   "cell_type": "code",
   "execution_count": 4,
   "id": "326daa19",
   "metadata": {},
   "outputs": [],
   "source": [
    "pandas = pd.read_table(f'{url_root}swissmetro.dat')\n",
    "database = db.Database('swissmetro', pandas)"
   ]
  },
  {
   "cell_type": "markdown",
   "id": "5ac05284",
   "metadata": {},
   "source": [
    "The following statement allows you to use the names of the variables as Python variable."
   ]
  },
  {
   "cell_type": "code",
   "execution_count": 5,
   "id": "23e7a5f1",
   "metadata": {},
   "outputs": [],
   "source": [
    "globals().update(database.variables)"
   ]
  },
  {
   "cell_type": "markdown",
   "id": "af81babf",
   "metadata": {},
   "source": [
    "We exclude some observations"
   ]
  },
  {
   "cell_type": "code",
   "execution_count": 6,
   "id": "0d2ef25a",
   "metadata": {},
   "outputs": [],
   "source": [
    "exclude = ((PURPOSE != 1) * (PURPOSE != 3) + (CHOICE == 0)) > 0\n",
    "database.remove(exclude)"
   ]
  },
  {
   "cell_type": "markdown",
   "id": "1d0535fa",
   "metadata": {},
   "source": [
    "# Parameters"
   ]
  },
  {
   "cell_type": "code",
   "execution_count": 7,
   "id": "63b7aca7",
   "metadata": {},
   "outputs": [],
   "source": [
    "ASC_CAR = Beta('ASC_CAR', 0, None, None, 0)\n",
    "ASC_TRAIN = Beta('ASC_TRAIN', 0, None, None, 0)\n",
    "B_TIME = Beta('B_TIME', 0, None, None, 0)\n",
    "B_COST = Beta('B_COST', 0, None, None, 0)\n",
    "B_FR = Beta('B_FR', 0, None, None, 0)"
   ]
  },
  {
   "cell_type": "markdown",
   "id": "5a619115",
   "metadata": {},
   "source": [
    "# Variables"
   ]
  },
  {
   "cell_type": "code",
   "execution_count": 8,
   "id": "d8e957ef",
   "metadata": {},
   "outputs": [],
   "source": [
    "SM_COST = SM_CO * (GA == 0)\n",
    "TRAIN_COST = TRAIN_CO * (GA == 0)\n",
    "CAR_AV_SP = CAR_AV * (SP != 0)\n",
    "TRAIN_AV_SP = TRAIN_AV * (SP != 0)\n",
    "TRAIN_TT_SCALED = TRAIN_TT / 100\n",
    "TRAIN_COST_SCALED = TRAIN_COST / 100\n",
    "SM_TT_SCALED = SM_TT / 100\n",
    "SM_COST_SCALED = SM_COST / 100\n",
    "CAR_TT_SCALED = CAR_TT / 100\n",
    "CAR_CO_SCALED = CAR_CO / 100\n",
    "TRAIN_HE_SCALED = TRAIN_HE / 1000\n",
    "SM_HE_SCALED = SM_HE / 1000\n",
    "LOW_INC = INCOME <= 1\n",
    "BUSINESS = (PURPOSE == 3)"
   ]
  },
  {
   "cell_type": "markdown",
   "id": "727b087b",
   "metadata": {},
   "source": [
    "# Availability conditions"
   ]
  },
  {
   "cell_type": "code",
   "execution_count": 9,
   "id": "3f8b3367",
   "metadata": {},
   "outputs": [],
   "source": [
    "av = {1: TRAIN_AV_SP,\n",
    "      2: SM_AV,\n",
    "      3: CAR_AV_SP}"
   ]
  },
  {
   "cell_type": "markdown",
   "id": "8c921693",
   "metadata": {},
   "source": [
    "# Logit model"
   ]
  },
  {
   "cell_type": "markdown",
   "id": "462744f0",
   "metadata": {},
   "source": [
    "## Utility functions"
   ]
  },
  {
   "cell_type": "code",
   "execution_count": 10,
   "id": "8f483bc1",
   "metadata": {},
   "outputs": [],
   "source": [
    "V1 = (ASC_TRAIN +\n",
    "      B_TIME * TRAIN_TT_SCALED +\n",
    "      B_COST * TRAIN_COST_SCALED +\n",
    "      B_FR * TRAIN_HE_SCALED)\n",
    "V2 = (B_TIME * SM_TT_SCALED +\n",
    "      B_COST * SM_COST_SCALED +\n",
    "      B_FR * SM_HE_SCALED)\n",
    "V3 = (ASC_CAR +\n",
    "      B_TIME * CAR_TT_SCALED +\n",
    "      B_COST * CAR_CO_SCALED)\n",
    "V = {1: V1,\n",
    "     2: V2,\n",
    "     3: V3}"
   ]
  },
  {
   "cell_type": "markdown",
   "id": "e3270a30",
   "metadata": {},
   "source": [
    "## Model"
   ]
  },
  {
   "cell_type": "code",
   "execution_count": 11,
   "id": "e377bc80",
   "metadata": {},
   "outputs": [],
   "source": [
    "logprob = models.loglogit(V, av, CHOICE)"
   ]
  },
  {
   "cell_type": "markdown",
   "id": "d8e5d7eb",
   "metadata": {},
   "source": [
    "## Estimation"
   ]
  },
  {
   "cell_type": "code",
   "execution_count": 12,
   "id": "f47d164b",
   "metadata": {},
   "outputs": [],
   "source": [
    "biogeme = bio.BIOGEME(database, logprob)\n",
    "biogeme.modelName = '01logit'\n",
    "results_logit = biogeme.estimate()"
   ]
  },
  {
   "cell_type": "markdown",
   "id": "2284cdd1",
   "metadata": {},
   "source": [
    "## Results"
   ]
  },
  {
   "cell_type": "code",
   "execution_count": 13,
   "id": "2b491d61",
   "metadata": {},
   "outputs": [
    {
     "name": "stdout",
     "output_type": "stream",
     "text": [
      "Number of estimated parameters:\t5\n",
      "Sample size:\t6768\n",
      "Excluded observations:\t3960\n",
      "Init log likelihood:\t-5315.386\n",
      "Final log likelihood:\t-5315.386\n",
      "Likelihood ratio test for the init. model:\t-0\n",
      "Rho-square for the init. model:\t0\n",
      "Rho-square-bar for the init. model:\t-0.000941\n",
      "Akaike Information Criterion:\t10640.77\n",
      "Bayesian Information Criterion:\t10674.87\n",
      "Final gradient norm:\t8.1247E-03\n",
      "Nbr of threads:\t16\n",
      "\n"
     ]
    }
   ],
   "source": [
    "stats_logit = results_logit.getGeneralStatistics()\n",
    "print(results_logit.printGeneralStatistics())"
   ]
  },
  {
   "cell_type": "code",
   "execution_count": 14,
   "id": "bd0b54ca",
   "metadata": {},
   "outputs": [
    {
     "data": {
      "text/html": [
       "<div>\n",
       "<style scoped>\n",
       "    .dataframe tbody tr th:only-of-type {\n",
       "        vertical-align: middle;\n",
       "    }\n",
       "\n",
       "    .dataframe tbody tr th {\n",
       "        vertical-align: top;\n",
       "    }\n",
       "\n",
       "    .dataframe thead th {\n",
       "        text-align: right;\n",
       "    }\n",
       "</style>\n",
       "<table border=\"1\" class=\"dataframe\">\n",
       "  <thead>\n",
       "    <tr style=\"text-align: right;\">\n",
       "      <th></th>\n",
       "      <th>Value</th>\n",
       "      <th>Std err</th>\n",
       "      <th>t-test</th>\n",
       "      <th>p-value</th>\n",
       "      <th>Rob. Std err</th>\n",
       "      <th>Rob. t-test</th>\n",
       "      <th>Rob. p-value</th>\n",
       "    </tr>\n",
       "  </thead>\n",
       "  <tbody>\n",
       "    <tr>\n",
       "      <th>ASC_CAR</th>\n",
       "      <td>-0.261838</td>\n",
       "      <td>0.047307</td>\n",
       "      <td>-5.534875</td>\n",
       "      <td>3.114498e-08</td>\n",
       "      <td>0.061496</td>\n",
       "      <td>-4.257798</td>\n",
       "      <td>2.064506e-05</td>\n",
       "    </tr>\n",
       "    <tr>\n",
       "      <th>ASC_TRAIN</th>\n",
       "      <td>-0.451015</td>\n",
       "      <td>0.069678</td>\n",
       "      <td>-6.472835</td>\n",
       "      <td>9.618062e-11</td>\n",
       "      <td>0.093240</td>\n",
       "      <td>-4.837114</td>\n",
       "      <td>1.317380e-06</td>\n",
       "    </tr>\n",
       "    <tr>\n",
       "      <th>B_COST</th>\n",
       "      <td>-1.084663</td>\n",
       "      <td>0.051826</td>\n",
       "      <td>-20.929115</td>\n",
       "      <td>0.000000e+00</td>\n",
       "      <td>0.068235</td>\n",
       "      <td>-15.895902</td>\n",
       "      <td>0.000000e+00</td>\n",
       "    </tr>\n",
       "    <tr>\n",
       "      <th>B_FR</th>\n",
       "      <td>-5.353240</td>\n",
       "      <td>0.963865</td>\n",
       "      <td>-5.553932</td>\n",
       "      <td>2.793141e-08</td>\n",
       "      <td>0.983023</td>\n",
       "      <td>-5.445690</td>\n",
       "      <td>5.160495e-08</td>\n",
       "    </tr>\n",
       "    <tr>\n",
       "      <th>B_TIME</th>\n",
       "      <td>-1.276782</td>\n",
       "      <td>0.056938</td>\n",
       "      <td>-22.424014</td>\n",
       "      <td>0.000000e+00</td>\n",
       "      <td>0.104436</td>\n",
       "      <td>-12.225485</td>\n",
       "      <td>0.000000e+00</td>\n",
       "    </tr>\n",
       "  </tbody>\n",
       "</table>\n",
       "</div>"
      ],
      "text/plain": [
       "              Value   Std err     t-test       p-value  Rob. Std err  \\\n",
       "ASC_CAR   -0.261838  0.047307  -5.534875  3.114498e-08      0.061496   \n",
       "ASC_TRAIN -0.451015  0.069678  -6.472835  9.618062e-11      0.093240   \n",
       "B_COST    -1.084663  0.051826 -20.929115  0.000000e+00      0.068235   \n",
       "B_FR      -5.353240  0.963865  -5.553932  2.793141e-08      0.983023   \n",
       "B_TIME    -1.276782  0.056938 -22.424014  0.000000e+00      0.104436   \n",
       "\n",
       "           Rob. t-test  Rob. p-value  \n",
       "ASC_CAR      -4.257798  2.064506e-05  \n",
       "ASC_TRAIN    -4.837114  1.317380e-06  \n",
       "B_COST      -15.895902  0.000000e+00  \n",
       "B_FR         -5.445690  5.160495e-08  \n",
       "B_TIME      -12.225485  0.000000e+00  "
      ]
     },
     "execution_count": 14,
     "metadata": {},
     "output_type": "execute_result"
    }
   ],
   "source": [
    "param_logit = results_logit.getEstimatedParameters()\n",
    "param_logit"
   ]
  },
  {
   "cell_type": "markdown",
   "id": "aaec4c45",
   "metadata": {},
   "source": [
    "# Random parameter: normal distribution"
   ]
  },
  {
   "cell_type": "markdown",
   "id": "bb3761bc",
   "metadata": {},
   "source": [
    "Read the results from file"
   ]
  },
  {
   "cell_type": "code",
   "execution_count": 15,
   "id": "fb93e6f4",
   "metadata": {},
   "outputs": [],
   "source": [
    "results_normal = get_results_from_url('rc-02normal.pickle')\n",
    "param_normal = results_normal.getEstimatedParameters()\n",
    "stats_normal = results_normal.getGeneralStatistics()"
   ]
  },
  {
   "cell_type": "markdown",
   "id": "bfaa11b9",
   "metadata": {},
   "source": [
    "# Random parameter: lognormal distribution\n"
   ]
  },
  {
   "cell_type": "markdown",
   "id": "01148c2c",
   "metadata": {},
   "source": [
    "Read the results from file"
   ]
  },
  {
   "cell_type": "code",
   "execution_count": 16,
   "id": "c8fde47e",
   "metadata": {},
   "outputs": [],
   "source": [
    "results_lognormal = get_results_from_url('rc-03lognormal.pickle')\n",
    "param_lognormal = results_lognormal.getEstimatedParameters()\n",
    "stats_lognormal = results_lognormal.getGeneralStatistics()"
   ]
  },
  {
   "cell_type": "markdown",
   "id": "223c41ea",
   "metadata": {},
   "source": [
    "# Latent classes"
   ]
  },
  {
   "cell_type": "markdown",
   "id": "a09921de",
   "metadata": {},
   "source": [
    "Read the results from file"
   ]
  },
  {
   "cell_type": "code",
   "execution_count": 17,
   "id": "5d916249",
   "metadata": {},
   "outputs": [],
   "source": [
    "results_latent = get_results_from_url('rc-04latentClass.pickle')\n",
    "param_latent = results_latent.getEstimatedParameters()\n",
    "stats_latent = results_latent.getGeneralStatistics()"
   ]
  },
  {
   "cell_type": "markdown",
   "id": "5651c414",
   "metadata": {},
   "source": [
    "# Latent classes with class membership model"
   ]
  },
  {
   "cell_type": "markdown",
   "id": "c5146bbd",
   "metadata": {},
   "source": [
    "We consider again two classes in the population. The first class of individuals have considered all variables when making their choice. For them, the specification of the utility function is the same as for the logit model. "
   ]
  },
  {
   "cell_type": "code",
   "execution_count": 18,
   "id": "c14409ce",
   "metadata": {},
   "outputs": [],
   "source": [
    "V1_1 = (ASC_TRAIN +\n",
    "        B_TIME * TRAIN_TT_SCALED +\n",
    "        B_COST * TRAIN_COST_SCALED +\n",
    "        B_FR * TRAIN_HE_SCALED)\n",
    "V2_1 = (B_TIME * SM_TT_SCALED +\n",
    "        B_COST * SM_COST_SCALED +\n",
    "        B_FR * SM_HE_SCALED)\n",
    "V3_1 = (ASC_CAR +\n",
    "        B_TIME * CAR_TT_SCALED +\n",
    "        B_COST * CAR_CO_SCALED)\n",
    "V_1 = {1: V1_1,\n",
    "       2: V2_1,\n",
    "       3: V3_1}"
   ]
  },
  {
   "cell_type": "markdown",
   "id": "076486f5",
   "metadata": {},
   "source": [
    "The second class of individuals ignored the travel time variable when making the choice. Therefore, this variable is removed from the utility function."
   ]
  },
  {
   "cell_type": "code",
   "execution_count": 19,
   "id": "004de4d5",
   "metadata": {},
   "outputs": [],
   "source": [
    "V1_2 = (ASC_TRAIN +\n",
    "        B_COST * TRAIN_COST_SCALED +\n",
    "        B_FR * TRAIN_HE_SCALED)\n",
    "V2_2 = (B_COST * SM_COST_SCALED +\n",
    "        B_FR * SM_HE_SCALED)\n",
    "V3_2 = (ASC_CAR +\n",
    "        B_COST * CAR_CO_SCALED)\n",
    "V_2 = {1: V1_2,\n",
    "       2: V2_2,\n",
    "       3: V3_2}"
   ]
  },
  {
   "cell_type": "markdown",
   "id": "edfcc76e",
   "metadata": {},
   "source": [
    "The following parameters are involved in the class membership model."
   ]
  },
  {
   "cell_type": "code",
   "execution_count": 20,
   "id": "a6aa1752",
   "metadata": {},
   "outputs": [],
   "source": [
    "G_INTERCEPT = Beta('G_INTERCEPT', 0, None, None, 0)\n",
    "G_MALE = Beta('G_MALE', 0, None, None, 0)\n",
    "G_GA = Beta('G_GA', 0, None, None, 0)\n",
    "G_BUSINESS = Beta('G_BUSINESS', 0, None, None, 0)\n",
    "G_LOW_INC = Beta('G_LOW_INC', 0, None, None, 0)\n",
    "G_FIRST = Beta('G_FIRST', 0, None, None, 0)"
   ]
  },
  {
   "cell_type": "markdown",
   "id": "2b3cb604",
   "metadata": {},
   "source": [
    "The following function returns the expressions for the class membership probabilities. If `value` is set to `True`, the values instead of the expressions are returned."
   ]
  },
  {
   "cell_type": "markdown",
   "id": "cf2e010b",
   "metadata": {},
   "source": [
    "Note that `W` can potentially take any real value. We have to transform it into a probability using the transform `1 / (1 + exp(W))`"
   ]
  },
  {
   "cell_type": "code",
   "execution_count": 21,
   "id": "9abe386a",
   "metadata": {},
   "outputs": [],
   "source": [
    " def omega(MALE, GA, BUSINESS, LOW_INC, FIRST, value=False):\n",
    "    W = (G_INTERCEPT +\n",
    "         G_MALE * MALE +\n",
    "         G_GA * GA +\n",
    "         G_BUSINESS * BUSINESS +\n",
    "         G_LOW_INC * LOW_INC +\n",
    "         G_FIRST * FIRST)\n",
    "    W_logit = {1: W, 2: 0}\n",
    "    OMEGA_1 = 1 / (1 + exp(W))\n",
    "    OMEGA_2 = exp(W) / (1 + exp(W))\n",
    "    if value:\n",
    "        return OMEGA_1.getValue(), OMEGA_2.getValue()\n",
    "    return OMEGA_1, OMEGA_2"
   ]
  },
  {
   "cell_type": "code",
   "execution_count": 22,
   "id": "4d3096eb",
   "metadata": {},
   "outputs": [],
   "source": [
    "prob_class_1, prob_class_2 = omega(MALE, GA, BUSINESS, LOW_INC, FIRST)"
   ]
  },
  {
   "cell_type": "markdown",
   "id": "09cdd579",
   "metadata": {},
   "source": [
    "## Model"
   ]
  },
  {
   "cell_type": "markdown",
   "id": "08874282",
   "metadata": {},
   "source": [
    "We first calculate the choice probability for each class."
   ]
  },
  {
   "cell_type": "code",
   "execution_count": 23,
   "id": "791c643c",
   "metadata": {},
   "outputs": [],
   "source": [
    "prob_1 = models.logit(V_1, av, CHOICE)\n",
    "prob_2 = models.logit(V_2, av, CHOICE)"
   ]
  },
  {
   "cell_type": "markdown",
   "id": "43c0348c",
   "metadata": {},
   "source": [
    "The choice probability is obtained by using the class membership model."
   ]
  },
  {
   "cell_type": "code",
   "execution_count": 24,
   "id": "e00e2e29",
   "metadata": {},
   "outputs": [],
   "source": [
    "prob = prob_class_1 * prob_1 + prob_class_2 * prob_2\n",
    "logprob = log(prob)"
   ]
  },
  {
   "cell_type": "markdown",
   "id": "996b8489",
   "metadata": {},
   "source": [
    "## Estimation"
   ]
  },
  {
   "cell_type": "code",
   "execution_count": 25,
   "id": "855b003c",
   "metadata": {},
   "outputs": [
    {
     "name": "stdout",
     "output_type": "stream",
     "text": [
      "Results saved in file 05latentClass~01.pickle\n"
     ]
    }
   ],
   "source": [
    "biogeme = bio.BIOGEME(database, logprob)\n",
    "biogeme.modelName = '05latentClass'\n",
    "results_latentsocio = biogeme.estimate()\n",
    "print(f'Results saved in file {results_latentsocio.data.pickleFileName}')"
   ]
  },
  {
   "cell_type": "markdown",
   "id": "4822ccd0",
   "metadata": {},
   "source": [
    "## Results"
   ]
  },
  {
   "cell_type": "code",
   "execution_count": 26,
   "id": "740dad1b",
   "metadata": {},
   "outputs": [
    {
     "name": "stdout",
     "output_type": "stream",
     "text": [
      "Number of estimated parameters:\t11\n",
      "Sample size:\t6768\n",
      "Excluded observations:\t3960\n",
      "Init log likelihood:\t-4928.798\n",
      "Final log likelihood:\t-4928.798\n",
      "Likelihood ratio test for the init. model:\t-0\n",
      "Rho-square for the init. model:\t0\n",
      "Rho-square-bar for the init. model:\t-0.00223\n",
      "Akaike Information Criterion:\t9879.595\n",
      "Bayesian Information Criterion:\t9954.615\n",
      "Final gradient norm:\t2.6227E-02\n",
      "Nbr of threads:\t16\n",
      "\n"
     ]
    }
   ],
   "source": [
    "stats_latentsocio = results_latentsocio.getGeneralStatistics()\n",
    "print(results_latentsocio.printGeneralStatistics())"
   ]
  },
  {
   "cell_type": "code",
   "execution_count": 27,
   "id": "930eeb64",
   "metadata": {},
   "outputs": [
    {
     "data": {
      "text/html": [
       "<div>\n",
       "<style scoped>\n",
       "    .dataframe tbody tr th:only-of-type {\n",
       "        vertical-align: middle;\n",
       "    }\n",
       "\n",
       "    .dataframe tbody tr th {\n",
       "        vertical-align: top;\n",
       "    }\n",
       "\n",
       "    .dataframe thead th {\n",
       "        text-align: right;\n",
       "    }\n",
       "</style>\n",
       "<table border=\"1\" class=\"dataframe\">\n",
       "  <thead>\n",
       "    <tr style=\"text-align: right;\">\n",
       "      <th></th>\n",
       "      <th>Value</th>\n",
       "      <th>Std err</th>\n",
       "      <th>t-test</th>\n",
       "      <th>p-value</th>\n",
       "      <th>Rob. Std err</th>\n",
       "      <th>Rob. t-test</th>\n",
       "      <th>Rob. p-value</th>\n",
       "    </tr>\n",
       "  </thead>\n",
       "  <tbody>\n",
       "    <tr>\n",
       "      <th>ASC_CAR</th>\n",
       "      <td>0.026467</td>\n",
       "      <td>0.052503</td>\n",
       "      <td>0.504109</td>\n",
       "      <td>6.141847e-01</td>\n",
       "      <td>0.055776</td>\n",
       "      <td>0.474522</td>\n",
       "      <td>6.351278e-01</td>\n",
       "    </tr>\n",
       "    <tr>\n",
       "      <th>ASC_TRAIN</th>\n",
       "      <td>-0.189438</td>\n",
       "      <td>0.076345</td>\n",
       "      <td>-2.481334</td>\n",
       "      <td>1.308917e-02</td>\n",
       "      <td>0.080963</td>\n",
       "      <td>-2.339798</td>\n",
       "      <td>1.929415e-02</td>\n",
       "    </tr>\n",
       "    <tr>\n",
       "      <th>B_COST</th>\n",
       "      <td>-1.451455</td>\n",
       "      <td>0.063687</td>\n",
       "      <td>-22.790603</td>\n",
       "      <td>0.000000e+00</td>\n",
       "      <td>0.095269</td>\n",
       "      <td>-15.235395</td>\n",
       "      <td>0.000000e+00</td>\n",
       "    </tr>\n",
       "    <tr>\n",
       "      <th>B_FR</th>\n",
       "      <td>-6.298512</td>\n",
       "      <td>1.052949</td>\n",
       "      <td>-5.981783</td>\n",
       "      <td>2.207075e-09</td>\n",
       "      <td>1.037793</td>\n",
       "      <td>-6.069138</td>\n",
       "      <td>1.285984e-09</td>\n",
       "    </tr>\n",
       "    <tr>\n",
       "      <th>B_TIME</th>\n",
       "      <td>-2.969263</td>\n",
       "      <td>0.146064</td>\n",
       "      <td>-20.328519</td>\n",
       "      <td>0.000000e+00</td>\n",
       "      <td>0.153037</td>\n",
       "      <td>-19.402202</td>\n",
       "      <td>0.000000e+00</td>\n",
       "    </tr>\n",
       "    <tr>\n",
       "      <th>G_BUSINESS</th>\n",
       "      <td>1.468889</td>\n",
       "      <td>0.284945</td>\n",
       "      <td>5.154991</td>\n",
       "      <td>2.536435e-07</td>\n",
       "      <td>0.361635</td>\n",
       "      <td>4.061798</td>\n",
       "      <td>4.869613e-05</td>\n",
       "    </tr>\n",
       "    <tr>\n",
       "      <th>G_FIRST</th>\n",
       "      <td>-0.988795</td>\n",
       "      <td>0.193323</td>\n",
       "      <td>-5.114731</td>\n",
       "      <td>3.141887e-07</td>\n",
       "      <td>0.208682</td>\n",
       "      <td>-4.738278</td>\n",
       "      <td>2.155415e-06</td>\n",
       "    </tr>\n",
       "    <tr>\n",
       "      <th>G_GA</th>\n",
       "      <td>4.210703</td>\n",
       "      <td>0.518003</td>\n",
       "      <td>8.128728</td>\n",
       "      <td>4.440892e-16</td>\n",
       "      <td>0.497814</td>\n",
       "      <td>8.458387</td>\n",
       "      <td>0.000000e+00</td>\n",
       "    </tr>\n",
       "    <tr>\n",
       "      <th>G_INTERCEPT</th>\n",
       "      <td>-1.523706</td>\n",
       "      <td>0.301364</td>\n",
       "      <td>-5.056026</td>\n",
       "      <td>4.280832e-07</td>\n",
       "      <td>0.365904</td>\n",
       "      <td>-4.164227</td>\n",
       "      <td>3.124088e-05</td>\n",
       "    </tr>\n",
       "    <tr>\n",
       "      <th>G_LOW_INC</th>\n",
       "      <td>0.334157</td>\n",
       "      <td>0.223943</td>\n",
       "      <td>1.492151</td>\n",
       "      <td>1.356595e-01</td>\n",
       "      <td>0.230036</td>\n",
       "      <td>1.452629</td>\n",
       "      <td>1.463269e-01</td>\n",
       "    </tr>\n",
       "    <tr>\n",
       "      <th>G_MALE</th>\n",
       "      <td>-0.940556</td>\n",
       "      <td>0.199101</td>\n",
       "      <td>-4.724012</td>\n",
       "      <td>2.312365e-06</td>\n",
       "      <td>0.212260</td>\n",
       "      <td>-4.431156</td>\n",
       "      <td>9.372926e-06</td>\n",
       "    </tr>\n",
       "  </tbody>\n",
       "</table>\n",
       "</div>"
      ],
      "text/plain": [
       "                Value   Std err     t-test       p-value  Rob. Std err  \\\n",
       "ASC_CAR      0.026467  0.052503   0.504109  6.141847e-01      0.055776   \n",
       "ASC_TRAIN   -0.189438  0.076345  -2.481334  1.308917e-02      0.080963   \n",
       "B_COST      -1.451455  0.063687 -22.790603  0.000000e+00      0.095269   \n",
       "B_FR        -6.298512  1.052949  -5.981783  2.207075e-09      1.037793   \n",
       "B_TIME      -2.969263  0.146064 -20.328519  0.000000e+00      0.153037   \n",
       "G_BUSINESS   1.468889  0.284945   5.154991  2.536435e-07      0.361635   \n",
       "G_FIRST     -0.988795  0.193323  -5.114731  3.141887e-07      0.208682   \n",
       "G_GA         4.210703  0.518003   8.128728  4.440892e-16      0.497814   \n",
       "G_INTERCEPT -1.523706  0.301364  -5.056026  4.280832e-07      0.365904   \n",
       "G_LOW_INC    0.334157  0.223943   1.492151  1.356595e-01      0.230036   \n",
       "G_MALE      -0.940556  0.199101  -4.724012  2.312365e-06      0.212260   \n",
       "\n",
       "             Rob. t-test  Rob. p-value  \n",
       "ASC_CAR         0.474522  6.351278e-01  \n",
       "ASC_TRAIN      -2.339798  1.929415e-02  \n",
       "B_COST        -15.235395  0.000000e+00  \n",
       "B_FR           -6.069138  1.285984e-09  \n",
       "B_TIME        -19.402202  0.000000e+00  \n",
       "G_BUSINESS      4.061798  4.869613e-05  \n",
       "G_FIRST        -4.738278  2.155415e-06  \n",
       "G_GA            8.458387  0.000000e+00  \n",
       "G_INTERCEPT    -4.164227  3.124088e-05  \n",
       "G_LOW_INC       1.452629  1.463269e-01  \n",
       "G_MALE         -4.431156  9.372926e-06  "
      ]
     },
     "execution_count": 27,
     "metadata": {},
     "output_type": "execute_result"
    }
   ],
   "source": [
    "param_latentsocio = results_latentsocio.getEstimatedParameters()\n",
    "param_latentsocio"
   ]
  },
  {
   "cell_type": "markdown",
   "id": "af4ea1d7",
   "metadata": {},
   "source": [
    "# Membership probability"
   ]
  },
  {
   "cell_type": "markdown",
   "id": "63c289e1",
   "metadata": {},
   "source": [
    "We use the `itertools.product` function to enumerate all the combinations of values of the binary variables. We also use the `omega` function defined above, that returns the class membership probabilities."
   ]
  },
  {
   "cell_type": "code",
   "execution_count": 28,
   "id": "93a3b1af",
   "metadata": {},
   "outputs": [],
   "source": [
    "simulation = pd.DataFrame()\n",
    "vars = [' MALE', ' GA', ' BUSINESS', ' LOW_INC', ' FIRST']\n",
    "for x in itertools.product([0, 1], [0, 1], [0, 1], [0, 1], [0, 1]):\n",
    "    prob = omega(*x, value=True)\n",
    "    prob_dict = {f'Class {i+1}': v for i, v in enumerate(prob)}\n",
    "    vars_dict = dict(zip(vars, x))\n",
    "    row = {**prob_dict, **vars_dict}\n",
    "    simulation = simulation.append(row, ignore_index=True)\n",
    "for i in range(2):\n",
    "    key = f'Class {i+1}'\n",
    "    simulation[key] = simulation[key].apply(lambda x: f'{100*x:.1f}%')"
   ]
  },
  {
   "cell_type": "code",
   "execution_count": 29,
   "id": "5f157af8",
   "metadata": {},
   "outputs": [
    {
     "data": {
      "text/html": [
       "<div>\n",
       "<style scoped>\n",
       "    .dataframe tbody tr th:only-of-type {\n",
       "        vertical-align: middle;\n",
       "    }\n",
       "\n",
       "    .dataframe tbody tr th {\n",
       "        vertical-align: top;\n",
       "    }\n",
       "\n",
       "    .dataframe thead th {\n",
       "        text-align: right;\n",
       "    }\n",
       "</style>\n",
       "<table border=\"1\" class=\"dataframe\">\n",
       "  <thead>\n",
       "    <tr style=\"text-align: right;\">\n",
       "      <th></th>\n",
       "      <th>Class 1</th>\n",
       "      <th>Class 2</th>\n",
       "      <th>MALE</th>\n",
       "      <th>GA</th>\n",
       "      <th>BUSINESS</th>\n",
       "      <th>LOW_INC</th>\n",
       "      <th>FIRST</th>\n",
       "    </tr>\n",
       "  </thead>\n",
       "  <tbody>\n",
       "    <tr>\n",
       "      <th>0</th>\n",
       "      <td>82.1%</td>\n",
       "      <td>17.9%</td>\n",
       "      <td>0.0</td>\n",
       "      <td>0.0</td>\n",
       "      <td>0.0</td>\n",
       "      <td>0.0</td>\n",
       "      <td>0.0</td>\n",
       "    </tr>\n",
       "    <tr>\n",
       "      <th>1</th>\n",
       "      <td>92.5%</td>\n",
       "      <td>7.5%</td>\n",
       "      <td>0.0</td>\n",
       "      <td>0.0</td>\n",
       "      <td>0.0</td>\n",
       "      <td>0.0</td>\n",
       "      <td>1.0</td>\n",
       "    </tr>\n",
       "    <tr>\n",
       "      <th>2</th>\n",
       "      <td>76.7%</td>\n",
       "      <td>23.3%</td>\n",
       "      <td>0.0</td>\n",
       "      <td>0.0</td>\n",
       "      <td>0.0</td>\n",
       "      <td>1.0</td>\n",
       "      <td>0.0</td>\n",
       "    </tr>\n",
       "    <tr>\n",
       "      <th>3</th>\n",
       "      <td>89.8%</td>\n",
       "      <td>10.2%</td>\n",
       "      <td>0.0</td>\n",
       "      <td>0.0</td>\n",
       "      <td>0.0</td>\n",
       "      <td>1.0</td>\n",
       "      <td>1.0</td>\n",
       "    </tr>\n",
       "    <tr>\n",
       "      <th>4</th>\n",
       "      <td>51.4%</td>\n",
       "      <td>48.6%</td>\n",
       "      <td>0.0</td>\n",
       "      <td>0.0</td>\n",
       "      <td>1.0</td>\n",
       "      <td>0.0</td>\n",
       "      <td>0.0</td>\n",
       "    </tr>\n",
       "    <tr>\n",
       "      <th>5</th>\n",
       "      <td>74.0%</td>\n",
       "      <td>26.0%</td>\n",
       "      <td>0.0</td>\n",
       "      <td>0.0</td>\n",
       "      <td>1.0</td>\n",
       "      <td>0.0</td>\n",
       "      <td>1.0</td>\n",
       "    </tr>\n",
       "    <tr>\n",
       "      <th>6</th>\n",
       "      <td>43.1%</td>\n",
       "      <td>56.9%</td>\n",
       "      <td>0.0</td>\n",
       "      <td>0.0</td>\n",
       "      <td>1.0</td>\n",
       "      <td>1.0</td>\n",
       "      <td>0.0</td>\n",
       "    </tr>\n",
       "    <tr>\n",
       "      <th>7</th>\n",
       "      <td>67.0%</td>\n",
       "      <td>33.0%</td>\n",
       "      <td>0.0</td>\n",
       "      <td>0.0</td>\n",
       "      <td>1.0</td>\n",
       "      <td>1.0</td>\n",
       "      <td>1.0</td>\n",
       "    </tr>\n",
       "    <tr>\n",
       "      <th>8</th>\n",
       "      <td>6.4%</td>\n",
       "      <td>93.6%</td>\n",
       "      <td>0.0</td>\n",
       "      <td>1.0</td>\n",
       "      <td>0.0</td>\n",
       "      <td>0.0</td>\n",
       "      <td>0.0</td>\n",
       "    </tr>\n",
       "    <tr>\n",
       "      <th>9</th>\n",
       "      <td>15.5%</td>\n",
       "      <td>84.5%</td>\n",
       "      <td>0.0</td>\n",
       "      <td>1.0</td>\n",
       "      <td>0.0</td>\n",
       "      <td>0.0</td>\n",
       "      <td>1.0</td>\n",
       "    </tr>\n",
       "    <tr>\n",
       "      <th>10</th>\n",
       "      <td>4.6%</td>\n",
       "      <td>95.4%</td>\n",
       "      <td>0.0</td>\n",
       "      <td>1.0</td>\n",
       "      <td>0.0</td>\n",
       "      <td>1.0</td>\n",
       "      <td>0.0</td>\n",
       "    </tr>\n",
       "    <tr>\n",
       "      <th>11</th>\n",
       "      <td>11.6%</td>\n",
       "      <td>88.4%</td>\n",
       "      <td>0.0</td>\n",
       "      <td>1.0</td>\n",
       "      <td>0.0</td>\n",
       "      <td>1.0</td>\n",
       "      <td>1.0</td>\n",
       "    </tr>\n",
       "    <tr>\n",
       "      <th>12</th>\n",
       "      <td>1.5%</td>\n",
       "      <td>98.5%</td>\n",
       "      <td>0.0</td>\n",
       "      <td>1.0</td>\n",
       "      <td>1.0</td>\n",
       "      <td>0.0</td>\n",
       "      <td>0.0</td>\n",
       "    </tr>\n",
       "    <tr>\n",
       "      <th>13</th>\n",
       "      <td>4.0%</td>\n",
       "      <td>96.0%</td>\n",
       "      <td>0.0</td>\n",
       "      <td>1.0</td>\n",
       "      <td>1.0</td>\n",
       "      <td>0.0</td>\n",
       "      <td>1.0</td>\n",
       "    </tr>\n",
       "    <tr>\n",
       "      <th>14</th>\n",
       "      <td>1.1%</td>\n",
       "      <td>98.9%</td>\n",
       "      <td>0.0</td>\n",
       "      <td>1.0</td>\n",
       "      <td>1.0</td>\n",
       "      <td>1.0</td>\n",
       "      <td>0.0</td>\n",
       "    </tr>\n",
       "    <tr>\n",
       "      <th>15</th>\n",
       "      <td>2.9%</td>\n",
       "      <td>97.1%</td>\n",
       "      <td>0.0</td>\n",
       "      <td>1.0</td>\n",
       "      <td>1.0</td>\n",
       "      <td>1.0</td>\n",
       "      <td>1.0</td>\n",
       "    </tr>\n",
       "    <tr>\n",
       "      <th>16</th>\n",
       "      <td>92.2%</td>\n",
       "      <td>7.8%</td>\n",
       "      <td>1.0</td>\n",
       "      <td>0.0</td>\n",
       "      <td>0.0</td>\n",
       "      <td>0.0</td>\n",
       "      <td>0.0</td>\n",
       "    </tr>\n",
       "    <tr>\n",
       "      <th>17</th>\n",
       "      <td>96.9%</td>\n",
       "      <td>3.1%</td>\n",
       "      <td>1.0</td>\n",
       "      <td>0.0</td>\n",
       "      <td>0.0</td>\n",
       "      <td>0.0</td>\n",
       "      <td>1.0</td>\n",
       "    </tr>\n",
       "    <tr>\n",
       "      <th>18</th>\n",
       "      <td>89.4%</td>\n",
       "      <td>10.6%</td>\n",
       "      <td>1.0</td>\n",
       "      <td>0.0</td>\n",
       "      <td>0.0</td>\n",
       "      <td>1.0</td>\n",
       "      <td>0.0</td>\n",
       "    </tr>\n",
       "    <tr>\n",
       "      <th>19</th>\n",
       "      <td>95.8%</td>\n",
       "      <td>4.2%</td>\n",
       "      <td>1.0</td>\n",
       "      <td>0.0</td>\n",
       "      <td>0.0</td>\n",
       "      <td>1.0</td>\n",
       "      <td>1.0</td>\n",
       "    </tr>\n",
       "    <tr>\n",
       "      <th>20</th>\n",
       "      <td>73.0%</td>\n",
       "      <td>27.0%</td>\n",
       "      <td>1.0</td>\n",
       "      <td>0.0</td>\n",
       "      <td>1.0</td>\n",
       "      <td>0.0</td>\n",
       "      <td>0.0</td>\n",
       "    </tr>\n",
       "    <tr>\n",
       "      <th>21</th>\n",
       "      <td>87.9%</td>\n",
       "      <td>12.1%</td>\n",
       "      <td>1.0</td>\n",
       "      <td>0.0</td>\n",
       "      <td>1.0</td>\n",
       "      <td>0.0</td>\n",
       "      <td>1.0</td>\n",
       "    </tr>\n",
       "    <tr>\n",
       "      <th>22</th>\n",
       "      <td>66.0%</td>\n",
       "      <td>34.0%</td>\n",
       "      <td>1.0</td>\n",
       "      <td>0.0</td>\n",
       "      <td>1.0</td>\n",
       "      <td>1.0</td>\n",
       "      <td>0.0</td>\n",
       "    </tr>\n",
       "    <tr>\n",
       "      <th>23</th>\n",
       "      <td>83.9%</td>\n",
       "      <td>16.1%</td>\n",
       "      <td>1.0</td>\n",
       "      <td>0.0</td>\n",
       "      <td>1.0</td>\n",
       "      <td>1.0</td>\n",
       "      <td>1.0</td>\n",
       "    </tr>\n",
       "    <tr>\n",
       "      <th>24</th>\n",
       "      <td>14.8%</td>\n",
       "      <td>85.2%</td>\n",
       "      <td>1.0</td>\n",
       "      <td>1.0</td>\n",
       "      <td>0.0</td>\n",
       "      <td>0.0</td>\n",
       "      <td>0.0</td>\n",
       "    </tr>\n",
       "    <tr>\n",
       "      <th>25</th>\n",
       "      <td>31.9%</td>\n",
       "      <td>68.1%</td>\n",
       "      <td>1.0</td>\n",
       "      <td>1.0</td>\n",
       "      <td>0.0</td>\n",
       "      <td>0.0</td>\n",
       "      <td>1.0</td>\n",
       "    </tr>\n",
       "    <tr>\n",
       "      <th>26</th>\n",
       "      <td>11.1%</td>\n",
       "      <td>88.9%</td>\n",
       "      <td>1.0</td>\n",
       "      <td>1.0</td>\n",
       "      <td>0.0</td>\n",
       "      <td>1.0</td>\n",
       "      <td>0.0</td>\n",
       "    </tr>\n",
       "    <tr>\n",
       "      <th>27</th>\n",
       "      <td>25.1%</td>\n",
       "      <td>74.9%</td>\n",
       "      <td>1.0</td>\n",
       "      <td>1.0</td>\n",
       "      <td>0.0</td>\n",
       "      <td>1.0</td>\n",
       "      <td>1.0</td>\n",
       "    </tr>\n",
       "    <tr>\n",
       "      <th>28</th>\n",
       "      <td>3.9%</td>\n",
       "      <td>96.1%</td>\n",
       "      <td>1.0</td>\n",
       "      <td>1.0</td>\n",
       "      <td>1.0</td>\n",
       "      <td>0.0</td>\n",
       "      <td>0.0</td>\n",
       "    </tr>\n",
       "    <tr>\n",
       "      <th>29</th>\n",
       "      <td>9.7%</td>\n",
       "      <td>90.3%</td>\n",
       "      <td>1.0</td>\n",
       "      <td>1.0</td>\n",
       "      <td>1.0</td>\n",
       "      <td>0.0</td>\n",
       "      <td>1.0</td>\n",
       "    </tr>\n",
       "    <tr>\n",
       "      <th>30</th>\n",
       "      <td>2.8%</td>\n",
       "      <td>97.2%</td>\n",
       "      <td>1.0</td>\n",
       "      <td>1.0</td>\n",
       "      <td>1.0</td>\n",
       "      <td>1.0</td>\n",
       "      <td>0.0</td>\n",
       "    </tr>\n",
       "    <tr>\n",
       "      <th>31</th>\n",
       "      <td>7.2%</td>\n",
       "      <td>92.8%</td>\n",
       "      <td>1.0</td>\n",
       "      <td>1.0</td>\n",
       "      <td>1.0</td>\n",
       "      <td>1.0</td>\n",
       "      <td>1.0</td>\n",
       "    </tr>\n",
       "  </tbody>\n",
       "</table>\n",
       "</div>"
      ],
      "text/plain": [
       "   Class 1 Class 2   MALE   GA   BUSINESS   LOW_INC   FIRST\n",
       "0    82.1%   17.9%    0.0  0.0        0.0       0.0     0.0\n",
       "1    92.5%    7.5%    0.0  0.0        0.0       0.0     1.0\n",
       "2    76.7%   23.3%    0.0  0.0        0.0       1.0     0.0\n",
       "3    89.8%   10.2%    0.0  0.0        0.0       1.0     1.0\n",
       "4    51.4%   48.6%    0.0  0.0        1.0       0.0     0.0\n",
       "5    74.0%   26.0%    0.0  0.0        1.0       0.0     1.0\n",
       "6    43.1%   56.9%    0.0  0.0        1.0       1.0     0.0\n",
       "7    67.0%   33.0%    0.0  0.0        1.0       1.0     1.0\n",
       "8     6.4%   93.6%    0.0  1.0        0.0       0.0     0.0\n",
       "9    15.5%   84.5%    0.0  1.0        0.0       0.0     1.0\n",
       "10    4.6%   95.4%    0.0  1.0        0.0       1.0     0.0\n",
       "11   11.6%   88.4%    0.0  1.0        0.0       1.0     1.0\n",
       "12    1.5%   98.5%    0.0  1.0        1.0       0.0     0.0\n",
       "13    4.0%   96.0%    0.0  1.0        1.0       0.0     1.0\n",
       "14    1.1%   98.9%    0.0  1.0        1.0       1.0     0.0\n",
       "15    2.9%   97.1%    0.0  1.0        1.0       1.0     1.0\n",
       "16   92.2%    7.8%    1.0  0.0        0.0       0.0     0.0\n",
       "17   96.9%    3.1%    1.0  0.0        0.0       0.0     1.0\n",
       "18   89.4%   10.6%    1.0  0.0        0.0       1.0     0.0\n",
       "19   95.8%    4.2%    1.0  0.0        0.0       1.0     1.0\n",
       "20   73.0%   27.0%    1.0  0.0        1.0       0.0     0.0\n",
       "21   87.9%   12.1%    1.0  0.0        1.0       0.0     1.0\n",
       "22   66.0%   34.0%    1.0  0.0        1.0       1.0     0.0\n",
       "23   83.9%   16.1%    1.0  0.0        1.0       1.0     1.0\n",
       "24   14.8%   85.2%    1.0  1.0        0.0       0.0     0.0\n",
       "25   31.9%   68.1%    1.0  1.0        0.0       0.0     1.0\n",
       "26   11.1%   88.9%    1.0  1.0        0.0       1.0     0.0\n",
       "27   25.1%   74.9%    1.0  1.0        0.0       1.0     1.0\n",
       "28    3.9%   96.1%    1.0  1.0        1.0       0.0     0.0\n",
       "29    9.7%   90.3%    1.0  1.0        1.0       0.0     1.0\n",
       "30    2.8%   97.2%    1.0  1.0        1.0       1.0     0.0\n",
       "31    7.2%   92.8%    1.0  1.0        1.0       1.0     1.0"
      ]
     },
     "execution_count": 29,
     "metadata": {},
     "output_type": "execute_result"
    }
   ],
   "source": [
    "simulation"
   ]
  },
  {
   "cell_type": "markdown",
   "id": "d1db7847",
   "metadata": {},
   "source": [
    "# Comparison"
   ]
  },
  {
   "cell_type": "markdown",
   "id": "c836bd0f",
   "metadata": {},
   "source": [
    "We build a summary data frame. We first gather the parameter estimates for each model."
   ]
  },
  {
   "cell_type": "code",
   "execution_count": 30,
   "id": "9379db35",
   "metadata": {},
   "outputs": [],
   "source": [
    "parameters = [\n",
    "    param_logit, \n",
    "    param_normal, \n",
    "    param_lognormal, \n",
    "    param_latent, \n",
    "    param_latentsocio, \n",
    "]\n",
    "parameters_values = [\n",
    "    pd.DataFrame(df['Value']) \n",
    "    for df in parameters\n",
    "]\n",
    "summary = pd.concat(parameters_values, \n",
    "                    axis='columns')\n",
    "summary.columns = [\n",
    "    'Logit', \n",
    "    'Normal', \n",
    "    'Lognormal',\n",
    "    'Latent', \n",
    "    'Latent with class mbship', \n",
    "]"
   ]
  },
  {
   "cell_type": "markdown",
   "id": "3e1866b1",
   "metadata": {},
   "source": [
    "Then we gather the value of the final log likelihood for each model."
   ]
  },
  {
   "cell_type": "code",
   "execution_count": 31,
   "id": "f5ef15ec",
   "metadata": {},
   "outputs": [],
   "source": [
    "stats = {\n",
    "    'Logit': stats_logit, \n",
    "    'Normal': stats_normal, \n",
    "    'Lognormal': stats_lognormal, \n",
    "    'Latent': stats_latent, \n",
    "    'Latent with class mbship': stats_latentsocio, \n",
    "}"
   ]
  },
  {
   "cell_type": "code",
   "execution_count": 32,
   "id": "d58be635",
   "metadata": {},
   "outputs": [
    {
     "data": {
      "text/html": [
       "<div>\n",
       "<style scoped>\n",
       "    .dataframe tbody tr th:only-of-type {\n",
       "        vertical-align: middle;\n",
       "    }\n",
       "\n",
       "    .dataframe tbody tr th {\n",
       "        vertical-align: top;\n",
       "    }\n",
       "\n",
       "    .dataframe thead th {\n",
       "        text-align: right;\n",
       "    }\n",
       "</style>\n",
       "<table border=\"1\" class=\"dataframe\">\n",
       "  <thead>\n",
       "    <tr style=\"text-align: right;\">\n",
       "      <th></th>\n",
       "      <th>Logit</th>\n",
       "      <th>Normal</th>\n",
       "      <th>Lognormal</th>\n",
       "      <th>Latent</th>\n",
       "      <th>Latent with class mbship</th>\n",
       "    </tr>\n",
       "  </thead>\n",
       "  <tbody>\n",
       "    <tr>\n",
       "      <th>ASC_CAR</th>\n",
       "      <td>-0.261838</td>\n",
       "      <td>0.011932</td>\n",
       "      <td>0.054452</td>\n",
       "      <td>0.00295</td>\n",
       "      <td>0.026467</td>\n",
       "    </tr>\n",
       "    <tr>\n",
       "      <th>ASC_TRAIN</th>\n",
       "      <td>-0.451015</td>\n",
       "      <td>-0.103973</td>\n",
       "      <td>-0.067536</td>\n",
       "      <td>-0.108823</td>\n",
       "      <td>-0.189438</td>\n",
       "    </tr>\n",
       "    <tr>\n",
       "      <th>B_COST</th>\n",
       "      <td>-1.084663</td>\n",
       "      <td>-1.294047</td>\n",
       "      <td>-1.385676</td>\n",
       "      <td>-1.269444</td>\n",
       "      <td>-1.451455</td>\n",
       "    </tr>\n",
       "    <tr>\n",
       "      <th>B_FR</th>\n",
       "      <td>-5.35324</td>\n",
       "      <td>-6.371798</td>\n",
       "      <td>-5.969799</td>\n",
       "      <td>-6.119264</td>\n",
       "      <td>-6.298512</td>\n",
       "    </tr>\n",
       "    <tr>\n",
       "      <th>B_TIME</th>\n",
       "      <td>-1.276782</td>\n",
       "      <td>-2.27339</td>\n",
       "      <td>0.572966</td>\n",
       "      <td>-2.806484</td>\n",
       "      <td>-2.969263</td>\n",
       "    </tr>\n",
       "    <tr>\n",
       "      <th>B_TIME_S</th>\n",
       "      <td></td>\n",
       "      <td>1.683225</td>\n",
       "      <td>1.245342</td>\n",
       "      <td></td>\n",
       "      <td></td>\n",
       "    </tr>\n",
       "    <tr>\n",
       "      <th>OMEGA</th>\n",
       "      <td></td>\n",
       "      <td></td>\n",
       "      <td></td>\n",
       "      <td>0.748568</td>\n",
       "      <td></td>\n",
       "    </tr>\n",
       "    <tr>\n",
       "      <th>G_BUSINESS</th>\n",
       "      <td></td>\n",
       "      <td></td>\n",
       "      <td></td>\n",
       "      <td></td>\n",
       "      <td>1.468889</td>\n",
       "    </tr>\n",
       "    <tr>\n",
       "      <th>G_FIRST</th>\n",
       "      <td></td>\n",
       "      <td></td>\n",
       "      <td></td>\n",
       "      <td></td>\n",
       "      <td>-0.988795</td>\n",
       "    </tr>\n",
       "    <tr>\n",
       "      <th>G_GA</th>\n",
       "      <td></td>\n",
       "      <td></td>\n",
       "      <td></td>\n",
       "      <td></td>\n",
       "      <td>4.210703</td>\n",
       "    </tr>\n",
       "    <tr>\n",
       "      <th>G_INTERCEPT</th>\n",
       "      <td></td>\n",
       "      <td></td>\n",
       "      <td></td>\n",
       "      <td></td>\n",
       "      <td>-1.523706</td>\n",
       "    </tr>\n",
       "    <tr>\n",
       "      <th>G_LOW_INC</th>\n",
       "      <td></td>\n",
       "      <td></td>\n",
       "      <td></td>\n",
       "      <td></td>\n",
       "      <td>0.334157</td>\n",
       "    </tr>\n",
       "    <tr>\n",
       "      <th>G_MALE</th>\n",
       "      <td></td>\n",
       "      <td></td>\n",
       "      <td></td>\n",
       "      <td></td>\n",
       "      <td>-0.940556</td>\n",
       "    </tr>\n",
       "    <tr>\n",
       "      <th>Log likelihood</th>\n",
       "      <td>-5315.386329</td>\n",
       "      <td>-5197.436873</td>\n",
       "      <td>-5215.046312</td>\n",
       "      <td>-5191.089957</td>\n",
       "      <td>-4928.797506</td>\n",
       "    </tr>\n",
       "  </tbody>\n",
       "</table>\n",
       "</div>"
      ],
      "text/plain": [
       "                      Logit       Normal    Lognormal       Latent  \\\n",
       "ASC_CAR           -0.261838     0.011932     0.054452      0.00295   \n",
       "ASC_TRAIN         -0.451015    -0.103973    -0.067536    -0.108823   \n",
       "B_COST            -1.084663    -1.294047    -1.385676    -1.269444   \n",
       "B_FR               -5.35324    -6.371798    -5.969799    -6.119264   \n",
       "B_TIME            -1.276782     -2.27339     0.572966    -2.806484   \n",
       "B_TIME_S                        1.683225     1.245342                \n",
       "OMEGA                                                     0.748568   \n",
       "G_BUSINESS                                                           \n",
       "G_FIRST                                                              \n",
       "G_GA                                                                 \n",
       "G_INTERCEPT                                                          \n",
       "G_LOW_INC                                                            \n",
       "G_MALE                                                               \n",
       "Log likelihood -5315.386329 -5197.436873 -5215.046312 -5191.089957   \n",
       "\n",
       "               Latent with class mbship  \n",
       "ASC_CAR                        0.026467  \n",
       "ASC_TRAIN                     -0.189438  \n",
       "B_COST                        -1.451455  \n",
       "B_FR                          -6.298512  \n",
       "B_TIME                        -2.969263  \n",
       "B_TIME_S                                 \n",
       "OMEGA                                    \n",
       "G_BUSINESS                     1.468889  \n",
       "G_FIRST                       -0.988795  \n",
       "G_GA                           4.210703  \n",
       "G_INTERCEPT                   -1.523706  \n",
       "G_LOW_INC                      0.334157  \n",
       "G_MALE                        -0.940556  \n",
       "Log likelihood             -4928.797506  "
      ]
     },
     "execution_count": 32,
     "metadata": {},
     "output_type": "execute_result"
    }
   ],
   "source": [
    "loglike = {\n",
    "    k: v['Final log likelihood'][0] \n",
    "    for k, v in stats.items()\n",
    "}\n",
    "loglike_row = pd.Series(data=loglike, \n",
    "                        name='Log likelihood')\n",
    "summary = summary.append(loglike_row)\n",
    "summary.fillna('')"
   ]
  }
 ],
 "metadata": {
  "kernelspec": {
   "display_name": "Python 3",
   "language": "python",
   "name": "python3"
  },
  "language_info": {
   "codemirror_mode": {
    "name": "ipython",
    "version": 3
   },
   "file_extension": ".py",
   "mimetype": "text/x-python",
   "name": "python",
   "nbconvert_exporter": "python",
   "pygments_lexer": "ipython3",
   "version": "3.9.5"
  }
 },
 "nbformat": 4,
 "nbformat_minor": 5
}
